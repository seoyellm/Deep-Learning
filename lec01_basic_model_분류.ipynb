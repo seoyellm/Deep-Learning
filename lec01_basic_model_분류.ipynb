{
 "cells": [
  {
   "cell_type": "markdown",
   "id": "5ac9c037-e7cf-462f-a1a0-b6e95a84f303",
   "metadata": {},
   "source": [
    "<font size=6><b> Lec01. 딥러닝 기초- 분류"
   ]
  },
  {
   "cell_type": "markdown",
   "id": "1097856f-4dbc-4b41-b000-05d65296c3b4",
   "metadata": {},
   "source": [
    "* ref : https://www.tensorflow.org/?hl=ko\n",
    "* ref : https://keras.io/ko/\n",
    "* ref : https://keras.io/api/layers/core_layers/dense/"
   ]
  },
  {
   "cell_type": "code",
   "execution_count": 1,
   "id": "f7d79890-c577-4bcc-8d35-a0d39c8ae470",
   "metadata": {},
   "outputs": [
    {
     "data": {
      "text/html": [
       "<style>.container{width:100% !important;}</style>"
      ],
      "text/plain": [
       "<IPython.core.display.HTML object>"
      ]
     },
     "metadata": {},
     "output_type": "display_data"
    }
   ],
   "source": [
    "import numpy as np\n",
    "import pandas as pd\n",
    "\n",
    "import matplotlib.pyplot as plt\n",
    "import seaborn as sns\n",
    "\n",
    "\n",
    "sns.set()\n",
    "\n",
    "#-------------------- 차트 관련 속성 (한글처리, 그리드) -----------\n",
    "plt.rcParams['font.family']= 'Malgun Gothic'\n",
    "plt.rcParams['axes.unicode_minus'] = False\n",
    "\n",
    "#-------------------- 주피터 , 출력결과 넓이 늘리기 ---------------\n",
    "# from IPython.core.display import display, HTML\n",
    "from IPython.display import display, HTML\n",
    "\n",
    "display(HTML(\"<style>.container{width:100% !important;}</style>\"))\n",
    "pd.set_option('display.max_rows', 100)\n",
    "pd.set_option('display.max_columns', 100)\n",
    "pd.set_option('max_colwidth', None)\n",
    "\n",
    "import warnings\n",
    "warnings.filterwarnings(action='ignore')"
   ]
  },
  {
   "cell_type": "code",
   "execution_count": 2,
   "id": "7c812599-61d1-496b-b16a-5c3ad006c8be",
   "metadata": {
    "tags": []
   },
   "outputs": [
    {
     "data": {
      "text/html": [
       "<div>\n",
       "<style scoped>\n",
       "    .dataframe tbody tr th:only-of-type {\n",
       "        vertical-align: middle;\n",
       "    }\n",
       "\n",
       "    .dataframe tbody tr th {\n",
       "        vertical-align: top;\n",
       "    }\n",
       "\n",
       "    .dataframe thead th {\n",
       "        text-align: right;\n",
       "    }\n",
       "</style>\n",
       "<table border=\"1\" class=\"dataframe\">\n",
       "  <thead>\n",
       "    <tr style=\"text-align: right;\">\n",
       "      <th></th>\n",
       "      <th>sl</th>\n",
       "      <th>sw</th>\n",
       "      <th>pl</th>\n",
       "      <th>pw</th>\n",
       "      <th>target</th>\n",
       "    </tr>\n",
       "  </thead>\n",
       "  <tbody>\n",
       "    <tr>\n",
       "      <th>0</th>\n",
       "      <td>5.1</td>\n",
       "      <td>3.5</td>\n",
       "      <td>1.4</td>\n",
       "      <td>0.2</td>\n",
       "      <td>0</td>\n",
       "    </tr>\n",
       "    <tr>\n",
       "      <th>1</th>\n",
       "      <td>4.9</td>\n",
       "      <td>3.0</td>\n",
       "      <td>1.4</td>\n",
       "      <td>0.2</td>\n",
       "      <td>0</td>\n",
       "    </tr>\n",
       "    <tr>\n",
       "      <th>2</th>\n",
       "      <td>4.7</td>\n",
       "      <td>3.2</td>\n",
       "      <td>1.3</td>\n",
       "      <td>0.2</td>\n",
       "      <td>0</td>\n",
       "    </tr>\n",
       "    <tr>\n",
       "      <th>3</th>\n",
       "      <td>4.6</td>\n",
       "      <td>3.1</td>\n",
       "      <td>1.5</td>\n",
       "      <td>0.2</td>\n",
       "      <td>0</td>\n",
       "    </tr>\n",
       "    <tr>\n",
       "      <th>4</th>\n",
       "      <td>5.0</td>\n",
       "      <td>3.6</td>\n",
       "      <td>1.4</td>\n",
       "      <td>0.2</td>\n",
       "      <td>0</td>\n",
       "    </tr>\n",
       "  </tbody>\n",
       "</table>\n",
       "</div>"
      ],
      "text/plain": [
       "    sl   sw   pl   pw  target\n",
       "0  5.1  3.5  1.4  0.2       0\n",
       "1  4.9  3.0  1.4  0.2       0\n",
       "2  4.7  3.2  1.3  0.2       0\n",
       "3  4.6  3.1  1.5  0.2       0\n",
       "4  5.0  3.6  1.4  0.2       0"
      ]
     },
     "execution_count": 2,
     "metadata": {},
     "output_type": "execute_result"
    }
   ],
   "source": [
    "df = pd.read_csv(\"../ML/datasets/iris.csv\")\n",
    "df.head()"
   ]
  },
  {
   "cell_type": "code",
   "execution_count": 3,
   "id": "d025617b-e8fb-4f0a-a09b-364b28f2d662",
   "metadata": {
    "tags": []
   },
   "outputs": [],
   "source": [
    "from sklearn.model_selection import train_test_split"
   ]
  },
  {
   "cell_type": "code",
   "execution_count": 4,
   "id": "91d537d9-7c9b-476e-9607-7cb8204ef647",
   "metadata": {
    "tags": []
   },
   "outputs": [],
   "source": [
    "y = df['target']\n",
    "X = df.drop(['target'], axis=1)"
   ]
  },
  {
   "cell_type": "markdown",
   "id": "5ae05281-6bba-4e32-8eee-7a335bcc289b",
   "metadata": {},
   "source": [
    "## sparse_categorical_crossentropy\n",
    "* target값이 <font color='red'><b>int</font></b>인 경우 : sparse_categorical_crossentropy"
   ]
  },
  {
   "cell_type": "code",
   "execution_count": 5,
   "id": "8cc2173c-b770-4b8f-bbce-c3535b61c8f6",
   "metadata": {
    "tags": []
   },
   "outputs": [
    {
     "name": "stdout",
     "output_type": "stream",
     "text": [
      "8      0\n",
      "23     0\n",
      "101    2\n",
      "49     0\n",
      "111    2\n",
      "Name: target, dtype: int64\n"
     ]
    }
   ],
   "source": [
    "X_train,X_test, y_train, y_test = train_test_split(X, y , test_size=0.2, random_state=11, stratify=y)\n",
    "X_train.shape,X_test.shape, y_train.shape, y_test.shape\n",
    "print(y_train[:5])"
   ]
  },
  {
   "cell_type": "markdown",
   "id": "e2e5abe2-9e0c-4d4f-9d12-7fc609618888",
   "metadata": {
    "tags": []
   },
   "source": [
    "## binary_categorical_crossentropy\n",
    "* target값이 <font color='red'><b>2종</font></b>인 경우\n",
    "* target값이 categorical(one-hot)인 경우 : binary_categorical_crossentropy"
   ]
  },
  {
   "cell_type": "markdown",
   "id": "d9d3d259-f181-4c62-abc4-db4dcf2f70c7",
   "metadata": {
    "tags": []
   },
   "source": [
    "## categorical_crossentropy\n",
    "* target값이 <font color='red'><b>3종</font></b>인 경우\n",
    "* target값이 categorical(one-hot)인 경우 : categorical_crossentropy"
   ]
  },
  {
   "cell_type": "code",
   "execution_count": 6,
   "id": "fc6388a9-3077-49d2-8061-3ae0d0c2d84d",
   "metadata": {
    "tags": []
   },
   "outputs": [
    {
     "name": "stdout",
     "output_type": "stream",
     "text": [
      "   0  1  2\n",
      "0  1  0  0\n",
      "1  1  0  0\n",
      "2  1  0  0\n",
      "3  1  0  0\n",
      "4  1  0  0\n",
      "[[1 0 0]\n",
      " [1 0 0]\n",
      " [1 0 0]\n",
      " [1 0 0]\n",
      " [1 0 0]]\n"
     ]
    }
   ],
   "source": [
    "yc = pd.get_dummies(y)\n",
    "print(yc[:5])\n",
    "\n",
    "from keras.utils import to_categorical\n",
    "yc2 = to_categorical(y, num_classes=3, dtype='int')\n",
    "print(yc2[:5])\n"
   ]
  },
  {
   "cell_type": "code",
   "execution_count": 7,
   "id": "7d1ff713-a73a-416c-aba8-1f16f9f9fd00",
   "metadata": {
    "tags": []
   },
   "outputs": [
    {
     "name": "stdout",
     "output_type": "stream",
     "text": [
      "     0  1  2\n",
      "8    1  0  0\n",
      "23   1  0  0\n",
      "101  0  0  1\n",
      "49   1  0  0\n",
      "111  0  0  1\n"
     ]
    },
    {
     "data": {
      "text/plain": [
       "((120, 4), (30, 4), (120, 3), (30, 3))"
      ]
     },
     "execution_count": 7,
     "metadata": {},
     "output_type": "execute_result"
    }
   ],
   "source": [
    "X_train,X_test, y_train, y_test = train_test_split(X, yc , test_size=0.2, random_state=11, stratify=y)\n",
    "X_train.shape,X_test.shape, y_train.shape, y_test.shape\n",
    "print(y_train[:5])\n",
    "X_train.shape,X_test.shape, y_train.shape, y_test.shape"
   ]
  },
  {
   "cell_type": "code",
   "execution_count": 8,
   "id": "3d354a40-0a69-4d27-8d36-4aa668868b95",
   "metadata": {
    "tags": []
   },
   "outputs": [
    {
     "data": {
      "text/html": [
       "<div>\n",
       "<style scoped>\n",
       "    .dataframe tbody tr th:only-of-type {\n",
       "        vertical-align: middle;\n",
       "    }\n",
       "\n",
       "    .dataframe tbody tr th {\n",
       "        vertical-align: top;\n",
       "    }\n",
       "\n",
       "    .dataframe thead th {\n",
       "        text-align: right;\n",
       "    }\n",
       "</style>\n",
       "<table border=\"1\" class=\"dataframe\">\n",
       "  <thead>\n",
       "    <tr style=\"text-align: right;\">\n",
       "      <th></th>\n",
       "      <th>sl</th>\n",
       "      <th>sw</th>\n",
       "      <th>pl</th>\n",
       "      <th>pw</th>\n",
       "    </tr>\n",
       "  </thead>\n",
       "  <tbody>\n",
       "    <tr>\n",
       "      <th>8</th>\n",
       "      <td>4.4</td>\n",
       "      <td>2.9</td>\n",
       "      <td>1.4</td>\n",
       "      <td>0.2</td>\n",
       "    </tr>\n",
       "    <tr>\n",
       "      <th>23</th>\n",
       "      <td>5.1</td>\n",
       "      <td>3.3</td>\n",
       "      <td>1.7</td>\n",
       "      <td>0.5</td>\n",
       "    </tr>\n",
       "    <tr>\n",
       "      <th>101</th>\n",
       "      <td>5.8</td>\n",
       "      <td>2.7</td>\n",
       "      <td>5.1</td>\n",
       "      <td>1.9</td>\n",
       "    </tr>\n",
       "    <tr>\n",
       "      <th>49</th>\n",
       "      <td>5.0</td>\n",
       "      <td>3.3</td>\n",
       "      <td>1.4</td>\n",
       "      <td>0.2</td>\n",
       "    </tr>\n",
       "    <tr>\n",
       "      <th>111</th>\n",
       "      <td>6.4</td>\n",
       "      <td>2.7</td>\n",
       "      <td>5.3</td>\n",
       "      <td>1.9</td>\n",
       "    </tr>\n",
       "  </tbody>\n",
       "</table>\n",
       "</div>"
      ],
      "text/plain": [
       "      sl   sw   pl   pw\n",
       "8    4.4  2.9  1.4  0.2\n",
       "23   5.1  3.3  1.7  0.5\n",
       "101  5.8  2.7  5.1  1.9\n",
       "49   5.0  3.3  1.4  0.2\n",
       "111  6.4  2.7  5.3  1.9"
      ]
     },
     "execution_count": 8,
     "metadata": {},
     "output_type": "execute_result"
    }
   ],
   "source": [
    "X_train.head()"
   ]
  },
  {
   "cell_type": "code",
   "execution_count": 9,
   "id": "901b455f-4c7a-4583-b3c5-bfe0852a3418",
   "metadata": {
    "tags": []
   },
   "outputs": [
    {
     "data": {
      "text/html": [
       "<div>\n",
       "<style scoped>\n",
       "    .dataframe tbody tr th:only-of-type {\n",
       "        vertical-align: middle;\n",
       "    }\n",
       "\n",
       "    .dataframe tbody tr th {\n",
       "        vertical-align: top;\n",
       "    }\n",
       "\n",
       "    .dataframe thead th {\n",
       "        text-align: right;\n",
       "    }\n",
       "</style>\n",
       "<table border=\"1\" class=\"dataframe\">\n",
       "  <thead>\n",
       "    <tr style=\"text-align: right;\">\n",
       "      <th></th>\n",
       "      <th>0</th>\n",
       "      <th>1</th>\n",
       "      <th>2</th>\n",
       "    </tr>\n",
       "  </thead>\n",
       "  <tbody>\n",
       "    <tr>\n",
       "      <th>8</th>\n",
       "      <td>1</td>\n",
       "      <td>0</td>\n",
       "      <td>0</td>\n",
       "    </tr>\n",
       "    <tr>\n",
       "      <th>23</th>\n",
       "      <td>1</td>\n",
       "      <td>0</td>\n",
       "      <td>0</td>\n",
       "    </tr>\n",
       "    <tr>\n",
       "      <th>101</th>\n",
       "      <td>0</td>\n",
       "      <td>0</td>\n",
       "      <td>1</td>\n",
       "    </tr>\n",
       "    <tr>\n",
       "      <th>49</th>\n",
       "      <td>1</td>\n",
       "      <td>0</td>\n",
       "      <td>0</td>\n",
       "    </tr>\n",
       "    <tr>\n",
       "      <th>111</th>\n",
       "      <td>0</td>\n",
       "      <td>0</td>\n",
       "      <td>1</td>\n",
       "    </tr>\n",
       "  </tbody>\n",
       "</table>\n",
       "</div>"
      ],
      "text/plain": [
       "     0  1  2\n",
       "8    1  0  0\n",
       "23   1  0  0\n",
       "101  0  0  1\n",
       "49   1  0  0\n",
       "111  0  0  1"
      ]
     },
     "execution_count": 9,
     "metadata": {},
     "output_type": "execute_result"
    }
   ],
   "source": [
    "y_train.head()"
   ]
  },
  {
   "cell_type": "code",
   "execution_count": 10,
   "id": "76fb338f-97c6-49c3-a4d4-fe192d10cf68",
   "metadata": {},
   "outputs": [],
   "source": [
    "from keras.layers import Dense\n",
    "from keras import Sequential\n",
    "from keras.initializers import GlorotNormal  #Xavier"
   ]
  },
  {
   "cell_type": "markdown",
   "id": "40a51ce4-251c-49ee-a15a-bd59392ade86",
   "metadata": {
    "tags": []
   },
   "source": [
    "* kernel_initializer\n",
    "    * https://www.kaggle.com/code/sauravjoshi23/weight-initialization-methods-keras"
   ]
  },
  {
   "cell_type": "code",
   "execution_count": 11,
   "id": "985ffd23-94c9-47b1-985f-377c23b67da1",
   "metadata": {},
   "outputs": [],
   "source": [
    "model = Sequential()\n",
    "model.add(Dense(units=10, input_dim=4, activation='relu', kernel_initializer='glorot_normal')) #입력층\n",
    "model.add(Dense(units=6,  activation='relu'))              #히든레이어\n",
    "model.add(Dense(units=6,  activation='relu'))              #히든레이어\n",
    "model.add(Dense(units=3,  activation='softmax'))           #3종 출력층\n",
    "model.compile(loss='categorical_crossentropy', optimizer='Adam', metrics=['accuracy'])\n",
    "# loss : optimizer가 계산할 가중치(비용)를 계산 --> 비용을 줄이려고 함\n",
    "# metrics : 모델의 성능 평가"
   ]
  },
  {
   "cell_type": "code",
   "execution_count": 12,
   "id": "22692baa-5a4a-486d-905f-5871c57a6878",
   "metadata": {},
   "outputs": [
    {
     "name": "stdout",
     "output_type": "stream",
     "text": [
      "Model: \"sequential\"\n",
      "_________________________________________________________________\n",
      " Layer (type)                Output Shape              Param #   \n",
      "=================================================================\n",
      " dense (Dense)               (None, 10)                50        \n",
      "                                                                 \n",
      " dense_1 (Dense)             (None, 6)                 66        \n",
      "                                                                 \n",
      " dense_2 (Dense)             (None, 6)                 42        \n",
      "                                                                 \n",
      " dense_3 (Dense)             (None, 3)                 21        \n",
      "                                                                 \n",
      "=================================================================\n",
      "Total params: 179\n",
      "Trainable params: 179\n",
      "Non-trainable params: 0\n",
      "_________________________________________________________________\n"
     ]
    }
   ],
   "source": [
    "model.summary()"
   ]
  },
  {
   "cell_type": "code",
   "execution_count": 13,
   "id": "f499701a-23aa-49b4-bdc1-1fec506283e1",
   "metadata": {
    "tags": []
   },
   "outputs": [
    {
     "name": "stdout",
     "output_type": "stream",
     "text": [
      "Epoch 1/100\n",
      "4/4 [==============================] - 1s 73ms/step - loss: 1.2405 - accuracy: 0.3333 - val_loss: 1.2267 - val_accuracy: 0.3333\n",
      "Epoch 2/100\n",
      "4/4 [==============================] - 0s 12ms/step - loss: 1.2025 - accuracy: 0.3333 - val_loss: 1.1954 - val_accuracy: 0.3333\n",
      "Epoch 3/100\n",
      "4/4 [==============================] - 0s 12ms/step - loss: 1.1736 - accuracy: 0.3333 - val_loss: 1.1693 - val_accuracy: 0.3333\n",
      "Epoch 4/100\n",
      "4/4 [==============================] - 0s 13ms/step - loss: 1.1512 - accuracy: 0.3333 - val_loss: 1.1471 - val_accuracy: 0.3333\n",
      "Epoch 5/100\n",
      "4/4 [==============================] - 0s 12ms/step - loss: 1.1317 - accuracy: 0.3333 - val_loss: 1.1286 - val_accuracy: 0.3333\n",
      "Epoch 6/100\n",
      "4/4 [==============================] - 0s 11ms/step - loss: 1.1144 - accuracy: 0.3333 - val_loss: 1.1129 - val_accuracy: 0.3333\n",
      "Epoch 7/100\n",
      "4/4 [==============================] - 0s 12ms/step - loss: 1.1007 - accuracy: 0.3333 - val_loss: 1.0989 - val_accuracy: 0.3333\n",
      "Epoch 8/100\n",
      "4/4 [==============================] - 0s 11ms/step - loss: 1.0875 - accuracy: 0.3333 - val_loss: 1.0865 - val_accuracy: 0.3333\n",
      "Epoch 9/100\n",
      "4/4 [==============================] - 0s 7ms/step - loss: 1.0755 - accuracy: 0.3333 - val_loss: 1.0763 - val_accuracy: 0.3333\n",
      "Epoch 10/100\n",
      "4/4 [==============================] - 0s 11ms/step - loss: 1.0652 - accuracy: 0.3333 - val_loss: 1.0664 - val_accuracy: 0.3333\n",
      "Epoch 11/100\n",
      "4/4 [==============================] - 0s 12ms/step - loss: 1.0555 - accuracy: 0.3333 - val_loss: 1.0563 - val_accuracy: 0.3333\n",
      "Epoch 12/100\n",
      "4/4 [==============================] - 0s 12ms/step - loss: 1.0453 - accuracy: 0.3333 - val_loss: 1.0458 - val_accuracy: 0.3333\n",
      "Epoch 13/100\n",
      "4/4 [==============================] - 0s 13ms/step - loss: 1.0354 - accuracy: 0.3333 - val_loss: 1.0352 - val_accuracy: 0.3333\n",
      "Epoch 14/100\n",
      "4/4 [==============================] - 0s 8ms/step - loss: 1.0251 - accuracy: 0.3333 - val_loss: 1.0243 - val_accuracy: 0.3333\n",
      "Epoch 15/100\n",
      "4/4 [==============================] - 0s 12ms/step - loss: 1.0146 - accuracy: 0.3333 - val_loss: 1.0134 - val_accuracy: 0.3667\n",
      "Epoch 16/100\n",
      "4/4 [==============================] - 0s 11ms/step - loss: 1.0036 - accuracy: 0.3583 - val_loss: 1.0022 - val_accuracy: 0.4333\n",
      "Epoch 17/100\n",
      "4/4 [==============================] - 0s 12ms/step - loss: 0.9926 - accuracy: 0.4917 - val_loss: 0.9904 - val_accuracy: 0.5667\n",
      "Epoch 18/100\n",
      "4/4 [==============================] - 0s 10ms/step - loss: 0.9809 - accuracy: 0.6250 - val_loss: 0.9781 - val_accuracy: 0.6333\n",
      "Epoch 19/100\n",
      "4/4 [==============================] - 0s 14ms/step - loss: 0.9700 - accuracy: 0.6583 - val_loss: 0.9652 - val_accuracy: 0.6667\n",
      "Epoch 20/100\n",
      "4/4 [==============================] - 0s 12ms/step - loss: 0.9569 - accuracy: 0.6667 - val_loss: 0.9515 - val_accuracy: 0.6667\n",
      "Epoch 21/100\n",
      "4/4 [==============================] - 0s 11ms/step - loss: 0.9438 - accuracy: 0.6667 - val_loss: 0.9355 - val_accuracy: 0.6667\n",
      "Epoch 22/100\n",
      "4/4 [==============================] - 0s 12ms/step - loss: 0.9270 - accuracy: 0.6667 - val_loss: 0.9150 - val_accuracy: 0.6667\n",
      "Epoch 23/100\n",
      "4/4 [==============================] - 0s 12ms/step - loss: 0.9022 - accuracy: 0.7000 - val_loss: 0.8795 - val_accuracy: 0.7667\n",
      "Epoch 24/100\n",
      "4/4 [==============================] - 0s 11ms/step - loss: 0.8738 - accuracy: 0.8833 - val_loss: 0.8472 - val_accuracy: 1.0000\n",
      "Epoch 25/100\n",
      "4/4 [==============================] - 0s 11ms/step - loss: 0.8493 - accuracy: 0.9250 - val_loss: 0.8257 - val_accuracy: 0.9667\n",
      "Epoch 26/100\n",
      "4/4 [==============================] - 0s 12ms/step - loss: 0.8327 - accuracy: 0.8833 - val_loss: 0.8044 - val_accuracy: 0.9667\n",
      "Epoch 27/100\n",
      "4/4 [==============================] - 0s 10ms/step - loss: 0.8098 - accuracy: 0.8583 - val_loss: 0.7822 - val_accuracy: 0.9667\n",
      "Epoch 28/100\n",
      "4/4 [==============================] - 0s 14ms/step - loss: 0.7878 - accuracy: 0.8833 - val_loss: 0.7604 - val_accuracy: 1.0000\n",
      "Epoch 29/100\n",
      "4/4 [==============================] - 0s 12ms/step - loss: 0.7664 - accuracy: 0.8917 - val_loss: 0.7394 - val_accuracy: 1.0000\n",
      "Epoch 30/100\n",
      "4/4 [==============================] - 0s 11ms/step - loss: 0.7439 - accuracy: 0.9000 - val_loss: 0.7168 - val_accuracy: 1.0000\n",
      "Epoch 31/100\n",
      "4/4 [==============================] - 0s 12ms/step - loss: 0.7216 - accuracy: 0.9167 - val_loss: 0.6945 - val_accuracy: 1.0000\n",
      "Epoch 32/100\n",
      "4/4 [==============================] - 0s 12ms/step - loss: 0.6997 - accuracy: 0.9083 - val_loss: 0.6716 - val_accuracy: 0.9667\n",
      "Epoch 33/100\n",
      "4/4 [==============================] - 0s 12ms/step - loss: 0.6783 - accuracy: 0.9000 - val_loss: 0.6491 - val_accuracy: 0.9667\n",
      "Epoch 34/100\n",
      "4/4 [==============================] - 0s 12ms/step - loss: 0.6575 - accuracy: 0.9000 - val_loss: 0.6276 - val_accuracy: 0.9667\n",
      "Epoch 35/100\n",
      "4/4 [==============================] - 0s 13ms/step - loss: 0.6367 - accuracy: 0.9000 - val_loss: 0.6067 - val_accuracy: 0.9667\n",
      "Epoch 36/100\n",
      "4/4 [==============================] - 0s 12ms/step - loss: 0.6163 - accuracy: 0.9083 - val_loss: 0.5866 - val_accuracy: 1.0000\n",
      "Epoch 37/100\n",
      "4/4 [==============================] - 0s 10ms/step - loss: 0.5965 - accuracy: 0.9083 - val_loss: 0.5675 - val_accuracy: 1.0000\n",
      "Epoch 38/100\n",
      "4/4 [==============================] - 0s 13ms/step - loss: 0.5782 - accuracy: 0.9333 - val_loss: 0.5494 - val_accuracy: 1.0000\n",
      "Epoch 39/100\n",
      "4/4 [==============================] - 0s 11ms/step - loss: 0.5600 - accuracy: 0.9333 - val_loss: 0.5313 - val_accuracy: 1.0000\n",
      "Epoch 40/100\n",
      "4/4 [==============================] - 0s 11ms/step - loss: 0.5427 - accuracy: 0.9333 - val_loss: 0.5142 - val_accuracy: 1.0000\n",
      "Epoch 41/100\n",
      "4/4 [==============================] - 0s 13ms/step - loss: 0.5260 - accuracy: 0.9333 - val_loss: 0.4975 - val_accuracy: 1.0000\n",
      "Epoch 42/100\n",
      "4/4 [==============================] - 0s 12ms/step - loss: 0.5109 - accuracy: 0.9333 - val_loss: 0.4813 - val_accuracy: 1.0000\n",
      "Epoch 43/100\n",
      "4/4 [==============================] - 0s 11ms/step - loss: 0.4955 - accuracy: 0.9333 - val_loss: 0.4659 - val_accuracy: 1.0000\n",
      "Epoch 44/100\n",
      "4/4 [==============================] - 0s 14ms/step - loss: 0.4812 - accuracy: 0.9417 - val_loss: 0.4516 - val_accuracy: 1.0000\n",
      "Epoch 45/100\n",
      "4/4 [==============================] - 0s 11ms/step - loss: 0.4672 - accuracy: 0.9417 - val_loss: 0.4375 - val_accuracy: 1.0000\n",
      "Epoch 46/100\n",
      "4/4 [==============================] - 0s 12ms/step - loss: 0.4541 - accuracy: 0.9417 - val_loss: 0.4235 - val_accuracy: 1.0000\n",
      "Epoch 47/100\n",
      "4/4 [==============================] - 0s 14ms/step - loss: 0.4417 - accuracy: 0.9500 - val_loss: 0.4101 - val_accuracy: 1.0000\n",
      "Epoch 48/100\n",
      "4/4 [==============================] - 0s 11ms/step - loss: 0.4291 - accuracy: 0.9417 - val_loss: 0.3968 - val_accuracy: 1.0000\n",
      "Epoch 49/100\n",
      "4/4 [==============================] - 0s 11ms/step - loss: 0.4170 - accuracy: 0.9500 - val_loss: 0.3845 - val_accuracy: 1.0000\n",
      "Epoch 50/100\n",
      "4/4 [==============================] - 0s 11ms/step - loss: 0.4069 - accuracy: 0.9500 - val_loss: 0.3740 - val_accuracy: 1.0000\n",
      "Epoch 51/100\n",
      "4/4 [==============================] - 0s 11ms/step - loss: 0.3958 - accuracy: 0.9583 - val_loss: 0.3609 - val_accuracy: 1.0000\n",
      "Epoch 52/100\n",
      "4/4 [==============================] - 0s 11ms/step - loss: 0.3848 - accuracy: 0.9583 - val_loss: 0.3501 - val_accuracy: 1.0000\n",
      "Epoch 53/100\n",
      "4/4 [==============================] - 0s 11ms/step - loss: 0.3745 - accuracy: 0.9583 - val_loss: 0.3396 - val_accuracy: 1.0000\n",
      "Epoch 54/100\n",
      "4/4 [==============================] - 0s 9ms/step - loss: 0.3647 - accuracy: 0.9583 - val_loss: 0.3282 - val_accuracy: 1.0000\n",
      "Epoch 55/100\n",
      "4/4 [==============================] - 0s 12ms/step - loss: 0.3555 - accuracy: 0.9583 - val_loss: 0.3184 - val_accuracy: 1.0000\n",
      "Epoch 56/100\n",
      "4/4 [==============================] - 0s 11ms/step - loss: 0.3459 - accuracy: 0.9417 - val_loss: 0.3088 - val_accuracy: 1.0000\n",
      "Epoch 57/100\n",
      "4/4 [==============================] - 0s 11ms/step - loss: 0.3374 - accuracy: 0.9500 - val_loss: 0.2980 - val_accuracy: 1.0000\n",
      "Epoch 58/100\n",
      "4/4 [==============================] - 0s 12ms/step - loss: 0.3288 - accuracy: 0.9583 - val_loss: 0.2893 - val_accuracy: 1.0000\n",
      "Epoch 59/100\n",
      "4/4 [==============================] - 0s 12ms/step - loss: 0.3206 - accuracy: 0.9667 - val_loss: 0.2806 - val_accuracy: 1.0000\n",
      "Epoch 60/100\n",
      "4/4 [==============================] - 0s 12ms/step - loss: 0.3133 - accuracy: 0.9583 - val_loss: 0.2700 - val_accuracy: 1.0000\n",
      "Epoch 61/100\n",
      "4/4 [==============================] - 0s 11ms/step - loss: 0.3051 - accuracy: 0.9583 - val_loss: 0.2617 - val_accuracy: 1.0000\n",
      "Epoch 62/100\n",
      "4/4 [==============================] - 0s 9ms/step - loss: 0.2977 - accuracy: 0.9667 - val_loss: 0.2555 - val_accuracy: 1.0000\n",
      "Epoch 63/100\n",
      "4/4 [==============================] - 0s 7ms/step - loss: 0.2898 - accuracy: 0.9583 - val_loss: 0.2498 - val_accuracy: 1.0000\n",
      "Epoch 64/100\n",
      "4/4 [==============================] - 0s 11ms/step - loss: 0.2837 - accuracy: 0.9667 - val_loss: 0.2401 - val_accuracy: 1.0000\n",
      "Epoch 65/100\n",
      "4/4 [==============================] - 0s 9ms/step - loss: 0.2761 - accuracy: 0.9583 - val_loss: 0.2329 - val_accuracy: 1.0000\n",
      "Epoch 66/100\n",
      "4/4 [==============================] - 0s 7ms/step - loss: 0.2708 - accuracy: 0.9667 - val_loss: 0.2258 - val_accuracy: 1.0000\n",
      "Epoch 67/100\n",
      "4/4 [==============================] - 0s 11ms/step - loss: 0.2644 - accuracy: 0.9583 - val_loss: 0.2160 - val_accuracy: 1.0000\n",
      "Epoch 68/100\n",
      "4/4 [==============================] - 0s 13ms/step - loss: 0.2576 - accuracy: 0.9583 - val_loss: 0.2111 - val_accuracy: 1.0000\n",
      "Epoch 69/100\n",
      "4/4 [==============================] - 0s 11ms/step - loss: 0.2513 - accuracy: 0.9667 - val_loss: 0.2055 - val_accuracy: 1.0000\n",
      "Epoch 70/100\n",
      "4/4 [==============================] - 0s 9ms/step - loss: 0.2455 - accuracy: 0.9667 - val_loss: 0.1983 - val_accuracy: 1.0000\n",
      "Epoch 71/100\n",
      "4/4 [==============================] - 0s 12ms/step - loss: 0.2404 - accuracy: 0.9583 - val_loss: 0.1935 - val_accuracy: 1.0000\n",
      "Epoch 72/100\n",
      "4/4 [==============================] - 0s 11ms/step - loss: 0.2358 - accuracy: 0.9667 - val_loss: 0.1855 - val_accuracy: 1.0000\n",
      "Epoch 73/100\n",
      "4/4 [==============================] - 0s 11ms/step - loss: 0.2299 - accuracy: 0.9667 - val_loss: 0.1815 - val_accuracy: 1.0000\n",
      "Epoch 74/100\n",
      "4/4 [==============================] - 0s 13ms/step - loss: 0.2245 - accuracy: 0.9667 - val_loss: 0.1780 - val_accuracy: 1.0000\n",
      "Epoch 75/100\n",
      "4/4 [==============================] - 0s 12ms/step - loss: 0.2198 - accuracy: 0.9667 - val_loss: 0.1717 - val_accuracy: 1.0000\n",
      "Epoch 76/100\n",
      "4/4 [==============================] - 0s 10ms/step - loss: 0.2155 - accuracy: 0.9583 - val_loss: 0.1642 - val_accuracy: 1.0000\n",
      "Epoch 77/100\n",
      "4/4 [==============================] - 0s 15ms/step - loss: 0.2112 - accuracy: 0.9583 - val_loss: 0.1611 - val_accuracy: 1.0000\n",
      "Epoch 78/100\n",
      "4/4 [==============================] - 0s 11ms/step - loss: 0.2063 - accuracy: 0.9667 - val_loss: 0.1568 - val_accuracy: 1.0000\n",
      "Epoch 79/100\n",
      "4/4 [==============================] - 0s 11ms/step - loss: 0.2020 - accuracy: 0.9667 - val_loss: 0.1506 - val_accuracy: 1.0000\n",
      "Epoch 80/100\n",
      "4/4 [==============================] - 0s 11ms/step - loss: 0.2009 - accuracy: 0.9667 - val_loss: 0.1441 - val_accuracy: 1.0000\n",
      "Epoch 81/100\n",
      "4/4 [==============================] - 0s 11ms/step - loss: 0.1963 - accuracy: 0.9583 - val_loss: 0.1447 - val_accuracy: 1.0000\n",
      "Epoch 82/100\n",
      "4/4 [==============================] - 0s 11ms/step - loss: 0.1906 - accuracy: 0.9667 - val_loss: 0.1418 - val_accuracy: 1.0000\n",
      "Epoch 83/100\n",
      "4/4 [==============================] - 0s 11ms/step - loss: 0.1868 - accuracy: 0.9667 - val_loss: 0.1350 - val_accuracy: 1.0000\n",
      "Epoch 84/100\n",
      "4/4 [==============================] - 0s 12ms/step - loss: 0.1831 - accuracy: 0.9667 - val_loss: 0.1306 - val_accuracy: 1.0000\n",
      "Epoch 85/100\n",
      "4/4 [==============================] - 0s 12ms/step - loss: 0.1802 - accuracy: 0.9667 - val_loss: 0.1274 - val_accuracy: 1.0000\n",
      "Epoch 86/100\n",
      "4/4 [==============================] - 0s 11ms/step - loss: 0.1771 - accuracy: 0.9667 - val_loss: 0.1228 - val_accuracy: 1.0000\n",
      "Epoch 87/100\n",
      "4/4 [==============================] - 0s 11ms/step - loss: 0.1739 - accuracy: 0.9667 - val_loss: 0.1196 - val_accuracy: 1.0000\n",
      "Epoch 88/100\n",
      "4/4 [==============================] - 0s 11ms/step - loss: 0.1709 - accuracy: 0.9667 - val_loss: 0.1197 - val_accuracy: 1.0000\n",
      "Epoch 89/100\n",
      "4/4 [==============================] - 0s 11ms/step - loss: 0.1682 - accuracy: 0.9667 - val_loss: 0.1175 - val_accuracy: 1.0000\n",
      "Epoch 90/100\n",
      "4/4 [==============================] - 0s 24ms/step - loss: 0.1648 - accuracy: 0.9667 - val_loss: 0.1121 - val_accuracy: 1.0000\n",
      "Epoch 91/100\n",
      "4/4 [==============================] - 0s 7ms/step - loss: 0.1621 - accuracy: 0.9667 - val_loss: 0.1073 - val_accuracy: 1.0000\n",
      "Epoch 92/100\n",
      "4/4 [==============================] - 0s 11ms/step - loss: 0.1601 - accuracy: 0.9583 - val_loss: 0.1034 - val_accuracy: 1.0000\n",
      "Epoch 93/100\n",
      "4/4 [==============================] - 0s 13ms/step - loss: 0.1575 - accuracy: 0.9667 - val_loss: 0.1024 - val_accuracy: 1.0000\n",
      "Epoch 94/100\n",
      "4/4 [==============================] - 0s 10ms/step - loss: 0.1555 - accuracy: 0.9667 - val_loss: 0.1003 - val_accuracy: 1.0000\n",
      "Epoch 95/100\n",
      "4/4 [==============================] - 0s 7ms/step - loss: 0.1523 - accuracy: 0.9667 - val_loss: 0.1013 - val_accuracy: 1.0000\n",
      "Epoch 96/100\n",
      "4/4 [==============================] - 0s 11ms/step - loss: 0.1511 - accuracy: 0.9667 - val_loss: 0.0997 - val_accuracy: 1.0000\n",
      "Epoch 97/100\n",
      "4/4 [==============================] - 0s 11ms/step - loss: 0.1506 - accuracy: 0.9667 - val_loss: 0.0918 - val_accuracy: 1.0000\n",
      "Epoch 98/100\n",
      "4/4 [==============================] - 0s 11ms/step - loss: 0.1466 - accuracy: 0.9667 - val_loss: 0.0900 - val_accuracy: 1.0000\n",
      "Epoch 99/100\n",
      "4/4 [==============================] - 0s 10ms/step - loss: 0.1443 - accuracy: 0.9667 - val_loss: 0.0898 - val_accuracy: 1.0000\n",
      "Epoch 100/100\n",
      "4/4 [==============================] - 0s 11ms/step - loss: 0.1438 - accuracy: 0.9667 - val_loss: 0.0912 - val_accuracy: 1.0000\n",
      "<keras.callbacks.History object at 0x000002BCE2424190>\n"
     ]
    }
   ],
   "source": [
    "# fit_hisroty = model.fit(X, y) : X,y를 통채로 넣어주면 test 사이즈 설정 시 자동으로 나누어줌\n",
    "fit_hisroty = model.fit(X_train, y_train, validation_data=(X_test, y_test), epochs=100)      # epochs : loss가 최소가 될 때 까지 w값 조정 할 횟수(오차역전파 수행 횟수)\n",
    "print(fit_hisroty)"
   ]
  },
  {
   "cell_type": "markdown",
   "id": "905d4f9d-45eb-4015-8602-aa5674de4179",
   "metadata": {},
   "source": [
    "- loss는 줄어드는 데  val_loss 와의 차이가 커진다면 overfitting\n",
    "- loss: 1.2405     - accuracy: 0.3333        -> 학습 데이터에 대한 점수\n",
    "- val_loss: 1.2267 - val_accuracy: 0.3333    -> validation_data=(X_test, y_test) 설정시 검증 데이터에 대한 점수"
   ]
  },
  {
   "cell_type": "code",
   "execution_count": 14,
   "id": "266245c8-ea10-472f-851a-c4126ef97985",
   "metadata": {
    "tags": []
   },
   "outputs": [
    {
     "data": {
      "image/png": "[encoded data removed]",
      "text/plain": [
       "<Figure size 600x300 with 2 Axes>"
      ]
     },
     "metadata": {},
     "output_type": "display_data"
    }
   ],
   "source": [
    "plt.figure(figsize=(6,3))\n",
    "ax1 = plt.subplot(1,2,1)\n",
    "ax1.plot(fit_hisroty.history['loss']    , label='loss')\n",
    "ax1.plot(fit_hisroty.history['val_loss'], label='val_loss')\n",
    "ax1.legend()\n",
    "ax1.set_title(\"loss\")\n",
    "\n",
    "ax2 = plt.subplot(1,2,2)\n",
    "ax2.plot(fit_hisroty.history['accuracy']    , label='accuracy')\n",
    "ax2.plot(fit_hisroty.history['val_accuracy'], label='val_accuracy')\n",
    "ax2.legend()\n",
    "ax2.set_title(\"accuracy\")\n",
    "\n",
    "plt.show()"
   ]
  },
  {
   "cell_type": "code",
   "execution_count": 15,
   "id": "981d7e75-f810-41ca-a984-23458c7e1edc",
   "metadata": {
    "tags": []
   },
   "outputs": [
    {
     "name": "stdout",
     "output_type": "stream",
     "text": [
      "1/1 [==============================] - 0s 22ms/step - loss: 0.0912 - accuracy: 1.0000\n",
      "정답률 = 1.0   loss= 0.09121903777122498\n"
     ]
    }
   ],
   "source": [
    "# 모델의 최종적인 정답률과 loss 값 확인하기(최적 점수 반환)\n",
    "score=model.evaluate(X_test, y_test)\n",
    "print(f\"정답률 = {score[1]}   loss= {score[0]}\")"
   ]
  },
  {
   "cell_type": "code",
   "execution_count": 24,
   "id": "9ba5f24d-4f7d-4b54-ad91-413cc2e39fc6",
   "metadata": {
    "tags": []
   },
   "outputs": [
    {
     "name": "stdout",
     "output_type": "stream",
     "text": [
      "1/1 [==============================] - 0s 23ms/step\n"
     ]
    },
    {
     "data": {
      "text/html": [
       "<div>\n",
       "<style scoped>\n",
       "    .dataframe tbody tr th:only-of-type {\n",
       "        vertical-align: middle;\n",
       "    }\n",
       "\n",
       "    .dataframe tbody tr th {\n",
       "        vertical-align: top;\n",
       "    }\n",
       "\n",
       "    .dataframe thead th {\n",
       "        text-align: right;\n",
       "    }\n",
       "</style>\n",
       "<table border=\"1\" class=\"dataframe\">\n",
       "  <thead>\n",
       "    <tr style=\"text-align: right;\">\n",
       "      <th></th>\n",
       "      <th>0_proba</th>\n",
       "      <th>1_proba</th>\n",
       "      <th>2_proba</th>\n",
       "      <th>pred</th>\n",
       "    </tr>\n",
       "  </thead>\n",
       "  <tbody>\n",
       "    <tr>\n",
       "      <th>0</th>\n",
       "      <td>0.017730</td>\n",
       "      <td>0.872517</td>\n",
       "      <td>0.109754</td>\n",
       "      <td>1</td>\n",
       "    </tr>\n",
       "    <tr>\n",
       "      <th>1</th>\n",
       "      <td>0.982729</td>\n",
       "      <td>0.017253</td>\n",
       "      <td>0.000018</td>\n",
       "      <td>0</td>\n",
       "    </tr>\n",
       "    <tr>\n",
       "      <th>2</th>\n",
       "      <td>0.052147</td>\n",
       "      <td>0.929996</td>\n",
       "      <td>0.017857</td>\n",
       "      <td>1</td>\n",
       "    </tr>\n",
       "    <tr>\n",
       "      <th>3</th>\n",
       "      <td>0.000286</td>\n",
       "      <td>0.034048</td>\n",
       "      <td>0.965667</td>\n",
       "      <td>2</td>\n",
       "    </tr>\n",
       "    <tr>\n",
       "      <th>4</th>\n",
       "      <td>0.001617</td>\n",
       "      <td>0.202006</td>\n",
       "      <td>0.796378</td>\n",
       "      <td>2</td>\n",
       "    </tr>\n",
       "  </tbody>\n",
       "</table>\n",
       "</div>"
      ],
      "text/plain": [
       "    0_proba   1_proba   2_proba  pred\n",
       "0  0.017730  0.872517  0.109754     1\n",
       "1  0.982729  0.017253  0.000018     0\n",
       "2  0.052147  0.929996  0.017857     1\n",
       "3  0.000286  0.034048  0.965667     2\n",
       "4  0.001617  0.202006  0.796378     2"
      ]
     },
     "execution_count": 24,
     "metadata": {},
     "output_type": "execute_result"
    }
   ],
   "source": [
    "# proba = model.predict(X_test)\n",
    "# print(f\"proba : {proba[:5]}\")\n",
    "\n",
    "# pred = np.argmax(proba, axis=1)\n",
    "# print(f\"pred : {pred[:5]}\")  #------------submit에 제출할 예측답안\n",
    "\n",
    "\n",
    "proba = model.predict(X_test)\n",
    "pred=np.argmax(proba,axis=1)\n",
    "\n",
    "proba_df=pd.DataFrame(proba,columns=['0_proba','1_proba','2_proba'])\n",
    "proba_df['pred']=pred\n",
    "proba_df.head()"
   ]
  },
  {
   "cell_type": "code",
   "execution_count": 20,
   "id": "cfc14cc3-88f9-4d45-81df-f489bd81ca52",
   "metadata": {
    "tags": []
   },
   "outputs": [
    {
     "name": "stdout",
     "output_type": "stream",
     "text": [
      "y_test : [1 0 1 2 2]\n",
      "[[10  0  0]\n",
      " [ 0 10  0]\n",
      " [ 0  0 10]]\n"
     ]
    }
   ],
   "source": [
    "#-------------- 이런코딩 없다.. 그냥 해보자-----------------\n",
    "y_test22 = np.argmax(y_test.values, axis=1)\n",
    "print(f\"y_test : {y_test22[:5]}\")\n",
    "\n",
    "from sklearn.metrics import f1_score, confusion_matrix\n",
    "print( confusion_matrix(y_test22, pred) )"
   ]
  }
 ],
 "metadata": {
  "kernelspec": {
   "display_name": "Python 3 (ipykernel)",
   "language": "python",
   "name": "python3"
  },
  "language_info": {
   "codemirror_mode": {
    "name": "ipython",
    "version": 3
   },
   "file_extension": ".py",
   "mimetype": "text/x-python",
   "name": "python",
   "nbconvert_exporter": "python",
   "pygments_lexer": "ipython3",
   "version": "3.8.8"
  }
 },
 "nbformat": 4,
 "nbformat_minor": 5
}
