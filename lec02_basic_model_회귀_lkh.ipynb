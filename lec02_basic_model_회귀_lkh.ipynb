{
 "cells": [
  {
   "cell_type": "markdown",
   "id": "8ed33f16-f17e-435b-91bf-f7f963675885",
   "metadata": {},
   "source": [
    "<font size=6><b> Lec02. 딥러닝 기초(회귀)"
   ]
  },
  {
   "cell_type": "markdown",
   "id": "731b42ce-42ea-4233-912b-6cb998e0c50d",
   "metadata": {},
   "source": [
    "* ref : https://www.tensorflow.org/?hl=ko\n",
    "* ref : https://keras.io/ko/\n",
    "* ref : https://keras.io/api/layers/core_layers/dense/"
   ]
  },
  {
   "cell_type": "code",
   "execution_count": 1,
   "id": "3384892d-13c8-4e56-9a4c-f5edfdced530",
   "metadata": {},
   "outputs": [
    {
     "data": {
      "text/html": [
       "<style>.container{width:100% !important;}</style>"
      ],
      "text/plain": [
       "<IPython.core.display.HTML object>"
      ]
     },
     "metadata": {},
     "output_type": "display_data"
    }
   ],
   "source": [
    "import numpy as np\n",
    "import pandas as pd\n",
    "\n",
    "import matplotlib.pyplot as plt\n",
    "import seaborn as sns\n",
    "\n",
    "\n",
    "sns.set()\n",
    "\n",
    "#-------------------- 차트 관련 속성 (한글처리, 그리드) -----------\n",
    "plt.rcParams['font.family']= 'Malgun Gothic'\n",
    "plt.rcParams['axes.unicode_minus'] = False\n",
    "\n",
    "#-------------------- 주피터 , 출력결과 넓이 늘리기 ---------------\n",
    "# from IPython.core.display import display, HTML\n",
    "from IPython.display import display, HTML\n",
    "\n",
    "display(HTML(\"<style>.container{width:100% !important;}</style>\"))\n",
    "pd.set_option('display.max_rows', 100)\n",
    "pd.set_option('display.max_columns', 100)\n",
    "pd.set_option('max_colwidth', None)\n",
    "\n",
    "import warnings\n",
    "warnings.filterwarnings(action='ignore')"
   ]
  },
  {
   "cell_type": "markdown",
   "id": "3a4cbb7b-b53c-4b3e-81a9-bfe245d61e31",
   "metadata": {},
   "source": [
    "# Data Load"
   ]
  },
  {
   "cell_type": "code",
   "execution_count": 2,
   "id": "38124a28-6eb5-443b-a944-48cef78a5bd2",
   "metadata": {
    "tags": []
   },
   "outputs": [
    {
     "name": "stdout",
     "output_type": "stream",
     "text": [
      "<class 'pandas.core.frame.DataFrame'>\n",
      "RangeIndex: 506 entries, 0 to 505\n",
      "Data columns (total 14 columns):\n",
      " #   Column   Non-Null Count  Dtype  \n",
      "---  ------   --------------  -----  \n",
      " 0   CRIM     506 non-null    float64\n",
      " 1   ZN       506 non-null    float64\n",
      " 2   INDUS    506 non-null    float64\n",
      " 3   CHAS     506 non-null    float64\n",
      " 4   NOX      506 non-null    float64\n",
      " 5   RM       506 non-null    float64\n",
      " 6   AGE      506 non-null    float64\n",
      " 7   DIS      506 non-null    float64\n",
      " 8   RAD      506 non-null    float64\n",
      " 9   TAX      506 non-null    float64\n",
      " 10  PTRATIO  506 non-null    float64\n",
      " 11  B        506 non-null    float64\n",
      " 12  LSTAT    506 non-null    float64\n",
      " 13  MEDV     506 non-null    float64\n",
      "dtypes: float64(14)\n",
      "memory usage: 55.5 KB\n"
     ]
    }
   ],
   "source": [
    "df = pd.read_csv(\"../ML/datasets/boston.csv\")\n",
    "df.info()"
   ]
  },
  {
   "cell_type": "code",
   "execution_count": 3,
   "id": "a1415cbc-8a5a-4b8f-8b96-46def0df439d",
   "metadata": {
    "tags": []
   },
   "outputs": [
    {
     "data": {
      "text/plain": [
       "((455, 13), (51, 13), (455,), (51,))"
      ]
     },
     "execution_count": 3,
     "metadata": {},
     "output_type": "execute_result"
    }
   ],
   "source": [
    "from sklearn.model_selection import train_test_split\n",
    "y = df['MEDV']\n",
    "X = df.drop(['MEDV'], axis=1)\n",
    "X_train, X_test, y_train, y_test = train_test_split(X,y, test_size=0.1, random_state=1234)\n",
    "X_train.shape, X_test.shape, y_train.shape, y_test.shape"
   ]
  },
  {
   "cell_type": "markdown",
   "id": "c1ac1de8-125a-4601-9199-911e07ebe27d",
   "metadata": {},
   "source": [
    "# ML"
   ]
  },
  {
   "cell_type": "code",
   "execution_count": 4,
   "id": "52cedce3-7398-436a-93c9-8b4eec5e97e9",
   "metadata": {
    "tags": []
   },
   "outputs": [
    {
     "name": "stdout",
     "output_type": "stream",
     "text": [
      "RMSE : 4.0695\n"
     ]
    }
   ],
   "source": [
    "from sklearn.linear_model import Ridge\n",
    "from sklearn.metrics import mean_squared_error\n",
    "\n",
    "model = Ridge(alpha=1.0, random_state=1234)\n",
    "model.fit(X_train, y_train)\n",
    "pred = model.predict(X_test)\n",
    "rmse = mean_squared_error(y_test, pred, squared=False)\n",
    "print(f\"RMSE : {rmse:.4f}\")"
   ]
  },
  {
   "cell_type": "markdown",
   "id": "211218ab-0052-47cc-bc53-c3d22ba5d375",
   "metadata": {},
   "source": [
    "# DL"
   ]
  },
  {
   "cell_type": "markdown",
   "id": "fe63ad96-73dd-46bc-806c-a4a186385d6f",
   "metadata": {},
   "source": [
    "## seed 고정"
   ]
  },
  {
   "cell_type": "code",
   "execution_count": 5,
   "id": "b7bd1d27-9358-425d-b95c-40231b776b88",
   "metadata": {
    "tags": []
   },
   "outputs": [],
   "source": [
    "import tensorflow as tf\n",
    "tf.random.set_seed(1234)  # tensor seed 고정\n",
    "np.random.seed(1234)       # 행열 연산 seed 고정"
   ]
  },
  {
   "cell_type": "code",
   "execution_count": 6,
   "id": "26e6d1c1-af1c-4fbd-b0d6-1281f1001935",
   "metadata": {
    "tags": []
   },
   "outputs": [],
   "source": [
    "from keras.models import Sequential\n",
    "from keras.layers import Dense"
   ]
  },
  {
   "cell_type": "code",
   "execution_count": 7,
   "id": "afb0e4f2-8cd9-4e0d-8968-5d4a76f6c0ca",
   "metadata": {
    "tags": []
   },
   "outputs": [
    {
     "data": {
      "text/plain": [
       "(Index(['CRIM', 'ZN', 'INDUS', 'CHAS', 'NOX', 'RM', 'AGE', 'DIS', 'RAD', 'TAX',\n",
       "        'PTRATIO', 'B', 'LSTAT'],\n",
       "       dtype='object'),\n",
       " 13)"
      ]
     },
     "execution_count": 7,
     "metadata": {},
     "output_type": "execute_result"
    }
   ],
   "source": [
    "X_train.columns, len(X_train.columns)"
   ]
  },
  {
   "cell_type": "markdown",
   "id": "7ce5936c-d70e-4e6d-9d2d-a056f6211d54",
   "metadata": {
    "tags": []
   },
   "source": [
    "## <font color=red><b>Activation Function</b></font>\n",
    "* ref : https://keras.io/api/layers/activations/\n",
    "    * ReLu : 기울기소실(역전파 시 w 사라짐) 문제 완화\n",
    "    * Sigmoid\n",
    "    * Softmax\n",
    "    * Hypublic Tangent\n",
    "    \n",
    "<pre>\n",
    "    from tensorflow.keras import activations as act\n",
    "    act.relu\n",
    "\n",
    "    from keras import activations as act\n",
    "    act.relu()\n",
    "    act.sigmoid()\n",
    "    act.softmax()\n",
    "    act.tanh()"
   ]
  },
  {
   "cell_type": "markdown",
   "id": "c9850ffd-9c9b-4f91-b275-0bef3582aa6f",
   "metadata": {
    "tags": []
   },
   "source": [
    "##  <font color=red><b>Losses (loss function)</b></font> \n",
    "* ref : https://keras.io/api/losses/\n",
    "   * <b>Aliases</b>\n",
    "    * bce = BCE = binary_crossentropy  \n",
    "    * mse = MSE = mean_squared_error  \n",
    "    * mae = MAE = mean_absolute_error  \n",
    "    * mape = MAPE = mean_absolute_percentage_error  \n",
    "    * msle = MSLE = mean_squared_logarithmic_error  \n",
    "    * kld = KLD = kullback_leibler_divergence = kl_divergence  \n",
    "    * logcosh = log_cosh  \n",
    "    * huber_loss = huber\n",
    "* Probabilistic losses\n",
    "    * <font color=blue>binary_cross_entropy(원본값 둘중하나) : 0,1\n",
    "    * <font color=blue>sparse_categorical_cross_entropy(원본값 n중 하나) : 0 ~ 9         \n",
    "    * <font color=blue>categorical_cross_entropy(원핫인코딩) : 100000000 ~ 000000001  </font>\n",
    "* Regression losses\n",
    "    * <font color=blue>mse,mae,rmse</blue>\n",
    "* Hinge losses for \"maximum-margin\" classification\n",
    "    * Hinge class ...\n",
    "\n",
    "<pre>        \n",
    "    from keras import losses as loss  \n",
    "    loss.binary_crossentropy()  \n",
    "    loss.categorical_crossentropy()  \n",
    "    loss.sparse_categorical_crossentropy()  \n",
    "    loss.cosine_similarity()  \n",
    "    loss.mean_squared_error()  \n",
    "    <font color=blue><b>\n",
    "    loss.MSE  -- V  \n",
    "    loss.mse  -- v  \n",
    "    loss.mean_squared_error() --f  \n",
    "    \n",
    "        model.compile(loss=\"mean_squared_error\")  \n",
    "        model.compile(loss=\"mse\")  \n",
    "        model.compile(loss=\"MSE\")  \n",
    "        model.compile(loss=tf.keras.losses.mean_squared_error())</b></font>\n",
    "    \n",
    "</pre>"
   ]
  },
  {
   "cell_type": "markdown",
   "id": "201bf2ff-c9d7-479b-a86b-7c2816978f20",
   "metadata": {
    "tags": []
   },
   "source": [
    "## <font color=red><b>Optimazer</b></font>\n",
    "*  https://keras.io/api/optimizers/\n",
    "    * Gradient Descent\n",
    "    * Statistic Gradient Descent\n",
    "    * Momentum\n",
    "    * AdaGrade\n",
    "    * Adam\n",
    "    * RmsProp\n",
    "    \n",
    "<pre>\n",
    "    from keras import optimizers as opt  \n",
    "    opt.Adam()  \n",
    "    opt.Adadelta()  \n",
    "    opt.Adagrad()  \n",
    "    opt.Optimizer()  \n",
    "    opt.RMSprop()  \n",
    "    opt.SGD()  \n",
    "    opt.TFOptimizer()\n",
    "    \n",
    "    from keras.optimizers import Adam  \n",
    "    a = Adam(learning_rate=0.001, ... , name=\"Adam\")  \n",
    "    \n",
    "    <font color=blue><b>\n",
    "    model.compile(optimizer='adam')\n",
    "    model.compile(optimizer=keras.optimizers.Adam(learning_rate=0.001)) \n"
   ]
  },
  {
   "cell_type": "markdown",
   "id": "75b409e3-0e98-4185-bdfb-4ac1a6255265",
   "metadata": {},
   "source": [
    "## <font color=red><b>metrics</b></font>\n",
    "* ref : https://keras.io/api/metrics/)\n",
    "    * Probabilistic metrics : Crossentropy ...\n",
    "    * Regression metrics : MeanSquaredError ... \n",
    "    * Hinge metrics for \"maximum-margin\" classification<br><br>\n",
    "    * Accuracy metrics : Accuracy ...\n",
    "    * Classification metrics based on True/False : AUC, Precision ...\n",
    "    * Image segmentation metrics\n",
    "    \n",
    "<pre>\n",
    "    from keras.metrics import Accuracy\n",
    "    acc = Accuracy(name=\"accuracy\", dtype=None)\n",
    "\n",
    "    from keras.metrics import BinaryCrossentropy\n",
    "    cr = BinaryCrossentropy(name=\"binary_crossentropy\", ...)\n",
    "    \n",
    "    <font color=blue><b>\n",
    "    model.compile(metrics=[keras.metrics.Accuracy()])\n",
    "    model.compile(metrics=['accuracy'])"
   ]
  },
  {
   "cell_type": "markdown",
   "id": "0b173d2f-844c-4139-a5e3-d2e55cff5d0d",
   "metadata": {},
   "source": [
    "## 사용자 정의 metrics"
   ]
  },
  {
   "cell_type": "code",
   "execution_count": 8,
   "id": "a964cd21-8419-40e1-9307-f7d911a7189c",
   "metadata": {},
   "outputs": [],
   "source": [
    "import tensorflow as tf\n",
    "from keras.optimizers import Adam  \n",
    "from keras.losses import MeanSquaredError\n",
    "\n",
    "# @ (anotation) : 특수한 기능을 수행함을 사전에 알려주는 역할 (precompiler)\n",
    "@tf.function  # tf의 내부 function처럼 사용 가능\n",
    "def my_mse_def(y_true, y_pred):\n",
    "    return -1 * keras.losses.MSE(y_true, y_pred)\n",
    "\n",
    "model = Sequential()\n",
    "model.add(Dense(units=56, input_dim=len(X_train.columns), activation='relu'))\n",
    "model.add(Dense(units=24 , activation='relu'))\n",
    "model.add(Dense(units=26 , activation='relu'))\n",
    "model.add(Dense(units=12 , activation='relu'))\n",
    "model.add(Dense(units=8  , activation='relu'))\n",
    "model.add(Dense(units=4  , activation='relu'))\n",
    "model.add(Dense(units=1  ))\n",
    "\n",
    "model.compile(loss=my_mse_def,\n",
    "              optimizer=Adam(lr=0.001),\n",
    "              metrics=  [tf.keras.losses.MeanSquaredError()]  \n",
    "             )\n"
   ]
  },
  {
   "cell_type": "markdown",
   "id": "98feb14f-c640-4d1d-877a-e26d95f38fff",
   "metadata": {},
   "source": [
    "* ref  : https://neptune.ai/blog/keras-metrics"
   ]
  },
  {
   "cell_type": "code",
   "execution_count": 9,
   "id": "d4bb1b3e-1f13-4130-8614-bda753333f29",
   "metadata": {},
   "outputs": [],
   "source": [
    "\n",
    "# def recall(y_true, y_pred):\n",
    "#     y_true = K.ones_like(y_true)\n",
    "#     true_positives = K.sum(K.round(K.clip(y_true * y_pred, 0, 1)))\n",
    "#     all_positives = K.sum(K.round(K.clip(y_true, 0, 1)))\n",
    "\n",
    "#     recall = true_positives / (all_positives + K.epsilon())\n",
    "#     return recall\n",
    "\n",
    "# def precision(y_true, y_pred):\n",
    "#     y_true = K.ones_like(y_true)\n",
    "#     true_positives = K.sum(K.round(K.clip(y_true * y_pred, 0, 1)))\n",
    "\n",
    "#     predicted_positives = K.sum(K.round(K.clip(y_pred, 0, 1)))\n",
    "#     precision = true_positives / (predicted_positives + K.epsilon())\n",
    "#     return precision\n",
    "\n",
    "# def f1_score(y_true, y_pred):\n",
    "#     precision = precision_m(y_true, y_pred)\n",
    "#     recall = recall_m(y_true, y_pred)\n",
    "#     return 2*((precision*recall)/(precision+recall+K.epsilon()))\n",
    "\n",
    "\n",
    "# model.compile(loss='mse',\n",
    "#               optimizer=Adam(lr=0.001),\n",
    "#               metrics= ['accuracy', f1_score]  #, precision, recall]  \n",
    "#              )\n",
    "\n",
    "# fit_hisroty = model.fit(X_train, y_train\n",
    "#                         , validation_data=(X_test, y_test)\n",
    "#                         , epochs=100\n",
    "#                         , batch_size = 32\n",
    "#                         , steps_per_epoch = 455/32\n",
    "#                        )"
   ]
  },
  {
   "cell_type": "markdown",
   "id": "40ec3e44-5eab-4c2a-9191-0d96e4541b2c",
   "metadata": {
    "tags": []
   },
   "source": [
    "## 모델 Sequential()\n",
    "* from keras.models import Sequential\n",
    "* from keras.layers import Dense"
   ]
  },
  {
   "cell_type": "code",
   "execution_count": 10,
   "id": "d21592f6-2aa0-4cfc-802c-4ff174690a12",
   "metadata": {
    "tags": []
   },
   "outputs": [],
   "source": [
    "model = Sequential() # 모델을 담을 박스\n",
    "\n",
    "# units : output 개수\n",
    "# input_dim : X_train의 컬럼 수(들어올 데이터 수)\n",
    "# activation : 활성화 함수 ( ReLu , sigmoid, Soft, Hypubolic Tangent )\n",
    "model.add(Dense(units=56, input_dim=len(X_train.columns), activation='relu'))\n",
    "model.add(Dense(units=24 , activation='relu'))\n",
    "model.add(Dense(units=26 , activation='relu'))\n",
    "model.add(Dense(units=12 , activation='relu'))\n",
    "model.add(Dense(units=8  , activation='relu'))\n",
    "model.add(Dense(units=4  , activation='relu'))\n",
    "model.add(Dense(units=1  ))  #-----------------회귀 : y^ = wx+b\n",
    "model.compile(loss=\"mean_squared_error\", optimizer=\"adam\", metrics=\"mse\") #----------l o m\n",
    "#  loss에 있는 것들이 metrics에도 동일하게 존재할 경우 metrics 생략 가능"
   ]
  },
  {
   "cell_type": "code",
   "execution_count": 11,
   "id": "70ee2724-62a4-45b4-b320-5714239a1038",
   "metadata": {
    "tags": []
   },
   "outputs": [
    {
     "name": "stdout",
     "output_type": "stream",
     "text": [
      "Model: \"sequential_1\"\n",
      "_________________________________________________________________\n",
      " Layer (type)                Output Shape              Param #   \n",
      "=================================================================\n",
      " dense_7 (Dense)             (None, 56)                784       \n",
      "                                                                 \n",
      " dense_8 (Dense)             (None, 24)                1368      \n",
      "                                                                 \n",
      " dense_9 (Dense)             (None, 26)                650       \n",
      "                                                                 \n",
      " dense_10 (Dense)            (None, 12)                324       \n",
      "                                                                 \n",
      " dense_11 (Dense)            (None, 8)                 104       \n",
      "                                                                 \n",
      " dense_12 (Dense)            (None, 4)                 36        \n",
      "                                                                 \n",
      " dense_13 (Dense)            (None, 1)                 5         \n",
      "                                                                 \n",
      "=================================================================\n",
      "Total params: 3,271\n",
      "Trainable params: 3,271\n",
      "Non-trainable params: 0\n",
      "_________________________________________________________________\n"
     ]
    }
   ],
   "source": [
    "model.summary()"
   ]
  },
  {
   "cell_type": "code",
   "execution_count": 12,
   "id": "ce1e3f1e-e2df-4805-93dc-fd29a3b5b2b5",
   "metadata": {
    "tags": []
   },
   "outputs": [],
   "source": [
    "# from keras.applications import InceptionV3\n",
    "# mo = InceptionV3()\n",
    "# mo.summary()"
   ]
  },
  {
   "cell_type": "markdown",
   "id": "206f3436-be0a-4700-83af-fa7184d475a0",
   "metadata": {},
   "source": [
    "### hidden layer 확인"
   ]
  },
  {
   "cell_type": "code",
   "execution_count": 13,
   "id": "5fb5c187-7f6f-40fe-9846-11c424b49c3e",
   "metadata": {
    "tags": []
   },
   "outputs": [
    {
     "data": {
      "text/plain": [
       "<KerasTensor: shape=(None, 56) dtype=float32 (created by layer 'dense_7')>"
      ]
     },
     "execution_count": 13,
     "metadata": {},
     "output_type": "execute_result"
    }
   ],
   "source": [
    "model.layers[0].output"
   ]
  },
  {
   "cell_type": "code",
   "execution_count": 14,
   "id": "21e361fd-f22c-41ab-952c-b1ba992344ce",
   "metadata": {
    "tags": []
   },
   "outputs": [
    {
     "data": {
      "text/plain": [
       "<KerasTensor: shape=(None, 56) dtype=float32 (created by layer 'dense_7')>"
      ]
     },
     "execution_count": 14,
     "metadata": {},
     "output_type": "execute_result"
    }
   ],
   "source": [
    "model.get_layer('dense_7').output"
   ]
  },
  {
   "cell_type": "code",
   "execution_count": 15,
   "id": "59d48554-7427-4603-89dd-dbf9476c1505",
   "metadata": {
    "tags": []
   },
   "outputs": [
    {
     "data": {
      "text/plain": [
       "<KerasTensor: shape=(None, 13) dtype=float32 (created by layer 'dense_7_input')>"
      ]
     },
     "execution_count": 15,
     "metadata": {},
     "output_type": "execute_result"
    }
   ],
   "source": [
    "model.input"
   ]
  },
  {
   "cell_type": "markdown",
   "id": "e9967cd0-6ab1-4a1c-b394-051ee298531b",
   "metadata": {},
   "source": [
    "* ref : https://keras.io/api/models/model/\n",
    "* ref : https://keras.io/ko/initializers/"
   ]
  },
  {
   "cell_type": "markdown",
   "id": "fbcdbac0-3432-4ce2-ba61-568d928fc54d",
   "metadata": {},
   "source": [
    "### 배치정규화\n",
    "* <font color=red>Xavier 배치 정규화</font>\n",
    "    * kernel_initializer='glorot_normal'\n",
    "    * keras.initializers.glorot_normal(seed=None)\n",
    "    * stddev = 1 / sqrt(fan_in)\n",
    "    * sigmoid <br><br>\n",
    "* <font color=red>HE 배치 정규화</font>\n",
    "    * kernel_initializer='he_normal'\n",
    "    * keras.initializers.he_normal(seed=None)\n",
    "    * stddev = sqrt(2 / fan_in)\n",
    "    * relu\n",
    "* model.add(Dense(units=10, input_dim=4, activation='relu', <font color=red>kernel_initializer='glorot_normal'</font>))     "
   ]
  },
  {
   "cell_type": "code",
   "execution_count": 16,
   "id": "655bf098-f487-4dc0-bb53-9fb6bc81eae7",
   "metadata": {
    "tags": []
   },
   "outputs": [
    {
     "name": "stdout",
     "output_type": "stream",
     "text": [
      "input :         CRIM    ZN  INDUS  CHAS    NOX     RM   AGE    DIS  RAD    TAX  \\\n",
      "304  0.05515  33.0   2.18   0.0  0.472  7.236  41.1  4.022  7.0  222.0   \n",
      "\n",
      "     PTRATIO       B  LSTAT  \n",
      "304     18.4  393.68   6.93  \n",
      "output : [[1.51040146e+02 1.15488083e+02 0.00000000e+00 1.38580065e+01\n",
      "  6.48773041e+01 9.68734175e-02 7.18342743e+01 0.00000000e+00\n",
      "  2.95655422e+01 0.00000000e+00 1.25928314e+02 0.00000000e+00\n",
      "  7.88511581e+01 7.84354553e+01 0.00000000e+00 4.74897270e+01\n",
      "  1.40435013e+02 4.40561485e+01 0.00000000e+00 0.00000000e+00\n",
      "  0.00000000e+00 3.53831291e+01 8.99621048e+01 0.00000000e+00\n",
      "  0.00000000e+00 0.00000000e+00 0.00000000e+00 4.45967369e+01\n",
      "  2.80405140e+01 5.83745766e+01 0.00000000e+00 6.42015915e+01\n",
      "  0.00000000e+00 0.00000000e+00 4.33232803e+01 0.00000000e+00\n",
      "  0.00000000e+00 2.45049706e+01 1.13943985e+02 0.00000000e+00\n",
      "  3.98439064e+01 1.82904892e+01 0.00000000e+00 6.98231430e+01\n",
      "  0.00000000e+00 4.04608803e+01 2.29199162e+01 0.00000000e+00\n",
      "  2.88336658e+01 0.00000000e+00 4.63155327e+01 0.00000000e+00\n",
      "  1.19808846e+02 0.00000000e+00 0.00000000e+00 0.00000000e+00]]\n",
      "hidden_layer1_model weight : (13, 56)\n",
      "hidden_layer1_model weight : [array([[-1.79421529e-01,  2.11903453e-01, -1.19896144e-01,\n",
      "        -2.78398454e-01, -6.99894279e-02, -1.19836658e-01,\n",
      "        -1.75993711e-01, -3.23864520e-02, -4.89442945e-02,\n",
      "         2.28610098e-01, -5.23878038e-02, -1.51220053e-01,\n",
      "         6.78143799e-02, -2.28035539e-01, -1.34210050e-01,\n",
      "         1.68164462e-01, -5.12058884e-02,  5.81353009e-02,\n",
      "        -1.82527855e-01, -5.18347174e-02,  2.38718331e-01,\n",
      "        -4.66894507e-02, -2.29268283e-01, -9.02788341e-02,\n",
      "         3.04160416e-02, -1.52988136e-02,  1.01517707e-01,\n",
      "        -2.37054929e-01,  6.60331845e-02,  1.21971786e-01,\n",
      "         7.36382306e-02,  1.95601076e-01,  2.46083438e-01,\n",
      "        -2.36456126e-01,  2.00943053e-02, -6.95456564e-02,\n",
      "         1.20034784e-01, -4.98678386e-02,  1.08338505e-01,\n",
      "        -2.41718799e-01,  2.01251805e-02, -9.13425684e-02,\n",
      "         1.30720139e-02, -2.87613362e-01,  2.38013446e-01,\n",
      "         1.76298618e-03, -2.09286869e-01,  2.28380620e-01,\n",
      "         2.04138666e-01,  2.91546285e-02,  9.24098790e-02,\n",
      "         8.94283354e-02,  4.59864736e-02,  1.41681790e-01,\n",
      "         1.35930568e-01, -9.09965932e-02],\n",
      "       [ 2.61099815e-01,  1.10417366e-01, -1.11925989e-01,\n",
      "        -1.87421486e-01, -2.21817344e-01, -1.26382411e-01,\n",
      "         1.57566547e-01,  1.08279943e-01,  2.75810897e-01,\n",
      "         2.28500068e-01,  2.68685102e-01, -1.65541410e-01,\n",
      "         4.47019637e-02,  6.87136650e-02,  1.29646987e-01,\n",
      "         9.68596637e-02, -5.91458082e-02, -1.70428157e-02,\n",
      "         1.63584739e-01, -1.37981459e-01,  1.88679695e-01,\n",
      "        -1.82020664e-01,  2.61564255e-02, -2.81629860e-01,\n",
      "         6.52024150e-03,  6.34352267e-02, -8.76056701e-02,\n",
      "         1.63216263e-01, -1.05833411e-02, -1.35165781e-01,\n",
      "        -1.61364123e-01, -2.17371553e-01, -1.63667828e-01,\n",
      "        -6.58392012e-02, -2.43058622e-01, -1.83394313e-01,\n",
      "         1.78986400e-01,  4.22921181e-02,  1.16224766e-01,\n",
      "         7.92960227e-02,  2.55670130e-01, -2.83409029e-01,\n",
      "         2.72777915e-01,  1.67008072e-01, -2.73793489e-01,\n",
      "        -2.39328057e-01,  7.66568184e-02, -1.09510630e-01,\n",
      "        -1.50240898e-01,  1.42154753e-01, -2.37208545e-01,\n",
      "        -1.16520062e-01,  1.01625293e-01,  4.41080928e-02,\n",
      "         1.67568326e-02, -5.79845905e-03],\n",
      "       [-5.32771051e-02, -1.16048872e-01, -1.06579363e-02,\n",
      "         2.60285854e-01,  2.12398827e-01, -2.84467191e-01,\n",
      "         1.09902024e-03,  8.23437870e-02, -2.09277242e-01,\n",
      "         4.69964743e-03,  1.68499172e-01,  1.14400268e-01,\n",
      "         2.08440125e-01,  2.77621746e-01, -3.97087038e-02,\n",
      "        -2.63097256e-01, -7.91938603e-02, -6.03407621e-03,\n",
      "        -1.25945807e-02, -2.25308150e-01,  1.14681214e-01,\n",
      "        -4.19180691e-02,  1.05159491e-01,  1.06144667e-01,\n",
      "         4.78810072e-02, -1.89221248e-01, -4.27822173e-02,\n",
      "        -9.74948853e-02, -2.78930038e-01, -1.74718708e-01,\n",
      "        -1.39419004e-01, -8.63453746e-03,  2.74929881e-01,\n",
      "         4.66360748e-02, -1.24579072e-01,  3.34396958e-03,\n",
      "        -2.73896217e-01, -2.92392969e-01, -1.66875243e-01,\n",
      "        -1.09691113e-01, -1.55079618e-01, -1.86845750e-01,\n",
      "         1.62119985e-01,  2.24192917e-01, -1.02603436e-03,\n",
      "        -3.45037580e-02,  1.59146667e-01,  1.46256387e-02,\n",
      "         1.06250554e-01, -2.63501078e-01,  2.83207536e-01,\n",
      "         1.31190360e-01, -2.82961369e-01,  6.18220568e-02,\n",
      "         2.92395353e-01,  2.32524276e-01],\n",
      "       [ 2.17123032e-01,  1.55348837e-01,  2.23346055e-02,\n",
      "        -3.88570428e-02, -2.90889412e-01, -4.28352058e-02,\n",
      "         1.86178416e-01,  9.14516151e-02,  2.51323760e-01,\n",
      "         2.60803282e-01,  2.80651033e-01,  1.68810219e-01,\n",
      "        -7.52801448e-02,  5.87493479e-02,  2.93110609e-02,\n",
      "         2.35887945e-01,  2.10276663e-01,  1.26935512e-01,\n",
      "         2.22128808e-01, -2.13878751e-02, -1.08214051e-01,\n",
      "         2.09323764e-01,  1.07623547e-01, -2.49336988e-01,\n",
      "        -8.16423297e-02, -2.27538824e-01,  7.70834982e-02,\n",
      "         1.47353232e-01,  2.40092278e-01, -1.86208576e-01,\n",
      "         1.06996506e-01, -2.66500741e-01,  2.78418720e-01,\n",
      "        -1.76116943e-01, -6.68701679e-02,  2.33760893e-01,\n",
      "        -6.82317168e-02,  1.29360914e-01,  3.39250863e-02,\n",
      "         1.64316177e-01,  2.83556819e-01, -2.60607988e-01,\n",
      "        -1.29155412e-01,  9.39458609e-02,  1.05940729e-01,\n",
      "         2.34046817e-01,  1.71453357e-01, -1.36473820e-01,\n",
      "        -7.80776143e-02, -6.57376796e-02,  2.88248658e-01,\n",
      "         1.33695126e-01,  1.91628665e-01,  1.58909738e-01,\n",
      "        -2.80575186e-01, -1.37615174e-01],\n",
      "       [-6.10748678e-02, -7.67459571e-02,  1.65492475e-01,\n",
      "         2.38078356e-01, -2.54408002e-01,  1.09884948e-01,\n",
      "         2.47842729e-01,  1.13694668e-01,  1.21168464e-01,\n",
      "        -4.60268110e-02, -1.36037156e-01,  9.41888094e-02,\n",
      "        -6.43152595e-02, -1.73059762e-01, -2.65847266e-01,\n",
      "         1.87689483e-01,  3.86728346e-02, -8.00228119e-03,\n",
      "         2.93680847e-01,  1.54383183e-01,  2.61514604e-01,\n",
      "        -2.12681741e-01,  6.68849945e-02, -3.30575109e-02,\n",
      "        -5.61449528e-02,  5.77721894e-02,  1.87267959e-02,\n",
      "         1.78000093e-01,  1.16809934e-01,  6.80920184e-02,\n",
      "         9.68476534e-02,  1.36563689e-01, -1.83209255e-01,\n",
      "         1.84136868e-01,  1.55058503e-03,  4.62796986e-02,\n",
      "        -1.08443469e-01,  1.47434503e-01,  1.55393392e-01,\n",
      "        -2.78183877e-01,  2.11203337e-01,  2.54541814e-01,\n",
      "        -1.89286500e-01, -6.91044182e-02,  2.54648924e-01,\n",
      "        -2.35484987e-01, -1.41460896e-01, -6.50339276e-02,\n",
      "         1.64811552e-01, -1.54617995e-01, -1.60603836e-01,\n",
      "         2.49820232e-01, -1.64890870e-01, -2.38057479e-01,\n",
      "         9.52304006e-02,  4.67165112e-02],\n",
      "       [ 4.35650647e-02,  4.68756855e-02, -1.39847100e-01,\n",
      "        -2.58445740e-04,  2.35002995e-01, -1.42328054e-01,\n",
      "        -2.07364857e-01,  3.48193645e-02,  8.70883465e-04,\n",
      "        -1.37585014e-01, -1.76880047e-01,  2.68901050e-01,\n",
      "        -6.62222952e-02,  2.63617218e-01,  1.76406503e-02,\n",
      "         2.04595566e-01,  2.75670469e-01,  2.52016783e-01,\n",
      "         1.25274539e-01, -2.08885640e-01, -2.05676734e-01,\n",
      "         2.16525674e-01, -2.77122766e-01, -1.87195733e-01,\n",
      "        -9.84573066e-02, -2.68168539e-01, -1.90340653e-01,\n",
      "         2.07429886e-01, -5.77619821e-02, -2.28002980e-01,\n",
      "        -1.59068853e-01, -1.82863176e-02, -2.70871371e-01,\n",
      "         7.05464482e-02,  1.59004360e-01,  2.01836437e-01,\n",
      "         2.39997864e-01, -1.29165947e-02,  1.61655456e-01,\n",
      "         5.98155558e-02,  1.13260597e-01,  9.38623250e-02,\n",
      "        -2.60492980e-01,  1.40069425e-02,  1.17802352e-01,\n",
      "        -1.73835173e-01, -1.30278692e-01,  7.43325651e-02,\n",
      "        -2.31239721e-01, -2.82623142e-01,  1.96436673e-01,\n",
      "         1.29747391e-01,  2.05493033e-01, -1.05419755e-01,\n",
      "         9.20322537e-02, -6.00966960e-02],\n",
      "       [ 1.02811396e-01,  2.40665138e-01, -9.06831622e-02,\n",
      "        -2.25465894e-02, -1.14935011e-01,  1.95274800e-01,\n",
      "         2.86495328e-01, -7.65909255e-02, -4.80508506e-02,\n",
      "        -1.36321262e-01,  4.72763777e-02, -2.15526164e-01,\n",
      "        -1.39641315e-01, -1.65697068e-01,  1.77527279e-01,\n",
      "         1.47903085e-01,  8.05875361e-02,  1.64371431e-02,\n",
      "        -2.42277309e-01, -1.03481635e-01, -2.53306806e-01,\n",
      "         1.39021426e-01,  2.92035043e-01, -2.94307321e-01,\n",
      "        -3.49499285e-02,  2.53227949e-01, -1.15965411e-01,\n",
      "         1.26943439e-01,  5.37504852e-02, -1.02475345e-01,\n",
      "        -4.43381369e-02, -4.02933657e-02,  2.70403922e-01,\n",
      "        -1.19288698e-01, -1.74109638e-01,  3.19211483e-02,\n",
      "        -5.88865280e-02,  4.74593043e-03,  1.14379942e-01,\n",
      "        -2.29785234e-01, -2.21520662e-04,  4.80443239e-02,\n",
      "        -5.43270558e-02,  1.77583724e-01, -1.86744452e-01,\n",
      "        -2.44827509e-01, -1.58495009e-01, -2.44225204e-01,\n",
      "         1.00397050e-01, -2.51369745e-01, -7.29450881e-02,\n",
      "        -1.94880024e-01, -1.73462972e-01, -5.37487864e-02,\n",
      "        -2.26458296e-01,  8.34865868e-02],\n",
      "       [ 1.65644467e-01, -1.82214215e-01, -5.68921566e-02,\n",
      "        -2.29815960e-01, -2.27820396e-01, -1.54622570e-01,\n",
      "        -7.77291805e-02,  8.04763138e-02,  9.53300297e-02,\n",
      "        -2.19519436e-02,  1.63208157e-01, -7.39709139e-02,\n",
      "        -2.14618802e-01, -1.37481242e-01,  1.80051625e-02,\n",
      "         1.18566722e-01,  2.60339320e-01, -1.05165735e-01,\n",
      "        -2.55352229e-01, -9.19339806e-02,  6.05882704e-02,\n",
      "         2.57851005e-01,  1.87610686e-01, -2.21652955e-01,\n",
      "        -1.83503553e-01,  6.72438741e-03,  1.49332464e-01,\n",
      "         2.80088842e-01,  9.83088017e-02,  2.17553556e-01,\n",
      "         2.87890434e-02, -1.38950482e-01,  1.51493877e-01,\n",
      "         1.81405842e-01, -3.26117575e-02,  1.76651210e-01,\n",
      "         1.89877480e-01,  9.84674096e-02,  1.65893286e-01,\n",
      "        -2.52780139e-01, -1.35052875e-01, -5.00377715e-02,\n",
      "         2.29995966e-01, -5.43129146e-02, -8.31396282e-02,\n",
      "         1.94266826e-01,  2.34905601e-01, -2.75381625e-01,\n",
      "        -2.13549733e-02, -1.92275673e-01,  1.57089025e-01,\n",
      "        -2.03937232e-01,  2.65263081e-01, -1.41423285e-01,\n",
      "        -9.07685161e-02,  2.72491157e-01],\n",
      "       [-1.10271350e-01, -2.32605904e-01,  2.02460051e-01,\n",
      "        -6.61111474e-02,  2.60711551e-01, -1.59296632e-01,\n",
      "         1.85449988e-01, -1.45874277e-01,  1.46498740e-01,\n",
      "         2.09919631e-01,  1.29464477e-01,  2.56520331e-01,\n",
      "        -4.36824858e-02,  1.43272758e-01,  6.88686073e-02,\n",
      "        -1.73152432e-01, -2.48155996e-01,  2.81899989e-01,\n",
      "        -2.52517641e-01, -2.30970800e-01,  1.76777542e-01,\n",
      "        -1.53305873e-01,  3.29811573e-02, -1.37856677e-01,\n",
      "         1.04522228e-01, -1.30496025e-02, -2.76522636e-01,\n",
      "         2.44973004e-01,  1.43462420e-01, -3.30365598e-02,\n",
      "        -2.16494143e-01,  5.30965030e-02, -2.83908963e-01,\n",
      "        -2.11939931e-01, -2.84686744e-01,  1.73809290e-01,\n",
      "        -7.85499811e-03, -1.31298259e-01, -2.03600675e-01,\n",
      "         2.32583404e-01,  2.40188122e-01, -2.70623356e-01,\n",
      "         1.45817876e-01,  1.21862233e-01,  1.88576192e-01,\n",
      "        -2.70258099e-01,  2.00276822e-01, -2.48922676e-01,\n",
      "        -1.41693041e-01, -2.83885419e-01,  1.28479213e-01,\n",
      "         1.24631733e-01,  1.09028190e-01,  7.74281323e-02,\n",
      "         2.34623373e-01,  4.90179658e-02],\n",
      "       [ 1.43716663e-01,  1.61167830e-01, -2.26189226e-01,\n",
      "         1.18700445e-01, -3.43672335e-02,  2.61740267e-01,\n",
      "        -1.54159322e-01, -1.65766031e-01, -1.81632787e-01,\n",
      "         1.48387998e-01,  2.63237834e-01,  2.67049491e-01,\n",
      "         2.32130826e-01, -7.55759925e-02,  2.36389875e-01,\n",
      "        -2.92979389e-01,  2.07836747e-01,  2.90090322e-01,\n",
      "        -5.29603064e-02, -8.42009038e-02,  2.07705319e-01,\n",
      "         8.69422555e-02,  2.70325243e-02,  2.11938441e-01,\n",
      "        -1.28830805e-01,  1.49310261e-01,  2.61694074e-01,\n",
      "         1.96651310e-01, -6.07323945e-02,  1.50910497e-01,\n",
      "         1.56464875e-02,  2.57357478e-01,  1.29433751e-01,\n",
      "         7.41323233e-02,  2.27843821e-01,  2.90337980e-01,\n",
      "         1.09133303e-01, -2.42851675e-02,  1.15812719e-01,\n",
      "        -9.62556750e-02, -2.63857543e-02, -7.29763657e-02,\n",
      "         1.39650404e-02, -1.52095839e-01,  2.90574074e-01,\n",
      "         1.98305607e-01,  1.78873628e-01, -1.11103415e-01,\n",
      "         2.85761952e-01, -8.95158052e-02,  1.12476617e-01,\n",
      "        -2.70843893e-01,  7.28650689e-02, -2.03689188e-01,\n",
      "         1.76622927e-01,  1.52563721e-01],\n",
      "       [ 3.38456333e-02, -3.20306420e-03, -8.65453929e-02,\n",
      "         2.08944917e-01,  1.80783570e-01, -9.83309746e-03,\n",
      "        -2.11480826e-01,  9.60698426e-02, -1.75067425e-01,\n",
      "        -6.02803379e-02,  9.40935612e-02, -1.29144028e-01,\n",
      "         2.07571387e-01,  1.98515534e-01,  1.58065021e-01,\n",
      "         1.95981652e-01, -2.69388646e-01,  2.41092861e-01,\n",
      "         2.25395501e-01, -3.90190780e-02,  1.29254043e-01,\n",
      "         7.28636682e-02, -4.85121310e-02, -4.28020954e-04,\n",
      "         1.36638492e-01,  7.89778233e-02, -1.90106899e-01,\n",
      "         1.17676377e-01,  1.71496183e-01,  2.15103984e-01,\n",
      "        -1.71094924e-01,  5.77600896e-02, -2.32136816e-01,\n",
      "        -1.05763838e-01, -1.57764882e-01,  1.28862858e-01,\n",
      "        -5.50640672e-02,  1.01935893e-01,  8.84059668e-02,\n",
      "        -1.15958095e-01, -1.34062484e-01, -7.54943043e-02,\n",
      "        -1.81981713e-01,  3.16718519e-02,  1.98155075e-01,\n",
      "        -6.33510798e-02, -1.81713223e-01, -1.94350407e-01,\n",
      "        -2.14156896e-01, -6.00680858e-02, -2.15343297e-01,\n",
      "         9.71575677e-02, -6.03277236e-02, -1.35684639e-01,\n",
      "        -2.54305363e-01, -1.43741265e-01],\n",
      "       [ 2.70393014e-01,  1.76911891e-01,  1.04317367e-01,\n",
      "        -2.19883621e-02,  1.94091886e-01, -1.47384018e-01,\n",
      "         2.38132834e-01,  6.24361336e-02,  1.67259485e-01,\n",
      "        -2.08768651e-01,  1.35078460e-01, -1.56575173e-01,\n",
      "         7.32632279e-02,  2.40410745e-01, -2.78223187e-01,\n",
      "         2.50584722e-01,  2.41652369e-01, -7.43106306e-02,\n",
      "        -2.48187140e-01, -2.63878614e-01, -2.08681971e-01,\n",
      "         3.40735614e-02,  1.86774671e-01, -5.69074154e-02,\n",
      "        -6.11362308e-02, -2.41840929e-01, -2.07007840e-01,\n",
      "        -4.09380198e-02,  8.89210999e-02,  8.25248659e-02,\n",
      "        -2.51657426e-01,  3.86570096e-02, -2.15335771e-01,\n",
      "        -1.45152509e-02,  2.75150836e-02, -1.99599236e-01,\n",
      "        -2.59642005e-01,  7.23076761e-02,  1.97674900e-01,\n",
      "         3.04945111e-02,  9.91425812e-02,  1.12775981e-01,\n",
      "        -1.20627463e-01,  2.29955137e-01, -2.06660807e-01,\n",
      "         4.16847467e-02, -2.73906589e-02, -1.01279095e-01,\n",
      "        -7.05664307e-02, -2.05254614e-01,  7.81747699e-02,\n",
      "         6.01488650e-02,  2.66299903e-01, -1.31878853e-02,\n",
      "        -1.19309932e-01, -2.20440477e-01],\n",
      "       [-1.20138839e-01, -1.60834640e-01,  2.85356402e-01,\n",
      "         2.22795010e-02,  2.69244075e-01, -4.61526662e-02,\n",
      "        -5.31887263e-02, -2.19244927e-01, -1.26666024e-01,\n",
      "         2.75392413e-01,  1.71404630e-01,  1.84402347e-01,\n",
      "         2.03472674e-02, -2.03478843e-01, -1.85836866e-01,\n",
      "         1.05358928e-01,  2.32387364e-01,  1.44480377e-01,\n",
      "        -1.86758369e-01, -4.12786603e-02, -1.67769194e-01,\n",
      "         4.09391522e-02, -1.11124501e-01, -2.39949346e-01,\n",
      "         4.92449999e-02,  4.13012803e-02,  2.73581266e-01,\n",
      "         1.25793219e-02,  1.54234618e-01, -2.24176317e-01,\n",
      "        -2.88732022e-01, -1.74101889e-02,  7.72551000e-02,\n",
      "        -2.42044106e-01,  1.77876502e-01, -1.47986680e-01,\n",
      "         2.49997318e-01, -1.22515380e-01,  1.76781714e-02,\n",
      "        -2.58841485e-01, -1.45826474e-01,  8.21372271e-02,\n",
      "        -2.87013888e-01, -2.17783049e-01,  1.09146446e-01,\n",
      "         2.46332705e-01, -5.07274568e-02, -2.37822592e-01,\n",
      "         5.44785559e-02,  1.60377651e-01,  2.68233359e-01,\n",
      "        -4.27869260e-02,  1.52481347e-01,  1.23671204e-01,\n",
      "        -2.35328779e-01, -9.41514969e-02]], dtype=float32), array([0., 0., 0., 0., 0., 0., 0., 0., 0., 0., 0., 0., 0., 0., 0., 0., 0.,\n",
      "       0., 0., 0., 0., 0., 0., 0., 0., 0., 0., 0., 0., 0., 0., 0., 0., 0.,\n",
      "       0., 0., 0., 0., 0., 0., 0., 0., 0., 0., 0., 0., 0., 0., 0., 0., 0.,\n",
      "       0., 0., 0., 0., 0.], dtype=float32)]\n"
     ]
    }
   ],
   "source": [
    "# inputs  = keras.Input(shape=(3,))\n",
    "# x       = tf.keras.layers.Dense(4, activation=tf.nn.relu)(inputs)\n",
    "# outputs = keras.layers.Dense(5, activation=tf.nn.softmax)(x)\n",
    "# model   = tf.keras.Model(inputs=inputs, outputs=outputs)\n",
    "\n",
    "from keras import Model\n",
    "hidden_layer1_model = Model(inputs=model.input, outputs=model.layers[0].output)\n",
    "output = hidden_layer1_model(X_train.values)\n",
    "\n",
    "# -4.96479869e-02  -->  -9.99999999e-02\n",
    "# new_weight = [-9.99999999e-02, -1.31228065e+00,  1.99921787e-01,\n",
    "#         -4.56847548e-01, -5.63214898e-01, -1.75537765e-01,\n",
    "#         -5.14393985e-01,  9.51746013e-03, -8.53538454e-01,\n",
    "#         -9.48194712e-02, -1.03328049e+00, -2.53696948e-01,\n",
    "#          1.68627203e-01,  2.80268133e-01, -7.88949192e-01,\n",
    "#         -6.96348369e-01, -8.22624981e-01,  2.62601018e-01,\n",
    "#          1.22495711e-01,  1.49118334e-01, -2.28315070e-01,\n",
    "#         -6.61183774e-01,  1.23996437e-01, -5.28111219e-01,\n",
    "#          9.61591303e-02, -6.49019361e-01, -4.09550488e-01,\n",
    "#          1.97757840e-01, -4.72919047e-01, -9.83721018e-01,\n",
    "#         -6.78088129e-01, -1.39518529e-01,  1.25122607e-01,\n",
    "#         -9.58911598e-01, -7.17370808e-01, -5.39645433e-01,\n",
    "#         -1.56555402e+00,  2.88044035e-01,  2.30250537e-01,\n",
    "#          9.26579773e-01, -2.65088588e-01,  2.56911099e-01,\n",
    "#          1.12216711e-01, -7.41300210e-02, -7.68341005e-01,\n",
    "#         -9.87456799e-01, -6.94400907e-01, -4.39792722e-01,\n",
    "#          2.92690217e-01, -6.29654169e-01, -2.12101564e-01,\n",
    "#          1.56603634e-01, -6.53494477e-01, -3.22431624e-02,\n",
    "#         -1.04178464e+00, -8.02286148e-01]\n",
    "# model.set_weights(new_weight)\n",
    "\n",
    "\n",
    "print(f\"input : {X_train[:1]}\")\n",
    "print(f\"output : {output[:1]}\")\n",
    "\n",
    "print(f\"hidden_layer1_model weight : {np.array(hidden_layer1_model.get_weights()[0]).shape}\")\n",
    "print(f\"hidden_layer1_model weight : {hidden_layer1_model.get_weights()[:2]}\")"
   ]
  },
  {
   "cell_type": "code",
   "execution_count": 17,
   "id": "1bd43e45-a0b4-47db-a9a2-0f1eb30c63ac",
   "metadata": {
    "tags": []
   },
   "outputs": [
    {
     "data": {
      "image/png": "[encoded data removed]",
      "text/plain": [
       "<Figure size 300x200 with 1 Axes>"
      ]
     },
     "metadata": {},
     "output_type": "display_data"
    }
   ],
   "source": [
    "pd.DataFrame({\"col\":model.get_weights()[0][0]}).hist(figsize=(3,2))\n",
    "plt.show()"
   ]
  },
  {
   "cell_type": "code",
   "execution_count": 18,
   "id": "3c748e16-fb22-44bb-9418-18db2b3dc555",
   "metadata": {
    "tags": []
   },
   "outputs": [
    {
     "data": {
      "image/png": "[encoded data removed]",
      "text/plain": [
       "<Figure size 640x480 with 1 Axes>"
      ]
     },
     "metadata": {},
     "output_type": "display_data"
    }
   ],
   "source": [
    "mnist = tf.keras.datasets.mnist\n",
    "(x_train, y_train), (x_test, y_test) = mnist.load_data()\n",
    "x_train, x_test = x_train/255.0, x_test/255.0\n",
    "\n",
    "# tf.keras.initializers.RandomNormal 사용하기\n",
    "initializer1 = tf.keras.initializers.RandomNormal(mean=2.0, stddev=0.05, seed=None)\n",
    "initializer2 = tf.keras.initializers.RandomNormal(mean=-2.0, stddev=0.01, seed=None)\n",
    "\n",
    "model = tf.keras.models.Sequential([\n",
    "  tf.keras.layers.Flatten(input_shape=(28, 28)),\n",
    "  tf.keras.layers.Dense(512, activation=tf.nn.relu, use_bias=False, kernel_initializer=initializer1),\n",
    "  tf.keras.layers.Dense(10, activation=tf.nn.softmax, use_bias=False, kernel_initializer=initializer2)\n",
    "])\n",
    "\n",
    "weights = model.get_weights()\n",
    "# print(weights)\n",
    "\n",
    "plt.hist(weights[0], bins=100, alpha=0.7, histtype='step')\n",
    "plt.hist(weights[1], bins=100, alpha=0.7, histtype='step')\n",
    "plt.show()"
   ]
  },
  {
   "cell_type": "markdown",
   "id": "c3da1b2a-0eb3-434f-91a8-c3dec1fcb10d",
   "metadata": {},
   "source": [
    "# tf.keras.initializers.RandomNormal 사용하기\n",
    "* mean=2.0  , stddev=0.05   ,  mean=-2.0, stddev=0.01\n",
    "* mean=-0.05, stddev=0.05 ,  mean=-0.1, stddev=0.1"
   ]
  },
  {
   "cell_type": "code",
   "execution_count": 19,
   "id": "ceba42cd-65e1-44ab-8e80-852697e01c32",
   "metadata": {
    "tags": []
   },
   "outputs": [
    {
     "data": {
      "image/png": "[encoded data removed]",
      "text/plain": [
       "<Figure size 640x480 with 1 Axes>"
      ]
     },
     "metadata": {},
     "output_type": "display_data"
    }
   ],
   "source": [
    "mnist = tf.keras.datasets.mnist\n",
    "(x_train, y_train), (x_test, y_test) = mnist.load_data()\n",
    "x_train, x_test = x_train/255.0, x_test/255.0\n",
    "\n",
    "# tf.keras.initializers.RandomNormal 사용하기\n",
    "initializer1 = tf.keras.initializers.RandomNormal(mean=-0.05, stddev=0.05, seed=None)\n",
    "initializer2 = tf.keras.initializers.RandomNormal(mean=-0.1, stddev=0.1, seed=None)\n",
    "\n",
    "model = tf.keras.models.Sequential([\n",
    "  tf.keras.layers.Flatten(input_shape=(28, 28)),\n",
    "  tf.keras.layers.Dense(512, activation=tf.nn.relu, use_bias=False, kernel_initializer=initializer1),\n",
    "  tf.keras.layers.Dense(10, activation=tf.nn.softmax, use_bias=False, kernel_initializer=initializer2)\n",
    "])\n",
    "\n",
    "weights = model.get_weights()\n",
    "# print(weights)\n",
    "\n",
    "plt.hist(weights[0], bins=100, alpha=0.7, histtype='step')\n",
    "plt.hist(weights[1], bins=100, alpha=0.7, histtype='step')\n",
    "plt.show()"
   ]
  },
  {
   "cell_type": "code",
   "execution_count": 20,
   "id": "e21cfef5-8ba0-49cb-8622-425ee2a8f3eb",
   "metadata": {},
   "outputs": [],
   "source": [
    "model = Sequential()\n",
    "model.add(Dense(units=56, input_dim=len(X_train.columns), activation='relu'\n",
    "               , kernel_initializer='glorot_normal'  #--  Xavier:1/root(N)\n",
    "               ))\n",
    "model.add(Dense(units=24 , activation='relu'))\n",
    "model.add(Dense(units=26 , activation='relu', kernel_initializer='glorot_normal'))\n",
    "model.add(Dense(units=12 , activation='relu'))\n",
    "model.add(Dense(units=8  , activation='relu'))\n",
    "model.add(Dense(units=4  , activation='relu'))\n",
    "model.add(Dense(units=1  ))  #-----------------회귀 : y^ = wx+b\n",
    "model.compile(loss=\"mean_squared_error\", optimizer=\"adam\", metrics=\"mse\")\n"
   ]
  },
  {
   "cell_type": "markdown",
   "id": "1adb218d-f4aa-40da-9194-bc4226992fc7",
   "metadata": {
    "tags": []
   },
   "source": [
    "### 모델/가중치 저장&불러오기\n",
    "-  <font color='red'><b>학습(fit)이 끝난 후</font> 최적화된 w 를 가지고 있는 모델을 저장</b>\n",
    "* save() : 모델구조 + 보정된weights\n",
    "    * 바로사용 가능\n",
    "    * 저장 용량이 크다\n",
    "* save_weights() : 보정된weights\n",
    "    * 저장 용량이 적다\n",
    "    * 모델 구조를 알아야 사용 가능"
   ]
  },
  {
   "cell_type": "markdown",
   "id": "789db784-55db-4c51-89e6-6d6af92737a9",
   "metadata": {
    "tags": []
   },
   "source": [
    "#### 모델\n",
    "* model.save(\"aaa.h5\")\n",
    "* re_model = load_model(\"aaa.h5\")"
   ]
  },
  {
   "cell_type": "code",
   "execution_count": 21,
   "id": "68386678-e93c-420a-b95c-ca24993e4424",
   "metadata": {
    "tags": []
   },
   "outputs": [
    {
     "data": {
      "text/plain": [
       "((455, 13), (51, 13), (455,), (51,))"
      ]
     },
     "execution_count": 21,
     "metadata": {},
     "output_type": "execute_result"
    }
   ],
   "source": [
    "y = df['MEDV']\n",
    "X = df.drop(['MEDV'], axis=1)\n",
    "X_train, X_test, y_train, y_test = train_test_split(X,y, test_size=0.1, random_state=1234)\n",
    "X_train.shape, X_test.shape, y_train.shape, y_test.shape"
   ]
  },
  {
   "cell_type": "code",
   "execution_count": 22,
   "id": "1970a0c1-dfd7-4141-b559-9b4594accf47",
   "metadata": {},
   "outputs": [],
   "source": [
    "model = Sequential()\n",
    "model.add(Dense(units=56, input_dim=len(X_train.columns), activation='relu'\n",
    "               , kernel_initializer='glorot_normal'  #--  Xavier:1/root(N)\n",
    "               ))\n",
    "model.add(Dense(units=24 , activation='relu'))\n",
    "model.add(Dense(units=26 , activation='relu', kernel_initializer='glorot_normal'))\n",
    "model.add(Dense(units=12 , activation='relu'))\n",
    "model.add(Dense(units=8  , activation='relu'))\n",
    "model.add(Dense(units=4  , activation='relu'))\n",
    "model.add(Dense(units=1  ))  #-----------------회귀 : y^ = wx+b\n",
    "model.compile(loss=\"mean_squared_error\", optimizer=\"adam\", metrics=\"mse\")"
   ]
  },
  {
   "cell_type": "code",
   "execution_count": 23,
   "id": "a5c76c62-1a5e-4e49-9de0-18f7eaf8ad54",
   "metadata": {
    "tags": []
   },
   "outputs": [
    {
     "name": "stdout",
     "output_type": "stream",
     "text": [
      "15/15 [==============================] - 2s 2ms/step - loss: 1186.0590 - mse: 1186.0590\n",
      "2/2 [==============================] - 0s 4ms/step - loss: 617.0695 - mse: 617.0695\n"
     ]
    }
   ],
   "source": [
    "from keras.models import load_model\n",
    "model.fit(X_train, y_train)\n",
    "model.evaluate(X_test, y_test) \n",
    "model.save(\"./lec02_my_model.h5\")\n",
    "model.save_weights(\"./lec02_my_weight\")"
   ]
  },
  {
   "cell_type": "code",
   "execution_count": 24,
   "id": "e61f27c7-1592-4afc-ad37-bf366ed0ab01",
   "metadata": {
    "tags": []
   },
   "outputs": [
    {
     "name": "stdout",
     "output_type": "stream",
     "text": [
      "2/2 [==============================] - 0s 4ms/step - loss: 617.0695 - mse: 617.0695\n"
     ]
    },
    {
     "data": {
      "text/plain": [
       "[617.0694580078125, 617.0694580078125]"
      ]
     },
     "execution_count": 24,
     "metadata": {},
     "output_type": "execute_result"
    }
   ],
   "source": [
    "re_model = load_model(\"./lec02_my_model.h5\")\n",
    "re_model.evaluate(X_test, y_test) "
   ]
  },
  {
   "cell_type": "markdown",
   "id": "182606fa-afb8-4f06-9b15-9d8390b37018",
   "metadata": {},
   "source": [
    "#### 가중치\n",
    "* model.save_weights(\"my_weight\")\n",
    "* re_weights = load_weights(\"my_weight\")\n",
    "* model.set_weights(re_weights)"
   ]
  },
  {
   "cell_type": "code",
   "execution_count": 25,
   "id": "0d30ec56-80cb-4951-a443-efae17a4ba88",
   "metadata": {
    "tags": []
   },
   "outputs": [
    {
     "name": "stdout",
     "output_type": "stream",
     "text": [
      "2/2 [==============================] - 0s 3ms/step - loss: 617.0695 - mse: 617.0695\n"
     ]
    },
    {
     "data": {
      "text/plain": [
       "[617.0694580078125, 617.0694580078125]"
      ]
     },
     "execution_count": 25,
     "metadata": {},
     "output_type": "execute_result"
    }
   ],
   "source": [
    "# from keras.models import load_weights\n",
    "\n",
    "#-------해당모델을 알고 있다는 전제\n",
    "\n",
    "model = Sequential()\n",
    "model.add(Dense(units=56, input_dim=len(X_train.columns), activation='relu'\n",
    "               , kernel_initializer='glorot_normal'  #--  Xavier:1/root(N)\n",
    "               ))\n",
    "model.add(Dense(units=24 , activation='relu'))\n",
    "model.add(Dense(units=26 , activation='relu', kernel_initializer='glorot_normal'))\n",
    "model.add(Dense(units=12 , activation='relu'))\n",
    "model.add(Dense(units=8  , activation='relu'))\n",
    "model.add(Dense(units=4  , activation='relu'))\n",
    "model.add(Dense(units=1  ))  #-----------------회귀 : y^ = wx+b\n",
    "model.compile(loss=\"mean_squared_error\", optimizer=\"adam\", metrics=\"mse\")\n",
    "\n",
    "\n",
    "#------해당 모델에 저장한 가중치 적용\n",
    "model.load_weights(\"./lec02_my_weight\")\n",
    "model.evaluate(X_test, y_test) "
   ]
  },
  {
   "cell_type": "markdown",
   "id": "b171c2fc-71a2-4756-bbc4-0430c3d7f986",
   "metadata": {},
   "source": [
    "## fit()\n",
    "* 모델학습 : 총 문항 : 100문항 <br><br>\n",
    "<pre>\n",
    "Model.fit(\n",
    "    <font color=blue><b>x=None,              : 문제지 100  \n",
    "    y=None,              : 답안지 100    \n",
    "    batch_size=20,       : 역전파횟수 5 (100문제를 20문제씩 풀고 답을 맞춘 후 w 보정)   \n",
    "    epochs=3,            : 학습 박복 횟수 300  \n",
    "    steps_per_epoch=None,: 샘플수/배치수 = 100문항/20배치 (최대한 답안맞출수 있는 횟수)  </b></font>\n",
    "    initial_epoch=0,     : 박복 시작 번호  \n",
    "      \n",
    "    <font color=blue><b>validation_split=0.2 : 100문항 중 20문항은 테스트에 사용  \n",
    "    validation_data=None,: train_test_split에서 자른 test데이터셋 직접 넣기  \n",
    "    validation_batch_size=None,  (=batch_size)  \n",
    "    validation_steps=None,       (=steps_per_epoch)</b></font>  \n",
    "    validation_freq=1,  \n",
    "      \n",
    "    verbose=\"auto\",        \n",
    "    callbacks=None,      : ***  \n",
    "    shuffle=True,  \n",
    "    \n",
    "    class_weight=None,  \n",
    "    sample_weight=None,  \n",
    "    max_queue_size=10,  \n",
    "    workers=1,  \n",
    "    use_multiprocessing=False,  \n",
    ")"
   ]
  },
  {
   "cell_type": "code",
   "execution_count": 26,
   "id": "9a477130-4886-4597-9238-cf82a3ccbcad",
   "metadata": {
    "tags": []
   },
   "outputs": [
    {
     "data": {
      "text/plain": [
       "((455, 13), (51, 13), (455,), (51,))"
      ]
     },
     "execution_count": 26,
     "metadata": {},
     "output_type": "execute_result"
    }
   ],
   "source": [
    "y = df['MEDV']\n",
    "X = df.drop(['MEDV'], axis=1)\n",
    "X_train, X_test, y_train, y_test = train_test_split(X,y, test_size=0.1, random_state=1234)\n",
    "X_train.shape, X_test.shape, y_train.shape, y_test.shape"
   ]
  },
  {
   "cell_type": "markdown",
   "id": "59a24c8d-1407-4ee8-b11a-1e318bb5c161",
   "metadata": {},
   "source": [
    "### train만 넣은 경우 --> 사용 X\n",
    "    * batch_size=50(약 9회 : w 보정 횟수가 적었다)\n",
    "    * epochs=10 (반복 학습이 다소 적은 경우)\n",
    "\n",
    "* X, y 통째로 넣고  train 점수만 본 경우\n",
    "* 오버피팅 확인 불가"
   ]
  },
  {
   "cell_type": "code",
   "execution_count": 27,
   "id": "cecb815e-c166-4a39-96f4-d835c50f9f01",
   "metadata": {
    "tags": []
   },
   "outputs": [
    {
     "name": "stdout",
     "output_type": "stream",
     "text": [
      "Epoch 1/10\n",
      "9/9 [==============================] - 1s 2ms/step - loss: 665.7270 - mse: 665.7270\n",
      "Epoch 2/10\n",
      "9/9 [==============================] - 0s 2ms/step - loss: 598.4713 - mse: 598.4713\n",
      "Epoch 3/10\n",
      "9/9 [==============================] - 0s 3ms/step - loss: 608.8033 - mse: 608.8033\n",
      "Epoch 4/10\n",
      "9/9 [==============================] - 0s 2ms/step - loss: 590.8057 - mse: 590.8057\n",
      "Epoch 5/10\n",
      "9/9 [==============================] - 0s 3ms/step - loss: 586.4759 - mse: 586.4759\n",
      "Epoch 6/10\n",
      "9/9 [==============================] - 0s 3ms/step - loss: 601.9960 - mse: 601.9960\n",
      "Epoch 7/10\n",
      "9/9 [==============================] - 0s 2ms/step - loss: 564.2925 - mse: 564.2925\n",
      "Epoch 8/10\n",
      "9/9 [==============================] - 0s 3ms/step - loss: 612.1128 - mse: 612.1127\n",
      "Epoch 9/10\n",
      "9/9 [==============================] - 0s 3ms/step - loss: 598.4468 - mse: 598.4468\n",
      "Epoch 10/10\n",
      "9/9 [==============================] - 0s 2ms/step - loss: 566.0109 - mse: 566.0109\n",
      "2/2 [==============================] - 0s 3ms/step - loss: 492.0579 - mse: 492.0579\n",
      "[492.0578918457031, 492.0578918457031]\n"
     ]
    }
   ],
   "source": [
    "model = load_model(\"./lec02_my_model.h5\")\n",
    "model.fit(x=X,y=y, batch_size=50,epochs=10,steps_per_epoch=455/50)\n",
    "print(model.evaluate(X_test, y_test) )"
   ]
  },
  {
   "cell_type": "markdown",
   "id": "7c23ddab-957c-4faa-a113-2eba8e4ea95f",
   "metadata": {},
   "source": [
    "### epochs=10, batch_size=50\n",
    "    * batch_size=50(약 9회 : w 보정 횟수가 적었다)\n",
    "    * epochs=10 (반복 학습이 다소 적은 경우)\n",
    "\n",
    "* X, y 통째로 넣고  test_size = 0.2로 잡고 test 데이터로 검증\n",
    "* <b>오버피팅 확인 결과 : 어느정도 일반화 학습</b>"
   ]
  },
  {
   "cell_type": "code",
   "execution_count": 28,
   "id": "b156fc21-6c3c-4470-bb9f-c5c7e9099f3e",
   "metadata": {
    "tags": []
   },
   "outputs": [
    {
     "name": "stdout",
     "output_type": "stream",
     "text": [
      "Epoch 1/10\n",
      "1/9 [==>...........................] - ETA: 5s - loss: 720.1155 - mse: 720.1155WARNING:tensorflow:5 out of the last 9 calls to <function Model.make_test_function.<locals>.test_function at 0x0000022E2C8C1280> triggered tf.function retracing. Tracing is expensive and the excessive number of tracings could be due to (1) creating @tf.function repeatedly in a loop, (2) passing tensors with different shapes, (3) passing Python objects instead of tensors. For (1), please define your @tf.function outside of the loop. For (2), @tf.function has reduce_retracing=True option that can avoid unnecessary retracing. For (3), please refer to https://www.tensorflow.org/guide/function#controlling_retracing and https://www.tensorflow.org/api_docs/python/tf/function for  more details.\n",
      "9/9 [==============================] - 1s 25ms/step - loss: 738.4346 - mse: 738.4346 - val_loss: 340.1776 - val_mse: 340.1776\n",
      "Epoch 2/10\n",
      "9/9 [==============================] - 0s 8ms/step - loss: 688.7539 - mse: 688.7539 - val_loss: 302.3004 - val_mse: 302.3004\n",
      "Epoch 3/10\n",
      "9/9 [==============================] - 0s 7ms/step - loss: 679.9000 - mse: 679.9000 - val_loss: 293.8078 - val_mse: 293.8078\n",
      "Epoch 4/10\n",
      "9/9 [==============================] - 0s 7ms/step - loss: 648.5778 - mse: 648.5778 - val_loss: 291.5706 - val_mse: 291.5706\n",
      "Epoch 5/10\n",
      "9/9 [==============================] - 0s 7ms/step - loss: 665.6951 - mse: 665.6951 - val_loss: 290.4109 - val_mse: 290.4109\n",
      "Epoch 6/10\n",
      "9/9 [==============================] - 0s 7ms/step - loss: 667.6456 - mse: 667.6456 - val_loss: 289.5651 - val_mse: 289.5651\n",
      "Epoch 7/10\n",
      "9/9 [==============================] - 0s 10ms/step - loss: 668.3496 - mse: 668.3496 - val_loss: 288.8632 - val_mse: 288.8632\n",
      "Epoch 8/10\n",
      "9/9 [==============================] - 0s 6ms/step - loss: 668.2408 - mse: 668.2408 - val_loss: 288.2626 - val_mse: 288.2626\n",
      "Epoch 9/10\n",
      "9/9 [==============================] - 0s 7ms/step - loss: 663.7843 - mse: 663.7843 - val_loss: 287.7538 - val_mse: 287.7538\n",
      "Epoch 10/10\n",
      "WARNING:tensorflow:Your input ran out of data; interrupting training. Make sure that your dataset or generator can generate at least `steps_per_epoch * epochs` batches (in this case, 91.0 batches). You may need to use the repeat() function when building your dataset.\n",
      "9/9 [==============================] - 2s 181ms/step - loss: 0.0000e+00 - mse: 0.0000e+00 - val_loss: 287.7538 - val_mse: 287.7538\n",
      "2/2 [==============================] - 0s 5ms/step - loss: 493.7819 - mse: 493.7819\n",
      "[493.7818603515625, 493.7818908691406]\n"
     ]
    }
   ],
   "source": [
    "# X_train, X_test, y_train, y_test = train_test_split(X,y, test_size=0.1, random_state=1234)\n",
    "# model.fit(x=X_train,y=y_train\n",
    "#           ,validation_data=(X_test, y_test) \n",
    "#           , batch_size=50,epochs=10,steps_per_epoch=455/50)\n",
    "\n",
    "train_test_split(X,y , test_size = 0.2, random_state=1234)\n",
    "model = load_model(\"./lec02_my_model.h5\")\n",
    "model.fit(x=X,y=y,validation_split=0.2 , batch_size=50,epochs=10,steps_per_epoch=455/50)\n",
    "print(model.evaluate(X_test, y_test) )"
   ]
  },
  {
   "cell_type": "markdown",
   "id": "f61fe920-5411-4ace-8bb8-eeff2b4fd0fe",
   "metadata": {},
   "source": [
    "### epochs=50, batch_size=5\n",
    "    * batch_size=5(약 90회 : w 보정 횟수가 10배 늘었다)\n",
    "    * epochs=50 (반복 학습이 5배 늘었다)\n",
    "\n",
    "* 오버피팅 발생 우려\n",
    "    * batch_size=5 (50보다 작다 == 자주 답안을 체크한다 == w보정이 빈번히 일어난다 == loss작아진다)\n",
    "    * epochs=50 (10보다 크다 == 1문제를 5배 더 학습했다)"
   ]
  },
  {
   "cell_type": "code",
   "execution_count": 29,
   "id": "bb47ce32-40d1-4e27-867f-607279ebbf9f",
   "metadata": {
    "tags": []
   },
   "outputs": [
    {
     "name": "stdout",
     "output_type": "stream",
     "text": [
      "Epoch 1/50\n",
      "91/91 [==============================] - 1s 4ms/step - loss: 681.0377 - mse: 681.0377 - val_loss: 290.0708 - val_mse: 290.0708\n",
      "Epoch 2/50\n",
      "91/91 [==============================] - 0s 2ms/step - loss: 668.3837 - mse: 668.3837 - val_loss: 285.0287 - val_mse: 285.0287\n",
      "Epoch 3/50\n",
      "91/91 [==============================] - 0s 2ms/step - loss: 668.4434 - mse: 668.4435 - val_loss: 281.8136 - val_mse: 281.8136\n",
      "Epoch 4/50\n",
      "91/91 [==============================] - 0s 2ms/step - loss: 635.6846 - mse: 635.6846 - val_loss: 278.9537 - val_mse: 278.9537\n",
      "Epoch 5/50\n",
      "91/91 [==============================] - 0s 2ms/step - loss: 648.9299 - mse: 648.9299 - val_loss: 274.7370 - val_mse: 274.7370\n",
      "Epoch 6/50\n",
      "91/91 [==============================] - 0s 2ms/step - loss: 647.0378 - mse: 647.0378 - val_loss: 271.4617 - val_mse: 271.4617\n",
      "Epoch 7/50\n",
      "91/91 [==============================] - 0s 2ms/step - loss: 644.1714 - mse: 644.1714 - val_loss: 268.5717 - val_mse: 268.5717\n",
      "Epoch 8/50\n",
      "91/91 [==============================] - 0s 2ms/step - loss: 640.3303 - mse: 640.3303 - val_loss: 265.8295 - val_mse: 265.8295\n",
      "Epoch 9/50\n",
      "91/91 [==============================] - 0s 2ms/step - loss: 621.6636 - mse: 621.6636 - val_loss: 263.1130 - val_mse: 263.1130\n",
      "Epoch 10/50\n",
      "91/91 [==============================] - 0s 2ms/step - loss: 645.3730 - mse: 645.3730 - val_loss: 260.3956 - val_mse: 260.3956\n",
      "Epoch 11/50\n",
      "91/91 [==============================] - 0s 2ms/step - loss: 646.1836 - mse: 646.1836 - val_loss: 257.6843 - val_mse: 257.6843\n",
      "Epoch 12/50\n",
      "91/91 [==============================] - 0s 2ms/step - loss: 597.0410 - mse: 597.0410 - val_loss: 255.0588 - val_mse: 255.0588\n",
      "Epoch 13/50\n",
      "91/91 [==============================] - 0s 2ms/step - loss: 610.7446 - mse: 610.7446 - val_loss: 252.4143 - val_mse: 252.4143\n",
      "Epoch 14/50\n",
      "91/91 [==============================] - 0s 2ms/step - loss: 620.8121 - mse: 620.8121 - val_loss: 249.7840 - val_mse: 249.7840\n",
      "Epoch 15/50\n",
      "91/91 [==============================] - 0s 2ms/step - loss: 609.7592 - mse: 609.7592 - val_loss: 247.1671 - val_mse: 247.1671\n",
      "Epoch 16/50\n",
      "91/91 [==============================] - 0s 2ms/step - loss: 605.6725 - mse: 605.6725 - val_loss: 244.5867 - val_mse: 244.5867\n",
      "Epoch 17/50\n",
      "91/91 [==============================] - 0s 2ms/step - loss: 613.6105 - mse: 613.6105 - val_loss: 241.9995 - val_mse: 241.9995\n",
      "Epoch 18/50\n",
      "91/91 [==============================] - 0s 2ms/step - loss: 591.9133 - mse: 591.9133 - val_loss: 239.4461 - val_mse: 239.4461\n",
      "Epoch 19/50\n",
      "91/91 [==============================] - 0s 2ms/step - loss: 590.1504 - mse: 590.1504 - val_loss: 236.9001 - val_mse: 236.9001\n",
      "Epoch 20/50\n",
      "91/91 [==============================] - 0s 2ms/step - loss: 577.2823 - mse: 577.2823 - val_loss: 234.3938 - val_mse: 234.3938\n",
      "Epoch 21/50\n",
      "91/91 [==============================] - 0s 2ms/step - loss: 589.0352 - mse: 589.0351 - val_loss: 231.8936 - val_mse: 231.8936\n",
      "Epoch 22/50\n",
      "91/91 [==============================] - 0s 2ms/step - loss: 593.8660 - mse: 593.8660 - val_loss: 229.3814 - val_mse: 229.3814\n",
      "Epoch 23/50\n",
      "91/91 [==============================] - 0s 2ms/step - loss: 564.5063 - mse: 564.5063 - val_loss: 226.9353 - val_mse: 226.9353\n",
      "Epoch 24/50\n",
      "91/91 [==============================] - 0s 3ms/step - loss: 591.9969 - mse: 591.9969 - val_loss: 224.4389 - val_mse: 224.4389\n",
      "Epoch 25/50\n",
      "91/91 [==============================] - 0s 2ms/step - loss: 569.3679 - mse: 569.3679 - val_loss: 222.0099 - val_mse: 222.0099\n",
      "Epoch 26/50\n",
      "91/91 [==============================] - 0s 2ms/step - loss: 559.6335 - mse: 559.6335 - val_loss: 219.5976 - val_mse: 219.5976\n",
      "Epoch 27/50\n",
      "91/91 [==============================] - 0s 2ms/step - loss: 560.1589 - mse: 560.1589 - val_loss: 217.2058 - val_mse: 217.2058\n",
      "Epoch 28/50\n",
      "91/91 [==============================] - 0s 2ms/step - loss: 571.4656 - mse: 571.4656 - val_loss: 214.7820 - val_mse: 214.7820\n",
      "Epoch 29/50\n",
      "91/91 [==============================] - 0s 2ms/step - loss: 549.7241 - mse: 549.7241 - val_loss: 212.4475 - val_mse: 212.4475\n",
      "Epoch 30/50\n",
      "91/91 [==============================] - 0s 2ms/step - loss: 528.6733 - mse: 528.6733 - val_loss: 210.1015 - val_mse: 210.1015\n",
      "Epoch 31/50\n",
      "91/91 [==============================] - 0s 2ms/step - loss: 571.1896 - mse: 571.1896 - val_loss: 207.7271 - val_mse: 207.7271\n",
      "Epoch 32/50\n",
      "91/91 [==============================] - 0s 2ms/step - loss: 540.2720 - mse: 540.2720 - val_loss: 205.4011 - val_mse: 205.4011\n",
      "Epoch 33/50\n",
      "91/91 [==============================] - 0s 2ms/step - loss: 545.2735 - mse: 545.2735 - val_loss: 203.1078 - val_mse: 203.1079\n",
      "Epoch 34/50\n",
      "91/91 [==============================] - 0s 2ms/step - loss: 534.6823 - mse: 534.6823 - val_loss: 200.8274 - val_mse: 200.8274\n",
      "Epoch 35/50\n",
      "91/91 [==============================] - 0s 2ms/step - loss: 531.5018 - mse: 531.5018 - val_loss: 198.5562 - val_mse: 198.5562\n",
      "Epoch 36/50\n",
      "91/91 [==============================] - 0s 2ms/step - loss: 520.3051 - mse: 520.3051 - val_loss: 196.2936 - val_mse: 196.2936\n",
      "Epoch 37/50\n",
      "91/91 [==============================] - 0s 2ms/step - loss: 531.5957 - mse: 531.5957 - val_loss: 194.0600 - val_mse: 194.0600\n",
      "Epoch 38/50\n",
      "91/91 [==============================] - 0s 2ms/step - loss: 534.4027 - mse: 534.4027 - val_loss: 191.8250 - val_mse: 191.8250\n",
      "Epoch 39/50\n",
      "91/91 [==============================] - 0s 2ms/step - loss: 523.3170 - mse: 523.3169 - val_loss: 189.5951 - val_mse: 189.5951\n",
      "Epoch 40/50\n",
      "91/91 [==============================] - 0s 2ms/step - loss: 512.1218 - mse: 512.1218 - val_loss: 187.4101 - val_mse: 187.4101\n",
      "Epoch 41/50\n",
      "91/91 [==============================] - 0s 2ms/step - loss: 516.8331 - mse: 516.8331 - val_loss: 185.2418 - val_mse: 185.2418\n",
      "Epoch 42/50\n",
      "91/91 [==============================] - 0s 2ms/step - loss: 497.3182 - mse: 497.3182 - val_loss: 183.0942 - val_mse: 183.0942\n",
      "Epoch 43/50\n",
      "91/91 [==============================] - 0s 2ms/step - loss: 506.3104 - mse: 506.3104 - val_loss: 180.9495 - val_mse: 180.9495\n",
      "Epoch 44/50\n",
      "91/91 [==============================] - 0s 2ms/step - loss: 479.0798 - mse: 479.0797 - val_loss: 178.8399 - val_mse: 178.8399\n",
      "Epoch 45/50\n",
      "26/91 [=======>......................] - ETA: 0s - loss: 565.8674 - mse: 565.8674WARNING:tensorflow:Your input ran out of data; interrupting training. Make sure that your dataset or generator can generate at least `steps_per_epoch * epochs` batches (in this case, 4550.0 batches). You may need to use the repeat() function when building your dataset.\n",
      "91/91 [==============================] - 0s 2ms/step - loss: 538.3573 - mse: 538.3573 - val_loss: 177.7393 - val_mse: 177.7393\n",
      "2/2 [==============================] - 0s 5ms/step - loss: 350.4370 - mse: 350.4370\n",
      "[350.43701171875, 350.43701171875]\n"
     ]
    }
   ],
   "source": [
    "model = load_model(\"./lec02_my_model.h5\")\n",
    "model.fit(x=X,y=y,validation_split=0.2,batch_size=5, epochs=50,steps_per_epoch=455/5)\n",
    "print(model.evaluate(X_test, y_test) )\n"
   ]
  },
  {
   "cell_type": "markdown",
   "id": "386a2782-8482-4434-bf66-db2a7369e3fa",
   "metadata": {},
   "source": [
    "### epochs=50, batch_size=5, learning_rate \n",
    "    * batch_size=5(약 90회 : w 보정 횟수가 10배 늘었다)\n",
    "    * epochs=50 (반복 학습이 5배 늘었다)\n",
    "    * learning_rate(0.001) 기본\n",
    "    * learning_rate(0.1) : 발산 loss가 매우 커졌다\n",
    "    * learning_rate(0.00001) : loss가 0에 수렴하지 못한다epochs=50, batch_size=5"
   ]
  },
  {
   "cell_type": "code",
   "execution_count": 30,
   "id": "e3d6e8fc-c9ae-49cf-b3a7-ca32495d70be",
   "metadata": {
    "tags": []
   },
   "outputs": [
    {
     "name": "stdout",
     "output_type": "stream",
     "text": [
      "Epoch 1/50\n",
      "91/91 [==============================] - 1s 4ms/step - loss: 386.3256 - mse: 386.3256 - val_loss: 117.9372 - val_mse: 117.9372\n",
      "Epoch 2/50\n",
      "91/91 [==============================] - 0s 2ms/step - loss: 350.6731 - mse: 350.6731 - val_loss: 91.2573 - val_mse: 91.2573\n",
      "Epoch 3/50\n",
      "91/91 [==============================] - 0s 2ms/step - loss: 298.0372 - mse: 298.0372 - val_loss: 72.5819 - val_mse: 72.5819\n",
      "Epoch 4/50\n",
      "91/91 [==============================] - 0s 2ms/step - loss: 252.1680 - mse: 252.1680 - val_loss: 56.9871 - val_mse: 56.9871\n",
      "Epoch 5/50\n",
      "91/91 [==============================] - 0s 2ms/step - loss: 224.6708 - mse: 224.6708 - val_loss: 45.5128 - val_mse: 45.5128\n",
      "Epoch 6/50\n",
      "91/91 [==============================] - 0s 2ms/step - loss: 191.9474 - mse: 191.9474 - val_loss: 38.3145 - val_mse: 38.3145\n",
      "Epoch 7/50\n",
      "91/91 [==============================] - 0s 2ms/step - loss: 163.1451 - mse: 163.1451 - val_loss: 34.8162 - val_mse: 34.8162\n",
      "Epoch 8/50\n",
      "91/91 [==============================] - 0s 2ms/step - loss: 141.1305 - mse: 141.1305 - val_loss: 33.4948 - val_mse: 33.4948\n",
      "Epoch 9/50\n",
      "91/91 [==============================] - 0s 2ms/step - loss: 117.4406 - mse: 117.4406 - val_loss: 34.0564 - val_mse: 34.0564\n",
      "Epoch 10/50\n",
      "91/91 [==============================] - 0s 2ms/step - loss: 110.9787 - mse: 110.9787 - val_loss: 35.3947 - val_mse: 35.3947\n",
      "Epoch 11/50\n",
      "91/91 [==============================] - 0s 2ms/step - loss: 102.4562 - mse: 102.4562 - val_loss: 37.9293 - val_mse: 37.9293\n",
      "Epoch 12/50\n",
      "91/91 [==============================] - 0s 3ms/step - loss: 82.1726 - mse: 82.1726 - val_loss: 40.5639 - val_mse: 40.5639\n",
      "Epoch 13/50\n",
      "91/91 [==============================] - 0s 2ms/step - loss: 87.6704 - mse: 87.6704 - val_loss: 44.2140 - val_mse: 44.2140\n",
      "Epoch 14/50\n",
      "91/91 [==============================] - 0s 2ms/step - loss: 78.5012 - mse: 78.5012 - val_loss: 45.7600 - val_mse: 45.7600\n",
      "Epoch 15/50\n",
      "91/91 [==============================] - 0s 2ms/step - loss: 79.9321 - mse: 79.9321 - val_loss: 49.1947 - val_mse: 49.1947\n",
      "Epoch 16/50\n",
      "91/91 [==============================] - 0s 2ms/step - loss: 77.5219 - mse: 77.5219 - val_loss: 50.1959 - val_mse: 50.1959\n",
      "Epoch 17/50\n",
      "91/91 [==============================] - 0s 2ms/step - loss: 81.6558 - mse: 81.6558 - val_loss: 51.9666 - val_mse: 51.9666\n",
      "Epoch 18/50\n",
      "91/91 [==============================] - 0s 3ms/step - loss: 71.3135 - mse: 71.3135 - val_loss: 52.7132 - val_mse: 52.7132\n",
      "Epoch 19/50\n",
      "91/91 [==============================] - 0s 2ms/step - loss: 74.0478 - mse: 74.0478 - val_loss: 53.6182 - val_mse: 53.6182\n",
      "Epoch 20/50\n",
      "91/91 [==============================] - 0s 3ms/step - loss: 75.1183 - mse: 75.1183 - val_loss: 53.0795 - val_mse: 53.0795\n",
      "Epoch 21/50\n",
      "91/91 [==============================] - 0s 3ms/step - loss: 76.2239 - mse: 76.2239 - val_loss: 53.4981 - val_mse: 53.4981\n",
      "Epoch 22/50\n",
      "91/91 [==============================] - 0s 3ms/step - loss: 75.4677 - mse: 75.4677 - val_loss: 54.6184 - val_mse: 54.6183\n",
      "Epoch 23/50\n",
      "91/91 [==============================] - 0s 2ms/step - loss: 74.1901 - mse: 74.1901 - val_loss: 54.1926 - val_mse: 54.1926\n",
      "Epoch 24/50\n",
      "91/91 [==============================] - 0s 2ms/step - loss: 76.2641 - mse: 76.2641 - val_loss: 54.8353 - val_mse: 54.8353\n",
      "Epoch 25/50\n",
      "91/91 [==============================] - 0s 2ms/step - loss: 72.2928 - mse: 72.2928 - val_loss: 55.2496 - val_mse: 55.2496\n",
      "Epoch 26/50\n",
      "91/91 [==============================] - 0s 2ms/step - loss: 74.5036 - mse: 74.5036 - val_loss: 55.1139 - val_mse: 55.1139\n",
      "Epoch 27/50\n",
      "91/91 [==============================] - 0s 2ms/step - loss: 74.1959 - mse: 74.1959 - val_loss: 54.9135 - val_mse: 54.9135\n",
      "Epoch 28/50\n",
      "91/91 [==============================] - 0s 2ms/step - loss: 71.6850 - mse: 71.6850 - val_loss: 57.2226 - val_mse: 57.2226\n",
      "Epoch 29/50\n",
      "91/91 [==============================] - 0s 2ms/step - loss: 75.9251 - mse: 75.9251 - val_loss: 55.1138 - val_mse: 55.1138\n",
      "Epoch 30/50\n",
      "91/91 [==============================] - 0s 2ms/step - loss: 66.3518 - mse: 66.3518 - val_loss: 56.1809 - val_mse: 56.1809\n",
      "Epoch 31/50\n",
      "91/91 [==============================] - 0s 2ms/step - loss: 75.2479 - mse: 75.2479 - val_loss: 57.2218 - val_mse: 57.2218\n",
      "Epoch 32/50\n",
      "91/91 [==============================] - 0s 2ms/step - loss: 76.9982 - mse: 76.9982 - val_loss: 58.1066 - val_mse: 58.1066\n",
      "Epoch 33/50\n",
      "91/91 [==============================] - 0s 2ms/step - loss: 73.4166 - mse: 73.4166 - val_loss: 57.9435 - val_mse: 57.9435\n",
      "Epoch 34/50\n",
      "91/91 [==============================] - 0s 2ms/step - loss: 76.2616 - mse: 76.2616 - val_loss: 58.8832 - val_mse: 58.8832\n",
      "Epoch 35/50\n",
      "91/91 [==============================] - 0s 2ms/step - loss: 72.9725 - mse: 72.9725 - val_loss: 59.0980 - val_mse: 59.0980\n",
      "Epoch 36/50\n",
      "91/91 [==============================] - 0s 2ms/step - loss: 59.7057 - mse: 59.7057 - val_loss: 59.4055 - val_mse: 59.4055\n",
      "Epoch 37/50\n",
      "91/91 [==============================] - 0s 2ms/step - loss: 79.4919 - mse: 79.4919 - val_loss: 59.7907 - val_mse: 59.7907\n",
      "Epoch 38/50\n",
      "91/91 [==============================] - 0s 2ms/step - loss: 74.5255 - mse: 74.5255 - val_loss: 61.3601 - val_mse: 61.3601\n",
      "Epoch 39/50\n",
      "91/91 [==============================] - 0s 2ms/step - loss: 71.4219 - mse: 71.4219 - val_loss: 62.3582 - val_mse: 62.3582\n",
      "Epoch 40/50\n",
      "91/91 [==============================] - 0s 2ms/step - loss: 71.9652 - mse: 71.9652 - val_loss: 63.8748 - val_mse: 63.8748\n",
      "Epoch 41/50\n",
      "91/91 [==============================] - 0s 3ms/step - loss: 74.1148 - mse: 74.1148 - val_loss: 64.2174 - val_mse: 64.2174\n",
      "Epoch 42/50\n",
      "91/91 [==============================] - 0s 2ms/step - loss: 71.7042 - mse: 71.7042 - val_loss: 64.5204 - val_mse: 64.5204\n",
      "Epoch 43/50\n",
      "91/91 [==============================] - 0s 2ms/step - loss: 65.3409 - mse: 65.3409 - val_loss: 65.1689 - val_mse: 65.1689\n",
      "Epoch 44/50\n",
      "91/91 [==============================] - 0s 2ms/step - loss: 65.7072 - mse: 65.7072 - val_loss: 64.7949 - val_mse: 64.7949\n",
      "Epoch 45/50\n",
      "32/91 [=========>....................] - ETA: 0s - loss: 84.6706 - mse: 84.6706WARNING:tensorflow:Your input ran out of data; interrupting training. Make sure that your dataset or generator can generate at least `steps_per_epoch * epochs` batches (in this case, 4550.0 batches). You may need to use the repeat() function when building your dataset.\n",
      "91/91 [==============================] - 0s 2ms/step - loss: 83.3291 - mse: 83.3291 - val_loss: 67.0433 - val_mse: 67.0433\n",
      "2/2 [==============================] - 0s 4ms/step - loss: 49.6758 - mse: 49.6758\n",
      "[49.675811767578125, 49.675811767578125]\n"
     ]
    }
   ],
   "source": [
    "from keras.optimizers import Adam  # learning_rate=0.001\n",
    "\n",
    "model = Sequential()\n",
    "model.add(Dense(units=56, input_dim=len(X_train.columns), activation='relu'\n",
    "               , kernel_initializer='glorot_normal'  #--  Xavier:1/root(N)\n",
    "               ))\n",
    "model.add(Dense(units=24 , activation='relu'))\n",
    "model.add(Dense(units=26 , activation='relu', kernel_initializer='glorot_normal'))\n",
    "model.add(Dense(units=12 , activation='relu'))\n",
    "model.add(Dense(units=8  , activation='relu'))\n",
    "model.add(Dense(units=4  , activation='relu'))\n",
    "model.add(Dense(units=1  ))  #-----------------회귀 : y^ = wx+b\n",
    "#model.compile(loss=\"mean_squared_error\", optimizer=\"adam\", metrics=\"mse\")\n",
    "model.compile(loss=\"mean_squared_error\", optimizer=Adam(learning_rate=0.00001), metrics=\"mse\") #----------l o m\n",
    "model.fit(x=X,y=y,validation_split=0.2,epochs=50,batch_size=5, steps_per_epoch=455/5)\n",
    "print(model.evaluate(X_test, y_test) )"
   ]
  },
  {
   "cell_type": "markdown",
   "id": "48bfb0d6-cf45-4644-97a6-340017f8563c",
   "metadata": {},
   "source": [
    "## evaluate()"
   ]
  },
  {
   "cell_type": "code",
   "execution_count": 31,
   "id": "4a69079b-a002-4a50-9c03-060e7e5287b6",
   "metadata": {
    "tags": []
   },
   "outputs": [
    {
     "name": "stdout",
     "output_type": "stream",
     "text": [
      "2/2 [==============================] - 0s 4ms/step - loss: 49.6758 - mse: 49.6758\n"
     ]
    },
    {
     "data": {
      "text/plain": [
       "[49.675811767578125, 49.675811767578125]"
      ]
     },
     "execution_count": 31,
     "metadata": {},
     "output_type": "execute_result"
    }
   ],
   "source": [
    "model.evaluate(X_test, y_test) \n",
    "# batch_size=None,\n",
    "# steps=None,"
   ]
  },
  {
   "cell_type": "markdown",
   "id": "7d711868-db02-4411-8dbd-18bde18b6fee",
   "metadata": {},
   "source": [
    "## predict()"
   ]
  },
  {
   "cell_type": "code",
   "execution_count": 32,
   "id": "26bfed6c-5136-46c4-b32b-618190f14d58",
   "metadata": {
    "tags": []
   },
   "outputs": [],
   "source": [
    "# yhat = model.predcit(test_csv)"
   ]
  }
 ],
 "metadata": {
  "kernelspec": {
   "display_name": "Python 3 (ipykernel)",
   "language": "python",
   "name": "python3"
  },
  "language_info": {
   "codemirror_mode": {
    "name": "ipython",
    "version": 3
   },
   "file_extension": ".py",
   "mimetype": "text/x-python",
   "name": "python",
   "nbconvert_exporter": "python",
   "pygments_lexer": "ipython3",
   "version": "3.8.8"
  },
  "toc-autonumbering": true
 },
 "nbformat": 4,
 "nbformat_minor": 5
}
