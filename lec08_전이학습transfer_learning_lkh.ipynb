{
 "cells": [
  {
   "cell_type": "markdown",
   "id": "unlike-munich",
   "metadata": {
    "id": "unlike-munich"
   },
   "source": [
    "# 전이학습 (Transfer Learning)\n",
    "\n",
    "* ref : https://codingcrews.github.io/2019/01/17/cat-dog/\n",
    "* 기존에 잘 알려진 학습 모델을 가져와 사용\n",
    "* CNN + FC (*.weight) 로 구성\n",
    "* CNN 상위 레이어(5%), FC를 수정 후 신규 학습해 사용하는 것이 일반적"
   ]
  },
  {
   "cell_type": "markdown",
   "id": "consecutive-bruce",
   "metadata": {
    "id": "consecutive-bruce"
   },
   "source": [
    "<img width='800' height='400' src = 'https://img1.daumcdn.net/thumb/R1280x0/?scode=mtistory2&fname=https%3A%2F%2Fblog.kakaocdn.net%2Fdn%2FH4rr7%2FbtqvBNchX4H%2FRmikaKBNm2N6VYD9JbI800%2Fimg.png'>"
   ]
  },
  {
   "cell_type": "code",
   "execution_count": null,
   "id": "medieval-upgrade",
   "metadata": {
    "colab": {
     "base_uri": "https://localhost:8080/"
    },
    "executionInfo": {
     "elapsed": 4030,
     "status": "error",
     "timestamp": 1681429413135,
     "user": {
      "displayName": "OPENCV KOREA",
      "userId": "03832798034950049293"
     },
     "user_tz": -540
    },
    "id": "medieval-upgrade",
    "outputId": "f9e144b5-51cd-4e6b-b928-7c5b15de78cc"
   },
   "outputs": [
    {
     "ename": "ImportError",
     "errorDetails": {
      "actions": [
       {
        "action": "open_url",
        "actionText": "Open Examples",
        "url": "/notebooks/snippets/importing_libraries.ipynb"
       }
      ]
     },
     "evalue": "ignored",
     "output_type": "error",
     "traceback": [
      "\u001b[0;31m---------------------------------------------------------------------------\u001b[0m",
      "\u001b[0;31mImportError\u001b[0m                               Traceback (most recent call last)",
      "\u001b[0;32m<ipython-input-1-be95d6104957>\u001b[0m in \u001b[0;36m<cell line: 7>\u001b[0;34m()\u001b[0m\n\u001b[1;32m      5\u001b[0m \u001b[0;32mfrom\u001b[0m \u001b[0mkeras\u001b[0m\u001b[0;34m.\u001b[0m\u001b[0mdatasets\u001b[0m \u001b[0;32mimport\u001b[0m \u001b[0mfashion_mnist\u001b[0m\u001b[0;34m\u001b[0m\u001b[0;34m\u001b[0m\u001b[0m\n\u001b[1;32m      6\u001b[0m \u001b[0;32mfrom\u001b[0m \u001b[0mkeras\u001b[0m\u001b[0;34m.\u001b[0m\u001b[0mcallbacks\u001b[0m \u001b[0;32mimport\u001b[0m \u001b[0mEarlyStopping\u001b[0m\u001b[0;34m,\u001b[0m \u001b[0mModelCheckpoint\u001b[0m\u001b[0;34m\u001b[0m\u001b[0;34m\u001b[0m\u001b[0m\n\u001b[0;32m----> 7\u001b[0;31m \u001b[0;32mfrom\u001b[0m \u001b[0mkeras\u001b[0m\u001b[0;34m.\u001b[0m\u001b[0mpreprocessing\u001b[0m\u001b[0;34m.\u001b[0m\u001b[0mimage\u001b[0m \u001b[0;32mimport\u001b[0m \u001b[0marray_to_img\u001b[0m\u001b[0;34m\u001b[0m\u001b[0;34m\u001b[0m\u001b[0m\n\u001b[0m\u001b[1;32m      8\u001b[0m \u001b[0;34m\u001b[0m\u001b[0m\n\u001b[1;32m      9\u001b[0m \u001b[0;32mfrom\u001b[0m \u001b[0msklearn\u001b[0m\u001b[0;34m.\u001b[0m\u001b[0mpreprocessing\u001b[0m \u001b[0;32mimport\u001b[0m \u001b[0mLabelEncoder\u001b[0m\u001b[0;34m,\u001b[0m \u001b[0mOneHotEncoder\u001b[0m\u001b[0;34m\u001b[0m\u001b[0;34m\u001b[0m\u001b[0m\n",
      "\u001b[0;31mImportError\u001b[0m: cannot import name 'array_to_img' from 'keras.preprocessing.image' (/usr/local/lib/python3.9/dist-packages/keras/preprocessing/image.py)",
      "",
      "\u001b[0;31m---------------------------------------------------------------------------\u001b[0;32m\nNOTE: If your import is failing due to a missing package, you can\nmanually install dependencies using either !pip or !apt.\n\nTo view examples of installing some common dependencies, click the\n\"Open Examples\" button below.\n\u001b[0;31m---------------------------------------------------------------------------\u001b[0m\n"
     ]
    }
   ],
   "source": [
    "import tensorflow as tf\n",
    "from keras.models import Sequential, Model\n",
    "from keras.layers import Dense, Input, Conv2D, MaxPooling2D, Dropout, Flatten, GlobalMaxPooling2D, AveragePooling2D\n",
    "from keras.utils import to_categorical\n",
    "from keras.datasets import fashion_mnist\n",
    "from keras.callbacks import EarlyStopping, ModelCheckpoint\n",
    "from keras.preprocessing.image import array_to_img\n",
    "\n",
    "from sklearn.preprocessing import LabelEncoder, OneHotEncoder\n",
    "from sklearn.model_selection import train_test_split\n",
    "\n",
    "import pandas as pd\n",
    "import numpy as np\n",
    "import matplotlib.pyplot as plt\n",
    "\n",
    "import warnings\n",
    "warnings.filterwarnings(action='ignore')"
   ]
  },
  {
   "cell_type": "code",
   "execution_count": null,
   "id": "rising-algebra",
   "metadata": {
    "id": "rising-algebra"
   },
   "outputs": [],
   "source": [
    "np.random.seed(121)\n",
    "tf.random.set_seed(121)"
   ]
  },
  {
   "cell_type": "markdown",
   "id": "documentary-engineer",
   "metadata": {
    "id": "documentary-engineer"
   },
   "source": [
    "## 이지지 준비\n",
    "* 이후 이미지 증강(Augmentation)을 위해 폴더 구조를 아래와 같이 둔다\n",
    "<pre>\n",
    "datasets\n",
    "└── cats_and_dogs_small\n",
    "    ├── test\n",
    "    │   ├── cats\n",
    "    │   │   └── datas...\n",
    "    │   └── dogs\n",
    "    │       └── datas...\n",
    "    └── train\n",
    "        ├── cats\n",
    "        │   └── datas...\n",
    "        └── dogs\n",
    "            └── datas...\n",
    "</pre>"
   ]
  },
  {
   "cell_type": "markdown",
   "id": "sixth-bathroom",
   "metadata": {
    "id": "sixth-bathroom"
   },
   "source": [
    "# 공통 함수"
   ]
  },
  {
   "cell_type": "code",
   "execution_count": null,
   "id": "synthetic-invite",
   "metadata": {
    "id": "synthetic-invite"
   },
   "outputs": [],
   "source": [
    "def myPlot(fit_res) :\n",
    "    key_ = list(fit_res.history.keys())\n",
    "    plt.figure(figsize=(12,5))\n",
    "    for i in range(len(key_)):\n",
    "        plt.plot(fit_res.history[key_[i]], label=key_[i])\n",
    "    plt.title(\"metrics\")\n",
    "    plt.xlabel(\"epoch\")\n",
    "    plt.ylabel(\"score\")\n",
    "    plt.legend()\n",
    "    plt.show()"
   ]
  },
  {
   "cell_type": "code",
   "execution_count": null,
   "id": "varying-converter",
   "metadata": {
    "id": "varying-converter"
   },
   "outputs": [],
   "source": [
    "def myscore(X,y,fit_res=None):\n",
    "    # test_loss, test_acc = model.evaluate(test_images,  test_labels, verbose=1)\n",
    "    # print(f\"loss: {test_loss:.5f} accuracy: {test_acc:.5f}\" )\n",
    "    history = model.evaluate(X,  y, verbose=1)\n",
    "    print(f\"loss: {history[0]:.5f} accuracy: {history[1]:.5f}\" )\n",
    "    if fit_res != None:\n",
    "        myPlot(fit_res)\n",
    "# myscore(test_images,  test_labels, fit_res)"
   ]
  },
  {
   "cell_type": "code",
   "execution_count": null,
   "id": "visible-celebration",
   "metadata": {
    "id": "visible-celebration"
   },
   "outputs": [],
   "source": [
    "def myfit(X, y, SPLIT__=0.1, BATCH_SIZE__=128, EPOCHS__=10, ):\n",
    "    fit_res = model.fit(X, y, batch_size=BATCH_SIZE__, epochs=EPOCHS__, validation_split=SPLIT__)\n",
    "    return fit_res"
   ]
  },
  {
   "cell_type": "code",
   "execution_count": null,
   "id": "continuing-diagnosis",
   "metadata": {
    "id": "continuing-diagnosis"
   },
   "outputs": [],
   "source": [
    "def mypredit_check(test_X, idx=0):\n",
    "    pred = model.predict(test_X)\n",
    "    print(pred[idx])\n",
    "    pred_label = np.argmax(pred[idx])\n",
    "    plt.title(f'{pred_label}, {LABEL_NAME__[pred_label]}')\n",
    "    plt.imshow(test_X[idx])\n",
    "    plt.show()"
   ]
  },
  {
   "cell_type": "markdown",
   "id": "southern-fancy",
   "metadata": {
    "id": "southern-fancy"
   },
   "source": [
    "# 1. CNN Model Build"
   ]
  },
  {
   "cell_type": "code",
   "execution_count": null,
   "id": "straight-twins",
   "metadata": {
    "id": "straight-twins",
    "outputId": "54873e58-383d-4269-c03c-dfa0fcbb3718"
   },
   "outputs": [
    {
     "name": "stdout",
     "output_type": "stream",
     "text": [
      "Model: \"sequential_3\"\n",
      "_________________________________________________________________\n",
      "Layer (type)                 Output Shape              Param #   \n",
      "=================================================================\n",
      "conv2d_3 (Conv2D)            (None, 64, 64, 16)        448       \n",
      "_________________________________________________________________\n",
      "max_pooling2d_3 (MaxPooling2 (None, 32, 32, 16)        0         \n",
      "_________________________________________________________________\n",
      "dropout_3 (Dropout)          (None, 32, 32, 16)        0         \n",
      "_________________________________________________________________\n",
      "conv2d_4 (Conv2D)            (None, 32, 32, 32)        4640      \n",
      "_________________________________________________________________\n",
      "max_pooling2d_4 (MaxPooling2 (None, 16, 16, 32)        0         \n",
      "_________________________________________________________________\n",
      "dropout_4 (Dropout)          (None, 16, 16, 32)        0         \n",
      "_________________________________________________________________\n",
      "conv2d_5 (Conv2D)            (None, 16, 16, 64)        18496     \n",
      "_________________________________________________________________\n",
      "max_pooling2d_5 (MaxPooling2 (None, 8, 8, 64)          0         \n",
      "_________________________________________________________________\n",
      "dropout_5 (Dropout)          (None, 8, 8, 64)          0         \n",
      "_________________________________________________________________\n",
      "flatten_1 (Flatten)          (None, 4096)              0         \n",
      "_________________________________________________________________\n",
      "dense_3 (Dense)              (None, 512)               2097664   \n",
      "_________________________________________________________________\n",
      "dense_4 (Dense)              (None, 256)               131328    \n",
      "_________________________________________________________________\n",
      "dense_5 (Dense)              (None, 2)                 514       \n",
      "=================================================================\n",
      "Total params: 2,253,090\n",
      "Trainable params: 2,253,090\n",
      "Non-trainable params: 0\n",
      "_________________________________________________________________\n"
     ]
    }
   ],
   "source": [
    "from keras.models import Sequential\n",
    "from keras.layers import Conv2D,MaxPooling2D,Dropout,Flatten,Dense\n",
    "from keras import layers\n",
    "model = Sequential()\n",
    "model.add(layers.InputLayer(input_shape=(64, 64, 3)))\n",
    "model.add(layers.Conv2D(16, (3, 3), (1, 1), 'same', activation='relu'))\n",
    "model.add(layers.MaxPooling2D((2, 2)))\n",
    "model.add(layers.Dropout(rate=0.3))\n",
    "\n",
    "model.add(layers.Conv2D(32, (3, 3), (1, 1), 'same', activation='relu'))\n",
    "model.add(layers.MaxPooling2D((2, 2)))\n",
    "model.add(layers.Dropout(rate=0.3))\n",
    "\n",
    "model.add(layers.Conv2D(64, (3, 3), (1, 1), 'same', activation='relu'))\n",
    "model.add(layers.MaxPooling2D((2, 2)))\n",
    "model.add(layers.Dropout(rate=0.3))\n",
    "\n",
    "model.add(layers.Flatten())\n",
    "model.add(layers.Dense(512, activation='relu'))\n",
    "model.add(layers.Dense(256, activation='relu'))\n",
    "model.add(layers.Dense(1, activation='sigmoid'))\n",
    "\n",
    "model.compile( optimizer='adam', loss='binary_crossentropy', metrics=['acc'])\n",
    "model.summary()"
   ]
  },
  {
   "cell_type": "markdown",
   "id": "authorized-daniel",
   "metadata": {
    "id": "authorized-daniel"
   },
   "source": [
    "### 데이터 증강"
   ]
  },
  {
   "cell_type": "code",
   "execution_count": null,
   "id": "fantastic-visiting",
   "metadata": {
    "id": "fantastic-visiting",
    "outputId": "fdd6c633-4678-43e3-9037-53aba337ba52"
   },
   "outputs": [
    {
     "name": "stdout",
     "output_type": "stream",
     "text": [
      "Found 450 images belonging to 2 classes.\n",
      "Found 24 images belonging to 2 classes.\n"
     ]
    }
   ],
   "source": [
    "import os\n",
    "from tensorflow.keras.preprocessing.image import ImageDataGenerator\n",
    "\n",
    "rootPath = './datasets/cats_and_dogs_small'\n",
    "\n",
    "imageGenerator = ImageDataGenerator(\n",
    "    rescale=1./255,\n",
    "    rotation_range=20,\n",
    "    width_shift_range=0.1,\n",
    "    height_shift_range=0.1,\n",
    "    brightness_range=[.2, .2],\n",
    "    horizontal_flip=True,\n",
    "    validation_split=.1\n",
    ")\n",
    "\n",
    "trainGen = imageGenerator.flow_from_directory(\n",
    "    os.path.join(rootPath, 'train'),\n",
    "    target_size=(64, 64),\n",
    "    subset='training'\n",
    ")\n",
    "\n",
    "validationGen = imageGenerator.flow_from_directory(\n",
    "    os.path.join(rootPath, 'test'),\n",
    "    target_size=(64, 64),\n",
    "    subset='validation'\n",
    ")"
   ]
  },
  {
   "cell_type": "code",
   "execution_count": null,
   "id": "existing-romania",
   "metadata": {
    "id": "existing-romania",
    "outputId": "372473fd-6365-42d6-b883-846d926c60ca"
   },
   "outputs": [
    {
     "data": {
      "text/plain": [
       "450"
      ]
     },
     "execution_count": 9,
     "metadata": {},
     "output_type": "execute_result"
    }
   ],
   "source": [
    "trainGen.samples"
   ]
  },
  {
   "cell_type": "markdown",
   "id": "acute-chemical",
   "metadata": {
    "id": "acute-chemical"
   },
   "source": [
    "### 모델 학습"
   ]
  },
  {
   "cell_type": "code",
   "execution_count": null,
   "id": "ranging-cabinet",
   "metadata": {
    "id": "ranging-cabinet"
   },
   "outputs": [],
   "source": [
    "# 모델 저장 폴더\n",
    "import os\n",
    "if not os.path.exists(\"./model\"):\n",
    "    os.mkdir('./model')\n",
    "    \n",
    "filepath = \"./model/{epoch:02d}{val_loss:.3f}.h5\"\n",
    "checkpnt = ModelCheckpoint(filepath, monitor='val_loss', save_best_only=True)\n",
    "estop = EarlyStopping(monitor='val_loss', patience=5)\n"
   ]
  },
  {
   "cell_type": "code",
   "execution_count": null,
   "id": "loving-target",
   "metadata": {
    "id": "loving-target"
   },
   "outputs": [],
   "source": [
    "# myscore(test_images,  test_labels_cate, history)"
   ]
  },
  {
   "cell_type": "code",
   "execution_count": null,
   "id": "general-shopping",
   "metadata": {
    "id": "general-shopping",
    "outputId": "f7f5f770-a15c-4c8d-b2d8-9ca7cd64b5d1"
   },
   "outputs": [
    {
     "name": "stdout",
     "output_type": "stream",
     "text": [
      "Epoch 1/45\n",
      "10/10 [==============================] - ETA: 0s - loss: 0.6924 - acc: 0.5724WARNING:tensorflow:Your input ran out of data; interrupting training. Make sure that your dataset or generator can generate at least `steps_per_epoch * epochs` batches (in this case, 10.0 batches). You may need to use the repeat() function when building your dataset.\n",
      "10/10 [==============================] - 2s 151ms/step - loss: 0.6924 - acc: 0.5724 - val_loss: 0.6902 - val_acc: 0.7083\n",
      "Epoch 2/45\n",
      "10/10 [==============================] - ETA: 0s - loss: 0.6942 - acc: 0.4759WARNING:tensorflow:Your input ran out of data; interrupting training. Make sure that your dataset or generator can generate at least `steps_per_epoch * epochs` batches (in this case, 10.0 batches). You may need to use the repeat() function when building your dataset.\n",
      "10/10 [==============================] - 2s 152ms/step - loss: 0.6942 - acc: 0.4759 - val_loss: 0.6734 - val_acc: 0.7083\n",
      "Epoch 3/45\n",
      "10/10 [==============================] - ETA: 0s - loss: 0.6948 - acc: 0.4906WARNING:tensorflow:Your input ran out of data; interrupting training. Make sure that your dataset or generator can generate at least `steps_per_epoch * epochs` batches (in this case, 10.0 batches). You may need to use the repeat() function when building your dataset.\n",
      "10/10 [==============================] - 2s 178ms/step - loss: 0.6948 - acc: 0.4906 - val_loss: 0.6936 - val_acc: 0.4167\n",
      "Epoch 4/45\n",
      "10/10 [==============================] - ETA: 0s - loss: 0.6939 - acc: 0.4828WARNING:tensorflow:Your input ran out of data; interrupting training. Make sure that your dataset or generator can generate at least `steps_per_epoch * epochs` batches (in this case, 10.0 batches). You may need to use the repeat() function when building your dataset.\n",
      "10/10 [==============================] - 2s 152ms/step - loss: 0.6939 - acc: 0.4828 - val_loss: 0.6993 - val_acc: 0.2917\n",
      "Epoch 5/45\n",
      "10/10 [==============================] - ETA: 0s - loss: 0.6904 - acc: 0.5931WARNING:tensorflow:Your input ran out of data; interrupting training. Make sure that your dataset or generator can generate at least `steps_per_epoch * epochs` batches (in this case, 10.0 batches). You may need to use the repeat() function when building your dataset.\n",
      "10/10 [==============================] - 2s 153ms/step - loss: 0.6904 - acc: 0.5931 - val_loss: 0.6896 - val_acc: 0.5833\n",
      "Epoch 6/45\n",
      "10/10 [==============================] - ETA: 0s - loss: 0.6886 - acc: 0.5125WARNING:tensorflow:Your input ran out of data; interrupting training. Make sure that your dataset or generator can generate at least `steps_per_epoch * epochs` batches (in this case, 10.0 batches). You may need to use the repeat() function when building your dataset.\n",
      "10/10 [==============================] - 2s 164ms/step - loss: 0.6886 - acc: 0.5125 - val_loss: 0.6878 - val_acc: 0.5417\n",
      "Epoch 7/45\n",
      "10/10 [==============================] - ETA: 0s - loss: 0.6810 - acc: 0.5813WARNING:tensorflow:Your input ran out of data; interrupting training. Make sure that your dataset or generator can generate at least `steps_per_epoch * epochs` batches (in this case, 10.0 batches). You may need to use the repeat() function when building your dataset.\n",
      "10/10 [==============================] - 2s 180ms/step - loss: 0.6810 - acc: 0.5813 - val_loss: 0.6876 - val_acc: 0.4583\n",
      "Epoch 8/45\n",
      "10/10 [==============================] - ETA: 0s - loss: 0.6996 - acc: 0.5414WARNING:tensorflow:Your input ran out of data; interrupting training. Make sure that your dataset or generator can generate at least `steps_per_epoch * epochs` batches (in this case, 10.0 batches). You may need to use the repeat() function when building your dataset.\n",
      "10/10 [==============================] - 2s 159ms/step - loss: 0.6996 - acc: 0.5414 - val_loss: 0.6135 - val_acc: 0.7083\n",
      "Epoch 9/45\n",
      "10/10 [==============================] - ETA: 0s - loss: 0.6718 - acc: 0.6000WARNING:tensorflow:Your input ran out of data; interrupting training. Make sure that your dataset or generator can generate at least `steps_per_epoch * epochs` batches (in this case, 10.0 batches). You may need to use the repeat() function when building your dataset.\n",
      "10/10 [==============================] - 2s 171ms/step - loss: 0.6718 - acc: 0.6000 - val_loss: 0.6937 - val_acc: 0.4167\n",
      "Epoch 10/45\n",
      "10/10 [==============================] - ETA: 0s - loss: 0.6745 - acc: 0.6406WARNING:tensorflow:Your input ran out of data; interrupting training. Make sure that your dataset or generator can generate at least `steps_per_epoch * epochs` batches (in this case, 10.0 batches). You may need to use the repeat() function when building your dataset.\n",
      "10/10 [==============================] - 2s 165ms/step - loss: 0.6745 - acc: 0.6406 - val_loss: 0.6510 - val_acc: 0.7500\n",
      "Epoch 11/45\n",
      "10/10 [==============================] - ETA: 0s - loss: 0.6509 - acc: 0.6250WARNING:tensorflow:Your input ran out of data; interrupting training. Make sure that your dataset or generator can generate at least `steps_per_epoch * epochs` batches (in this case, 10.0 batches). You may need to use the repeat() function when building your dataset.\n",
      "10/10 [==============================] - 2s 170ms/step - loss: 0.6509 - acc: 0.6250 - val_loss: 0.6326 - val_acc: 0.5000\n",
      "Epoch 12/45\n",
      "10/10 [==============================] - ETA: 0s - loss: 0.6642 - acc: 0.6250WARNING:tensorflow:Your input ran out of data; interrupting training. Make sure that your dataset or generator can generate at least `steps_per_epoch * epochs` batches (in this case, 10.0 batches). You may need to use the repeat() function when building your dataset.\n",
      "10/10 [==============================] - 2s 164ms/step - loss: 0.6642 - acc: 0.6250 - val_loss: 0.7841 - val_acc: 0.3333\n",
      "Epoch 13/45\n",
      "10/10 [==============================] - ETA: 0s - loss: 0.6664 - acc: 0.5750WARNING:tensorflow:Your input ran out of data; interrupting training. Make sure that your dataset or generator can generate at least `steps_per_epoch * epochs` batches (in this case, 10.0 batches). You may need to use the repeat() function when building your dataset.\n",
      "10/10 [==============================] - 2s 169ms/step - loss: 0.6664 - acc: 0.5750 - val_loss: 0.6035 - val_acc: 0.7917\n",
      "Epoch 14/45\n",
      "10/10 [==============================] - ETA: 0s - loss: 0.6589 - acc: 0.6379WARNING:tensorflow:Your input ran out of data; interrupting training. Make sure that your dataset or generator can generate at least `steps_per_epoch * epochs` batches (in this case, 10.0 batches). You may need to use the repeat() function when building your dataset.\n",
      "10/10 [==============================] - 2s 165ms/step - loss: 0.6589 - acc: 0.6379 - val_loss: 0.5823 - val_acc: 0.7500\n",
      "Epoch 15/45\n",
      "10/10 [==============================] - ETA: 0s - loss: 0.6707 - acc: 0.5719WARNING:tensorflow:Your input ran out of data; interrupting training. Make sure that your dataset or generator can generate at least `steps_per_epoch * epochs` batches (in this case, 10.0 batches). You may need to use the repeat() function when building your dataset.\n",
      "10/10 [==============================] - 2s 170ms/step - loss: 0.6707 - acc: 0.5719 - val_loss: 0.6954 - val_acc: 0.4583\n",
      "Epoch 16/45\n",
      "10/10 [==============================] - ETA: 0s - loss: 0.6531 - acc: 0.6172WARNING:tensorflow:Your input ran out of data; interrupting training. Make sure that your dataset or generator can generate at least `steps_per_epoch * epochs` batches (in this case, 10.0 batches). You may need to use the repeat() function when building your dataset.\n",
      "10/10 [==============================] - 2s 156ms/step - loss: 0.6531 - acc: 0.6172 - val_loss: 0.5930 - val_acc: 0.7500\n",
      "Epoch 17/45\n",
      "10/10 [==============================] - ETA: 0s - loss: 0.6396 - acc: 0.6781WARNING:tensorflow:Your input ran out of data; interrupting training. Make sure that your dataset or generator can generate at least `steps_per_epoch * epochs` batches (in this case, 10.0 batches). You may need to use the repeat() function when building your dataset.\n",
      "10/10 [==============================] - 2s 171ms/step - loss: 0.6396 - acc: 0.6781 - val_loss: 0.6823 - val_acc: 0.5000\n",
      "Epoch 18/45\n",
      "10/10 [==============================] - ETA: 0s - loss: 0.6772 - acc: 0.5828WARNING:tensorflow:Your input ran out of data; interrupting training. Make sure that your dataset or generator can generate at least `steps_per_epoch * epochs` batches (in this case, 10.0 batches). You may need to use the repeat() function when building your dataset.\n",
      "10/10 [==============================] - 2s 158ms/step - loss: 0.6772 - acc: 0.5828 - val_loss: 0.6630 - val_acc: 0.7083\n",
      "Epoch 19/45\n",
      "10/10 [==============================] - ETA: 0s - loss: 0.6917 - acc: 0.5138WARNING:tensorflow:Your input ran out of data; interrupting training. Make sure that your dataset or generator can generate at least `steps_per_epoch * epochs` batches (in this case, 10.0 batches). You may need to use the repeat() function when building your dataset.\n",
      "10/10 [==============================] - 2s 158ms/step - loss: 0.6917 - acc: 0.5138 - val_loss: 0.6655 - val_acc: 0.7083\n",
      "Epoch 20/45\n",
      "10/10 [==============================] - ETA: 0s - loss: 0.6850 - acc: 0.5483WARNING:tensorflow:Your input ran out of data; interrupting training. Make sure that your dataset or generator can generate at least `steps_per_epoch * epochs` batches (in this case, 10.0 batches). You may need to use the repeat() function when building your dataset.\n",
      "10/10 [==============================] - 2s 185ms/step - loss: 0.6850 - acc: 0.5483 - val_loss: 0.7092 - val_acc: 0.3333\n",
      "Epoch 21/45\n",
      "10/10 [==============================] - ETA: 0s - loss: 0.6841 - acc: 0.5276WARNING:tensorflow:Your input ran out of data; interrupting training. Make sure that your dataset or generator can generate at least `steps_per_epoch * epochs` batches (in this case, 10.0 batches). You may need to use the repeat() function when building your dataset.\n",
      "10/10 [==============================] - 2s 203ms/step - loss: 0.6841 - acc: 0.5276 - val_loss: 0.7392 - val_acc: 0.3333\n",
      "Epoch 22/45\n",
      "10/10 [==============================] - ETA: 0s - loss: 0.6615 - acc: 0.7000WARNING:tensorflow:Your input ran out of data; interrupting training. Make sure that your dataset or generator can generate at least `steps_per_epoch * epochs` batches (in this case, 10.0 batches). You may need to use the repeat() function when building your dataset.\n",
      "10/10 [==============================] - 2s 172ms/step - loss: 0.6615 - acc: 0.7000 - val_loss: 0.6893 - val_acc: 0.5833\n",
      "Epoch 23/45\n",
      "10/10 [==============================] - ETA: 0s - loss: 0.6634 - acc: 0.6172WARNING:tensorflow:Your input ran out of data; interrupting training. Make sure that your dataset or generator can generate at least `steps_per_epoch * epochs` batches (in this case, 10.0 batches). You may need to use the repeat() function when building your dataset.\n",
      "10/10 [==============================] - 2s 176ms/step - loss: 0.6634 - acc: 0.6172 - val_loss: 0.5818 - val_acc: 0.7500\n",
      "Epoch 24/45\n",
      "10/10 [==============================] - ETA: 0s - loss: 0.6625 - acc: 0.6034WARNING:tensorflow:Your input ran out of data; interrupting training. Make sure that your dataset or generator can generate at least `steps_per_epoch * epochs` batches (in this case, 10.0 batches). You may need to use the repeat() function when building your dataset.\n",
      "10/10 [==============================] - 2s 160ms/step - loss: 0.6625 - acc: 0.6034 - val_loss: 0.7603 - val_acc: 0.4583\n",
      "Epoch 25/45\n",
      "10/10 [==============================] - ETA: 0s - loss: 0.6301 - acc: 0.6793WARNING:tensorflow:Your input ran out of data; interrupting training. Make sure that your dataset or generator can generate at least `steps_per_epoch * epochs` batches (in this case, 10.0 batches). You may need to use the repeat() function when building your dataset.\n",
      "10/10 [==============================] - 2s 170ms/step - loss: 0.6301 - acc: 0.6793 - val_loss: 0.6180 - val_acc: 0.7083\n",
      "Epoch 26/45\n",
      "10/10 [==============================] - ETA: 0s - loss: 0.6140 - acc: 0.6750WARNING:tensorflow:Your input ran out of data; interrupting training. Make sure that your dataset or generator can generate at least `steps_per_epoch * epochs` batches (in this case, 10.0 batches). You may need to use the repeat() function when building your dataset.\n",
      "10/10 [==============================] - 2s 175ms/step - loss: 0.6140 - acc: 0.6750 - val_loss: 0.6697 - val_acc: 0.7083\n",
      "Epoch 27/45\n",
      "10/10 [==============================] - ETA: 0s - loss: 0.5949 - acc: 0.6655WARNING:tensorflow:Your input ran out of data; interrupting training. Make sure that your dataset or generator can generate at least `steps_per_epoch * epochs` batches (in this case, 10.0 batches). You may need to use the repeat() function when building your dataset.\n",
      "10/10 [==============================] - 2s 160ms/step - loss: 0.5949 - acc: 0.6655 - val_loss: 0.5420 - val_acc: 0.7500\n",
      "Epoch 28/45\n",
      "10/10 [==============================] - ETA: 0s - loss: 0.6707 - acc: 0.6379WARNING:tensorflow:Your input ran out of data; interrupting training. Make sure that your dataset or generator can generate at least `steps_per_epoch * epochs` batches (in this case, 10.0 batches). You may need to use the repeat() function when building your dataset.\n",
      "10/10 [==============================] - 2s 161ms/step - loss: 0.6707 - acc: 0.6379 - val_loss: 0.5784 - val_acc: 0.7500\n",
      "Epoch 29/45\n",
      "10/10 [==============================] - ETA: 0s - loss: 0.6416 - acc: 0.6172WARNING:tensorflow:Your input ran out of data; interrupting training. Make sure that your dataset or generator can generate at least `steps_per_epoch * epochs` batches (in this case, 10.0 batches). You may need to use the repeat() function when building your dataset.\n",
      "10/10 [==============================] - 2s 174ms/step - loss: 0.6416 - acc: 0.6172 - val_loss: 0.6198 - val_acc: 0.7083\n",
      "Epoch 30/45\n",
      "10/10 [==============================] - ETA: 0s - loss: 0.6676 - acc: 0.5938WARNING:tensorflow:Your input ran out of data; interrupting training. Make sure that your dataset or generator can generate at least `steps_per_epoch * epochs` batches (in this case, 10.0 batches). You may need to use the repeat() function when building your dataset.\n",
      "10/10 [==============================] - 2s 194ms/step - loss: 0.6676 - acc: 0.5938 - val_loss: 0.8430 - val_acc: 0.4583\n",
      "Epoch 31/45\n",
      "10/10 [==============================] - ETA: 0s - loss: 0.6379 - acc: 0.6310WARNING:tensorflow:Your input ran out of data; interrupting training. Make sure that your dataset or generator can generate at least `steps_per_epoch * epochs` batches (in this case, 10.0 batches). You may need to use the repeat() function when building your dataset.\n",
      "10/10 [==============================] - 2s 180ms/step - loss: 0.6379 - acc: 0.6310 - val_loss: 0.6717 - val_acc: 0.5833\n",
      "Epoch 32/45\n",
      "10/10 [==============================] - ETA: 0s - loss: 0.6534 - acc: 0.6241WARNING:tensorflow:Your input ran out of data; interrupting training. Make sure that your dataset or generator can generate at least `steps_per_epoch * epochs` batches (in this case, 10.0 batches). You may need to use the repeat() function when building your dataset.\n",
      "10/10 [==============================] - 2s 174ms/step - loss: 0.6534 - acc: 0.6241 - val_loss: 0.6030 - val_acc: 0.7083\n",
      "Epoch 33/45\n",
      "10/10 [==============================] - ETA: 0s - loss: 0.6833 - acc: 0.5125WARNING:tensorflow:Your input ran out of data; interrupting training. Make sure that your dataset or generator can generate at least `steps_per_epoch * epochs` batches (in this case, 10.0 batches). You may need to use the repeat() function when building your dataset.\n",
      "10/10 [==============================] - 2s 176ms/step - loss: 0.6833 - acc: 0.5125 - val_loss: 0.6298 - val_acc: 0.6667\n",
      "Epoch 34/45\n",
      "10/10 [==============================] - ETA: 0s - loss: 0.6334 - acc: 0.6517WARNING:tensorflow:Your input ran out of data; interrupting training. Make sure that your dataset or generator can generate at least `steps_per_epoch * epochs` batches (in this case, 10.0 batches). You may need to use the repeat() function when building your dataset.\n",
      "10/10 [==============================] - 2s 171ms/step - loss: 0.6334 - acc: 0.6517 - val_loss: 0.7727 - val_acc: 0.4583\n",
      "Epoch 35/45\n",
      "10/10 [==============================] - ETA: 0s - loss: 0.6300 - acc: 0.6531WARNING:tensorflow:Your input ran out of data; interrupting training. Make sure that your dataset or generator can generate at least `steps_per_epoch * epochs` batches (in this case, 10.0 batches). You may need to use the repeat() function when building your dataset.\n",
      "10/10 [==============================] - 2s 184ms/step - loss: 0.6300 - acc: 0.6531 - val_loss: 0.5457 - val_acc: 0.7917\n",
      "Epoch 36/45\n",
      " 9/10 [==========================>...] - ETA: 0s - loss: 0.6700 - acc: 0.5625WARNING:tensorflow:Your input ran out of data; interrupting training. Make sure that your dataset or generator can generate at least `steps_per_epoch * epochs` batches (in this case, 10.0 batches). You may need to use the repeat() function when building your dataset.\n",
      "10/10 [==============================] - 2s 171ms/step - loss: 0.6703 - acc: 0.5621 - val_loss: 0.6275 - val_acc: 0.6667\n",
      "Epoch 37/45\n",
      "10/10 [==============================] - ETA: 0s - loss: 0.6081 - acc: 0.7207WARNING:tensorflow:Your input ran out of data; interrupting training. Make sure that your dataset or generator can generate at least `steps_per_epoch * epochs` batches (in this case, 10.0 batches). You may need to use the repeat() function when building your dataset.\n",
      "10/10 [==============================] - 2s 181ms/step - loss: 0.6081 - acc: 0.7207 - val_loss: 0.8347 - val_acc: 0.5000\n",
      "Epoch 38/45\n",
      "10/10 [==============================] - ETA: 0s - loss: 0.6329 - acc: 0.6345WARNING:tensorflow:Your input ran out of data; interrupting training. Make sure that your dataset or generator can generate at least `steps_per_epoch * epochs` batches (in this case, 10.0 batches). You may need to use the repeat() function when building your dataset.\n",
      "10/10 [==============================] - 2s 180ms/step - loss: 0.6329 - acc: 0.6345 - val_loss: 0.6225 - val_acc: 0.6667\n",
      "Epoch 39/45\n",
      "10/10 [==============================] - ETA: 0s - loss: 0.6336 - acc: 0.6406WARNING:tensorflow:Your input ran out of data; interrupting training. Make sure that your dataset or generator can generate at least `steps_per_epoch * epochs` batches (in this case, 10.0 batches). You may need to use the repeat() function when building your dataset.\n",
      "10/10 [==============================] - 2s 189ms/step - loss: 0.6336 - acc: 0.6406 - val_loss: 0.5265 - val_acc: 0.7500\n",
      "Epoch 40/45\n",
      "10/10 [==============================] - ETA: 0s - loss: 0.6372 - acc: 0.5966WARNING:tensorflow:Your input ran out of data; interrupting training. Make sure that your dataset or generator can generate at least `steps_per_epoch * epochs` batches (in this case, 10.0 batches). You may need to use the repeat() function when building your dataset.\n",
      "10/10 [==============================] - 2s 158ms/step - loss: 0.6372 - acc: 0.5966 - val_loss: 0.6087 - val_acc: 0.7917\n",
      "Epoch 41/45\n",
      "10/10 [==============================] - ETA: 0s - loss: 0.6140 - acc: 0.6844WARNING:tensorflow:Your input ran out of data; interrupting training. Make sure that your dataset or generator can generate at least `steps_per_epoch * epochs` batches (in this case, 10.0 batches). You may need to use the repeat() function when building your dataset.\n",
      "10/10 [==============================] - 2s 179ms/step - loss: 0.6140 - acc: 0.6844 - val_loss: 0.6893 - val_acc: 0.5417\n",
      "Epoch 42/45\n",
      "10/10 [==============================] - ETA: 0s - loss: 0.6592 - acc: 0.6034WARNING:tensorflow:Your input ran out of data; interrupting training. Make sure that your dataset or generator can generate at least `steps_per_epoch * epochs` batches (in this case, 10.0 batches). You may need to use the repeat() function when building your dataset.\n",
      "10/10 [==============================] - 2s 184ms/step - loss: 0.6592 - acc: 0.6034 - val_loss: 0.6674 - val_acc: 0.6667\n",
      "Epoch 43/45\n",
      "10/10 [==============================] - ETA: 0s - loss: 0.6262 - acc: 0.6625WARNING:tensorflow:Your input ran out of data; interrupting training. Make sure that your dataset or generator can generate at least `steps_per_epoch * epochs` batches (in this case, 10.0 batches). You may need to use the repeat() function when building your dataset.\n",
      "10/10 [==============================] - 2s 178ms/step - loss: 0.6262 - acc: 0.6625 - val_loss: 0.7047 - val_acc: 0.6667\n",
      "Epoch 44/45\n",
      "10/10 [==============================] - ETA: 0s - loss: 0.5921 - acc: 0.7241WARNING:tensorflow:Your input ran out of data; interrupting training. Make sure that your dataset or generator can generate at least `steps_per_epoch * epochs` batches (in this case, 10.0 batches). You may need to use the repeat() function when building your dataset.\n",
      "10/10 [==============================] - 2s 167ms/step - loss: 0.5921 - acc: 0.7241 - val_loss: 0.8426 - val_acc: 0.4583\n",
      "Epoch 45/45\n",
      "10/10 [==============================] - ETA: 0s - loss: 0.6161 - acc: 0.6310WARNING:tensorflow:Your input ran out of data; interrupting training. Make sure that your dataset or generator can generate at least `steps_per_epoch * epochs` batches (in this case, 10.0 batches). You may need to use the repeat() function when building your dataset.\n",
      "10/10 [==============================] - 2s 157ms/step - loss: 0.6161 - acc: 0.6310 - val_loss: 0.6651 - val_acc: 0.6250\n"
     ]
    }
   ],
   "source": [
    "epochs = 45\n",
    "\n",
    "history = model.fit(    # fit_generator(  deprecated\n",
    "    trainGen, \n",
    "#     callbacks=[checkpnt,estop],\n",
    "    epochs=epochs,\n",
    "    steps_per_epoch=trainGen.samples / epochs, \n",
    "    validation_data=validationGen,\n",
    "    validation_steps=trainGen.samples / epochs,\n",
    ")"
   ]
  },
  {
   "cell_type": "code",
   "execution_count": null,
   "id": "infinite-security",
   "metadata": {
    "id": "infinite-security",
    "outputId": "76c45fec-0325-46a4-ef42-55925c0eadf9"
   },
   "outputs": [
    {
     "data": {
      "image/png": "[encoded data removed]",
      "text/plain": [
       "<Figure size 864x360 with 1 Axes>"
      ]
     },
     "metadata": {
      "needs_background": "light"
     },
     "output_type": "display_data"
    }
   ],
   "source": [
    "myPlot(history)"
   ]
  },
  {
   "cell_type": "markdown",
   "id": "respected-darwin",
   "metadata": {
    "id": "respected-darwin"
   },
   "source": [
    "## 예측 "
   ]
  },
  {
   "cell_type": "code",
   "execution_count": null,
   "id": "short-strengthening",
   "metadata": {
    "id": "short-strengthening",
    "outputId": "c07c30bb-b866-4203-83c5-aee8335c7732"
   },
   "outputs": [
    {
     "name": "stdout",
     "output_type": "stream",
     "text": [
      "Found 240 images belonging to 2 classes.\n"
     ]
    },
    {
     "data": {
      "text/plain": [
       "[0.6021203398704529, 0.6916666626930237]"
      ]
     },
     "execution_count": 38,
     "metadata": {},
     "output_type": "execute_result"
    }
   ],
   "source": [
    "testGenerator = ImageDataGenerator( rescale=1./255 )\n",
    "\n",
    "testGen = imageGenerator.flow_from_directory(\n",
    "    os.path.join(rootPath, 'test'),\n",
    "    target_size=(64, 64),\n",
    ")\n",
    "model.evaluate_generator(testGen)"
   ]
  },
  {
   "cell_type": "markdown",
   "id": "everyday-fusion",
   "metadata": {
    "id": "everyday-fusion"
   },
   "source": [
    "## 예측모델 서비스"
   ]
  },
  {
   "cell_type": "code",
   "execution_count": null,
   "id": "southern-casting",
   "metadata": {
    "id": "southern-casting",
    "outputId": "ea1e314f-06c9-4511-ce30-ebebcdfc33ba"
   },
   "outputs": [
    {
     "name": "stdout",
     "output_type": "stream",
     "text": [
      "예측: 고양이\n",
      "정답: 고양이\n"
     ]
    },
    {
     "data": {
      "image/png": "[encoded data removed]",
      "text/plain": [
       "<Figure size 432x288 with 1 Axes>"
      ]
     },
     "metadata": {
      "needs_background": "light"
     },
     "output_type": "display_data"
    }
   ],
   "source": [
    "cls_index = ['고양이', '개']\n",
    "\n",
    "imgs = testGen.next()\n",
    "arr = imgs[0][0]\n",
    "img = array_to_img(arr).resize((128, 128))\n",
    "plt.imshow(img)\n",
    "result = model.predict_classes(arr.reshape(1, 64, 64, 3))\n",
    "print('예측: {}'.format(cls_index[result[0]]))\n",
    "print('정답: {}'.format(cls_index[np.argmax(imgs[1][0])]))\n"
   ]
  },
  {
   "cell_type": "markdown",
   "id": "egyptian-facial",
   "metadata": {
    "id": "egyptian-facial"
   },
   "source": [
    "# 2. ResNet50 : 학습이 안된 관계로 전이학습 시행\n",
    "* 비교적 가벼운 ResNet50 사용"
   ]
  },
  {
   "cell_type": "markdown",
   "id": "awful-thesaurus",
   "metadata": {
    "id": "awful-thesaurus"
   },
   "source": [
    "<img src='model_compare.png'>"
   ]
  },
  {
   "cell_type": "markdown",
   "id": "academic-essex",
   "metadata": {
    "id": "academic-essex"
   },
   "source": [
    "<img src='https://codingcrews.github.io/2019/01/19/cat-dog-resnet/residual.png'>"
   ]
  },
  {
   "cell_type": "markdown",
   "id": "functional-thursday",
   "metadata": {
    "id": "functional-thursday"
   },
   "source": [
    "## 2-1. 방법1) CNN  +  FC 모두 사용 --> weight는 내 데이터로 학습 (학습 오래걸림)"
   ]
  },
  {
   "cell_type": "code",
   "execution_count": null,
   "id": "dense-sixth",
   "metadata": {
    "id": "dense-sixth",
    "outputId": "828f494f-d2c4-44b2-f7f3-2dfc7c194293"
   },
   "outputs": [
    {
     "name": "stdout",
     "output_type": "stream",
     "text": [
      "Model: \"sequential_4\"\n",
      "_________________________________________________________________\n",
      "Layer (type)                 Output Shape              Param #   \n",
      "=================================================================\n",
      "resnet50 (Functional)        (None, 2)                 23591810  \n",
      "=================================================================\n",
      "Total params: 23,591,810\n",
      "Trainable params: 23,538,690\n",
      "Non-trainable params: 53,120\n",
      "_________________________________________________________________\n"
     ]
    }
   ],
   "source": [
    "from keras.applications import ResNet50\n",
    "model = Sequential()\n",
    "model.add(ResNet50(include_top=True, weights=None, input_shape=(64, 64, 3), classes=2))\n",
    "\n",
    "model.compile(optimizer='adam', loss='binary_crossentropy',  metrics=['acc'])\n",
    "model.summary()"
   ]
  },
  {
   "cell_type": "code",
   "execution_count": null,
   "id": "cleared-collective",
   "metadata": {
    "id": "cleared-collective",
    "outputId": "0cc1cf8d-5759-4124-eeda-b70cc3dbc1b9"
   },
   "outputs": [
    {
     "name": "stdout",
     "output_type": "stream",
     "text": [
      "Epoch 1/45\n",
      "10/10 [==============================] - ETA: 0s - loss: 1.2543 - acc: 0.6010WARNING:tensorflow:Your input ran out of data; interrupting training. Make sure that your dataset or generator can generate at least `steps_per_epoch * epochs` batches (in this case, 10.0 batches). You may need to use the repeat() function when building your dataset.\n",
      "10/10 [==============================] - 21s 2s/step - loss: 1.2608 - acc: 0.5955 - val_loss: 0.6841 - val_acc: 0.7083\n",
      "Epoch 2/45\n",
      "10/10 [==============================] - 12s 1s/step - loss: 1.2179 - acc: 0.5028\n",
      "Epoch 3/45\n",
      "10/10 [==============================] - 12s 1s/step - loss: 0.8475 - acc: 0.5440\n",
      "Epoch 4/45\n",
      "10/10 [==============================] - 12s 1s/step - loss: 0.8203 - acc: 0.5296\n",
      "Epoch 5/45\n",
      "10/10 [==============================] - 12s 1s/step - loss: 1.0366 - acc: 0.5227\n",
      "Epoch 6/45\n",
      "10/10 [==============================] - 12s 1s/step - loss: 1.5462 - acc: 0.5230\n",
      "Epoch 7/45\n",
      "10/10 [==============================] - 12s 1s/step - loss: 1.4290 - acc: 0.4886\n",
      "Epoch 8/45\n",
      "10/10 [==============================] - 13s 1s/step - loss: 1.1693 - acc: 0.5307\n",
      "Epoch 9/45\n",
      "10/10 [==============================] - 12s 1s/step - loss: 1.0962 - acc: 0.5503\n",
      "Epoch 10/45\n",
      "10/10 [==============================] - 12s 1s/step - loss: 1.1827 - acc: 0.5450\n",
      "Epoch 11/45\n",
      "10/10 [==============================] - 12s 1s/step - loss: 0.8141 - acc: 0.5526\n",
      "Epoch 12/45\n",
      "10/10 [==============================] - 11s 1s/step - loss: 1.0660 - acc: 0.5171\n",
      "Epoch 13/45\n",
      "10/10 [==============================] - 11s 1s/step - loss: 0.7648 - acc: 0.5126\n",
      "Epoch 14/45\n",
      "10/10 [==============================] - 11s 1s/step - loss: 0.8123 - acc: 0.5299\n",
      "Epoch 15/45\n",
      "10/10 [==============================] - 13s 1s/step - loss: 1.0171 - acc: 0.5081\n",
      "Epoch 16/45\n",
      "10/10 [==============================] - 12s 1s/step - loss: 0.8714 - acc: 0.5418\n",
      "Epoch 17/45\n",
      "10/10 [==============================] - 13s 1s/step - loss: 0.7732 - acc: 0.5669\n",
      "Epoch 18/45\n",
      "10/10 [==============================] - 11s 1s/step - loss: 0.6195 - acc: 0.7166\n",
      "Epoch 19/45\n",
      "10/10 [==============================] - 11s 1s/step - loss: 0.6748 - acc: 0.6586\n",
      "Epoch 20/45\n",
      "10/10 [==============================] - 12s 1s/step - loss: 0.6639 - acc: 0.5949\n",
      "Epoch 21/45\n",
      "10/10 [==============================] - 13s 1s/step - loss: 0.6051 - acc: 0.6910\n",
      "Epoch 22/45\n",
      "10/10 [==============================] - 11s 1s/step - loss: 0.6634 - acc: 0.7211\n",
      "Epoch 23/45\n",
      "10/10 [==============================] - 12s 1s/step - loss: 0.8912 - acc: 0.5877\n",
      "Epoch 24/45\n",
      "10/10 [==============================] - 13s 1s/step - loss: 0.6854 - acc: 0.6469\n",
      "Epoch 25/45\n",
      "10/10 [==============================] - 12s 1s/step - loss: 0.8141 - acc: 0.5074\n",
      "Epoch 26/45\n",
      "10/10 [==============================] - 15s 1s/step - loss: 0.7693 - acc: 0.5715\n",
      "Epoch 27/45\n",
      "10/10 [==============================] - 13s 1s/step - loss: 0.7440 - acc: 0.4663\n",
      "Epoch 28/45\n",
      "10/10 [==============================] - 13s 1s/step - loss: 0.8351 - acc: 0.4617\n",
      "Epoch 29/45\n",
      "10/10 [==============================] - 13s 1s/step - loss: 0.7716 - acc: 0.5025\n",
      "Epoch 30/45\n",
      "10/10 [==============================] - 13s 1s/step - loss: 0.9749 - acc: 0.5386\n",
      "Epoch 31/45\n",
      "10/10 [==============================] - 13s 1s/step - loss: 0.6832 - acc: 0.6224\n",
      "Epoch 32/45\n",
      "10/10 [==============================] - 13s 1s/step - loss: 0.6626 - acc: 0.6499\n",
      "Epoch 33/45\n",
      "10/10 [==============================] - 13s 1s/step - loss: 0.7921 - acc: 0.5899\n",
      "Epoch 34/45\n",
      "10/10 [==============================] - 13s 1s/step - loss: 0.7086 - acc: 0.6263\n",
      "Epoch 35/45\n",
      "10/10 [==============================] - 15s 1s/step - loss: 0.7767 - acc: 0.5947\n",
      "Epoch 36/45\n",
      "10/10 [==============================] - 13s 1s/step - loss: 0.7246 - acc: 0.6172\n",
      "Epoch 37/45\n",
      "10/10 [==============================] - 14s 1s/step - loss: 0.7653 - acc: 0.6362\n",
      "Epoch 38/45\n",
      "10/10 [==============================] - 13s 1s/step - loss: 0.7067 - acc: 0.6800\n",
      "Epoch 39/45\n",
      "10/10 [==============================] - 13s 1s/step - loss: 0.6374 - acc: 0.6457\n",
      "Epoch 40/45\n",
      "10/10 [==============================] - 13s 1s/step - loss: 0.7392 - acc: 0.6530\n",
      "Epoch 41/45\n",
      "10/10 [==============================] - 13s 1s/step - loss: 0.6583 - acc: 0.7317\n",
      "Epoch 42/45\n",
      "10/10 [==============================] - 14s 1s/step - loss: 0.6590 - acc: 0.6648\n",
      "Epoch 43/45\n",
      "10/10 [==============================] - 13s 1s/step - loss: 0.6946 - acc: 0.7019\n",
      "Epoch 44/45\n",
      "10/10 [==============================] - 13s 1s/step - loss: 0.7210 - acc: 0.6587\n",
      "Epoch 45/45\n",
      "10/10 [==============================] - 14s 1s/step - loss: 0.7055 - acc: 0.6153\n"
     ]
    }
   ],
   "source": [
    "epochs = 45\n",
    "history = model.fit_generator(\n",
    "    trainGen, \n",
    "    epochs=epochs,\n",
    "    steps_per_epoch=trainGen.samples / epochs, \n",
    "    validation_data=validationGen,\n",
    "    validation_steps=trainGen.samples / epochs,\n",
    ")"
   ]
  },
  {
   "cell_type": "code",
   "execution_count": null,
   "id": "educated-arctic",
   "metadata": {
    "id": "educated-arctic"
   },
   "outputs": [],
   "source": [
    "myPlot(history)"
   ]
  },
  {
   "cell_type": "markdown",
   "id": "curious-arthritis",
   "metadata": {
    "id": "curious-arthritis"
   },
   "source": [
    "## ㅇㅖ측"
   ]
  },
  {
   "cell_type": "code",
   "execution_count": null,
   "id": "chinese-conversion",
   "metadata": {
    "id": "chinese-conversion",
    "outputId": "ecc59c7d-7447-4c66-e1b8-d3c3e8960e78"
   },
   "outputs": [
    {
     "name": "stdout",
     "output_type": "stream",
     "text": [
      "Found 240 images belonging to 2 classes.\n"
     ]
    },
    {
     "data": {
      "text/plain": [
       "[1.3403210639953613, 0.2874999940395355]"
      ]
     },
     "execution_count": 42,
     "metadata": {},
     "output_type": "execute_result"
    }
   ],
   "source": [
    "testGenerator = ImageDataGenerator(rescale=1./255)\n",
    "testGen = imageGenerator.flow_from_directory(\n",
    "    os.path.join(rootPath, 'test'),\n",
    "    target_size=(64, 64),\n",
    ")\n",
    "model.evaluate_generator(testGen)\n"
   ]
  },
  {
   "cell_type": "code",
   "execution_count": null,
   "id": "classical-institute",
   "metadata": {
    "id": "classical-institute"
   },
   "outputs": [],
   "source": []
  },
  {
   "cell_type": "markdown",
   "id": "three-privilege",
   "metadata": {
    "id": "three-privilege"
   },
   "source": [
    "## 2-2. 방법2) CNN(전이학습 + ResNet Weight)  +  FC(신규, 내 데이터로 학습한 weight)  --> FC 학습시간 소요\n",
    "* CNN 가중치는 imagenet 가중치 불러와서 사용\n",
    "* include_top=False (FC는 신규생성해서 사용하겠다는 의미)\n",
    "* 자신만의 FC구성해서 사용"
   ]
  },
  {
   "cell_type": "code",
   "execution_count": null,
   "id": "residential-wholesale",
   "metadata": {
    "id": "residential-wholesale",
    "outputId": "a6f31e61-ea46-4d75-a350-2b91055c6c14"
   },
   "outputs": [
    {
     "name": "stdout",
     "output_type": "stream",
     "text": [
      "Model: \"resnet50\"\n",
      "__________________________________________________________________________________________________\n",
      "Layer (type)                    Output Shape         Param #     Connected to                     \n",
      "==================================================================================================\n",
      "input_57 (InputLayer)           [(None, 64, 64, 3)]  0                                            \n",
      "__________________________________________________________________________________________________\n",
      "conv1_pad (ZeroPadding2D)       (None, 70, 70, 3)    0           input_57[0][0]                   \n",
      "__________________________________________________________________________________________________\n",
      "conv1_conv (Conv2D)             (None, 32, 32, 64)   9472        conv1_pad[0][0]                  \n",
      "__________________________________________________________________________________________________\n",
      "conv1_bn (BatchNormalization)   (None, 32, 32, 64)   256         conv1_conv[0][0]                 \n",
      "__________________________________________________________________________________________________\n",
      "conv1_relu (Activation)         (None, 32, 32, 64)   0           conv1_bn[0][0]                   \n",
      "__________________________________________________________________________________________________\n",
      "pool1_pad (ZeroPadding2D)       (None, 34, 34, 64)   0           conv1_relu[0][0]                 \n",
      "__________________________________________________________________________________________________\n",
      "pool1_pool (MaxPooling2D)       (None, 16, 16, 64)   0           pool1_pad[0][0]                  \n",
      "__________________________________________________________________________________________________\n",
      "conv2_block1_1_conv (Conv2D)    (None, 16, 16, 64)   4160        pool1_pool[0][0]                 \n",
      "__________________________________________________________________________________________________\n",
      "conv2_block1_1_bn (BatchNormali (None, 16, 16, 64)   256         conv2_block1_1_conv[0][0]        \n",
      "__________________________________________________________________________________________________\n",
      "conv2_block1_1_relu (Activation (None, 16, 16, 64)   0           conv2_block1_1_bn[0][0]          \n",
      "__________________________________________________________________________________________________\n",
      "conv2_block1_2_conv (Conv2D)    (None, 16, 16, 64)   36928       conv2_block1_1_relu[0][0]        \n",
      "__________________________________________________________________________________________________\n",
      "conv2_block1_2_bn (BatchNormali (None, 16, 16, 64)   256         conv2_block1_2_conv[0][0]        \n",
      "__________________________________________________________________________________________________\n",
      "conv2_block1_2_relu (Activation (None, 16, 16, 64)   0           conv2_block1_2_bn[0][0]          \n",
      "__________________________________________________________________________________________________\n",
      "conv2_block1_0_conv (Conv2D)    (None, 16, 16, 256)  16640       pool1_pool[0][0]                 \n",
      "__________________________________________________________________________________________________\n",
      "conv2_block1_3_conv (Conv2D)    (None, 16, 16, 256)  16640       conv2_block1_2_relu[0][0]        \n",
      "__________________________________________________________________________________________________\n",
      "conv2_block1_0_bn (BatchNormali (None, 16, 16, 256)  1024        conv2_block1_0_conv[0][0]        \n",
      "__________________________________________________________________________________________________\n",
      "conv2_block1_3_bn (BatchNormali (None, 16, 16, 256)  1024        conv2_block1_3_conv[0][0]        \n",
      "__________________________________________________________________________________________________\n",
      "conv2_block1_add (Add)          (None, 16, 16, 256)  0           conv2_block1_0_bn[0][0]          \n",
      "                                                                 conv2_block1_3_bn[0][0]          \n",
      "__________________________________________________________________________________________________\n",
      "conv2_block1_out (Activation)   (None, 16, 16, 256)  0           conv2_block1_add[0][0]           \n",
      "__________________________________________________________________________________________________\n",
      "conv2_block2_1_conv (Conv2D)    (None, 16, 16, 64)   16448       conv2_block1_out[0][0]           \n",
      "__________________________________________________________________________________________________\n",
      "conv2_block2_1_bn (BatchNormali (None, 16, 16, 64)   256         conv2_block2_1_conv[0][0]        \n",
      "__________________________________________________________________________________________________\n",
      "conv2_block2_1_relu (Activation (None, 16, 16, 64)   0           conv2_block2_1_bn[0][0]          \n",
      "__________________________________________________________________________________________________\n",
      "conv2_block2_2_conv (Conv2D)    (None, 16, 16, 64)   36928       conv2_block2_1_relu[0][0]        \n",
      "__________________________________________________________________________________________________\n",
      "conv2_block2_2_bn (BatchNormali (None, 16, 16, 64)   256         conv2_block2_2_conv[0][0]        \n",
      "__________________________________________________________________________________________________\n",
      "conv2_block2_2_relu (Activation (None, 16, 16, 64)   0           conv2_block2_2_bn[0][0]          \n",
      "__________________________________________________________________________________________________\n",
      "conv2_block2_3_conv (Conv2D)    (None, 16, 16, 256)  16640       conv2_block2_2_relu[0][0]        \n",
      "__________________________________________________________________________________________________\n",
      "conv2_block2_3_bn (BatchNormali (None, 16, 16, 256)  1024        conv2_block2_3_conv[0][0]        \n",
      "__________________________________________________________________________________________________\n",
      "conv2_block2_add (Add)          (None, 16, 16, 256)  0           conv2_block1_out[0][0]           \n",
      "                                                                 conv2_block2_3_bn[0][0]          \n",
      "__________________________________________________________________________________________________\n",
      "conv2_block2_out (Activation)   (None, 16, 16, 256)  0           conv2_block2_add[0][0]           \n",
      "__________________________________________________________________________________________________\n",
      "conv2_block3_1_conv (Conv2D)    (None, 16, 16, 64)   16448       conv2_block2_out[0][0]           \n",
      "__________________________________________________________________________________________________\n",
      "conv2_block3_1_bn (BatchNormali (None, 16, 16, 64)   256         conv2_block3_1_conv[0][0]        \n",
      "__________________________________________________________________________________________________\n",
      "conv2_block3_1_relu (Activation (None, 16, 16, 64)   0           conv2_block3_1_bn[0][0]          \n",
      "__________________________________________________________________________________________________\n",
      "conv2_block3_2_conv (Conv2D)    (None, 16, 16, 64)   36928       conv2_block3_1_relu[0][0]        \n",
      "__________________________________________________________________________________________________\n",
      "conv2_block3_2_bn (BatchNormali (None, 16, 16, 64)   256         conv2_block3_2_conv[0][0]        \n",
      "__________________________________________________________________________________________________\n",
      "conv2_block3_2_relu (Activation (None, 16, 16, 64)   0           conv2_block3_2_bn[0][0]          \n",
      "__________________________________________________________________________________________________\n",
      "conv2_block3_3_conv (Conv2D)    (None, 16, 16, 256)  16640       conv2_block3_2_relu[0][0]        \n",
      "__________________________________________________________________________________________________\n",
      "conv2_block3_3_bn (BatchNormali (None, 16, 16, 256)  1024        conv2_block3_3_conv[0][0]        \n",
      "__________________________________________________________________________________________________\n",
      "conv2_block3_add (Add)          (None, 16, 16, 256)  0           conv2_block2_out[0][0]           \n",
      "                                                                 conv2_block3_3_bn[0][0]          \n",
      "__________________________________________________________________________________________________\n",
      "conv2_block3_out (Activation)   (None, 16, 16, 256)  0           conv2_block3_add[0][0]           \n",
      "__________________________________________________________________________________________________\n",
      "conv3_block1_1_conv (Conv2D)    (None, 8, 8, 128)    32896       conv2_block3_out[0][0]           \n",
      "__________________________________________________________________________________________________\n",
      "conv3_block1_1_bn (BatchNormali (None, 8, 8, 128)    512         conv3_block1_1_conv[0][0]        \n",
      "__________________________________________________________________________________________________\n",
      "conv3_block1_1_relu (Activation (None, 8, 8, 128)    0           conv3_block1_1_bn[0][0]          \n",
      "__________________________________________________________________________________________________\n",
      "conv3_block1_2_conv (Conv2D)    (None, 8, 8, 128)    147584      conv3_block1_1_relu[0][0]        \n",
      "__________________________________________________________________________________________________\n",
      "conv3_block1_2_bn (BatchNormali (None, 8, 8, 128)    512         conv3_block1_2_conv[0][0]        \n",
      "__________________________________________________________________________________________________\n",
      "conv3_block1_2_relu (Activation (None, 8, 8, 128)    0           conv3_block1_2_bn[0][0]          \n",
      "__________________________________________________________________________________________________\n",
      "conv3_block1_0_conv (Conv2D)    (None, 8, 8, 512)    131584      conv2_block3_out[0][0]           \n",
      "__________________________________________________________________________________________________\n",
      "conv3_block1_3_conv (Conv2D)    (None, 8, 8, 512)    66048       conv3_block1_2_relu[0][0]        \n",
      "__________________________________________________________________________________________________\n",
      "conv3_block1_0_bn (BatchNormali (None, 8, 8, 512)    2048        conv3_block1_0_conv[0][0]        \n",
      "__________________________________________________________________________________________________\n",
      "conv3_block1_3_bn (BatchNormali (None, 8, 8, 512)    2048        conv3_block1_3_conv[0][0]        \n",
      "__________________________________________________________________________________________________\n",
      "conv3_block1_add (Add)          (None, 8, 8, 512)    0           conv3_block1_0_bn[0][0]          \n",
      "                                                                 conv3_block1_3_bn[0][0]          \n",
      "__________________________________________________________________________________________________\n",
      "conv3_block1_out (Activation)   (None, 8, 8, 512)    0           conv3_block1_add[0][0]           \n",
      "__________________________________________________________________________________________________\n",
      "conv3_block2_1_conv (Conv2D)    (None, 8, 8, 128)    65664       conv3_block1_out[0][0]           \n",
      "__________________________________________________________________________________________________\n",
      "conv3_block2_1_bn (BatchNormali (None, 8, 8, 128)    512         conv3_block2_1_conv[0][0]        \n",
      "__________________________________________________________________________________________________\n",
      "conv3_block2_1_relu (Activation (None, 8, 8, 128)    0           conv3_block2_1_bn[0][0]          \n",
      "__________________________________________________________________________________________________\n",
      "conv3_block2_2_conv (Conv2D)    (None, 8, 8, 128)    147584      conv3_block2_1_relu[0][0]        \n",
      "__________________________________________________________________________________________________\n",
      "conv3_block2_2_bn (BatchNormali (None, 8, 8, 128)    512         conv3_block2_2_conv[0][0]        \n",
      "__________________________________________________________________________________________________\n",
      "conv3_block2_2_relu (Activation (None, 8, 8, 128)    0           conv3_block2_2_bn[0][0]          \n",
      "__________________________________________________________________________________________________\n",
      "conv3_block2_3_conv (Conv2D)    (None, 8, 8, 512)    66048       conv3_block2_2_relu[0][0]        \n",
      "__________________________________________________________________________________________________\n",
      "conv3_block2_3_bn (BatchNormali (None, 8, 8, 512)    2048        conv3_block2_3_conv[0][0]        \n",
      "__________________________________________________________________________________________________\n",
      "conv3_block2_add (Add)          (None, 8, 8, 512)    0           conv3_block1_out[0][0]           \n",
      "                                                                 conv3_block2_3_bn[0][0]          \n",
      "__________________________________________________________________________________________________\n",
      "conv3_block2_out (Activation)   (None, 8, 8, 512)    0           conv3_block2_add[0][0]           \n",
      "__________________________________________________________________________________________________\n",
      "conv3_block3_1_conv (Conv2D)    (None, 8, 8, 128)    65664       conv3_block2_out[0][0]           \n",
      "__________________________________________________________________________________________________\n",
      "conv3_block3_1_bn (BatchNormali (None, 8, 8, 128)    512         conv3_block3_1_conv[0][0]        \n",
      "__________________________________________________________________________________________________\n",
      "conv3_block3_1_relu (Activation (None, 8, 8, 128)    0           conv3_block3_1_bn[0][0]          \n",
      "__________________________________________________________________________________________________\n",
      "conv3_block3_2_conv (Conv2D)    (None, 8, 8, 128)    147584      conv3_block3_1_relu[0][0]        \n",
      "__________________________________________________________________________________________________\n",
      "conv3_block3_2_bn (BatchNormali (None, 8, 8, 128)    512         conv3_block3_2_conv[0][0]        \n",
      "__________________________________________________________________________________________________\n",
      "conv3_block3_2_relu (Activation (None, 8, 8, 128)    0           conv3_block3_2_bn[0][0]          \n",
      "__________________________________________________________________________________________________\n",
      "conv3_block3_3_conv (Conv2D)    (None, 8, 8, 512)    66048       conv3_block3_2_relu[0][0]        \n",
      "__________________________________________________________________________________________________\n",
      "conv3_block3_3_bn (BatchNormali (None, 8, 8, 512)    2048        conv3_block3_3_conv[0][0]        \n",
      "__________________________________________________________________________________________________\n",
      "conv3_block3_add (Add)          (None, 8, 8, 512)    0           conv3_block2_out[0][0]           \n",
      "                                                                 conv3_block3_3_bn[0][0]          \n",
      "__________________________________________________________________________________________________\n",
      "conv3_block3_out (Activation)   (None, 8, 8, 512)    0           conv3_block3_add[0][0]           \n",
      "__________________________________________________________________________________________________\n",
      "conv3_block4_1_conv (Conv2D)    (None, 8, 8, 128)    65664       conv3_block3_out[0][0]           \n",
      "__________________________________________________________________________________________________\n",
      "conv3_block4_1_bn (BatchNormali (None, 8, 8, 128)    512         conv3_block4_1_conv[0][0]        \n",
      "__________________________________________________________________________________________________\n",
      "conv3_block4_1_relu (Activation (None, 8, 8, 128)    0           conv3_block4_1_bn[0][0]          \n",
      "__________________________________________________________________________________________________\n",
      "conv3_block4_2_conv (Conv2D)    (None, 8, 8, 128)    147584      conv3_block4_1_relu[0][0]        \n",
      "__________________________________________________________________________________________________\n",
      "conv3_block4_2_bn (BatchNormali (None, 8, 8, 128)    512         conv3_block4_2_conv[0][0]        \n",
      "__________________________________________________________________________________________________\n",
      "conv3_block4_2_relu (Activation (None, 8, 8, 128)    0           conv3_block4_2_bn[0][0]          \n",
      "__________________________________________________________________________________________________\n",
      "conv3_block4_3_conv (Conv2D)    (None, 8, 8, 512)    66048       conv3_block4_2_relu[0][0]        \n",
      "__________________________________________________________________________________________________\n",
      "conv3_block4_3_bn (BatchNormali (None, 8, 8, 512)    2048        conv3_block4_3_conv[0][0]        \n",
      "__________________________________________________________________________________________________\n",
      "conv3_block4_add (Add)          (None, 8, 8, 512)    0           conv3_block3_out[0][0]           \n",
      "                                                                 conv3_block4_3_bn[0][0]          \n",
      "__________________________________________________________________________________________________\n",
      "conv3_block4_out (Activation)   (None, 8, 8, 512)    0           conv3_block4_add[0][0]           \n",
      "__________________________________________________________________________________________________\n",
      "conv4_block1_1_conv (Conv2D)    (None, 4, 4, 256)    131328      conv3_block4_out[0][0]           \n",
      "__________________________________________________________________________________________________\n",
      "conv4_block1_1_bn (BatchNormali (None, 4, 4, 256)    1024        conv4_block1_1_conv[0][0]        \n",
      "__________________________________________________________________________________________________\n",
      "conv4_block1_1_relu (Activation (None, 4, 4, 256)    0           conv4_block1_1_bn[0][0]          \n",
      "__________________________________________________________________________________________________\n",
      "conv4_block1_2_conv (Conv2D)    (None, 4, 4, 256)    590080      conv4_block1_1_relu[0][0]        \n",
      "__________________________________________________________________________________________________\n",
      "conv4_block1_2_bn (BatchNormali (None, 4, 4, 256)    1024        conv4_block1_2_conv[0][0]        \n",
      "__________________________________________________________________________________________________\n",
      "conv4_block1_2_relu (Activation (None, 4, 4, 256)    0           conv4_block1_2_bn[0][0]          \n",
      "__________________________________________________________________________________________________\n",
      "conv4_block1_0_conv (Conv2D)    (None, 4, 4, 1024)   525312      conv3_block4_out[0][0]           \n",
      "__________________________________________________________________________________________________\n",
      "conv4_block1_3_conv (Conv2D)    (None, 4, 4, 1024)   263168      conv4_block1_2_relu[0][0]        \n",
      "__________________________________________________________________________________________________\n",
      "conv4_block1_0_bn (BatchNormali (None, 4, 4, 1024)   4096        conv4_block1_0_conv[0][0]        \n",
      "__________________________________________________________________________________________________\n",
      "conv4_block1_3_bn (BatchNormali (None, 4, 4, 1024)   4096        conv4_block1_3_conv[0][0]        \n",
      "__________________________________________________________________________________________________\n",
      "conv4_block1_add (Add)          (None, 4, 4, 1024)   0           conv4_block1_0_bn[0][0]          \n",
      "                                                                 conv4_block1_3_bn[0][0]          \n",
      "__________________________________________________________________________________________________\n",
      "conv4_block1_out (Activation)   (None, 4, 4, 1024)   0           conv4_block1_add[0][0]           \n",
      "__________________________________________________________________________________________________\n",
      "conv4_block2_1_conv (Conv2D)    (None, 4, 4, 256)    262400      conv4_block1_out[0][0]           \n",
      "__________________________________________________________________________________________________\n",
      "conv4_block2_1_bn (BatchNormali (None, 4, 4, 256)    1024        conv4_block2_1_conv[0][0]        \n",
      "__________________________________________________________________________________________________\n",
      "conv4_block2_1_relu (Activation (None, 4, 4, 256)    0           conv4_block2_1_bn[0][0]          \n",
      "__________________________________________________________________________________________________\n",
      "conv4_block2_2_conv (Conv2D)    (None, 4, 4, 256)    590080      conv4_block2_1_relu[0][0]        \n",
      "__________________________________________________________________________________________________\n",
      "conv4_block2_2_bn (BatchNormali (None, 4, 4, 256)    1024        conv4_block2_2_conv[0][0]        \n",
      "__________________________________________________________________________________________________\n",
      "conv4_block2_2_relu (Activation (None, 4, 4, 256)    0           conv4_block2_2_bn[0][0]          \n",
      "__________________________________________________________________________________________________\n",
      "conv4_block2_3_conv (Conv2D)    (None, 4, 4, 1024)   263168      conv4_block2_2_relu[0][0]        \n",
      "__________________________________________________________________________________________________\n",
      "conv4_block2_3_bn (BatchNormali (None, 4, 4, 1024)   4096        conv4_block2_3_conv[0][0]        \n",
      "__________________________________________________________________________________________________\n",
      "conv4_block2_add (Add)          (None, 4, 4, 1024)   0           conv4_block1_out[0][0]           \n",
      "                                                                 conv4_block2_3_bn[0][0]          \n",
      "__________________________________________________________________________________________________\n",
      "conv4_block2_out (Activation)   (None, 4, 4, 1024)   0           conv4_block2_add[0][0]           \n",
      "__________________________________________________________________________________________________\n",
      "conv4_block3_1_conv (Conv2D)    (None, 4, 4, 256)    262400      conv4_block2_out[0][0]           \n",
      "__________________________________________________________________________________________________\n",
      "conv4_block3_1_bn (BatchNormali (None, 4, 4, 256)    1024        conv4_block3_1_conv[0][0]        \n",
      "__________________________________________________________________________________________________\n",
      "conv4_block3_1_relu (Activation (None, 4, 4, 256)    0           conv4_block3_1_bn[0][0]          \n",
      "__________________________________________________________________________________________________\n",
      "conv4_block3_2_conv (Conv2D)    (None, 4, 4, 256)    590080      conv4_block3_1_relu[0][0]        \n",
      "__________________________________________________________________________________________________\n",
      "conv4_block3_2_bn (BatchNormali (None, 4, 4, 256)    1024        conv4_block3_2_conv[0][0]        \n",
      "__________________________________________________________________________________________________\n",
      "conv4_block3_2_relu (Activation (None, 4, 4, 256)    0           conv4_block3_2_bn[0][0]          \n",
      "__________________________________________________________________________________________________\n",
      "conv4_block3_3_conv (Conv2D)    (None, 4, 4, 1024)   263168      conv4_block3_2_relu[0][0]        \n",
      "__________________________________________________________________________________________________\n",
      "conv4_block3_3_bn (BatchNormali (None, 4, 4, 1024)   4096        conv4_block3_3_conv[0][0]        \n",
      "__________________________________________________________________________________________________\n",
      "conv4_block3_add (Add)          (None, 4, 4, 1024)   0           conv4_block2_out[0][0]           \n",
      "                                                                 conv4_block3_3_bn[0][0]          \n",
      "__________________________________________________________________________________________________\n",
      "conv4_block3_out (Activation)   (None, 4, 4, 1024)   0           conv4_block3_add[0][0]           \n",
      "__________________________________________________________________________________________________\n",
      "conv4_block4_1_conv (Conv2D)    (None, 4, 4, 256)    262400      conv4_block3_out[0][0]           \n",
      "__________________________________________________________________________________________________\n",
      "conv4_block4_1_bn (BatchNormali (None, 4, 4, 256)    1024        conv4_block4_1_conv[0][0]        \n",
      "__________________________________________________________________________________________________\n",
      "conv4_block4_1_relu (Activation (None, 4, 4, 256)    0           conv4_block4_1_bn[0][0]          \n",
      "__________________________________________________________________________________________________\n",
      "conv4_block4_2_conv (Conv2D)    (None, 4, 4, 256)    590080      conv4_block4_1_relu[0][0]        \n",
      "__________________________________________________________________________________________________\n",
      "conv4_block4_2_bn (BatchNormali (None, 4, 4, 256)    1024        conv4_block4_2_conv[0][0]        \n",
      "__________________________________________________________________________________________________\n",
      "conv4_block4_2_relu (Activation (None, 4, 4, 256)    0           conv4_block4_2_bn[0][0]          \n",
      "__________________________________________________________________________________________________\n",
      "conv4_block4_3_conv (Conv2D)    (None, 4, 4, 1024)   263168      conv4_block4_2_relu[0][0]        \n",
      "__________________________________________________________________________________________________\n",
      "conv4_block4_3_bn (BatchNormali (None, 4, 4, 1024)   4096        conv4_block4_3_conv[0][0]        \n",
      "__________________________________________________________________________________________________\n",
      "conv4_block4_add (Add)          (None, 4, 4, 1024)   0           conv4_block3_out[0][0]           \n",
      "                                                                 conv4_block4_3_bn[0][0]          \n",
      "__________________________________________________________________________________________________\n",
      "conv4_block4_out (Activation)   (None, 4, 4, 1024)   0           conv4_block4_add[0][0]           \n",
      "__________________________________________________________________________________________________\n",
      "conv4_block5_1_conv (Conv2D)    (None, 4, 4, 256)    262400      conv4_block4_out[0][0]           \n",
      "__________________________________________________________________________________________________\n",
      "conv4_block5_1_bn (BatchNormali (None, 4, 4, 256)    1024        conv4_block5_1_conv[0][0]        \n",
      "__________________________________________________________________________________________________\n",
      "conv4_block5_1_relu (Activation (None, 4, 4, 256)    0           conv4_block5_1_bn[0][0]          \n",
      "__________________________________________________________________________________________________\n",
      "conv4_block5_2_conv (Conv2D)    (None, 4, 4, 256)    590080      conv4_block5_1_relu[0][0]        \n",
      "__________________________________________________________________________________________________\n",
      "conv4_block5_2_bn (BatchNormali (None, 4, 4, 256)    1024        conv4_block5_2_conv[0][0]        \n",
      "__________________________________________________________________________________________________\n",
      "conv4_block5_2_relu (Activation (None, 4, 4, 256)    0           conv4_block5_2_bn[0][0]          \n",
      "__________________________________________________________________________________________________\n",
      "conv4_block5_3_conv (Conv2D)    (None, 4, 4, 1024)   263168      conv4_block5_2_relu[0][0]        \n",
      "__________________________________________________________________________________________________\n",
      "conv4_block5_3_bn (BatchNormali (None, 4, 4, 1024)   4096        conv4_block5_3_conv[0][0]        \n",
      "__________________________________________________________________________________________________\n",
      "conv4_block5_add (Add)          (None, 4, 4, 1024)   0           conv4_block4_out[0][0]           \n",
      "                                                                 conv4_block5_3_bn[0][0]          \n",
      "__________________________________________________________________________________________________\n",
      "conv4_block5_out (Activation)   (None, 4, 4, 1024)   0           conv4_block5_add[0][0]           \n",
      "__________________________________________________________________________________________________\n",
      "conv4_block6_1_conv (Conv2D)    (None, 4, 4, 256)    262400      conv4_block5_out[0][0]           \n",
      "__________________________________________________________________________________________________\n",
      "conv4_block6_1_bn (BatchNormali (None, 4, 4, 256)    1024        conv4_block6_1_conv[0][0]        \n",
      "__________________________________________________________________________________________________\n",
      "conv4_block6_1_relu (Activation (None, 4, 4, 256)    0           conv4_block6_1_bn[0][0]          \n",
      "__________________________________________________________________________________________________\n",
      "conv4_block6_2_conv (Conv2D)    (None, 4, 4, 256)    590080      conv4_block6_1_relu[0][0]        \n",
      "__________________________________________________________________________________________________\n",
      "conv4_block6_2_bn (BatchNormali (None, 4, 4, 256)    1024        conv4_block6_2_conv[0][0]        \n",
      "__________________________________________________________________________________________________\n",
      "conv4_block6_2_relu (Activation (None, 4, 4, 256)    0           conv4_block6_2_bn[0][0]          \n",
      "__________________________________________________________________________________________________\n",
      "conv4_block6_3_conv (Conv2D)    (None, 4, 4, 1024)   263168      conv4_block6_2_relu[0][0]        \n",
      "__________________________________________________________________________________________________\n",
      "conv4_block6_3_bn (BatchNormali (None, 4, 4, 1024)   4096        conv4_block6_3_conv[0][0]        \n",
      "__________________________________________________________________________________________________\n",
      "conv4_block6_add (Add)          (None, 4, 4, 1024)   0           conv4_block5_out[0][0]           \n",
      "                                                                 conv4_block6_3_bn[0][0]          \n",
      "__________________________________________________________________________________________________\n",
      "conv4_block6_out (Activation)   (None, 4, 4, 1024)   0           conv4_block6_add[0][0]           \n",
      "__________________________________________________________________________________________________\n",
      "conv5_block1_1_conv (Conv2D)    (None, 2, 2, 512)    524800      conv4_block6_out[0][0]           \n",
      "__________________________________________________________________________________________________\n",
      "conv5_block1_1_bn (BatchNormali (None, 2, 2, 512)    2048        conv5_block1_1_conv[0][0]        \n",
      "__________________________________________________________________________________________________\n",
      "conv5_block1_1_relu (Activation (None, 2, 2, 512)    0           conv5_block1_1_bn[0][0]          \n",
      "__________________________________________________________________________________________________\n",
      "conv5_block1_2_conv (Conv2D)    (None, 2, 2, 512)    2359808     conv5_block1_1_relu[0][0]        \n",
      "__________________________________________________________________________________________________\n",
      "conv5_block1_2_bn (BatchNormali (None, 2, 2, 512)    2048        conv5_block1_2_conv[0][0]        \n",
      "__________________________________________________________________________________________________\n",
      "conv5_block1_2_relu (Activation (None, 2, 2, 512)    0           conv5_block1_2_bn[0][0]          \n",
      "__________________________________________________________________________________________________\n",
      "conv5_block1_0_conv (Conv2D)    (None, 2, 2, 2048)   2099200     conv4_block6_out[0][0]           \n",
      "__________________________________________________________________________________________________\n",
      "conv5_block1_3_conv (Conv2D)    (None, 2, 2, 2048)   1050624     conv5_block1_2_relu[0][0]        \n",
      "__________________________________________________________________________________________________\n",
      "conv5_block1_0_bn (BatchNormali (None, 2, 2, 2048)   8192        conv5_block1_0_conv[0][0]        \n",
      "__________________________________________________________________________________________________\n",
      "conv5_block1_3_bn (BatchNormali (None, 2, 2, 2048)   8192        conv5_block1_3_conv[0][0]        \n",
      "__________________________________________________________________________________________________\n",
      "conv5_block1_add (Add)          (None, 2, 2, 2048)   0           conv5_block1_0_bn[0][0]          \n",
      "                                                                 conv5_block1_3_bn[0][0]          \n",
      "__________________________________________________________________________________________________\n",
      "conv5_block1_out (Activation)   (None, 2, 2, 2048)   0           conv5_block1_add[0][0]           \n",
      "__________________________________________________________________________________________________\n",
      "conv5_block2_1_conv (Conv2D)    (None, 2, 2, 512)    1049088     conv5_block1_out[0][0]           \n",
      "__________________________________________________________________________________________________\n",
      "conv5_block2_1_bn (BatchNormali (None, 2, 2, 512)    2048        conv5_block2_1_conv[0][0]        \n",
      "__________________________________________________________________________________________________\n",
      "conv5_block2_1_relu (Activation (None, 2, 2, 512)    0           conv5_block2_1_bn[0][0]          \n",
      "__________________________________________________________________________________________________\n",
      "conv5_block2_2_conv (Conv2D)    (None, 2, 2, 512)    2359808     conv5_block2_1_relu[0][0]        \n",
      "__________________________________________________________________________________________________\n",
      "conv5_block2_2_bn (BatchNormali (None, 2, 2, 512)    2048        conv5_block2_2_conv[0][0]        \n",
      "__________________________________________________________________________________________________\n",
      "conv5_block2_2_relu (Activation (None, 2, 2, 512)    0           conv5_block2_2_bn[0][0]          \n",
      "__________________________________________________________________________________________________\n",
      "conv5_block2_3_conv (Conv2D)    (None, 2, 2, 2048)   1050624     conv5_block2_2_relu[0][0]        \n",
      "__________________________________________________________________________________________________\n",
      "conv5_block2_3_bn (BatchNormali (None, 2, 2, 2048)   8192        conv5_block2_3_conv[0][0]        \n",
      "__________________________________________________________________________________________________\n",
      "conv5_block2_add (Add)          (None, 2, 2, 2048)   0           conv5_block1_out[0][0]           \n",
      "                                                                 conv5_block2_3_bn[0][0]          \n",
      "__________________________________________________________________________________________________\n",
      "conv5_block2_out (Activation)   (None, 2, 2, 2048)   0           conv5_block2_add[0][0]           \n",
      "__________________________________________________________________________________________________\n",
      "conv5_block3_1_conv (Conv2D)    (None, 2, 2, 512)    1049088     conv5_block2_out[0][0]           \n",
      "__________________________________________________________________________________________________\n",
      "conv5_block3_1_bn (BatchNormali (None, 2, 2, 512)    2048        conv5_block3_1_conv[0][0]        \n",
      "__________________________________________________________________________________________________\n",
      "conv5_block3_1_relu (Activation (None, 2, 2, 512)    0           conv5_block3_1_bn[0][0]          \n",
      "__________________________________________________________________________________________________\n",
      "conv5_block3_2_conv (Conv2D)    (None, 2, 2, 512)    2359808     conv5_block3_1_relu[0][0]        \n",
      "__________________________________________________________________________________________________\n",
      "conv5_block3_2_bn (BatchNormali (None, 2, 2, 512)    2048        conv5_block3_2_conv[0][0]        \n",
      "__________________________________________________________________________________________________\n",
      "conv5_block3_2_relu (Activation (None, 2, 2, 512)    0           conv5_block3_2_bn[0][0]          \n",
      "__________________________________________________________________________________________________\n",
      "conv5_block3_3_conv (Conv2D)    (None, 2, 2, 2048)   1050624     conv5_block3_2_relu[0][0]        \n",
      "__________________________________________________________________________________________________\n",
      "conv5_block3_3_bn (BatchNormali (None, 2, 2, 2048)   8192        conv5_block3_3_conv[0][0]        \n",
      "__________________________________________________________________________________________________\n",
      "conv5_block3_add (Add)          (None, 2, 2, 2048)   0           conv5_block2_out[0][0]           \n",
      "                                                                 conv5_block3_3_bn[0][0]          \n",
      "__________________________________________________________________________________________________\n",
      "conv5_block3_out (Activation)   (None, 2, 2, 2048)   0           conv5_block3_add[0][0]           \n",
      "==================================================================================================\n",
      "Total params: 23,587,712\n",
      "Trainable params: 23,534,592\n",
      "Non-trainable params: 53,120\n",
      "__________________________________________________________________________________________________\n"
     ]
    }
   ],
   "source": [
    "base_model = ResNet50(include_top=False, weights='imagenet', input_shape=(64, 64, 3))\n",
    "base_model.summary()"
   ]
  },
  {
   "cell_type": "code",
   "execution_count": null,
   "id": "excellent-advocacy",
   "metadata": {
    "id": "excellent-advocacy",
    "outputId": "eaa799a9-27f3-4dc2-8b6c-1e9c836bd193",
    "tags": []
   },
   "outputs": [
    {
     "name": "stdout",
     "output_type": "stream",
     "text": [
      "Model: \"sequential_19\"\n",
      "_________________________________________________________________\n",
      "Layer (type)                 Output Shape              Param #   \n",
      "=================================================================\n",
      "resnet50 (Functional)        (None, 2, 2, 2048)        23587712  \n",
      "_________________________________________________________________\n",
      "global_average_pooling2d_56  (None, 2048)              0         \n",
      "_________________________________________________________________\n",
      "dense_68 (Dense)             (None, 126)               258174    \n",
      "_________________________________________________________________\n",
      "dense_69 (Dense)             (None, 126)               16002     \n",
      "_________________________________________________________________\n",
      "dense_70 (Dense)             (None, 2)                 254       \n",
      "=================================================================\n",
      "Total params: 23,862,142\n",
      "Trainable params: 23,809,022\n",
      "Non-trainable params: 53,120\n",
      "_________________________________________________________________\n"
     ]
    }
   ],
   "source": [
    "model = Sequential()\n",
    "model.add(base_model)  #===============include_top=False (FC는 신규생성해서 사용하겠다는 의미)\n",
    "model.add(layers.GlobalAveragePooling2D())\n",
    "model.add(layers.Dense(126, activation='relu'))\n",
    "model.add(layers.Dense(126, activation='relu'))         \n",
    "model.add(layers.Dense(1, activation='sigmoid'))\n",
    "\n",
    "model.compile(optimizer='adam', loss='binary_crossentropy',  metrics=['acc'])\n",
    "model.summary()"
   ]
  },
  {
   "cell_type": "code",
   "execution_count": null,
   "id": "moving-intranet",
   "metadata": {
    "id": "moving-intranet",
    "outputId": "50aa133a-3cd7-468c-f7e0-3fafe439d852",
    "tags": []
   },
   "outputs": [
    {
     "name": "stdout",
     "output_type": "stream",
     "text": [
      "Epoch 1/45\n",
      "10/10 [==============================] - ETA: 0s - loss: 0.7170 - acc: 0.6427WARNING:tensorflow:Your input ran out of data; interrupting training. Make sure that your dataset or generator can generate at least `steps_per_epoch * epochs` batches (in this case, 10.0 batches). You may need to use the repeat() function when building your dataset.\n",
      "10/10 [==============================] - 21s 1s/step - loss: 0.7178 - acc: 0.6420 - val_loss: 1.5549 - val_acc: 0.7083\n",
      "Epoch 2/45\n",
      "10/10 [==============================] - 14s 1s/step - loss: 0.5992 - acc: 0.7178\n",
      "Epoch 3/45\n",
      "10/10 [==============================] - 13s 1s/step - loss: 0.5394 - acc: 0.7433\n",
      "Epoch 4/45\n",
      "10/10 [==============================] - 13s 1s/step - loss: 0.4371 - acc: 0.7948\n",
      "Epoch 5/45\n",
      "10/10 [==============================] - 13s 1s/step - loss: 0.4362 - acc: 0.8082\n",
      "Epoch 6/45\n",
      "10/10 [==============================] - 13s 1s/step - loss: 0.4470 - acc: 0.8204\n",
      "Epoch 7/45\n",
      "10/10 [==============================] - 15s 2s/step - loss: 0.4312 - acc: 0.8172\n",
      "Epoch 8/45\n",
      "10/10 [==============================] - 15s 1s/step - loss: 0.4401 - acc: 0.8755\n",
      "Epoch 9/45\n",
      "10/10 [==============================] - 13s 1s/step - loss: 0.2749 - acc: 0.8749\n",
      "Epoch 10/45\n",
      "10/10 [==============================] - 15s 1s/step - loss: 0.3508 - acc: 0.8591\n",
      "Epoch 11/45\n",
      "10/10 [==============================] - 14s 1s/step - loss: 0.2822 - acc: 0.8965\n",
      "Epoch 12/45\n",
      "10/10 [==============================] - 14s 1s/step - loss: 0.2707 - acc: 0.9114\n",
      "Epoch 13/45\n",
      "10/10 [==============================] - 14s 1s/step - loss: 0.2693 - acc: 0.9037\n",
      "Epoch 14/45\n",
      "10/10 [==============================] - 14s 1s/step - loss: 0.2144 - acc: 0.9027\n",
      "Epoch 15/45\n",
      "10/10 [==============================] - 13s 1s/step - loss: 0.2455 - acc: 0.8947\n",
      "Epoch 16/45\n",
      "10/10 [==============================] - 13s 1s/step - loss: 0.3857 - acc: 0.8463\n",
      "Epoch 17/45\n",
      "10/10 [==============================] - 13s 1s/step - loss: 0.5753 - acc: 0.8146\n",
      "Epoch 18/45\n",
      "10/10 [==============================] - 13s 1s/step - loss: 0.3922 - acc: 0.8312\n",
      "Epoch 19/45\n",
      "10/10 [==============================] - 13s 1s/step - loss: 0.3169 - acc: 0.8831\n",
      "Epoch 20/45\n",
      "10/10 [==============================] - 14s 1s/step - loss: 0.6302 - acc: 0.7039\n",
      "Epoch 21/45\n",
      "10/10 [==============================] - 14s 1s/step - loss: 0.6055 - acc: 0.7162\n",
      "Epoch 22/45\n",
      "10/10 [==============================] - 13s 1s/step - loss: 0.6529 - acc: 0.6510\n",
      "Epoch 23/45\n",
      "10/10 [==============================] - 14s 1s/step - loss: 0.5193 - acc: 0.7662\n",
      "Epoch 24/45\n",
      "10/10 [==============================] - 13s 1s/step - loss: 0.4418 - acc: 0.8200\n",
      "Epoch 25/45\n",
      "10/10 [==============================] - 13s 1s/step - loss: 0.5267 - acc: 0.7603\n",
      "Epoch 26/45\n",
      "10/10 [==============================] - 13s 1s/step - loss: 0.5783 - acc: 0.7385\n",
      "Epoch 27/45\n",
      "10/10 [==============================] - 15s 2s/step - loss: 0.5892 - acc: 0.7136\n",
      "Epoch 28/45\n",
      "10/10 [==============================] - 13s 1s/step - loss: 0.5649 - acc: 0.7294\n",
      "Epoch 29/45\n",
      "10/10 [==============================] - 13s 1s/step - loss: 0.5727 - acc: 0.7282\n",
      "Epoch 30/45\n",
      "10/10 [==============================] - 15s 2s/step - loss: 0.6373 - acc: 0.6623\n",
      "Epoch 31/45\n",
      "10/10 [==============================] - 15s 1s/step - loss: 0.6841 - acc: 0.5964\n",
      "Epoch 32/45\n",
      "10/10 [==============================] - 15s 1s/step - loss: 0.6644 - acc: 0.5726\n",
      "Epoch 33/45\n",
      "10/10 [==============================] - 15s 1s/step - loss: 0.6187 - acc: 0.6759\n",
      "Epoch 34/45\n",
      "10/10 [==============================] - 15s 1s/step - loss: 0.6200 - acc: 0.6446\n",
      "Epoch 35/45\n",
      "10/10 [==============================] - 14s 1s/step - loss: 0.6764 - acc: 0.6054\n",
      "Epoch 36/45\n",
      "10/10 [==============================] - 13s 1s/step - loss: 0.6042 - acc: 0.6696\n",
      "Epoch 37/45\n",
      "10/10 [==============================] - 14s 1s/step - loss: 0.6106 - acc: 0.6805\n",
      "Epoch 38/45\n",
      "10/10 [==============================] - 14s 1s/step - loss: 0.6096 - acc: 0.7081\n",
      "Epoch 39/45\n",
      "10/10 [==============================] - 13s 1s/step - loss: 0.5123 - acc: 0.7413\n",
      "Epoch 40/45\n",
      "10/10 [==============================] - 13s 1s/step - loss: 0.5491 - acc: 0.7160\n",
      "Epoch 41/45\n",
      "10/10 [==============================] - 13s 1s/step - loss: 0.4887 - acc: 0.7593\n",
      "Epoch 42/45\n",
      "10/10 [==============================] - 15s 1s/step - loss: 0.4615 - acc: 0.7810\n",
      "Epoch 43/45\n",
      "10/10 [==============================] - 14s 1s/step - loss: 0.5614 - acc: 0.7149\n",
      "Epoch 44/45\n",
      "10/10 [==============================] - 13s 1s/step - loss: 0.4620 - acc: 0.7736\n",
      "Epoch 45/45\n",
      "10/10 [==============================] - 14s 1s/step - loss: 0.4707 - acc: 0.7927\n"
     ]
    }
   ],
   "source": [
    "epochs = 45\n",
    "history = model.fit_generator(\n",
    "    trainGen, \n",
    "    epochs=epochs,\n",
    "    steps_per_epoch=trainGen.samples / epochs, \n",
    "    validation_data=validationGen,\n",
    "    validation_steps=trainGen.samples / epochs,\n",
    ")"
   ]
  },
  {
   "cell_type": "code",
   "execution_count": null,
   "id": "marine-buddy",
   "metadata": {
    "id": "marine-buddy",
    "outputId": "0bd2e304-c761-4f8d-a0da-215a660e511d"
   },
   "outputs": [
    {
     "data": {
      "image/png": "[encoded data removed]",
      "text/plain": [
       "<Figure size 864x360 with 1 Axes>"
      ]
     },
     "metadata": {
      "needs_background": "light"
     },
     "output_type": "display_data"
    }
   ],
   "source": [
    "myPlot(history)"
   ]
  },
  {
   "cell_type": "markdown",
   "id": "southern-cologne",
   "metadata": {
    "id": "southern-cologne"
   },
   "source": [
    "### 예측"
   ]
  },
  {
   "cell_type": "code",
   "execution_count": null,
   "id": "expected-shopper",
   "metadata": {
    "id": "expected-shopper",
    "outputId": "5cc8fe21-8825-48c5-e58c-dabc7d2bde67"
   },
   "outputs": [
    {
     "name": "stdout",
     "output_type": "stream",
     "text": [
      "Found 240 images belonging to 2 classes.\n"
     ]
    },
    {
     "data": {
      "text/plain": [
       "[2.2299766540527344, 0.2916666567325592]"
      ]
     },
     "execution_count": 63,
     "metadata": {},
     "output_type": "execute_result"
    }
   ],
   "source": [
    "testGenerator = ImageDataGenerator(rescale=1./255)\n",
    "testGen = imageGenerator.flow_from_directory(\n",
    "    os.path.join(rootPath, 'test'),\n",
    "    target_size=(64, 64),\n",
    ")\n",
    "model.evaluate_generator(testGen)"
   ]
  },
  {
   "cell_type": "markdown",
   "id": "significant-devil",
   "metadata": {
    "id": "significant-devil"
   },
   "source": [
    "## 2-3. 방법3) Fine Tuning \n",
    "* CNN(대부부분사용+ ResNet Weight) + CNN(일부사용+내 데이터로 학습한 weight) + FC(신규, 내 데이터로 학습한 weight)  --> CNN일부, FC 학습시간 소요\n",
    "\n",
    "* 과부하 주의 ~!!!!   GPU 사용 권장\n",
    "* CNN 마지막 일부 레이어들의 가중치만 수정되도록 학습(미세조정)\n",
    "* 학습에 참여하는 레이어를 제외한 모델의 모든 레이어는 가중치를 업데이트 되지 않도록 동결(Freeze)  <---- 주의주의주의"
   ]
  },
  {
   "cell_type": "code",
   "execution_count": null,
   "id": "nonprofit-automation",
   "metadata": {
    "id": "nonprofit-automation",
    "outputId": "d1319617-a16c-4189-fb73-8803146e7b50"
   },
   "outputs": [
    {
     "name": "stdout",
     "output_type": "stream",
     "text": [
      "143\n",
      "conv5_block1_1_conv <tensorflow.python.keras.layers.convolutional.Conv2D object at 0x000001DF5FC7FD60>\n"
     ]
    }
   ],
   "source": [
    "model.trainable = False\n",
    "# gap = layers.GlobalAveragePooling2D()(base_model.output)\n",
    "\n",
    "for i, layer in enumerate(base_model.layers):\n",
    "    if layer.name == 'conv5_block1_1_conv':\n",
    "        print(i) \n",
    "    \n",
    "        \n",
    "# # 마지막 143번째 뒤 레이어들만 학습\n",
    "for l in base_model.layers[143:]:\n",
    "    l.trainable = True\n",
    "\n",
    "    \n",
    "print(base_model.get_layer('conv5_block1_1_conv').name,  base_model.layers[143])\n",
    "# conv5_block2_1_conv (Conv2D)    (None, 2, 2, 512)    1049088     conv5_block1_out[0][0] \n",
    "base_model = base_model.get_layer('conv5_block1_1_conv')\n",
    "    \n",
    "    \n",
    "    \n",
    "# # headModel = baseModel.output\n",
    "# headModel = AveragePooling2D(pool_size=(2, 2))(base_model.output)\n",
    "# headModel = Flatten(name=\"flatten\")(headModel)\n",
    "# headModel = Dense(256, activation=\"relu\")(headModel)\n",
    "# headModel = Dropout(0.5)(headModel)\n",
    "# headModel = Dense(1, activation=\"sigmoid\")(headModel)\n",
    "\n",
    "# # # # x = GlobalMaxPooling2D()(last_output)\n",
    "# # # # x = Dense(512, activation='relu')(x)\n",
    "# # # # x = Dropout(0.5)(x)\n",
    "# # # # x = layers.Dense(1, activation='sigmoid')(x)\n",
    "\n",
    "# model = Model(base_model.input, headModel)    \n",
    "# model.compile(optimizer='adam', loss='binary_crossentropy',  metrics=['acc'])\n",
    "# model.summary()\n"
   ]
  },
  {
   "cell_type": "markdown",
   "id": "orange-peripheral",
   "metadata": {
    "id": "orange-peripheral"
   },
   "source": [
    "### 학습"
   ]
  },
  {
   "cell_type": "code",
   "execution_count": null,
   "id": "suburban-trustee",
   "metadata": {
    "id": "suburban-trustee",
    "outputId": "84c3f2a8-f83c-4830-d053-d26e825f5f42"
   },
   "outputs": [
    {
     "name": "stdout",
     "output_type": "stream",
     "text": [
      "450 24\n"
     ]
    }
   ],
   "source": [
    "print(trainGen.samples, validationGen.samples)"
   ]
  },
  {
   "cell_type": "code",
   "execution_count": null,
   "id": "nonprofit-mineral",
   "metadata": {
    "id": "nonprofit-mineral",
    "outputId": "78da688a-3265-4989-b64f-ee1514cab02d"
   },
   "outputs": [
    {
     "name": "stdout",
     "output_type": "stream",
     "text": [
      "Epoch 1/135\n",
      "3/3 [==============================] - 1s 389ms/step - loss: 0.6931 - acc: 0.5000 - val_loss: 0.6931 - val_acc: 0.5000\n",
      "Epoch 2/135\n",
      "3/3 [==============================] - 1s 349ms/step - loss: 0.6931 - acc: 0.5000 - val_loss: 0.6931 - val_acc: 0.5000\n",
      "Epoch 3/135\n",
      "3/3 [==============================] - 1s 379ms/step - loss: 0.6931 - acc: 0.5000 - val_loss: 0.6931 - val_acc: 0.5000\n",
      "Epoch 4/135\n",
      "3/3 [==============================] - 1s 339ms/step - loss: 0.6931 - acc: 0.5000 - val_loss: 0.6931 - val_acc: 0.5000\n",
      "Epoch 5/135\n",
      "3/3 [==============================] - 1s 394ms/step - loss: 0.6931 - acc: 0.5000 - val_loss: 0.6931 - val_acc: 0.5000\n",
      "Epoch 6/135\n",
      "3/3 [==============================] - 1s 332ms/step - loss: 0.6931 - acc: 0.5000 - val_loss: 0.6931 - val_acc: 0.5000\n",
      "Epoch 7/135\n",
      "3/3 [==============================] - 1s 409ms/step - loss: 0.6931 - acc: 0.5000 - val_loss: 0.6931 - val_acc: 0.5000\n",
      "Epoch 8/135\n",
      "3/3 [==============================] - 1s 403ms/step - loss: 0.6931 - acc: 0.5000 - val_loss: 0.6931 - val_acc: 0.5000\n",
      "Epoch 9/135\n",
      "3/3 [==============================] - 1s 419ms/step - loss: 0.6931 - acc: 0.5000 - val_loss: 0.6931 - val_acc: 0.5000\n",
      "Epoch 10/135\n",
      "3/3 [==============================] - 1s 409ms/step - loss: 0.6931 - acc: 0.5000 - val_loss: 0.6931 - val_acc: 0.5000\n",
      "Epoch 11/135\n",
      "3/3 [=========================>....] - ETA: 0s - loss: 0.6931 - acc: 0.5000"
     ]
    },
    {
     "ename": "KeyboardInterrupt",
     "evalue": "",
     "output_type": "error",
     "traceback": [
      "\u001b[1;31m---------------------------------------------------------------------------\u001b[0m",
      "\u001b[1;31mKeyboardInterrupt\u001b[0m                         Traceback (most recent call last)",
      "\u001b[1;32m<ipython-input-112-cb8b2acbac81>\u001b[0m in \u001b[0;36m<module>\u001b[1;34m\u001b[0m\n\u001b[0;32m      1\u001b[0m \u001b[0mepochs\u001b[0m \u001b[1;33m=\u001b[0m \u001b[1;36m135\u001b[0m\u001b[1;33m\u001b[0m\u001b[1;33m\u001b[0m\u001b[0m\n\u001b[1;32m----> 2\u001b[1;33m history = model.fit_generator(\n\u001b[0m\u001b[0;32m      3\u001b[0m     \u001b[0mtrainGen\u001b[0m\u001b[1;33m,\u001b[0m\u001b[1;33m\u001b[0m\u001b[1;33m\u001b[0m\u001b[0m\n\u001b[0;32m      4\u001b[0m     \u001b[0mepochs\u001b[0m\u001b[1;33m=\u001b[0m\u001b[0mepochs\u001b[0m\u001b[1;33m,\u001b[0m\u001b[1;33m\u001b[0m\u001b[1;33m\u001b[0m\u001b[0m\n\u001b[0;32m      5\u001b[0m     \u001b[0msteps_per_epoch\u001b[0m\u001b[1;33m=\u001b[0m\u001b[0mtrainGen\u001b[0m\u001b[1;33m.\u001b[0m\u001b[0msamples\u001b[0m \u001b[1;33m/\u001b[0m \u001b[0mepochs\u001b[0m\u001b[1;33m,\u001b[0m\u001b[1;33m\u001b[0m\u001b[1;33m\u001b[0m\u001b[0m\n",
      "\u001b[1;32mc:\\it\\pythonproject2\\venv\\lib\\site-packages\\tensorflow\\python\\keras\\engine\\training.py\u001b[0m in \u001b[0;36mfit_generator\u001b[1;34m(self, generator, steps_per_epoch, epochs, verbose, callbacks, validation_data, validation_steps, validation_freq, class_weight, max_queue_size, workers, use_multiprocessing, shuffle, initial_epoch)\u001b[0m\n\u001b[0;32m   1845\u001b[0m                   \u001b[1;34m'will be removed in a future version. '\u001b[0m\u001b[1;33m\u001b[0m\u001b[1;33m\u001b[0m\u001b[0m\n\u001b[0;32m   1846\u001b[0m                   'Please use `Model.fit`, which supports generators.')\n\u001b[1;32m-> 1847\u001b[1;33m     return self.fit(\n\u001b[0m\u001b[0;32m   1848\u001b[0m         \u001b[0mgenerator\u001b[0m\u001b[1;33m,\u001b[0m\u001b[1;33m\u001b[0m\u001b[1;33m\u001b[0m\u001b[0m\n\u001b[0;32m   1849\u001b[0m         \u001b[0msteps_per_epoch\u001b[0m\u001b[1;33m=\u001b[0m\u001b[0msteps_per_epoch\u001b[0m\u001b[1;33m,\u001b[0m\u001b[1;33m\u001b[0m\u001b[1;33m\u001b[0m\u001b[0m\n",
      "\u001b[1;32mc:\\it\\pythonproject2\\venv\\lib\\site-packages\\tensorflow\\python\\keras\\engine\\training.py\u001b[0m in \u001b[0;36mfit\u001b[1;34m(self, x, y, batch_size, epochs, verbose, callbacks, validation_split, validation_data, shuffle, class_weight, sample_weight, initial_epoch, steps_per_epoch, validation_steps, validation_batch_size, validation_freq, max_queue_size, workers, use_multiprocessing)\u001b[0m\n\u001b[0;32m   1098\u001b[0m                 _r=1):\n\u001b[0;32m   1099\u001b[0m               \u001b[0mcallbacks\u001b[0m\u001b[1;33m.\u001b[0m\u001b[0mon_train_batch_begin\u001b[0m\u001b[1;33m(\u001b[0m\u001b[0mstep\u001b[0m\u001b[1;33m)\u001b[0m\u001b[1;33m\u001b[0m\u001b[1;33m\u001b[0m\u001b[0m\n\u001b[1;32m-> 1100\u001b[1;33m               \u001b[0mtmp_logs\u001b[0m \u001b[1;33m=\u001b[0m \u001b[0mself\u001b[0m\u001b[1;33m.\u001b[0m\u001b[0mtrain_function\u001b[0m\u001b[1;33m(\u001b[0m\u001b[0miterator\u001b[0m\u001b[1;33m)\u001b[0m\u001b[1;33m\u001b[0m\u001b[1;33m\u001b[0m\u001b[0m\n\u001b[0m\u001b[0;32m   1101\u001b[0m               \u001b[1;32mif\u001b[0m \u001b[0mdata_handler\u001b[0m\u001b[1;33m.\u001b[0m\u001b[0mshould_sync\u001b[0m\u001b[1;33m:\u001b[0m\u001b[1;33m\u001b[0m\u001b[1;33m\u001b[0m\u001b[0m\n\u001b[0;32m   1102\u001b[0m                 \u001b[0mcontext\u001b[0m\u001b[1;33m.\u001b[0m\u001b[0masync_wait\u001b[0m\u001b[1;33m(\u001b[0m\u001b[1;33m)\u001b[0m\u001b[1;33m\u001b[0m\u001b[1;33m\u001b[0m\u001b[0m\n",
      "\u001b[1;32mc:\\it\\pythonproject2\\venv\\lib\\site-packages\\tensorflow\\python\\eager\\def_function.py\u001b[0m in \u001b[0;36m__call__\u001b[1;34m(self, *args, **kwds)\u001b[0m\n\u001b[0;32m    826\u001b[0m     \u001b[0mtracing_count\u001b[0m \u001b[1;33m=\u001b[0m \u001b[0mself\u001b[0m\u001b[1;33m.\u001b[0m\u001b[0mexperimental_get_tracing_count\u001b[0m\u001b[1;33m(\u001b[0m\u001b[1;33m)\u001b[0m\u001b[1;33m\u001b[0m\u001b[1;33m\u001b[0m\u001b[0m\n\u001b[0;32m    827\u001b[0m     \u001b[1;32mwith\u001b[0m \u001b[0mtrace\u001b[0m\u001b[1;33m.\u001b[0m\u001b[0mTrace\u001b[0m\u001b[1;33m(\u001b[0m\u001b[0mself\u001b[0m\u001b[1;33m.\u001b[0m\u001b[0m_name\u001b[0m\u001b[1;33m)\u001b[0m \u001b[1;32mas\u001b[0m \u001b[0mtm\u001b[0m\u001b[1;33m:\u001b[0m\u001b[1;33m\u001b[0m\u001b[1;33m\u001b[0m\u001b[0m\n\u001b[1;32m--> 828\u001b[1;33m       \u001b[0mresult\u001b[0m \u001b[1;33m=\u001b[0m \u001b[0mself\u001b[0m\u001b[1;33m.\u001b[0m\u001b[0m_call\u001b[0m\u001b[1;33m(\u001b[0m\u001b[1;33m*\u001b[0m\u001b[0margs\u001b[0m\u001b[1;33m,\u001b[0m \u001b[1;33m**\u001b[0m\u001b[0mkwds\u001b[0m\u001b[1;33m)\u001b[0m\u001b[1;33m\u001b[0m\u001b[1;33m\u001b[0m\u001b[0m\n\u001b[0m\u001b[0;32m    829\u001b[0m       \u001b[0mcompiler\u001b[0m \u001b[1;33m=\u001b[0m \u001b[1;34m\"xla\"\u001b[0m \u001b[1;32mif\u001b[0m \u001b[0mself\u001b[0m\u001b[1;33m.\u001b[0m\u001b[0m_experimental_compile\u001b[0m \u001b[1;32melse\u001b[0m \u001b[1;34m\"nonXla\"\u001b[0m\u001b[1;33m\u001b[0m\u001b[1;33m\u001b[0m\u001b[0m\n\u001b[0;32m    830\u001b[0m       \u001b[0mnew_tracing_count\u001b[0m \u001b[1;33m=\u001b[0m \u001b[0mself\u001b[0m\u001b[1;33m.\u001b[0m\u001b[0mexperimental_get_tracing_count\u001b[0m\u001b[1;33m(\u001b[0m\u001b[1;33m)\u001b[0m\u001b[1;33m\u001b[0m\u001b[1;33m\u001b[0m\u001b[0m\n",
      "\u001b[1;32mc:\\it\\pythonproject2\\venv\\lib\\site-packages\\tensorflow\\python\\eager\\def_function.py\u001b[0m in \u001b[0;36m_call\u001b[1;34m(self, *args, **kwds)\u001b[0m\n\u001b[0;32m    853\u001b[0m       \u001b[1;31m# In this case we have created variables on the first call, so we run the\u001b[0m\u001b[1;33m\u001b[0m\u001b[1;33m\u001b[0m\u001b[1;33m\u001b[0m\u001b[0m\n\u001b[0;32m    854\u001b[0m       \u001b[1;31m# defunned version which is guaranteed to never create variables.\u001b[0m\u001b[1;33m\u001b[0m\u001b[1;33m\u001b[0m\u001b[1;33m\u001b[0m\u001b[0m\n\u001b[1;32m--> 855\u001b[1;33m       \u001b[1;32mreturn\u001b[0m \u001b[0mself\u001b[0m\u001b[1;33m.\u001b[0m\u001b[0m_stateless_fn\u001b[0m\u001b[1;33m(\u001b[0m\u001b[1;33m*\u001b[0m\u001b[0margs\u001b[0m\u001b[1;33m,\u001b[0m \u001b[1;33m**\u001b[0m\u001b[0mkwds\u001b[0m\u001b[1;33m)\u001b[0m  \u001b[1;31m# pylint: disable=not-callable\u001b[0m\u001b[1;33m\u001b[0m\u001b[1;33m\u001b[0m\u001b[0m\n\u001b[0m\u001b[0;32m    856\u001b[0m     \u001b[1;32melif\u001b[0m \u001b[0mself\u001b[0m\u001b[1;33m.\u001b[0m\u001b[0m_stateful_fn\u001b[0m \u001b[1;32mis\u001b[0m \u001b[1;32mnot\u001b[0m \u001b[1;32mNone\u001b[0m\u001b[1;33m:\u001b[0m\u001b[1;33m\u001b[0m\u001b[1;33m\u001b[0m\u001b[0m\n\u001b[0;32m    857\u001b[0m       \u001b[1;31m# Release the lock early so that multiple threads can perform the call\u001b[0m\u001b[1;33m\u001b[0m\u001b[1;33m\u001b[0m\u001b[1;33m\u001b[0m\u001b[0m\n",
      "\u001b[1;32mc:\\it\\pythonproject2\\venv\\lib\\site-packages\\tensorflow\\python\\eager\\function.py\u001b[0m in \u001b[0;36m__call__\u001b[1;34m(self, *args, **kwargs)\u001b[0m\n\u001b[0;32m   2940\u001b[0m       (graph_function,\n\u001b[0;32m   2941\u001b[0m        filtered_flat_args) = self._maybe_define_function(args, kwargs)\n\u001b[1;32m-> 2942\u001b[1;33m     return graph_function._call_flat(\n\u001b[0m\u001b[0;32m   2943\u001b[0m         filtered_flat_args, captured_inputs=graph_function.captured_inputs)  # pylint: disable=protected-access\n\u001b[0;32m   2944\u001b[0m \u001b[1;33m\u001b[0m\u001b[0m\n",
      "\u001b[1;32mc:\\it\\pythonproject2\\venv\\lib\\site-packages\\tensorflow\\python\\eager\\function.py\u001b[0m in \u001b[0;36m_call_flat\u001b[1;34m(self, args, captured_inputs, cancellation_manager)\u001b[0m\n\u001b[0;32m   1916\u001b[0m         and executing_eagerly):\n\u001b[0;32m   1917\u001b[0m       \u001b[1;31m# No tape is watching; skip to running the function.\u001b[0m\u001b[1;33m\u001b[0m\u001b[1;33m\u001b[0m\u001b[1;33m\u001b[0m\u001b[0m\n\u001b[1;32m-> 1918\u001b[1;33m       return self._build_call_outputs(self._inference_function.call(\n\u001b[0m\u001b[0;32m   1919\u001b[0m           ctx, args, cancellation_manager=cancellation_manager))\n\u001b[0;32m   1920\u001b[0m     forward_backward = self._select_forward_and_backward_functions(\n",
      "\u001b[1;32mc:\\it\\pythonproject2\\venv\\lib\\site-packages\\tensorflow\\python\\eager\\function.py\u001b[0m in \u001b[0;36mcall\u001b[1;34m(self, ctx, args, cancellation_manager)\u001b[0m\n\u001b[0;32m    553\u001b[0m       \u001b[1;32mwith\u001b[0m \u001b[0m_InterpolateFunctionError\u001b[0m\u001b[1;33m(\u001b[0m\u001b[0mself\u001b[0m\u001b[1;33m)\u001b[0m\u001b[1;33m:\u001b[0m\u001b[1;33m\u001b[0m\u001b[1;33m\u001b[0m\u001b[0m\n\u001b[0;32m    554\u001b[0m         \u001b[1;32mif\u001b[0m \u001b[0mcancellation_manager\u001b[0m \u001b[1;32mis\u001b[0m \u001b[1;32mNone\u001b[0m\u001b[1;33m:\u001b[0m\u001b[1;33m\u001b[0m\u001b[1;33m\u001b[0m\u001b[0m\n\u001b[1;32m--> 555\u001b[1;33m           outputs = execute.execute(\n\u001b[0m\u001b[0;32m    556\u001b[0m               \u001b[0mstr\u001b[0m\u001b[1;33m(\u001b[0m\u001b[0mself\u001b[0m\u001b[1;33m.\u001b[0m\u001b[0msignature\u001b[0m\u001b[1;33m.\u001b[0m\u001b[0mname\u001b[0m\u001b[1;33m)\u001b[0m\u001b[1;33m,\u001b[0m\u001b[1;33m\u001b[0m\u001b[1;33m\u001b[0m\u001b[0m\n\u001b[0;32m    557\u001b[0m               \u001b[0mnum_outputs\u001b[0m\u001b[1;33m=\u001b[0m\u001b[0mself\u001b[0m\u001b[1;33m.\u001b[0m\u001b[0m_num_outputs\u001b[0m\u001b[1;33m,\u001b[0m\u001b[1;33m\u001b[0m\u001b[1;33m\u001b[0m\u001b[0m\n",
      "\u001b[1;32mc:\\it\\pythonproject2\\venv\\lib\\site-packages\\tensorflow\\python\\eager\\execute.py\u001b[0m in \u001b[0;36mquick_execute\u001b[1;34m(op_name, num_outputs, inputs, attrs, ctx, name)\u001b[0m\n\u001b[0;32m     57\u001b[0m   \u001b[1;32mtry\u001b[0m\u001b[1;33m:\u001b[0m\u001b[1;33m\u001b[0m\u001b[1;33m\u001b[0m\u001b[0m\n\u001b[0;32m     58\u001b[0m     \u001b[0mctx\u001b[0m\u001b[1;33m.\u001b[0m\u001b[0mensure_initialized\u001b[0m\u001b[1;33m(\u001b[0m\u001b[1;33m)\u001b[0m\u001b[1;33m\u001b[0m\u001b[1;33m\u001b[0m\u001b[0m\n\u001b[1;32m---> 59\u001b[1;33m     tensors = pywrap_tfe.TFE_Py_Execute(ctx._handle, device_name, op_name,\n\u001b[0m\u001b[0;32m     60\u001b[0m                                         inputs, attrs, num_outputs)\n\u001b[0;32m     61\u001b[0m   \u001b[1;32mexcept\u001b[0m \u001b[0mcore\u001b[0m\u001b[1;33m.\u001b[0m\u001b[0m_NotOkStatusException\u001b[0m \u001b[1;32mas\u001b[0m \u001b[0me\u001b[0m\u001b[1;33m:\u001b[0m\u001b[1;33m\u001b[0m\u001b[1;33m\u001b[0m\u001b[0m\n",
      "\u001b[1;31mKeyboardInterrupt\u001b[0m: "
     ]
    }
   ],
   "source": [
    "epochs = 135\n",
    "history = model.fit_generator(\n",
    "    trainGen, \n",
    "    epochs=epochs,\n",
    "    steps_per_epoch=trainGen.samples / epochs, \n",
    "    validation_data=validationGen,\n",
    "    validation_steps=validationGen.samples /24\n",
    ")"
   ]
  },
  {
   "cell_type": "code",
   "execution_count": null,
   "id": "published-hours",
   "metadata": {
    "id": "published-hours",
    "outputId": "7883f23e-2926-4d4e-d5a7-9e7b81728d48"
   },
   "outputs": [
    {
     "data": {
      "image/png": "[encoded data removed]",
      "text/plain": [
       "<Figure size 864x360 with 1 Axes>"
      ]
     },
     "metadata": {
      "needs_background": "light"
     },
     "output_type": "display_data"
    }
   ],
   "source": [
    "myPlot(history)"
   ]
  },
  {
   "cell_type": "markdown",
   "id": "narrow-negative",
   "metadata": {
    "id": "narrow-negative"
   },
   "source": [
    "### 예측"
   ]
  },
  {
   "cell_type": "code",
   "execution_count": null,
   "id": "continuing-instrumentation",
   "metadata": {
    "id": "continuing-instrumentation",
    "outputId": "da38d30a-2789-4cea-8707-f21e55bbdadc"
   },
   "outputs": [
    {
     "name": "stdout",
     "output_type": "stream",
     "text": [
      "Found 240 images belonging to 2 classes.\n"
     ]
    },
    {
     "data": {
      "text/plain": [
       "[0.6931471228599548, 0.5]"
      ]
     },
     "execution_count": 109,
     "metadata": {},
     "output_type": "execute_result"
    }
   ],
   "source": [
    "testGenerator = ImageDataGenerator(rescale=1./255)\n",
    "testGen = imageGenerator.flow_from_directory(\n",
    "    os.path.join(rootPath, 'test'),\n",
    "    target_size=(64, 64),\n",
    ")\n",
    "model.evaluate_generator(testGen)"
   ]
  }
 ],
 "metadata": {
  "colab": {
   "provenance": []
  },
  "kernelspec": {
   "display_name": "Python 3 (ipykernel)",
   "language": "python",
   "name": "python3"
  },
  "language_info": {
   "codemirror_mode": {
    "name": "ipython",
    "version": 3
   },
   "file_extension": ".py",
   "mimetype": "text/x-python",
   "name": "python",
   "nbconvert_exporter": "python",
   "pygments_lexer": "ipython3",
   "version": "3.8.8"
  }
 },
 "nbformat": 4,
 "nbformat_minor": 5
}
