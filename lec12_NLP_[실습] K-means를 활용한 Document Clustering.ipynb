{
 "cells": [
  {
   "cell_type": "markdown",
   "id": "2febed3e-6878-4d5f-8791-fc65fbf18335",
   "metadata": {
    "tags": []
   },
   "source": [
    "# 문서 군집화(Clustering)와 문서간 유사도(Similarity) 측정\n",
    "\n",
    "* 문서 군집화 : 동일한 군집에 속하는 문서를 같은 카테고리 소속으로 분류\n",
    "\n",
    "* ref : https://techblog-history-younghunjo1.tistory.com/114\n",
    "\n",
    "* BOW .Count Vectorizer : 단어 발생 빈도수에만 초점, 문서들간의 관계 파악 X\n",
    "* Tf-idf 사용\n",
    "* 벡터화 방법\n",
    "    - BOW(Bag Of Words) : 단어 발생 빈도수에 기반, Feature 벡터화\n",
    "    - Word embedding : 단어들간의 의미 관계(벡터들간의 방향) 고려해 벡터화"
   ]
  },
  {
   "cell_type": "code",
   "execution_count": 1,
   "id": "124bdd26-0450-48a4-80e8-49850cc64500",
   "metadata": {
    "tags": []
   },
   "outputs": [
    {
     "name": "stderr",
     "output_type": "stream",
     "text": [
      "C:\\Users\\ASIA\\AppData\\Local\\Temp\\ipykernel_19508\\2021393595.py:7: DeprecationWarning: Importing display from IPython.core.display is deprecated since IPython 7.14, please import from IPython display\n",
      "  from IPython.core.display import display, HTML\n"
     ]
    },
    {
     "data": {
      "text/html": [
       "<style>.container{width:100% !important;}</style>"
      ],
      "text/plain": [
       "<IPython.core.display.HTML object>"
      ]
     },
     "metadata": {},
     "output_type": "display_data"
    }
   ],
   "source": [
    "import pandas as pd\n",
    "import glob, os\n",
    "import matplotlib.pyplot as plt\n",
    "import seaborn as sns\n",
    "\n",
    "#-------------------- 주피터 셀 넓이 조절 ---------------------\n",
    "from IPython.core.display import display, HTML\n",
    "display(HTML(\"<style>.container{width:100% !important;}</style>\"))\n",
    "pd.set_option('display.max_rows', 500)\n",
    "pd.set_option('display.max_columns', 500)\n",
    "pd.set_option('max_colwidth', None)\n",
    "\n",
    "sns.set()"
   ]
  },
  {
   "cell_type": "code",
   "execution_count": null,
   "id": "1f74e829-7120-4024-9337-6532be006148",
   "metadata": {},
   "outputs": [],
   "source": []
  },
  {
   "cell_type": "code",
   "execution_count": 2,
   "id": "17e391eb-9dd0-4a3b-bb7e-8a023267ded8",
   "metadata": {},
   "outputs": [],
   "source": [
    "# from sklearn.datasets import fetch_20newsgroups\n",
    "# news_data = fetch_20newsgroups(subset='all',random_state=156)"
   ]
  },
  {
   "cell_type": "code",
   "execution_count": 2,
   "id": "d6247c62-f21e-4be5-91e7-47639caf172d",
   "metadata": {
    "tags": []
   },
   "outputs": [
    {
     "data": {
      "text/html": [
       "<div>\n",
       "<style scoped>\n",
       "    .dataframe tbody tr th:only-of-type {\n",
       "        vertical-align: middle;\n",
       "    }\n",
       "\n",
       "    .dataframe tbody tr th {\n",
       "        vertical-align: top;\n",
       "    }\n",
       "\n",
       "    .dataframe thead th {\n",
       "        text-align: right;\n",
       "    }\n",
       "</style>\n",
       "<table border=\"1\" class=\"dataframe\">\n",
       "  <thead>\n",
       "    <tr style=\"text-align: right;\">\n",
       "      <th></th>\n",
       "      <th>filename</th>\n",
       "      <th>opinion_text</th>\n",
       "    </tr>\n",
       "  </thead>\n",
       "  <tbody>\n",
       "    <tr>\n",
       "      <th>0</th>\n",
       "      <td>accuracy_garmin_nuvi_255W_gps</td>\n",
       "      <td>, and is very, very accurate .\\n0                                                                                                                                                                           but for the most part, we find that the Garmin software provides accurate directions, whereever we intend to go .\\n1                                                                                                              This function is not accurate if you don't leave it in battery mode say, when you stop at the Cracker Barrell for lunch and to play one of those trangle games with the tees .\\n2                                                                                                                                                                      It provides immediate alternatives if the route from the online map program was inaccurate or blocked by an obstacle .\\n3                                                                                                                                                                    I've used other GPS units, as well as GPS built into cars   and to this day NOTHING beats the accuracy of a Garmin GPS .\\n4                                                                                                                                                                                                                            It got me from point A to point B with 100% accuracy everytime .\\n5                                                                                                                                                                                                                        It has yet to disappoint, getting me everywhere with 100% accuracy .\\n6                                                                                                                                                                                                                                   0 out of 5 stars Honest, accurate review, , PLEASE READ !\\n7                                                                                                                                                                                                                  Aside from that, every destination I've thrown at has been 100% accurate .\\n8                                                                                                                                                                                       In closing, this is a fantastic GPS with some very nice features and is very accurate in directions .\\n9                                                                                                                                                                                             Plus, I've always heard that there are  quirks  with any GPS being accurate, having POIs, etc .\\n10                                                                                                                                                                                                                                          DESTINATION TIME, , This is pretty accurate too .\\n11                                                                                                                                                                                                                                                           But, it's always very accurate .\\n12                                                                                                                                                                                                               The map is pretty accurate and the Point of interest database also is good .\\n13                                                                                                                                                                                                                                           Most of the times, this info was very accurate .\\n14                                                                                                                                                                                                          I've even used it in the  pedestrian  mode, and it's amazing how accurate it is .\\n15                                                                                                                                                                                                                      ONLY  is only accurate when an ad says,  Top sirloin steak, ONLY $1 .\\n16                                                                                                                                                                                The most accurate review stated that these machines are adjunct to a good map and signs on the interstate .\\n17                                                                                                                                                                                                                                         The directions are highly accurate down to a  T  .\\n18                                                                                                                                   Depending on what you are using it for, it is a nice adjunct to a travel trip and the directions are accurate and usually the quickest, but not always .\\n19                                                                                                                                                                                                      The screen is easy to see, the voice tells you where you are and it's very accurate .\\n20                                                                                                                                                                                                                   It was accurate to the minute when it told me when I would arrive home .\\n21                                                                                                                                                                                                            0 out of 5 stars GPS Navigator doesn't navigate accurately on a straight road .\\n22                                                                                                                                                                                          I was familiar with the streets and only used the Nuvi to get an accurate arrival time estimate .\\n23                                                                                                                                                                                                                                 but after that it is very easy and quite accurate to use .\\n24                                                                                                                                                                                                                                                  The accuracy at this point is very good .\\n25                                                                                                                                              While the 255W routing seems generally accurate and logical, on my first use I discovered that it does have some errors in its internal map .\\n26                                                                                                                                                                                                    Bottom line is I wanted a unit that is accurate and had reliable satellite connection .\\n27                                                                                                                                                                                                                            I've used it around town and find it to be extremely accurate .\\n28                                                                                                                                                                          I found the maps to be inaccurate at first, but after I updated them from Garmin's website everything is golden .\\n29                                                                                                                                                                                                                                 A lot of my friends' addresses are inaccurate by any GPS .\\n30                                                                                                                                                                                        It loads quickly, have pretty accurate directions, and can recalculate quickly when I miss a turn .\\n31                                                                                                                            Because the accuracy is good to the street address level, it may not be able to guide you to the exact location if your destination is inside a shopping mall .\\n32                                                                                                                                                                                            I updated to the latest 2010 map soon after I received the unit, so the map is accurate to me .\\n33                                                                                                                                                                                                                   I was blown away at the accuracy and routing capability this thing had .\\n34   I used it the day I bought it,   and then this morning, and as soon as it comes on it is  ready to navigate  The only downfall of this product, and the only reason I did not give it 5 stars is the fact that the speed limit it displays for the road you are on isn't 100% accurate .\\n35                                                                                                                                                                                                        If your looking for a nice, accurate GPS for not so much money, got with this one .\\n36                                                                                                                                                                                                                 0 out of 5 stars Inexpensive, accurate, plenty of features, August 6, 2009\\n37                                                                                                     The only glitch I have found so far is that the speed limits are not 100% accurate, although the GPS, amazingly, is able to very accurately tell you how fast your vehicle is moving .\\n38                                                                I was a little disappointed in the inaccuracy of the posted speed limit, as I'm guilty of not paying close enough attention to those signs, especially w  interstate speed traps that are constantly changing up and down .\\n39                                                                                                                                                                                                    The closest one that gives the most accurate route that I usually take is the Navigon .\\n40                                                                                                                          After 2 weeks, it has yet to make a mistake, and is always completely accurate ,  even to the point of telling me which side of the street my destination is on .\\n41                                                                                                                                                                                                    It has worked well for local driving giving accurate directions for roads and streets .\\n42                                                                                                                                                                                                  The estimated time to arrival does not seem to calculate the travelling time accurately .\\n43                                                                                                                          Accuracy is as good as any other unit, they all sometimes tell you you have arrived when you haven't, or continue to tell you to turn when you're already there .\\n44                                                                                                                                                                                                                                                       Accuracy is determined by the maps .\\n45                                                                                                                                                                                                                               Less traveled rural roads will not be accurate on any unit .\\n46                                                                                                                                                                                                                                                           Accuracy is within a few yards .\\n47                                                                                                                          What the 255w does best is find a street address, business, point of interest, hospital or airport and give you turn, by, turn directions with amazing accuracy .\\n48                                                                                                                                                                                    The Garmin is loaded with very accurate maps that generally know the roads in even the remotest areas .\\n49                                                        I'm really glad I bought it though, and like the easy to read graphics, the voice used to tell you the name of the street you are to turn on, the uncannily accurate estimates of mileage and time of arrival at your destination .\\n50                                                                                                                                                       My new Garmin 255w had very Easy Set Up, Accurate Directions to locations, User Friendly Unit to anyone in my vehicle who tried it .\\n51                                                                                                                                 I had a GPS 10, years ago when I owned a boat that was difficult to use and with very poor accuracy so I had assumed that the road GPS wasn't any better .\\n52                                                                                                                                                                                            Practiced visiting places I already knew to see how accurate the directions and maps would be .\\n53                                                                                                                                                                                                                            Easy to use, excellent accuracy, nice and intuitive interface .\\n54                                                                                                                                                                                                                            The directions provided have all been quite accurate thus far .\\n55                                                                                                                                                                                                             ,  Very Accurate but with one small glitch I found ,  I'll explain in the CONS\\n56                                                                                                                                                                                                                      This is a great GPS, it is so easy to use and it is always accurate .\\n57                                                                                                                                        Very easy to operate and pretty accurate as well, only led me astray once and that was in northern Maine where roads are few and paved ones fewer .\\n58                                                                                                                                                                                                                                      Easy to use and amazed at how accurate this item is .\\n59                                                                                                                                                                                                                                        To date it's been a very easy to use and accurate .\\n60                                                                                                                                                                                                                                         Mounted really easily and has been very accurate .\\n61                                                                                                                                                                                                                                                              seems to be rather accurate .\\n62                                                                                                                                                                                                        It was accurate on determing original directions and recalculating when necessary .\\n63                                                                                                                                                                                                                                                          Highly accurate, POIs are great .\\n64                                                                                                                               I can't believe how accurate and detailed the information estimated time of arrival,speed limits along the way,and detailed map of my route, to name a few .\\n65                                                                                                                                                                                                                Speed of calculation, accuracy, and simplicity of operation are top notch .</td>\n",
       "    </tr>\n",
       "  </tbody>\n",
       "</table>\n",
       "</div>"
      ],
      "text/plain": [
       "                        filename  \\\n",
       "0  accuracy_garmin_nuvi_255W_gps   \n",
       "\n",
       "                                                                                                                                                                                                                                                                                                                                                                                                                                                                                                                                                                                                                                                                                                                                                                                                                                                                                                                                                                                                                                                                                                                                                                                                                                                                                                                                                                                                                                                                                                                                                                                                                                                                                                                                                                                                                                                                                                                                                                                                                                                                                                                                                                                                                                                                                                                                                                                                                                                                                                                                                                                                                                                                                                                                                                                                                                                                                                                                                                                                                                                                                                                                                                                                                                                                                                                                                                                                                                                                                                                                                                                                                                                                                                                                                                                                                                                                                                                                                                                                                                                                                                                                                                                                                                                                                                                                                                                                                                                                                                                                                                                                                                                                                                                                                                                                                                                                                                                                                                                                                                                                                                                                                                                                                                                                                                                                                                                                                                                                                                                                                                                                                                                                                                                                                                                                                                                                                                                                                                                                                                                                                                                                                                                                                                                                                                                                                                                                                                                                                                                                                                                                                                                                                                                                                                                                                                                                                                                                                                                                                                                                                                                                                                                                                                                                                                                                                                                                                                                                                                                                                                                                                                                                                                                                                                                                                                                                                                                                                                                                                                                                                                                                                                                                                                                                                                                                                                                                                                                                                                                                                                                                                                                                                                                                                                                                                                                                                                                                                                                                                                                                                                                                                                                                                                                                                                                                                                                                                                                                                                                                                                                                                                                                                                                                                                                                                                                                                                                                                                                                                                                                                                                                                                                                                                                                                                                                                                                                                                                                                                                                                                                                                                                                                                                                                                                                                                                                                                                                                                                                                                                                                                                                                                                                                                                                                                                                                                                                                                                                                                                                                                                                                                                                                                                                                                                                                                                                                                                                                                                                                                                                                                                                                                                                                                                                                                                                                                                                                                                                                                                                                                                                                                                                                                                                                                                                                                                                                                                                                                                                                                                                                                                                                                                                                                                                                                                                                                                                                                                                                                                                                                                                                                                                                                                                                                                                                                                                                                                                                                                                                                                                                                                                                                                                                                                                                                                                                                                                                                                                                                                                                                                                                                                                                                                                                                                                                                                                                                                                                                                                                                                                                                                                                                                                                                                                                                                                                                                                                                                                                                                                                                                                                                                                                                                                                                                                                                                                                                                                                                                                                                                                                                                                                                                                                                                                                                                                                                                                                                                                                                                                                                                                                                                                                                                                                                                                                                                                                                                                                                                                                                                                                                                                                                                                                                                                                                                                                                                                                                                                                                                                                                                                                                                                                                                                                                                                                                                                                                                                                                                                                                                                                                                                                                                                                                                                                                                                                                                                                                                                                                                                                                                                                                                                                                                                                                                                                                                                                                                                                                                                                                                                                                                                                                                                                                                                                                                                                                                                                                                                                                                                                                                                                                                                                                                                                                                                                                                                                                                                                                                                                  opinion_text  \n",
       "0                                                                                                                                                                                                                                                                 , and is very, very accurate .\\n0                                                                                                                                                                           but for the most part, we find that the Garmin software provides accurate directions, whereever we intend to go .\\n1                                                                                                              This function is not accurate if you don't leave it in battery mode say, when you stop at the Cracker Barrell for lunch and to play one of those trangle games with the tees .\\n2                                                                                                                                                                      It provides immediate alternatives if the route from the online map program was inaccurate or blocked by an obstacle .\\n3                                                                                                                                                                    I've used other GPS units, as well as GPS built into cars   and to this day NOTHING beats the accuracy of a Garmin GPS .\\n4                                                                                                                                                                                                                            It got me from point A to point B with 100% accuracy everytime .\\n5                                                                                                                                                                                                                        It has yet to disappoint, getting me everywhere with 100% accuracy .\\n6                                                                                                                                                                                                                                   0 out of 5 stars Honest, accurate review, , PLEASE READ !\\n7                                                                                                                                                                                                                  Aside from that, every destination I've thrown at has been 100% accurate .\\n8                                                                                                                                                                                       In closing, this is a fantastic GPS with some very nice features and is very accurate in directions .\\n9                                                                                                                                                                                             Plus, I've always heard that there are  quirks  with any GPS being accurate, having POIs, etc .\\n10                                                                                                                                                                                                                                          DESTINATION TIME, , This is pretty accurate too .\\n11                                                                                                                                                                                                                                                           But, it's always very accurate .\\n12                                                                                                                                                                                                               The map is pretty accurate and the Point of interest database also is good .\\n13                                                                                                                                                                                                                                           Most of the times, this info was very accurate .\\n14                                                                                                                                                                                                          I've even used it in the  pedestrian  mode, and it's amazing how accurate it is .\\n15                                                                                                                                                                                                                      ONLY  is only accurate when an ad says,  Top sirloin steak, ONLY $1 .\\n16                                                                                                                                                                                The most accurate review stated that these machines are adjunct to a good map and signs on the interstate .\\n17                                                                                                                                                                                                                                         The directions are highly accurate down to a  T  .\\n18                                                                                                                                   Depending on what you are using it for, it is a nice adjunct to a travel trip and the directions are accurate and usually the quickest, but not always .\\n19                                                                                                                                                                                                      The screen is easy to see, the voice tells you where you are and it's very accurate .\\n20                                                                                                                                                                                                                   It was accurate to the minute when it told me when I would arrive home .\\n21                                                                                                                                                                                                            0 out of 5 stars GPS Navigator doesn't navigate accurately on a straight road .\\n22                                                                                                                                                                                          I was familiar with the streets and only used the Nuvi to get an accurate arrival time estimate .\\n23                                                                                                                                                                                                                                 but after that it is very easy and quite accurate to use .\\n24                                                                                                                                                                                                                                                  The accuracy at this point is very good .\\n25                                                                                                                                              While the 255W routing seems generally accurate and logical, on my first use I discovered that it does have some errors in its internal map .\\n26                                                                                                                                                                                                    Bottom line is I wanted a unit that is accurate and had reliable satellite connection .\\n27                                                                                                                                                                                                                            I've used it around town and find it to be extremely accurate .\\n28                                                                                                                                                                          I found the maps to be inaccurate at first, but after I updated them from Garmin's website everything is golden .\\n29                                                                                                                                                                                                                                 A lot of my friends' addresses are inaccurate by any GPS .\\n30                                                                                                                                                                                        It loads quickly, have pretty accurate directions, and can recalculate quickly when I miss a turn .\\n31                                                                                                                            Because the accuracy is good to the street address level, it may not be able to guide you to the exact location if your destination is inside a shopping mall .\\n32                                                                                                                                                                                            I updated to the latest 2010 map soon after I received the unit, so the map is accurate to me .\\n33                                                                                                                                                                                                                   I was blown away at the accuracy and routing capability this thing had .\\n34   I used it the day I bought it,   and then this morning, and as soon as it comes on it is  ready to navigate  The only downfall of this product, and the only reason I did not give it 5 stars is the fact that the speed limit it displays for the road you are on isn't 100% accurate .\\n35                                                                                                                                                                                                        If your looking for a nice, accurate GPS for not so much money, got with this one .\\n36                                                                                                                                                                                                                 0 out of 5 stars Inexpensive, accurate, plenty of features, August 6, 2009\\n37                                                                                                     The only glitch I have found so far is that the speed limits are not 100% accurate, although the GPS, amazingly, is able to very accurately tell you how fast your vehicle is moving .\\n38                                                                I was a little disappointed in the inaccuracy of the posted speed limit, as I'm guilty of not paying close enough attention to those signs, especially w  interstate speed traps that are constantly changing up and down .\\n39                                                                                                                                                                                                    The closest one that gives the most accurate route that I usually take is the Navigon .\\n40                                                                                                                          After 2 weeks, it has yet to make a mistake, and is always completely accurate ,  even to the point of telling me which side of the street my destination is on .\\n41                                                                                                                                                                                                    It has worked well for local driving giving accurate directions for roads and streets .\\n42                                                                                                                                                                                                  The estimated time to arrival does not seem to calculate the travelling time accurately .\\n43                                                                                                                          Accuracy is as good as any other unit, they all sometimes tell you you have arrived when you haven't, or continue to tell you to turn when you're already there .\\n44                                                                                                                                                                                                                                                       Accuracy is determined by the maps .\\n45                                                                                                                                                                                                                               Less traveled rural roads will not be accurate on any unit .\\n46                                                                                                                                                                                                                                                           Accuracy is within a few yards .\\n47                                                                                                                          What the 255w does best is find a street address, business, point of interest, hospital or airport and give you turn, by, turn directions with amazing accuracy .\\n48                                                                                                                                                                                    The Garmin is loaded with very accurate maps that generally know the roads in even the remotest areas .\\n49                                                        I'm really glad I bought it though, and like the easy to read graphics, the voice used to tell you the name of the street you are to turn on, the uncannily accurate estimates of mileage and time of arrival at your destination .\\n50                                                                                                                                                       My new Garmin 255w had very Easy Set Up, Accurate Directions to locations, User Friendly Unit to anyone in my vehicle who tried it .\\n51                                                                                                                                 I had a GPS 10, years ago when I owned a boat that was difficult to use and with very poor accuracy so I had assumed that the road GPS wasn't any better .\\n52                                                                                                                                                                                            Practiced visiting places I already knew to see how accurate the directions and maps would be .\\n53                                                                                                                                                                                                                            Easy to use, excellent accuracy, nice and intuitive interface .\\n54                                                                                                                                                                                                                            The directions provided have all been quite accurate thus far .\\n55                                                                                                                                                                                                             ,  Very Accurate but with one small glitch I found ,  I'll explain in the CONS\\n56                                                                                                                                                                                                                      This is a great GPS, it is so easy to use and it is always accurate .\\n57                                                                                                                                        Very easy to operate and pretty accurate as well, only led me astray once and that was in northern Maine where roads are few and paved ones fewer .\\n58                                                                                                                                                                                                                                      Easy to use and amazed at how accurate this item is .\\n59                                                                                                                                                                                                                                        To date it's been a very easy to use and accurate .\\n60                                                                                                                                                                                                                                         Mounted really easily and has been very accurate .\\n61                                                                                                                                                                                                                                                              seems to be rather accurate .\\n62                                                                                                                                                                                                        It was accurate on determing original directions and recalculating when necessary .\\n63                                                                                                                                                                                                                                                          Highly accurate, POIs are great .\\n64                                                                                                                               I can't believe how accurate and detailed the information estimated time of arrival,speed limits along the way,and detailed map of my route, to name a few .\\n65                                                                                                                                                                                                                Speed of calculation, accuracy, and simplicity of operation are top notch .  "
      ]
     },
     "execution_count": 2,
     "metadata": {},
     "output_type": "execute_result"
    }
   ],
   "source": [
    "path = './datasets/UCI_Opinion_Review'\n",
    "all_files = glob.glob(os.path.join(path,\"*.data\"))\n",
    "# all_files = os.listdir('./datasets/UCI_Opinion_Review')\n",
    "\n",
    "filename_list = []\n",
    "opinion_text = []\n",
    "for file_ in all_files:\n",
    "   #['', '/datasets/UCI_Opinion_Review\\\\accuracy_garmin_nuvi_255W_gps', 'txt', 'data']\n",
    "    filename_ = file_.split('\\\\')[-1]  # 확장자 꺼내기\n",
    "    filename = filename_.split('.')[0] # 파일이름 꺼내기\n",
    "    filename_list.append(filename)\n",
    "    \n",
    "    df = pd.read_table(file_, index_col=None, header=0, encoding='latin1')\n",
    "    opinion_text.append(df.to_string())\n",
    "\n",
    "document_df = pd.DataFrame({'filename':filename_list, 'opinion_text':opinion_text})\n",
    "document_df.head(1)"
   ]
  },
  {
   "cell_type": "code",
   "execution_count": 4,
   "id": "5ddd1ab1-dbb6-4acc-bd54-baea1dac080c",
   "metadata": {},
   "outputs": [],
   "source": [
    "# nltk.download('punkt')     # c:\\ai\\pythonproject\\venv\\nltk_data\n",
    "# nltk.download('wordnet')\n",
    "  "
   ]
  },
  {
   "cell_type": "code",
   "execution_count": 21,
   "id": "319ffcf0-21c2-4998-af93-6e70440f2a21",
   "metadata": {},
   "outputs": [
    {
     "name": "stdout",
     "output_type": "stream",
     "text": [
      "!\"#$%&'()*+,-./:;<=>?@[\\]^_`{|}~\n"
     ]
    }
   ],
   "source": [
    "from sklearn.feature_extraction.text import TfidfVectorizer\n",
    "from nltk.stem import WordNetLemmatizer\n",
    "import nltk\n",
    "import string\n",
    "\n",
    "print( string.punctuation)"
   ]
  },
  {
   "cell_type": "code",
   "execution_count": 20,
   "id": "309a0252-af55-470a-a1d3-23d60f040875",
   "metadata": {
    "tags": []
   },
   "outputs": [
    {
     "name": "stdout",
     "output_type": "stream",
     "text": [
      "{33: None, 34: None, 35: None, 36: None, 37: None, 38: None, 39: None, 40: None, 41: None, 42: None, 43: None, 44: None, 45: None, 46: None, 47: None, 58: None, 59: None, 60: None, 61: None, 62: None, 63: None, 64: None, 91: None, 92: None, 93: None, 94: None, 95: None, 96: None, 123: None, 124: None, 125: None, 126: None}\n"
     ]
    }
   ],
   "source": [
    "remove_punct_list=[]\n",
    "for punct in string.punctuation:\n",
    "    # print(ord(punct))\n",
    "    remove_punct_list.append((ord(punct),None))\n",
    "    remove_punct_dict=dict(remove_punct_list)\n",
    "\n",
    "print(remove_punct_dict)\n",
    "\n",
    "# remove_punct_dict = dict((ord(punct), None) for punct in string.punctuation)\n",
    "# print(remove_punct_dict)"
   ]
  },
  {
   "cell_type": "code",
   "execution_count": 35,
   "id": "a4709926-d923-42ba-83cc-bdf25f0e164a",
   "metadata": {
    "tags": []
   },
   "outputs": [
    {
     "name": "stdout",
     "output_type": "stream",
     "text": [
      "(51, 4611)\n",
      "[[0.04832472 0.         0.         ... 0.         0.         0.        ]\n",
      " [0.         0.         0.         ... 0.         0.         0.        ]\n",
      " [0.         0.         0.         ... 0.         0.         0.        ]\n",
      " ...\n",
      " [0.         0.         0.         ... 0.01547441 0.         0.        ]\n",
      " [0.         0.         0.         ... 0.         0.         0.        ]\n",
      " [0.0088014  0.         0.         ... 0.         0.         0.        ]]\n"
     ]
    }
   ],
   "source": [
    "# 텍스트 단어들의 어근 원형을 추출하기 위해 함수 생성\n",
    "from sklearn.feature_extraction.text import TfidfVectorizer\n",
    "from nltk.stem import WordNetLemmatizer\n",
    "import nltk\n",
    "import string\n",
    "\n",
    "# ord('문자열') => 문자열의 ASCII코드를 반환\n",
    "# dict(key, value)형태로 모든 구두점의 각 ASCII코드를 key값으로 넣어주자!\n",
    "remove_punct_dict = dict((ord(punct), None) for punct in string.punctuation)\n",
    "lemmar = WordNetLemmatizer()\n",
    "\n",
    "def LemTokens(tokens):\n",
    "    return [lemmar.lemmatize(token) for token in tokens]\n",
    "def LemNormalize(text):\n",
    "    #구두점 삭제해준 상태로 토큰화\n",
    "    return LemTokens(nltk.word_tokenize(text.lower().translate(remove_punct_dict)))  # translate : 딕셔너리 형태로 값을 전달하면 키를 값의 형태로 바꾸겠다는 것\n",
    "                                                                                     #           : 각 텍스트에서 remove_punct_dict에 있는 특수문자가 있을 경우 해당 문자 없앰\n",
    "\n",
    "tfidf_vect = TfidfVectorizer(tokenizer=LemNormalize,\n",
    "                             stop_words='english', \n",
    "                             ngram_range=(1,2),  # 단어를 1개 혹은 연속된 2개의 단어의 형태로 잘라라\n",
    "                             min_df=0.05, max_df=0.85)              # 빈도수 0.05이하, 0.85이상의 빈도수 단어들 제거\n",
    "ftr_vect = tfidf_vect.fit_transform(document_df['opinion_text'])    # 벡터화\n",
    "print(ftr_vect.shape)\n",
    "print(ftr_vect.toarray())"
   ]
  },
  {
   "cell_type": "code",
   "execution_count": 48,
   "id": "cb76d0d6-cd3f-4d98-b08f-41b2213c6687",
   "metadata": {
    "tags": []
   },
   "outputs": [
    {
     "name": "stdout",
     "output_type": "stream",
     "text": [
      "4611\n"
     ]
    }
   ],
   "source": [
    "vocab=tfidf_vect.vocabulary_\n",
    "print(len(vocab.keys()))\n",
    "# print(vocab)"
   ]
  },
  {
   "cell_type": "code",
   "execution_count": 26,
   "id": "48c2cc69-ee37-4d28-9e1d-41a0638df903",
   "metadata": {
    "tags": []
   },
   "outputs": [
    {
     "data": {
      "text/plain": [
       "['i',\n",
       " 'did',\n",
       " 'not',\n",
       " 'give',\n",
       " 'it',\n",
       " '5',\n",
       " 'star',\n",
       " 'is',\n",
       " 'the',\n",
       " 'fact',\n",
       " 'that',\n",
       " 'the',\n",
       " 'speed',\n",
       " 'limit',\n",
       " 'it',\n",
       " 'display',\n",
       " 'for',\n",
       " 'the',\n",
       " 'road',\n",
       " 'you',\n",
       " 'are',\n",
       " 'on',\n",
       " 'isnt',\n",
       " '100',\n",
       " 'accurate']"
      ]
     },
     "execution_count": 26,
     "metadata": {},
     "output_type": "execute_result"
    }
   ],
   "source": [
    "LemNormalize(\"I did not give it 5 stars is the fact that the speed limit it displays for the road you are on isn't 100% accurate\")"
   ]
  },
  {
   "cell_type": "code",
   "execution_count": 70,
   "id": "95a26dbe-8a76-4378-a324-56f5264a8346",
   "metadata": {
    "tags": []
   },
   "outputs": [
    {
     "data": {
      "text/plain": [
       "2    25\n",
       "1    16\n",
       "0    10\n",
       "Name: cluster_label, dtype: int64"
      ]
     },
     "execution_count": 70,
     "metadata": {},
     "output_type": "execute_result"
    }
   ],
   "source": [
    "from sklearn.cluster import KMeans\n",
    "kmeans = KMeans(n_clusters=3, max_iter=10000, random_state=42)\n",
    "cluster_label = kmeans.fit_predict(ftr_vect) # ftr_vect에서의 한 줄 == 하나의 문서 내에 있는 단어들의 중요도\n",
    "                                             # (tfidf: 문서 내에서 특정 단어의 중요도)\n",
    "document_df['cluster_label'] = cluster_label   # cluster_label 문서들이 분류된 군집 번호\n",
    "# document_df.sort_values(by=['cluster_label']).head(2)\n",
    "document_df['cluster_label'].value_counts()"
   ]
  },
  {
   "cell_type": "code",
   "execution_count": 60,
   "id": "786bf63c-c296-4c18-b90b-e5d9a409c851",
   "metadata": {
    "tags": []
   },
   "outputs": [
    {
     "name": "stdout",
     "output_type": "stream",
     "text": [
      "(3, 4611)\n",
      "[[0.         0.00092551 0.         ... 0.         0.         0.        ]\n",
      " [0.         0.00099499 0.00174637 ... 0.         0.00183397 0.00144581]\n",
      " [0.01005322 0.         0.         ... 0.00706287 0.         0.        ]]\n"
     ]
    }
   ],
   "source": [
    "# 문서의 feature(단어별) cluster_centers_\n",
    "cluster_centers = kmeans.cluster_centers_\n",
    "print(cluster_centers.shape)  #(클러스터 레이블, 벡터화feature(단어들)\n",
    "print(cluster_centers)"
   ]
  },
  {
   "cell_type": "code",
   "execution_count": 61,
   "id": "ea9f87dc-5e0c-40ff-93b3-8406b54a4c7e",
   "metadata": {
    "tags": []
   },
   "outputs": [
    {
     "data": {
      "text/plain": [
       "{0: {'cluster': 0}}"
      ]
     },
     "execution_count": 61,
     "metadata": {},
     "output_type": "execute_result"
    }
   ],
   "source": [
    "cluster_details = {}\n",
    "cluster_details[0]={}\n",
    "cluster_details[0]['cluster']=0\n",
    "cluster_details"
   ]
  },
  {
   "cell_type": "code",
   "execution_count": 73,
   "id": "70d4322f-4642-4329-9fb9-025ae8dcc564",
   "metadata": {
    "tags": []
   },
   "outputs": [],
   "source": [
    "def get_cluster_details(cluster_model, cluster_data, feature_names,\n",
    "                       cluster_num, top_n_features=10):\n",
    "    cluster_details = {}\n",
    "    center_feature_idx = cluster_model.cluster_centers_.argsort()[:,::-1]  #내림차순정렬\n",
    "    print(f\"cluster_centers index : {center_feature_idx}\")\n",
    "    \n",
    "    for cluster_num in range(cluster_num):   # cluster_num=3 -> 0,1,2\n",
    "        cluster_details[cluster_num] = {}\n",
    "        cluster_details[cluster_num]['cluster'] = cluster_num\n",
    "        top_ftr_idx = center_feature_idx[cluster_num, :top_n_features]   # 인덱스 top10\n",
    "        print(f\"인덱스 top10 : {top_ftr_idx}\")\n",
    "        top_ftr = [feature_names[idx] for idx in top_ftr_idx]            # 상위 10개 feature들의 center값들 반환\n",
    "        print(f\"상위 10개 feature의 center값 : {top_ftr}\")\n",
    "        top_ftr_val = cluster_model.cluster_centers_[cluster_num, top_ftr_idx].tolist()\n",
    "        print(f\"top_ftr_val : {top_ftr_val}\")\n",
    "        \n",
    "        cluster_details[cluster_num]['top_features'] = top_ftr           # 개별 군집 정보 넣기\n",
    "        cluster_details[cluster_num]['top_featrues_value'] = top_ftr_val\n",
    "        filenames = cluster_data[cluster_data['cluster_label']==cluster_num]['filename']  ## 해당 cluster_num으로 분류된 파일명 넣기\n",
    "        filenames = filenames.values.tolist()\n",
    "        cluster_details[cluster_num]['filenames'] = filenames    \n",
    "    return cluster_details\n",
    "\n",
    "def print_cluster_details(cluster_details):\n",
    "    for cluster_num, cluster_detail in cluster_details.items():\n",
    "        print(f\"#####Cluster Num: {cluster_num}\")\n",
    "        print()\n",
    "        print(\"상위 10개 feature단어들:\\n\", cluster_detail['top_features'])\n",
    "        print()\n",
    "        print(f\"Cluster {cluster_num}으로 분류된 문서들:\\n{cluster_detail['filenames'][:5]}\")\n",
    "        print('-'*20)\n"
   ]
  },
  {
   "cell_type": "code",
   "execution_count": 63,
   "id": "6035db6c-91ab-4e86-a122-500a600fc359",
   "metadata": {
    "tags": []
   },
   "outputs": [
    {
     "name": "stdout",
     "output_type": "stream",
     "text": [
      "['0 5', '0 great', '0 room', '00', '05', '06', '07', '08', '1 2', '1 block', '1 great', '10 did', '10 great', '10 inch', '10 min', '10 minute', '10 room', '100', '100 accurate', '1005ha', '101', '102', '103', '104', '105', '105 room', '106', '107', '108', '109']\n"
     ]
    }
   ],
   "source": [
    "feature_names = tfidf_vect.get_feature_names()  # tfidf_vect(ngram_range=(1,2))의 결과 : 1개 혹은 연속된 2개의 단어로 자른 형태\n",
    "print(feature_names[:30])"
   ]
  },
  {
   "cell_type": "code",
   "execution_count": 74,
   "id": "334ab8e4-139f-45f7-aeb7-4d0e4b54fefa",
   "metadata": {
    "tags": []
   },
   "outputs": [
    {
     "name": "stdout",
     "output_type": "stream",
     "text": [
      "cluster_centers index : [[2252 3612 2706 ... 2791 2789    0]\n",
      " [3466 2095 3648 ... 2272 2275    0]\n",
      " [3572  685 2342 ... 1750 3647 4610]]\n",
      "인덱스 top10 : [2252 3612 2706 1069 1806 1807 4154  896 3022 3241]\n",
      "상위 10개 feature의 center값 : ['interior', 'seat', 'mileage', 'comfortable', 'gas', 'gas mileage', 'transmission', 'car', 'performance', 'quality']\n",
      "top_ftr_val : [0.2278046916838381, 0.1939512034790141, 0.17730089408820418, 0.12790439933840922, 0.12265896733770874, 0.1165812335567078, 0.10486543788164414, 0.1015256988633988, 0.09562358109597213, 0.09233847022967973]\n",
      "인덱스 top10 : [3466 2095 3648 3871 1728 2517  678  988 3159 2984]\n",
      "상위 10개 feature의 center값 : ['room', 'hotel', 'service', 'staff', 'food', 'location', 'bathroom', 'clean', 'price', 'parking']\n",
      "top_ftr_val : [0.26083463293785525, 0.20029241494780795, 0.17546706020591651, 0.14901486167147948, 0.1277265040158775, 0.12576707418420113, 0.07042395128821588, 0.06971189120637236, 0.059533968934674365, 0.05842875064534637]\n",
      "인덱스 top10 : [3572  685 2342  690 2443 2357 1353 4306 3736 4330]\n",
      "상위 10개 feature의 center값 : ['screen', 'battery', 'keyboard', 'battery life', 'life', 'kindle', 'direction', 'video', 'size', 'voice']\n",
      "top_ftr_val : [0.13738120192560713, 0.12029588637881046, 0.06416898221290011, 0.06330587553655656, 0.058609811414901014, 0.05646823079053855, 0.05393721234628231, 0.05389363145594924, 0.05127615400589759, 0.05119379623996657]\n"
     ]
    }
   ],
   "source": [
    "cluster_details = get_cluster_details(cluster_model=kmeans, # Kmeans()  : 위에서 fit_predict으로 document_df대한 정보 가지고 있음 \n",
    "                                     cluster_data=document_df,\n",
    "                                     feature_names=feature_names,\n",
    "                                     cluster_num=3,\n",
    "                                     top_n_features=10)"
   ]
  },
  {
   "cell_type": "code",
   "execution_count": 66,
   "id": "a50171c8-0f99-430b-b981-a6a85aab289c",
   "metadata": {
    "tags": []
   },
   "outputs": [
    {
     "name": "stdout",
     "output_type": "stream",
     "text": [
      "#####Cluster Num: 0\n",
      "\n",
      "상위 10개 feature단어들:\n",
      " ['interior', 'seat', 'mileage', 'comfortable', 'gas', 'gas mileage', 'transmission', 'car', 'performance', 'quality']\n",
      "\n",
      "Cluster 0으로 분류된 문서들:\n",
      "['comfort_honda_accord_2008', 'comfort_toyota_camry_2007', 'gas_mileage_toyota_camry_2007', 'interior_honda_accord_2008', 'interior_toyota_camry_2007']\n",
      "--------------------\n",
      "#####Cluster Num: 1\n",
      "\n",
      "상위 10개 feature단어들:\n",
      " ['room', 'hotel', 'service', 'staff', 'food', 'location', 'bathroom', 'clean', 'price', 'parking']\n",
      "\n",
      "Cluster 1으로 분류된 문서들:\n",
      "['bathroom_bestwestern_hotel_sfo', 'food_holiday_inn_london', 'food_swissotel_chicago', 'free_bestwestern_hotel_sfo', 'location_bestwestern_hotel_sfo']\n",
      "--------------------\n",
      "#####Cluster Num: 2\n",
      "\n",
      "상위 10개 feature단어들:\n",
      " ['screen', 'battery', 'keyboard', 'battery life', 'life', 'kindle', 'direction', 'video', 'size', 'voice']\n",
      "\n",
      "Cluster 2으로 분류된 문서들:\n",
      "['accuracy_garmin_nuvi_255W_gps', 'battery-life_amazon_kindle', 'battery-life_ipod_nano_8gb', 'battery-life_netbook_1005ha', 'buttons_amazon_kindle']\n",
      "--------------------\n"
     ]
    }
   ],
   "source": [
    "print_cluster_details(cluster_details)"
   ]
  }
 ],
 "metadata": {
  "kernelspec": {
   "display_name": "Python 3 (ipykernel)",
   "language": "python",
   "name": "python3"
  },
  "language_info": {
   "codemirror_mode": {
    "name": "ipython",
    "version": 3
   },
   "file_extension": ".py",
   "mimetype": "text/x-python",
   "name": "python",
   "nbconvert_exporter": "python",
   "pygments_lexer": "ipython3",
   "version": "3.8.8"
  }
 },
 "nbformat": 4,
 "nbformat_minor": 5
}
