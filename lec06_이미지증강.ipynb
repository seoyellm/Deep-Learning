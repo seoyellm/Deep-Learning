{
 "cells": [
  {
   "cell_type": "markdown",
   "id": "ac35faa5-bb50-4fbe-bccf-435628bc628f",
   "metadata": {},
   "source": [
    "<font size=6><b> Lec06. 이미지증강(Image Augmentation)"
   ]
  },
  {
   "cell_type": "markdown",
   "id": "42bdf7a6-a583-4aad-9885-36ec01cd9686",
   "metadata": {},
   "source": [
    "* ref : https://www.tensorflow.org/?hl=ko\n",
    "* ref : https://keras.io/ko/\n",
    "* ref : https://keras.io/api/layers/core_layers/dense/"
   ]
  },
  {
   "cell_type": "code",
   "execution_count": 1,
   "id": "2e7bc132-048f-4ea1-8934-5d4db6ab62f9",
   "metadata": {},
   "outputs": [
    {
     "data": {
      "text/html": [
       "<style>.container{width:100% !important;}</style>"
      ],
      "text/plain": [
       "<IPython.core.display.HTML object>"
      ]
     },
     "metadata": {},
     "output_type": "display_data"
    }
   ],
   "source": [
    "import numpy as np\n",
    "import pandas as pd\n",
    "\n",
    "import matplotlib.pyplot as plt\n",
    "import seaborn as sns\n",
    "\n",
    "\n",
    "sns.set()\n",
    "\n",
    "#-------------------- 차트 관련 속성 (한글처리, 그리드) -----------\n",
    "plt.rcParams['font.family']= 'Malgun Gothic'\n",
    "plt.rcParams['axes.unicode_minus'] = False\n",
    "\n",
    "#-------------------- 주피터 , 출력결과 넓이 늘리기 ---------------\n",
    "# from IPython.core.display import display, HTML\n",
    "from IPython.display import display, HTML\n",
    "\n",
    "display(HTML(\"<style>.container{width:100% !important;}</style>\"))\n",
    "pd.set_option('display.max_rows', 100)\n",
    "pd.set_option('display.max_columns', 100)\n",
    "pd.set_option('max_colwidth', None)\n",
    "\n",
    "import warnings\n",
    "warnings.filterwarnings(action='ignore')"
   ]
  },
  {
   "cell_type": "code",
   "execution_count": 2,
   "id": "bdb5895b-ff75-42ab-b41e-6558f752e624",
   "metadata": {
    "tags": []
   },
   "outputs": [],
   "source": [
    "import tensorflow as tf\n",
    "tf.random.set_seed(1234)\n",
    "np.random.seed(1234)"
   ]
  },
  {
   "cell_type": "markdown",
   "id": "df9cb81f-7b67-4bc0-8635-e5722fa38708",
   "metadata": {},
   "source": [
    "# Data Load"
   ]
  },
  {
   "cell_type": "code",
   "execution_count": 3,
   "id": "cac5ec08-6888-47b8-b037-76a48fbbd650",
   "metadata": {
    "tags": []
   },
   "outputs": [],
   "source": [
    "from keras.datasets import mnist\n",
    "from keras.models import Sequential\n",
    "from keras.layers import Dropout, Conv2D, MaxPool2D, Flatten, Dense\n",
    "from keras.initializers import GlorotNormal  #Xavier"
   ]
  },
  {
   "cell_type": "code",
   "execution_count": 4,
   "id": "2ecc9074-1125-4390-a8f7-c5bb6eadecbd",
   "metadata": {
    "tags": []
   },
   "outputs": [
    {
     "data": {
      "text/plain": [
       "((60000, 28, 28), (60000,), (10000, 28, 28), (10000,))"
      ]
     },
     "execution_count": 4,
     "metadata": {},
     "output_type": "execute_result"
    }
   ],
   "source": [
    "(X_train,y_train), (X_val,y_val) = mnist.load_data()\n",
    "X_train.shape, y_train.shape, X_val.shape, y_val.shape"
   ]
  },
  {
   "cell_type": "markdown",
   "id": "01306bb1-5d60-4ef9-bd4d-65908ac5fe87",
   "metadata": {},
   "source": [
    "# 모델"
   ]
  },
  {
   "cell_type": "code",
   "execution_count": 5,
   "id": "9bf7e784-73a2-4509-95dc-6d0da9cffba6",
   "metadata": {
    "tags": []
   },
   "outputs": [],
   "source": [
    "model = Sequential()\n",
    "# ------------- CNN ---------------------\n",
    "model.add(Conv2D(filters=16, input_shape=(28,28,1), kernel_size=(5,5), strides=(1, 1), padding='valid', activation='relu', kernel_initializer='glorot_uniform')  )\n",
    "model.add(MaxPool2D(pool_size=(2, 2),                               strides=None  , padding=\"valid\"))\n",
    "model.add(Conv2D(filters=24, kernel_size=(5,5), activation='relu' ) )\n",
    "model.add(MaxPool2D(pool_size=(2, 2) ))\n",
    "\n",
    "# ------------- Fully Connected ---------\n",
    "model.add(Flatten())\n",
    "\n",
    "model.add(Dense(units=60,  activation='relu'))              #히든레이어\n",
    "model.add(Dense(units=10,  activation='softmax'))           #3종 출력층\n",
    "model.compile(loss='sparse_categorical_crossentropy', optimizer='Adam', metrics=['accuracy'])"
   ]
  },
  {
   "cell_type": "markdown",
   "id": "1baea7c0-ce29-4b2b-9584-5338242b7e1e",
   "metadata": {},
   "source": [
    "# 이미지 증강\n",
    "* Keras : https://keras.io/ko/preprocessing/image/\n",
    "* Python PIL : https://ddolcat.tistory.com/690\n",
    "* OpenCV : https://docs.opencv.org/4.x/\n",
    "\n",
    "<pre>\n",
    "<b>(배치 생성)  --> (배치 단위로 루프) --> 학습(fit) 시 순환하면서 데이터 증강 \n",
    "\n",
    "\n",
    "* generator = <font color=red>ImageDataGenerator</font>( ... 필터속성들 ... )\n",
    "* <font color=red>iter = generator.flow</font>(X,y, batch_size=N)\n",
    "  iter = generator.flow_from_directory(path, batch_size=N)\n",
    "* res = <font color=red>model.fit(iter</font>,  epoch=N, step_per_epoch=len(X_train)/batch_size)\n",
    "\n",
    "res.차트\n",
    "model.predict()\n"
   ]
  },
  {
   "cell_type": "code",
   "execution_count": 6,
   "id": "eceaf268-e22b-4cc2-9807-2857f4b1a28f",
   "metadata": {
    "tags": []
   },
   "outputs": [],
   "source": [
    "from keras.preprocessing.image import ImageDataGenerator"
   ]
  },
  {
   "cell_type": "markdown",
   "id": "0cbe0b9b-2ca6-4404-8e46-78a5027842c4",
   "metadata": {},
   "source": [
    "<pre>\n",
    "<B>keras.preprocessing.image.ImageDataGenerator(\n",
    "     rotation_range=0,                        회전\n",
    "     width_shift_range=0.0,                   이미지 밀기(좌우)                  \n",
    "     height_shift_range=0.0,                  이미지 밀기(상하)\n",
    "     brightness_range=None,                   밝기\n",
    "     zca_whitening=False,                     밝기\n",
    "     zoom_range=0.0,                          확대/축소 \n",
    "     fill_mode='nearest', cval=0.0,           빈픽셀 채우기          \n",
    "     horizontal_flip=False,                   가로 대칭\n",
    "     vertical_flip=False,                     세로 대칭\n",
    "     rescale=None,                            /255.0 \n",
    "     validation_split=0.0,                    8:2</B>\n",
    "     featurewise_center=False,                이미지 센터에 위치\n",
    "     samplewise_center=False,                      \n",
    "     featurewise_std_normalization=False,     색상정규화\n",
    "     samplewise_std_normalization=False, \n",
    "     zca_epsilon=1e-06, \n",
    "     shear_range=0.0,                         0~45 각도내 변환\n",
    "     channel_shift_range=0.0,                 색상보정\n",
    "     preprocessing_function=None,             \n",
    "     data_format=None,                 \n",
    "     dtype=None)"
   ]
  },
  {
   "cell_type": "markdown",
   "id": "97b16d0f-7dec-4431-85a1-1ccfe2c77504",
   "metadata": {},
   "source": [
    "* ref : https://yerimoh.github.io/DL9/"
   ]
  },
  {
   "cell_type": "markdown",
   "id": "d48f38f4-2a66-4783-8cc7-b9bcb896ad8c",
   "metadata": {},
   "source": [
    "<pre>\n",
    "<ul> <li><code class=\"language-plaintext highlighter-rouge\">featurewise_center</code>: Boolean. 입력 평균을 데이터 집합 위에 0으로 설정</li> <li><code class=\"language-plaintext highlighter-rouge\">samplewise_center</code>: Boolean. 각 표본 평균을 0으로 설정</li> <li><code class=\"language-plaintext highlighter-rouge\">featurewise_std_normalization</code>: Boolean. 입력을 데이터 집합(특징맵)의 표준으로 나눔</li> <li><code class=\"language-plaintext highlighter-rouge\">samplewise_std_normalization</code>: Boolean. 각 입력을 표준으로 나눔</li> <li><code class=\"language-plaintext highlighter-rouge\">zca_epsilon</code>: ZCA 미백용 엡실론. 기본값은 1e-6</li> <li><code class=\"language-plaintext highlighter-rouge\">zca_whitening</code>: Boolean. ZCA 화이트닝</li> <li><code class=\"language-plaintext highlighter-rouge\">rotation_range</code>: Int. 무작위 회전에 대한 도(ㅇ) 단위 범위</li> <li><code class=\"language-plaintext highlighter-rouge\">width_shift_range</code>: Float, 이미지를 수평으로 임의로 이동(전체 너비의 대칭)</li> <li><code class=\"language-plaintext highlighter-rouge\">height_shift_range</code>: Float, 이미지를 수직으로 임의로 이동(전체 높이의 대칭)</li> <li><code class=\"language-plaintext highlighter-rouge\">brightness_range</code>: Tuple or list of two floats,밝기 이동 값 선택 범위</li> <li><code class=\"language-plaintext highlighter-rouge\">shear_range</code>: Float, 전단 강도(도 단위로 시계 반대 방향으로 전단 각도)</li> <li><code class=\"language-plaintext highlighter-rouge\">zoom_range</code>: Float or [lower, upper], 무작위 확대/축소 범위입니다. 부동 소수인 경우, [하위, 상한] = [1-dynam_range, 1+dynam_range].</li> <li><code class=\"language-plaintext highlighter-rouge\">channel_shift_range</code>: Float, 무작위 채널 이동 범위</li> <li><code class=\"language-plaintext highlighter-rouge\">fill_mode</code>: One of {“constant”, “nearest”, “reflect” or “wrap”}, “nearest”가 기본 <ul> <li>지정된 모드에 따라 입력 경계를 벗어나는 점이 채워짐</li> <li>constant’: kkkkkkkk[abcd]kkkkkkkk (cval=k)</li> <li>‘nearest’: aaaaaaaa[abcd]dddddddd</li> <li>‘reflect’: abcddcba[abcd]dcbaabcd</li> <li>‘wrap’: abcdabcd[abcd]abcdabcd</li> </ul> </li> <li><code class=\"language-plaintext highlighter-rouge\">cval</code>: Float or Int, 경계를 벗어나는 점에 사용되는 값</li> <li><code class=\"language-plaintext highlighter-rouge\">horizontal_flip</code>: Boolean, 입력을 수평으로 랜덤하게 뒤집음</li> <li><code class=\"language-plaintext highlighter-rouge\">vertical_flip</code>: Boolean. 입력을 수직으로 랜덤하게 뒤집음</li> <li><code class=\"language-plaintext highlighter-rouge\">rescale</code>: 데이터에 제공된 값을 곱함</li> <li><code class=\"language-plaintext highlighter-rouge\">preprocessing_function</code>: 각 입력에 적용될 함수 -&gt; 이미지 크기 조정 및 증강 후에 실행</li> <li><code class=\"language-plaintext highlighter-rouge\">dtype</code>: 생성된 어레이에 사용할 Dtype</li> </ul>"
   ]
  },
  {
   "cell_type": "markdown",
   "id": "b37da1a1-f80a-495f-8784-51322df357ca",
   "metadata": {},
   "source": [
    "## 수동 원리 이해"
   ]
  },
  {
   "cell_type": "code",
   "execution_count": 7,
   "id": "92bfa6a6-0192-434d-a1b2-15d4a7936e30",
   "metadata": {
    "tags": []
   },
   "outputs": [
    {
     "data": {
      "text/plain": [
       "((6, 28, 28), (6,))"
      ]
     },
     "execution_count": 7,
     "metadata": {},
     "output_type": "execute_result"
    }
   ],
   "source": [
    "(X_train,y_train), (X_val,y_val) = mnist.load_data()\n",
    "X_train_cp = X_train[:6]\n",
    "y_train_cp = y_train[:6]\n",
    "\n",
    "X_train_cp.shape, y_train_cp.shape"
   ]
  },
  {
   "cell_type": "code",
   "execution_count": 8,
   "id": "188bbef8-6c7d-41ca-b3c4-8901d3a3909e",
   "metadata": {
    "tags": []
   },
   "outputs": [
    {
     "data": {
      "image/png": "[encoded data removed]",
      "text/plain": [
       "<Figure size 100x100 with 1 Axes>"
      ]
     },
     "metadata": {},
     "output_type": "display_data"
    }
   ],
   "source": [
    "plt.figure(figsize=(1,1))\n",
    "plt.imshow(X_train_cp[0].reshape(28,28))\n",
    "plt.show()"
   ]
  },
  {
   "cell_type": "code",
   "execution_count": 9,
   "id": "31d74456-99e5-4301-8809-c01d40f7426d",
   "metadata": {
    "tags": []
   },
   "outputs": [
    {
     "name": "stdout",
     "output_type": "stream",
     "text": [
      "(6, 28, 28, 1)\n"
     ]
    }
   ],
   "source": [
    "datagen = ImageDataGenerator(rotation_range=50)\n",
    "X_train_cp = X_train_cp.reshape(-1,28,28,1)\n",
    "print(X_train_cp.shape)"
   ]
  },
  {
   "cell_type": "code",
   "execution_count": 10,
   "id": "5b0612c0-1a28-4e52-8c48-dc28ede0791c",
   "metadata": {
    "tags": []
   },
   "outputs": [
    {
     "data": {
      "text/plain": [
       "array([5, 0, 4, 1, 9, 2], dtype=uint8)"
      ]
     },
     "execution_count": 10,
     "metadata": {},
     "output_type": "execute_result"
    }
   ],
   "source": [
    "y_train_cp"
   ]
  },
  {
   "cell_type": "code",
   "execution_count": 11,
   "id": "a8668187-f26e-4bca-bbda-9b8ccc3c034c",
   "metadata": {
    "tags": []
   },
   "outputs": [
    {
     "name": "stdout",
     "output_type": "stream",
     "text": [
      "Epoch: 0 \n",
      "1/1 [==============================] - 1s 907ms/step - loss: 45.0536 - accuracy: 0.0000e+00\n",
      "1/1 [==============================] - 0s 7ms/step - loss: 25.5789 - accuracy: 0.0000e+00\n",
      "1/1 [==============================] - 0s 7ms/step - loss: 27.7839 - accuracy: 0.0000e+00\n",
      "1/1 [==============================] - 0s 7ms/step - loss: 28.6912 - accuracy: 0.0000e+00\n",
      "1/1 [==============================] - 0s 6ms/step - loss: 10.0129 - accuracy: 0.0000e+00\n",
      "1/1 [==============================] - 0s 6ms/step - loss: 26.6173 - accuracy: 0.0000e+00\n"
     ]
    },
    {
     "data": {
      "image/png": "[encoded data removed]",
      "text/plain": [
       "<Figure size 1000x500 with 6 Axes>"
      ]
     },
     "metadata": {},
     "output_type": "display_data"
    },
    {
     "name": "stdout",
     "output_type": "stream",
     "text": [
      "Epoch: 1 \n",
      "1/1 [==============================] - 0s 7ms/step - loss: 4.6500 - accuracy: 0.0000e+00\n",
      "1/1 [==============================] - 0s 7ms/step - loss: 0.0034 - accuracy: 1.0000\n",
      "1/1 [==============================] - 0s 7ms/step - loss: 7.9629 - accuracy: 0.0000e+00\n",
      "1/1 [==============================] - 0s 7ms/step - loss: 0.8648 - accuracy: 0.0000e+00\n",
      "1/1 [==============================] - 0s 8ms/step - loss: 6.2330 - accuracy: 0.0000e+00\n",
      "1/1 [==============================] - 0s 7ms/step - loss: 11.4250 - accuracy: 0.0000e+00\n"
     ]
    },
    {
     "data": {
      "image/png": "[encoded data removed]",
      "text/plain": [
       "<Figure size 1000x500 with 6 Axes>"
      ]
     },
     "metadata": {},
     "output_type": "display_data"
    }
   ],
   "source": [
    "EPOCHS = 2\n",
    "for e in range(EPOCHS):\n",
    "    plt.figure(figsize=(10,5))\n",
    "    \n",
    "    batches = 0\n",
    "    print(f\"Epoch: {e} \")\n",
    "    for x_batch, y_batch in datagen.flow(X_train_cp, y_train_cp, batch_size=1):   # 사진 한장 당 (epochs*batch_size)장 증강    --> 모두 다른 사진\n",
    "        model.fit(x_batch, y_batch)\n",
    "        \n",
    "        batches += 1 \n",
    "        \n",
    "        plt.subplot(1, len(X_train_cp), batches)\n",
    "        plt.imshow(x_batch.reshape(28,28))\n",
    "        plt.title(f\" {y_batch}\")\n",
    "        \n",
    "        if batches >= len(X_train_cp) / 1:  #step_per_epoch = sample /  batch_size \n",
    "            break\n",
    "    plt.show()    "
   ]
  },
  {
   "cell_type": "markdown",
   "id": "dc220e2d-ab89-4223-874a-0152865e47f6",
   "metadata": {
    "tags": []
   },
   "source": [
    "## 이미지 증강"
   ]
  },
  {
   "cell_type": "code",
   "execution_count": 12,
   "id": "021ccdf6-d022-467c-97ed-297149c46e31",
   "metadata": {
    "tags": []
   },
   "outputs": [
    {
     "data": {
      "text/plain": [
       "((60000, 28, 28), (60000,), (10000, 28, 28), (10000,))"
      ]
     },
     "execution_count": 12,
     "metadata": {},
     "output_type": "execute_result"
    }
   ],
   "source": [
    "(X_train,y_train), (X_val,y_val) = mnist.load_data()\n",
    "X_train.shape, y_train.shape, X_val.shape, y_val.shape"
   ]
  },
  {
   "cell_type": "code",
   "execution_count": 13,
   "id": "eea11c5a-6633-46a3-9a44-4092f006b453",
   "metadata": {
    "tags": []
   },
   "outputs": [
    {
     "data": {
      "text/plain": [
       "((60000, 28, 28, 1), (10000, 28, 28, 1))"
      ]
     },
     "execution_count": 13,
     "metadata": {},
     "output_type": "execute_result"
    }
   ],
   "source": [
    "X_train = X_train.reshape(-1,28,28,1)\n",
    "X_val   = X_val.reshape(-1,28,28,1)\n",
    "X_train.shape, X_val.shape"
   ]
  },
  {
   "cell_type": "code",
   "execution_count": 14,
   "id": "1c549de4-20f4-44e9-97ea-5df4215c94b6",
   "metadata": {
    "tags": []
   },
   "outputs": [
    {
     "name": "stdout",
     "output_type": "stream",
     "text": [
      "Epoch 1/2\n",
      "234/234 [==============================] - 22s 91ms/step - loss: 1.9390 - accuracy: 0.5340 - val_loss: 0.6625 - val_accuracy: 0.7931\n",
      "Epoch 2/2\n",
      "234/234 [==============================] - 22s 95ms/step - loss: 0.5121 - accuracy: 0.8387 - val_loss: 0.3690 - val_accuracy: 0.8828\n"
     ]
    }
   ],
   "source": [
    "train_generator = ImageDataGenerator(\n",
    "    rotation_range=10,  \n",
    "    zoom_range=0.1,  \n",
    "    width_shift_range=0.1,\n",
    "    height_shift_range=0.1,\n",
    "    horizontal_flip=True, \n",
    "    vertical_flip=False, \n",
    ") \n",
    "\n",
    "val_generator = ImageDataGenerator(\n",
    "    rotation_range=10,  \n",
    "    zoom_range=0.1,  \n",
    "    width_shift_range=0.1,\n",
    "    height_shift_range=0.1,\n",
    "    horizontal_flip=True, \n",
    "    vertical_flip=False, \n",
    ") \n",
    "\n",
    "test_generator = ImageDataGenerator(rescale = 1. /255.) \n",
    "\n",
    "BATCH_SIZE = 256\n",
    "train_flow_iter = train_generator.flow(X_train, y_train, batch_size=BATCH_SIZE)\n",
    "val_flow_iter   = val_generator.flow(X_val, y_val, batch_size=BATCH_SIZE)\n",
    "# test_flow_iter  = test_generator.flow(X_test, y_test, batch_size=BATCH_SIZE)\n",
    "\n",
    "fit_hisroty=model.fit(train_flow_iter,\n",
    "          epochs=2,\n",
    "          steps_per_epoch=len(X_train)/BATCH_SIZE,\n",
    "          validation_data=val_flow_iter)\n"
   ]
  },
  {
   "cell_type": "code",
   "execution_count": 15,
   "id": "4cf5e295-ee4e-4b30-854e-d5c3d4736330",
   "metadata": {
    "tags": []
   },
   "outputs": [
    {
     "data": {
      "text/plain": [
       "234.375"
      ]
     },
     "execution_count": 15,
     "metadata": {},
     "output_type": "execute_result"
    }
   ],
   "source": [
    "60000/ 256"
   ]
  },
  {
   "cell_type": "code",
   "execution_count": 16,
   "id": "c7649632-5841-4918-9266-793c40d02b37",
   "metadata": {
    "tags": []
   },
   "outputs": [],
   "source": [
    "# fit_hisroty = model.fit(X_train_scaler, y_train\n",
    "#                         , batch_size = 128\n",
    "#                         , validation_split=0.2, epochs=10)\n",
    "# print(fit_hisroty)\n",
    "# print ( model.evaluate(X_test_scaler, y_test)  )"
   ]
  },
  {
   "cell_type": "code",
   "execution_count": 17,
   "id": "d5d2757e-3c84-4b6a-a5e3-94f6fd55582b",
   "metadata": {
    "tags": []
   },
   "outputs": [
    {
     "data": {
      "image/png": "[encoded data removed]",
      "text/plain": [
       "<Figure size 600x300 with 2 Axes>"
      ]
     },
     "metadata": {},
     "output_type": "display_data"
    }
   ],
   "source": [
    "plt.figure(figsize=(6,3))\n",
    "ax1 = plt.subplot(1,2,1)\n",
    "ax1.plot(fit_hisroty.history['loss']    , label='loss')\n",
    "ax1.plot(fit_hisroty.history['val_loss'], label='val_loss')\n",
    "ax1.legend()\n",
    "ax1.set_title(\"loss\")\n",
    "\n",
    "ax2 = plt.subplot(1,2,2)\n",
    "ax2.plot(fit_hisroty.history['accuracy']    , label='accuracy')\n",
    "ax2.plot(fit_hisroty.history['val_accuracy'], label='val_accuracy')\n",
    "ax2.legend()\n",
    "ax2.set_title(\"accuracy\")\n",
    "\n",
    "plt.show()"
   ]
  }
 ],
 "metadata": {
  "kernelspec": {
   "display_name": "Python 3 (ipykernel)",
   "language": "python",
   "name": "python3"
  },
  "language_info": {
   "codemirror_mode": {
    "name": "ipython",
    "version": 3
   },
   "file_extension": ".py",
   "mimetype": "text/x-python",
   "name": "python",
   "nbconvert_exporter": "python",
   "pygments_lexer": "ipython3",
   "version": "3.8.8"
  }
 },
 "nbformat": 4,
 "nbformat_minor": 5
}
