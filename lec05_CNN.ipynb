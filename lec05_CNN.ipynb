{
 "cells": [
  {
   "cell_type": "markdown",
   "id": "a7b2c9fb-e573-47e5-8104-7468b1e3ee87",
   "metadata": {},
   "source": [
    "# lec05_합성곱 신경망(CNN)"
   ]
  },
  {
   "cell_type": "code",
   "execution_count": 1,
   "id": "1b8f3c94-a867-4398-bc57-ef3be1856bc5",
   "metadata": {},
   "outputs": [
    {
     "data": {
      "text/html": [
       "<style>.container{width:100% !important;}</style>"
      ],
      "text/plain": [
       "<IPython.core.display.HTML object>"
      ]
     },
     "metadata": {},
     "output_type": "display_data"
    }
   ],
   "source": [
    "import numpy as np\n",
    "import pandas as pd\n",
    "\n",
    "import matplotlib.pyplot as plt\n",
    "import seaborn as sns\n",
    "\n",
    "\n",
    "sns.set()\n",
    "\n",
    "#-------------------- 차트 관련 속성 (한글처리, 그리드) -----------\n",
    "plt.rcParams['font.family']= 'Malgun Gothic'\n",
    "plt.rcParams['axes.unicode_minus'] = False\n",
    "\n",
    "#-------------------- 주피터 , 출력결과 넓이 늘리기 ---------------\n",
    "# from IPython.core.display import display, HTML\n",
    "from IPython.display import display, HTML\n",
    "\n",
    "display(HTML(\"<style>.container{width:100% !important;}</style>\"))\n",
    "pd.set_option('display.max_rows', 100)\n",
    "pd.set_option('display.max_columns', 100)\n",
    "pd.set_option('max_colwidth', None)\n",
    "\n",
    "import warnings\n",
    "warnings.filterwarnings(action='ignore')"
   ]
  },
  {
   "cell_type": "markdown",
   "id": "7793ce34-ecfb-4e94-bb43-f0aaeacd4067",
   "metadata": {},
   "source": [
    "## Seed 고정"
   ]
  },
  {
   "cell_type": "code",
   "execution_count": 2,
   "id": "8d91c82f-ba55-478d-8fba-cd5717acddae",
   "metadata": {
    "tags": []
   },
   "outputs": [],
   "source": [
    "import tensorflow as tf\n",
    "tf.random.set_seed(1234)  # tensor seed 고정\n",
    "np.random.seed(1234)      # 행열 연산 seed 고정"
   ]
  },
  {
   "cell_type": "markdown",
   "id": "ed7a0e10-e21d-4411-9ad3-831cb6a24d46",
   "metadata": {},
   "source": [
    "# Data Load"
   ]
  },
  {
   "cell_type": "code",
   "execution_count": 3,
   "id": "95373040-e01f-420c-a85b-2fe396779c2a",
   "metadata": {
    "tags": []
   },
   "outputs": [],
   "source": [
    "from keras.datasets import mnist"
   ]
  },
  {
   "cell_type": "code",
   "execution_count": 4,
   "id": "bf1f8fc9-8b6a-47ea-b091-31e3e9e83a9e",
   "metadata": {
    "tags": []
   },
   "outputs": [
    {
     "data": {
      "text/plain": [
       "((60000, 28, 28), (60000,), (10000, 28, 28), (10000,))"
      ]
     },
     "execution_count": 4,
     "metadata": {},
     "output_type": "execute_result"
    }
   ],
   "source": [
    "(X_train,y_train),(X_test,y_test)= mnist.load_data()  # train,test용 각각 문제, 답안을 튜플형태로 반환\n",
    "X_train.shape,y_train.shape, X_test.shape,y_test.shape"
   ]
  },
  {
   "cell_type": "markdown",
   "id": "06b27d17-160f-4fe9-9d85-b615e279a197",
   "metadata": {},
   "source": [
    "# 전처리 가공"
   ]
  },
  {
   "cell_type": "markdown",
   "id": "ec2119d6-0fbc-4b92-94ac-690b98a5389b",
   "metadata": {},
   "source": [
    "## Flatten\n",
    "- 뉴럴 네트워크에 데이터를 집어넣기 위해서는 1차로 바꿔야 함\n",
    "- 이미지 픽셀 28*28 : 행렬(2D) --> array(1D)"
   ]
  },
  {
   "cell_type": "code",
   "execution_count": 5,
   "id": "3409dd65-3fc4-478c-bc62-73f16b6856ca",
   "metadata": {
    "tags": []
   },
   "outputs": [],
   "source": [
    "X_train=X_train.reshape(60000,-1)\n",
    "X_test=X_test.reshape(10000,-1)"
   ]
  },
  {
   "cell_type": "markdown",
   "id": "57955af9-5710-4c43-b573-b6f1a1d7756f",
   "metadata": {
    "tags": []
   },
   "source": [
    "## 정규화(픽셀값 스케일링)\n",
    "- 0 ~ 255 픽셀 값을 0 ~ 1 값으로 변경\n",
    "- MinMaxScaler"
   ]
  },
  {
   "cell_type": "code",
   "execution_count": 6,
   "id": "dc182884-365c-4ba4-85a6-c1950dcd4c94",
   "metadata": {
    "tags": []
   },
   "outputs": [],
   "source": [
    "X_train_scaler=X_train/255.0\n",
    "X_test_scaler=X_test/255.0"
   ]
  },
  {
   "cell_type": "markdown",
   "id": "1d93178d-e98f-4a03-9852-b0b81663e0a3",
   "metadata": {},
   "source": [
    "# 모델(Full Connected)"
   ]
  },
  {
   "cell_type": "code",
   "execution_count": 7,
   "id": "95fe2861-4dc2-4437-bc0f-3a822c4c2eb5",
   "metadata": {
    "tags": []
   },
   "outputs": [],
   "source": [
    "from keras.layers import Dense\n",
    "from keras import Sequential\n",
    "from keras.initializers import GlorotNormal"
   ]
  },
  {
   "cell_type": "code",
   "execution_count": 8,
   "id": "1eb1c33b-79b2-48e2-ac4a-374baa04aa84",
   "metadata": {
    "tags": []
   },
   "outputs": [
    {
     "name": "stdout",
     "output_type": "stream",
     "text": [
      "Model: \"sequential\"\n",
      "_________________________________________________________________\n",
      " Layer (type)                Output Shape              Param #   \n",
      "=================================================================\n",
      " dense (Dense)               (None, 300)               235500    \n",
      "                                                                 \n",
      " dense_1 (Dense)             (None, 100)               30100     \n",
      "                                                                 \n",
      " dense_2 (Dense)             (None, 60)                6060      \n",
      "                                                                 \n",
      " dense_3 (Dense)             (None, 10)                610       \n",
      "                                                                 \n",
      "=================================================================\n",
      "Total params: 272,270\n",
      "Trainable params: 272,270\n",
      "Non-trainable params: 0\n",
      "_________________________________________________________________\n"
     ]
    }
   ],
   "source": [
    "model = Sequential()\n",
    "#               input_shape=(28,28) or input_dim= 28*28\n",
    "model.add(Dense(units=300, input_dim=784, activation='relu', kernel_initializer='glorot_normal')) #한장씩 들어와야 함 (28*28)\n",
    "model.add(Dense(units=100,  activation='relu'))             \n",
    "model.add(Dense(units=60,  activation='relu'))              \n",
    "model.add(Dense(units=10,  activation='softmax'))           \n",
    "model.compile(loss='sparse_categorical_crossentropy', optimizer='Adam', metrics=['accuracy'])\n",
    "model.summary()"
   ]
  },
  {
   "cell_type": "code",
   "execution_count": 9,
   "id": "d6d27057-f140-4e8b-bb2e-ddade5f85751",
   "metadata": {},
   "outputs": [
    {
     "name": "stdout",
     "output_type": "stream",
     "text": [
      "Epoch 1/10\n",
      "469/469 [==============================] - 3s 5ms/step - loss: 0.2826 - accuracy: 0.9177 - val_loss: 0.1271 - val_accuracy: 0.9622\n",
      "Epoch 2/10\n",
      "469/469 [==============================] - 2s 4ms/step - loss: 0.1029 - accuracy: 0.9699 - val_loss: 0.0944 - val_accuracy: 0.9709\n",
      "Epoch 3/10\n",
      "469/469 [==============================] - 2s 4ms/step - loss: 0.0662 - accuracy: 0.9796 - val_loss: 0.0788 - val_accuracy: 0.9753\n",
      "Epoch 4/10\n",
      "469/469 [==============================] - 2s 4ms/step - loss: 0.0491 - accuracy: 0.9847 - val_loss: 0.0801 - val_accuracy: 0.9770\n",
      "Epoch 5/10\n",
      "469/469 [==============================] - 2s 5ms/step - loss: 0.0360 - accuracy: 0.9882 - val_loss: 0.0745 - val_accuracy: 0.9776\n",
      "Epoch 6/10\n",
      "469/469 [==============================] - 2s 4ms/step - loss: 0.0269 - accuracy: 0.9914 - val_loss: 0.0656 - val_accuracy: 0.9806\n",
      "Epoch 7/10\n",
      "469/469 [==============================] - 2s 4ms/step - loss: 0.0224 - accuracy: 0.9931 - val_loss: 0.0776 - val_accuracy: 0.9775\n",
      "Epoch 8/10\n",
      "469/469 [==============================] - 2s 4ms/step - loss: 0.0197 - accuracy: 0.9934 - val_loss: 0.0874 - val_accuracy: 0.9775\n",
      "Epoch 9/10\n",
      "469/469 [==============================] - 2s 4ms/step - loss: 0.0175 - accuracy: 0.9940 - val_loss: 0.0845 - val_accuracy: 0.9789\n",
      "Epoch 10/10\n",
      "469/469 [==============================] - 2s 4ms/step - loss: 0.0165 - accuracy: 0.9946 - val_loss: 0.0814 - val_accuracy: 0.9777\n",
      "<keras.callbacks.History object at 0x00000191451DC280>\n",
      "313/313 [==============================] - 1s 2ms/step - loss: 0.0814 - accuracy: 0.9777\n",
      "[0.08144471794366837, 0.9776999950408936]\n"
     ]
    }
   ],
   "source": [
    "fit_hisroty = model.fit(X_train_scaler, y_train, validation_data=(X_test_scaler, y_test), batch_size = 128, epochs=10)\n",
    "print(fit_hisroty)\n",
    "print(model.evaluate(X_test_scaler, y_test))"
   ]
  },
  {
   "cell_type": "markdown",
   "id": "c0e89c24-90c3-4e92-980f-4539446571a7",
   "metadata": {},
   "source": [
    "## 평가 시각화"
   ]
  },
  {
   "cell_type": "code",
   "execution_count": 10,
   "id": "05488c1b-d908-4fb3-a5e8-bf075d2c79e4",
   "metadata": {
    "tags": []
   },
   "outputs": [
    {
     "data": {
      "image/png": "[encoded data removed]",
      "text/plain": [
       "<Figure size 600x300 with 2 Axes>"
      ]
     },
     "metadata": {},
     "output_type": "display_data"
    }
   ],
   "source": [
    "plt.figure(figsize=(6,3))\n",
    "ax1 = plt.subplot(1,2,1)\n",
    "ax1.plot(fit_hisroty.history['loss']    , label='loss')\n",
    "ax1.plot(fit_hisroty.history['val_loss'], label='val_loss')\n",
    "ax1.legend()\n",
    "ax1.set_title(\"loss\")\n",
    "\n",
    "ax2 = plt.subplot(1,2,2)\n",
    "ax2.plot(fit_hisroty.history['accuracy']    , label='accuracy')\n",
    "ax2.plot(fit_hisroty.history['val_accuracy'], label='val_accuracy')\n",
    "ax2.legend()\n",
    "ax2.set_title(\"accuracy\")\n",
    "\n",
    "plt.show()"
   ]
  },
  {
   "cell_type": "markdown",
   "id": "53c88176-d7be-46e6-a7fe-a8f9a60e707e",
   "metadata": {},
   "source": [
    "# FC vs. CNN"
   ]
  },
  {
   "cell_type": "markdown",
   "id": "e1a726fb-f5bb-4b72-a826-913c00fd8d05",
   "metadata": {},
   "source": [
    "<img src =\"https://miro.medium.com/v2/resize:fit:640/format:webp/1*uAeANQIOQPqWZnnuH-VEyw.jpeg\">\n",
    "- ref : https://towardsdatascience.com/a-comprehensive-guide-to-convolutional-neural-networks-the-eli5-way-3bd2b1164a53"
   ]
  },
  {
   "cell_type": "markdown",
   "id": "4ed44f13-f1ba-46ee-a030-3676063553e9",
   "metadata": {},
   "source": [
    "<img src=\"https://codetorial.net/tensorflow/_images/convolutional_neural_network_05.png\">"
   ]
  },
  {
   "cell_type": "markdown",
   "id": "3b2ffe89-ce7f-403a-9052-d2aa7955bfb2",
   "metadata": {},
   "source": [
    "## reshape"
   ]
  },
  {
   "cell_type": "markdown",
   "id": "55ed3e06-62b2-4536-8f96-220a2d7f1b8f",
   "metadata": {},
   "source": [
    "- <b>reshape</b>"
   ]
  },
  {
   "cell_type": "code",
   "execution_count": 11,
   "id": "ebece9d9-ad38-4d66-8aef-279351480240",
   "metadata": {},
   "outputs": [
    {
     "name": "stdout",
     "output_type": "stream",
     "text": [
      "(100, 28, 28)\n",
      "(100, 784)\n",
      "(100, 28, 28, 1)\n"
     ]
    }
   ],
   "source": [
    "arr=np.arange(78400)\n",
    "arr=arr.reshape(-1,28,28)\n",
    "print(arr.shape)\n",
    "re_arr=arr.reshape(-1,784)\n",
    "print(re_arr.shape)\n",
    "\n",
    "print(re_arr.reshape(-1,28,28,1).shape)"
   ]
  },
  {
   "cell_type": "markdown",
   "id": "870babe2-05c8-4cc1-9f9c-f91d1644182c",
   "metadata": {},
   "source": [
    "- <b>X_train_scaler.reshape"
   ]
  },
  {
   "cell_type": "code",
   "execution_count": 12,
   "id": "35d639fa-4427-428f-baa9-32350b4e4ff8",
   "metadata": {},
   "outputs": [
    {
     "data": {
      "text/plain": [
       "(60000, 784)"
      ]
     },
     "execution_count": 12,
     "metadata": {},
     "output_type": "execute_result"
    }
   ],
   "source": [
    "X_train_scaler.shape"
   ]
  },
  {
   "cell_type": "code",
   "execution_count": 13,
   "id": "c6ebeb75-a1e6-4b4b-9add-79c57950bc40",
   "metadata": {},
   "outputs": [
    {
     "data": {
      "text/plain": [
       "(60000, 28, 28, 1)"
      ]
     },
     "execution_count": 13,
     "metadata": {},
     "output_type": "execute_result"
    }
   ],
   "source": [
    "X_train_scaler.reshape(60000,28,28,1).shape"
   ]
  },
  {
   "cell_type": "code",
   "execution_count": 14,
   "id": "18202f8c-a8cd-4585-bcf3-4e6aa03031b8",
   "metadata": {},
   "outputs": [
    {
     "data": {
      "text/plain": [
       "(60000, 28, 28, 1)"
      ]
     },
     "execution_count": 14,
     "metadata": {},
     "output_type": "execute_result"
    }
   ],
   "source": [
    "X_train_scaler.reshape(-1,28,28)[:,:,:,np.newaxis].shape"
   ]
  },
  {
   "cell_type": "code",
   "execution_count": 15,
   "id": "a2d6358c-b201-4080-ace7-0ba793faf3b2",
   "metadata": {},
   "outputs": [
    {
     "data": {
      "text/plain": [
       "(60000, 28, 28, 1)"
      ]
     },
     "execution_count": 15,
     "metadata": {},
     "output_type": "execute_result"
    }
   ],
   "source": [
    "X_train_scaler.reshape(-1,28,28)[...,None].shape"
   ]
  },
  {
   "cell_type": "code",
   "execution_count": 16,
   "id": "97d43de6-9671-4df1-a0b2-fb7cedc15061",
   "metadata": {},
   "outputs": [
    {
     "data": {
      "text/plain": [
       "(60000, 28, 28, 1)"
      ]
     },
     "execution_count": 16,
     "metadata": {},
     "output_type": "execute_result"
    }
   ],
   "source": [
    "np.expand_dims(X_train_scaler.reshape(-1,28,28), axis=3).shape"
   ]
  },
  {
   "cell_type": "code",
   "execution_count": 17,
   "id": "20a15e48-f1ca-4e8c-b060-87a8f89d08ef",
   "metadata": {},
   "outputs": [],
   "source": [
    "X_train_scaler=X_train_scaler.reshape(-1,28,28,1)\n",
    "X_test_scaler=X_test_scaler.reshape(-1,28,28,1)"
   ]
  },
  {
   "cell_type": "code",
   "execution_count": 18,
   "id": "56c0774f-1b70-43d3-a2b6-f7a1fef156e8",
   "metadata": {},
   "outputs": [
    {
     "data": {
      "text/plain": [
       "((60000, 28, 28, 1), (10000, 28, 28, 1))"
      ]
     },
     "execution_count": 18,
     "metadata": {},
     "output_type": "execute_result"
    }
   ],
   "source": [
    "X_train_scaler.shape, X_test_scaler.shape"
   ]
  },
  {
   "cell_type": "markdown",
   "id": "a9a6f65d-fa9f-4d68-babf-cb9de70576cd",
   "metadata": {},
   "source": [
    "## 가중치 초기화\n",
    "<pre>\n",
    "LOCAL.ALL_OBJECTS[\"ConstantV2\"] = initializers_v2.Constant\n",
    "LOCAL.ALL_OBJECTS[\"GlorotNormalV2\"] = initializers_v2.GlorotNormal\n",
    "LOCAL.ALL_OBJECTS[\"GlorotUniformV2\"] = initializers_v2.GlorotUniform\n",
    "LOCAL.ALL_OBJECTS[\"HeNormalV2\"] = initializers_v2.HeNormal\n",
    "LOCAL.ALL_OBJECTS[\"HeUniformV2\"] = initializers_v2.HeUniform\n",
    "LOCAL.ALL_OBJECTS[\"IdentityV2\"] = initializers_v2.Identity\n",
    "LOCAL.ALL_OBJECTS[\"LecunNormalV2\"] = initializers_v2.LecunNormal\n",
    "LOCAL.ALL_OBJECTS[\"LecunUniformV2\"] = initializers_v2.LecunUniform\n",
    "LOCAL.ALL_OBJECTS[\"OnesV2\"] = initializers_v2.Ones\n",
    "LOCAL.ALL_OBJECTS[\"OrthogonalV2\"] = initializers_v2.Orthogonal\n",
    "LOCAL.ALL_OBJECTS[\"RandomNormalV2\"] = initializers_v2.RandomNormal\n",
    "LOCAL.ALL_OBJECTS[\"RandomUniformV2\"] = initializers_v2.RandomUniform\n",
    "LOCAL.ALL_OBJECTS[\"TruncatedNormalV2\"] = initializers_v2.TruncatedNormal\n",
    "LOCAL.ALL_OBJECTS[\"VarianceScalingV2\"] = initializers_v2.VarianceScaling\n",
    "LOCAL.ALL_OBJECTS[\"ZerosV2\"] = initializers_v2.Zeros"
   ]
  },
  {
   "cell_type": "markdown",
   "id": "421df8b2-4c24-4b4e-a3f1-fd8942b3ae48",
   "metadata": {},
   "source": [
    "<pre>\n",
    "<b>tf.keras.layers.Conv2D(\n",
    "    filters,\n",
    "    kernel_size,\n",
    "    strides=(1, 1),\n",
    "    padding='valid',\n",
    "    activation=None,\n",
    "    kernel_initializer='glorot_uniform',</b>\n",
    "    \n",
    "    data_format=None,\n",
    "    dilation_rate=(1, 1),\n",
    "    groups=1,\n",
    "    use_bias=True,\n",
    "    bias_initializer='zeros',\n",
    "    kernel_regularizer=None,\n",
    "    bias_regularizer=None,\n",
    "    activity_regularizer=None,\n",
    "    kernel_constraint=None,\n",
    "    bias_constraint=None,\n",
    ")"
   ]
  },
  {
   "cell_type": "markdown",
   "id": "49ac2732-d955-4d6d-8b16-449c106ca38b",
   "metadata": {},
   "source": [
    "<pre>\n",
    "<b>tf.keras.layers.MaxPool2D(\n",
    "    pool_size=(2, 2),\n",
    "    strides=None,\n",
    "    padding='valid',</b>\n",
    "    data_format=None,\n",
    ")"
   ]
  },
  {
   "cell_type": "code",
   "execution_count": 19,
   "id": "cf76d3e5-db31-4af1-8709-d96b296e11ea",
   "metadata": {
    "tags": []
   },
   "outputs": [],
   "source": [
    "from keras import Sequential\n",
    "from keras.layers import Dropout, Conv2D, MaxPool2D, Flatten, Dense\n",
    "from keras.initializers import GlorotNormal  #Xavier"
   ]
  },
  {
   "cell_type": "code",
   "execution_count": 20,
   "id": "50a40a44-73e7-4392-be6e-7d3e654ca72e",
   "metadata": {},
   "outputs": [],
   "source": [
    "# model=Sequential()\n",
    "# model.add(Dense(units=60,input_dim=28*28,  activation='relu', kernel_initializer='glorot_uniform')) # 입력층\n",
    "# model.add(Dense(units=10,  activation='softmax'))                                                   # 히든레이어 ( 히든레이어가 2개 이상 일 경우 NN이라 할 수 있음)\n",
    "# model.add(Dense(units=10,  activation='softmax'))\n",
    "# model.add(Dense(units=10,  activation='softmax'))\n",
    "# model.add(Dense(units=10,  activation='softmax'))\n",
    "# model.compile(loss='sparse_categorical_crossentropy', optimizer='Adam', metrics=['accuracy'])       # 출력층"
   ]
  },
  {
   "cell_type": "code",
   "execution_count": 21,
   "id": "cc142ab2-56a3-4bcb-88ad-fd9ac213dda1",
   "metadata": {
    "tags": []
   },
   "outputs": [],
   "source": [
    "model=Sequential()\n",
    "#----------CNN--------------------\n",
    "model.add(Conv2D(filters=16, input_shape=(28,28,1), kernel_size=(5,5), strides=(1, 1), padding='valid', activation='relu', kernel_initializer='glorot_uniform'))\n",
    "model.add(MaxPool2D(pool_size=(2, 2) ,strides=None,padding='valid'))\n",
    "model.add(Conv2D(24, kernel_size=(5,5), activation='relu'))\n",
    "model.add(MaxPool2D(pool_size=(2, 2)))\n",
    "#----------Fully Connected--------------------\n",
    "model.add(Flatten())\n",
    "model.add(Dense(units=60,  activation='relu', kernel_initializer='glorot_uniform')) # CNN의 경우 앞에서 데이터를 걸러주기 때문에 히든레이어를 여러개 할 필요 없음\n",
    "model.add(Dense(units=10,  activation='softmax'))                                   # 분류기(최종 ouput개수 정함)를 위해 FC 사용하는 것\n",
    "model.compile(loss='sparse_categorical_crossentropy', optimizer='Adam', metrics=['accuracy'])"
   ]
  },
  {
   "cell_type": "markdown",
   "id": "fb106b38-f62c-4f45-becd-6e20cbe53fd4",
   "metadata": {},
   "source": [
    "- Fully Total params: 272,270\n",
    "- CNN   Total params: 33,750  --> 연산량 줄음"
   ]
  },
  {
   "cell_type": "code",
   "execution_count": 22,
   "id": "679047d9-e866-4639-9ef7-a7754802a1df",
   "metadata": {
    "tags": []
   },
   "outputs": [
    {
     "name": "stdout",
     "output_type": "stream",
     "text": [
      "Model: \"sequential_1\"\n",
      "_________________________________________________________________\n",
      " Layer (type)                Output Shape              Param #   \n",
      "=================================================================\n",
      " conv2d (Conv2D)             (None, 24, 24, 16)        416       \n",
      "                                                                 \n",
      " max_pooling2d (MaxPooling2D  (None, 12, 12, 16)       0         \n",
      " )                                                               \n",
      "                                                                 \n",
      " conv2d_1 (Conv2D)           (None, 8, 8, 24)          9624      \n",
      "                                                                 \n",
      " max_pooling2d_1 (MaxPooling  (None, 4, 4, 24)         0         \n",
      " 2D)                                                             \n",
      "                                                                 \n",
      " flatten (Flatten)           (None, 384)               0         \n",
      "                                                                 \n",
      " dense_4 (Dense)             (None, 60)                23100     \n",
      "                                                                 \n",
      " dense_5 (Dense)             (None, 10)                610       \n",
      "                                                                 \n",
      "=================================================================\n",
      "Total params: 33,750\n",
      "Trainable params: 33,750\n",
      "Non-trainable params: 0\n",
      "_________________________________________________________________\n"
     ]
    }
   ],
   "source": [
    "model.summary()"
   ]
  },
  {
   "cell_type": "code",
   "execution_count": 23,
   "id": "fcb303c5-3d4d-42c7-b6e2-0170752f56de",
   "metadata": {
    "tags": []
   },
   "outputs": [
    {
     "name": "stdout",
     "output_type": "stream",
     "text": [
      "Epoch 1/10\n",
      "375/375 [==============================] - 12s 30ms/step - loss: 0.3287 - accuracy: 0.9047 - val_loss: 0.1195 - val_accuracy: 0.9639\n",
      "Epoch 2/10\n",
      "375/375 [==============================] - 11s 29ms/step - loss: 0.0925 - accuracy: 0.9719 - val_loss: 0.0708 - val_accuracy: 0.9796\n",
      "Epoch 3/10\n",
      "375/375 [==============================] - 11s 29ms/step - loss: 0.0662 - accuracy: 0.9802 - val_loss: 0.0614 - val_accuracy: 0.9818\n",
      "Epoch 4/10\n",
      "375/375 [==============================] - 11s 28ms/step - loss: 0.0505 - accuracy: 0.9848 - val_loss: 0.0530 - val_accuracy: 0.9854\n",
      "Epoch 5/10\n",
      "375/375 [==============================] - 11s 29ms/step - loss: 0.0412 - accuracy: 0.9871 - val_loss: 0.0513 - val_accuracy: 0.9850\n",
      "Epoch 6/10\n",
      "375/375 [==============================] - 11s 30ms/step - loss: 0.0370 - accuracy: 0.9885 - val_loss: 0.0483 - val_accuracy: 0.9872\n",
      "Epoch 7/10\n",
      "375/375 [==============================] - 12s 31ms/step - loss: 0.0315 - accuracy: 0.9900 - val_loss: 0.0462 - val_accuracy: 0.9867\n",
      "Epoch 8/10\n",
      "375/375 [==============================] - 11s 30ms/step - loss: 0.0285 - accuracy: 0.9911 - val_loss: 0.0484 - val_accuracy: 0.9873\n",
      "Epoch 9/10\n",
      "375/375 [==============================] - 11s 30ms/step - loss: 0.0240 - accuracy: 0.9923 - val_loss: 0.0418 - val_accuracy: 0.9883\n",
      "Epoch 10/10\n",
      "375/375 [==============================] - 11s 30ms/step - loss: 0.0220 - accuracy: 0.9930 - val_loss: 0.0486 - val_accuracy: 0.9876\n",
      "<keras.callbacks.History object at 0x00000191494164F0>\n"
     ]
    }
   ],
   "source": [
    "fit_hisroty = model.fit(X_train_scaler, y_train, validation_split=0.2, batch_size = 128, epochs=10)\n",
    "print(fit_hisroty)"
   ]
  },
  {
   "cell_type": "code",
   "execution_count": 25,
   "id": "4bf566ee-c5d7-415d-9896-e5f1f11902f0",
   "metadata": {
    "tags": []
   },
   "outputs": [
    {
     "data": {
      "image/png": "[encoded data removed]",
      "text/plain": [
       "<Figure size 600x300 with 2 Axes>"
      ]
     },
     "metadata": {},
     "output_type": "display_data"
    }
   ],
   "source": [
    "plt.figure(figsize=(6,3))\n",
    "ax1 = plt.subplot(1,2,1)\n",
    "ax1.plot(fit_hisroty.history['loss']    , label='loss')\n",
    "ax1.plot(fit_hisroty.history['val_loss'], label='val_loss')\n",
    "ax1.legend()\n",
    "ax1.set_title(\"loss\")\n",
    "\n",
    "ax2 = plt.subplot(1,2,2)\n",
    "ax2.plot(fit_hisroty.history['accuracy']    , label='accuracy')\n",
    "ax2.plot(fit_hisroty.history['val_accuracy'], label='val_accuracy')\n",
    "ax2.legend()\n",
    "ax2.set_title(\"accuracy\")\n",
    "\n",
    "plt.show()"
   ]
  },
  {
   "cell_type": "markdown",
   "id": "0dbfbab8-d788-4515-8ed3-306aa3b2d179",
   "metadata": {},
   "source": [
    "- Full : [0.08144471794366837, 0.9776999950408936]\n",
    "- CNN  : [0.03539644554257393, 0.9889000058174133]"
   ]
  },
  {
   "cell_type": "code",
   "execution_count": 24,
   "id": "81992d1a-6105-40f0-8210-9e2016693e57",
   "metadata": {},
   "outputs": [
    {
     "name": "stdout",
     "output_type": "stream",
     "text": [
      "313/313 [==============================] - 1s 3ms/step - loss: 0.0354 - accuracy: 0.9889\n"
     ]
    },
    {
     "data": {
      "text/plain": [
       "[0.03539644554257393, 0.9889000058174133]"
      ]
     },
     "execution_count": 24,
     "metadata": {},
     "output_type": "execute_result"
    }
   ],
   "source": [
    "model.evaluate(X_test_scaler, y_test)"
   ]
  },
  {
   "cell_type": "markdown",
   "id": "9617480f-2903-4529-824b-cd7095a7f555",
   "metadata": {},
   "source": [
    "## 성능비교\n",
    "- CNN이 FC에비해 연산량(parm)이 확연히 줄었음에도 loss ↓ , accuracy ↑"
   ]
  }
 ],
 "metadata": {
  "kernelspec": {
   "display_name": "Python 3 (ipykernel)",
   "language": "python",
   "name": "python3"
  },
  "language_info": {
   "codemirror_mode": {
    "name": "ipython",
    "version": 3
   },
   "file_extension": ".py",
   "mimetype": "text/x-python",
   "name": "python",
   "nbconvert_exporter": "python",
   "pygments_lexer": "ipython3",
   "version": "3.8.8"
  }
 },
 "nbformat": 4,
 "nbformat_minor": 5
}
