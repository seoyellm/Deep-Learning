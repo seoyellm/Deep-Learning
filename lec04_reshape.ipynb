{
 "cells": [
  {
   "cell_type": "markdown",
   "id": "1a99d9a6-a6ba-4511-b186-f939e5b944b2",
   "metadata": {},
   "source": [
    "# lec04.reshape\n",
    "\n",
    "- 데이터 구조(유형)\n",
    "    - 스칼라( Scalar ) : 한 개의 숫자\n",
    "    - 백터( Vector )   : 여러개 숫자의 묶음(array-like)\n",
    "    - 행열( matrix )   : 백터의 묶음\n",
    "    - 텐서( Tensor )   : 행열의 묶음"
   ]
  },
  {
   "cell_type": "markdown",
   "id": "c7b0600b-7b06-462e-9e90-b59044ca870e",
   "metadata": {},
   "source": [
    "<img src=\"https://mblogthumb-phinf.pstatic.net/MjAyMDA1MjVfMjMx/MDAxNTkwMzY0MTI4NTE1.f-y_r75ikUM3Mr406dl5ILpLArs8vtef5jOb1_bncZcg.t1-XQSmZiTGDdV2o2JS3LpCb2rb3rsRGCWgvmOuvYYYg.PNG.nabilera1/image.png?type=w800\">"
   ]
  },
  {
   "cell_type": "markdown",
   "id": "da69c756-1091-4104-9c32-95f119484165",
   "metadata": {},
   "source": [
    "<img src=\"https://art28.github.io/assets/lecture_asset/linear_algebra/1_1.png\">"
   ]
  },
  {
   "cell_type": "code",
   "execution_count": 1,
   "id": "b0a182ba-4172-4e12-b0a7-63782edc0d86",
   "metadata": {
    "tags": []
   },
   "outputs": [],
   "source": [
    "import numpy as np\n",
    "import pandas as pd"
   ]
  },
  {
   "cell_type": "markdown",
   "id": "4185c44b-d989-414f-a022-8fe348797df5",
   "metadata": {
    "tags": []
   },
   "source": [
    "# list, array, Series"
   ]
  },
  {
   "cell_type": "code",
   "execution_count": 2,
   "id": "03bc7c5a-f8e0-47e8-804b-c77d801251b9",
   "metadata": {
    "tags": []
   },
   "outputs": [
    {
     "name": "stdout",
     "output_type": "stream",
     "text": [
      "4 [1, 2, 3, 4]\n",
      "4 (4,) [1 2 3 4]\n",
      "4 (4,) (4,)\n",
      "[1 2 3 4]\n",
      "0    1\n",
      "1    2\n",
      "2    3\n",
      "3    4\n",
      "dtype: int32\n"
     ]
    }
   ],
   "source": [
    "num_list=[1,2,3,4]\n",
    "print(len(num_list),num_list)\n",
    "\n",
    "num_arr=np.array(num_list)\n",
    "print(len(num_arr),num_arr.shape,num_arr)\n",
    "\n",
    "s=pd.Series(num_arr)\n",
    "print(len(s),s.shape, s.values.shape)  \n",
    "print(s.values) # array\n",
    "print(s)        # series"
   ]
  },
  {
   "cell_type": "markdown",
   "id": "7799365d-5fea-47c4-b7aa-bda531345251",
   "metadata": {},
   "source": [
    "# 요소 접근"
   ]
  },
  {
   "cell_type": "code",
   "execution_count": 3,
   "id": "8c74466e-951b-4eda-a7bf-8738d68160a9",
   "metadata": {
    "tags": []
   },
   "outputs": [
    {
     "name": "stdout",
     "output_type": "stream",
     "text": [
      "[[[ 0  1  2  3]\n",
      "  [ 4  5  6  7]\n",
      "  [ 8  9 10 11]]\n",
      "\n",
      " [[12 13 14 15]\n",
      "  [16 17 18 19]\n",
      "  [20 21 22 23]]]\n"
     ]
    }
   ],
   "source": [
    "num_arr=np.arange(0,24)\n",
    "re_arr=num_arr.reshape(2,3,4)\n",
    "print(re_arr)"
   ]
  },
  {
   "cell_type": "code",
   "execution_count": 4,
   "id": "65d91907-3c8c-42ee-b286-3c1cf9bc9ace",
   "metadata": {
    "tags": []
   },
   "outputs": [
    {
     "name": "stdout",
     "output_type": "stream",
     "text": [
      "[[[ 0  1  2  3]\n",
      "  [ 4  5  6  7]\n",
      "  [ 8  9 10 11]]\n",
      "\n",
      " [[12 13 14 15]\n",
      "  [16 17 18 19]\n",
      "  [20 21 22 23]]] 2\n"
     ]
    }
   ],
   "source": [
    "print(re_arr,len(re_arr))"
   ]
  },
  {
   "cell_type": "code",
   "execution_count": 5,
   "id": "537820fb-9263-4f6d-8c3d-9486e08b6f0b",
   "metadata": {
    "tags": []
   },
   "outputs": [
    {
     "name": "stdout",
     "output_type": "stream",
     "text": [
      "[[ 0  1  2  3]\n",
      " [ 4  5  6  7]\n",
      " [ 8  9 10 11]] 3\n"
     ]
    }
   ],
   "source": [
    "print(re_arr[0],len(re_arr[0]))"
   ]
  },
  {
   "cell_type": "code",
   "execution_count": 6,
   "id": "209f55cd-39aa-4136-9ef8-7ad88f32e314",
   "metadata": {
    "tags": []
   },
   "outputs": [
    {
     "name": "stdout",
     "output_type": "stream",
     "text": [
      "[0 1 2 3] 4\n"
     ]
    }
   ],
   "source": [
    "print(re_arr[0][0],len(re_arr[0][0]))"
   ]
  },
  {
   "cell_type": "code",
   "execution_count": 7,
   "id": "51e55d9b-cc57-41a2-9b3b-b1525c3d7497",
   "metadata": {
    "tags": []
   },
   "outputs": [
    {
     "name": "stdout",
     "output_type": "stream",
     "text": [
      "0\n"
     ]
    }
   ],
   "source": [
    "print(re_arr[0][0][0]) # 숫자 하나(스칼라)에는 len 없음  --> len은 백터부터 적용 가능"
   ]
  },
  {
   "cell_type": "markdown",
   "id": "6404a4d9-8754-4ce3-a33c-174d21829568",
   "metadata": {},
   "source": [
    "# arange(s, e, inc) vs range(s, e, inc)\n",
    "- arange(s, e, inc) vs range(s, e, inc)\n",
    "- array             vs range 객체\n",
    "- 요소값 출력       vs list(a)로 감싸서 요소값 출력\n",
    "\n",
    "- for i in range(10) :"
   ]
  },
  {
   "cell_type": "code",
   "execution_count": 8,
   "id": "368a3736-f7a7-4c43-b146-0fe6b2890d29",
   "metadata": {
    "tags": []
   },
   "outputs": [
    {
     "data": {
      "text/plain": [
       "array([ 4,  6,  8, 10])"
      ]
     },
     "execution_count": 8,
     "metadata": {},
     "output_type": "execute_result"
    }
   ],
   "source": [
    "a=np.arange(4, 12, 2) \n",
    "a"
   ]
  },
  {
   "cell_type": "code",
   "execution_count": 9,
   "id": "eedd6456-8d83-4846-9053-91b9254d2464",
   "metadata": {
    "tags": []
   },
   "outputs": [
    {
     "name": "stdout",
     "output_type": "stream",
     "text": [
      "<class 'range'>\n"
     ]
    },
    {
     "data": {
      "text/plain": [
       "[4, 6, 8, 10]"
      ]
     },
     "execution_count": 9,
     "metadata": {},
     "output_type": "execute_result"
    }
   ],
   "source": [
    "a=range(4, 12, 2)\n",
    "print(type(a))\n",
    "list(a)"
   ]
  },
  {
   "cell_type": "code",
   "execution_count": 10,
   "id": "3f43ae68-3ad8-43da-ad68-d8e18fb2742b",
   "metadata": {
    "tags": []
   },
   "outputs": [
    {
     "name": "stdout",
     "output_type": "stream",
     "text": [
      "1\n",
      "2\n",
      "3\n"
     ]
    }
   ],
   "source": [
    "for i in [1,2,3] :\n",
    "    print(i)"
   ]
  },
  {
   "cell_type": "code",
   "execution_count": 11,
   "id": "430ce820-34f7-44ff-8fbd-18f812c43bdc",
   "metadata": {
    "tags": []
   },
   "outputs": [
    {
     "name": "stdout",
     "output_type": "stream",
     "text": [
      "1\n",
      "2\n",
      "3\n"
     ]
    }
   ],
   "source": [
    "for i in np.array([1,2,3]) :\n",
    "    print(i)"
   ]
  },
  {
   "cell_type": "code",
   "execution_count": 12,
   "id": "f2500666-7cbf-42e2-ad1a-9c2ee2a0e6e2",
   "metadata": {
    "tags": []
   },
   "outputs": [
    {
     "name": "stdout",
     "output_type": "stream",
     "text": [
      "1\n",
      "2\n",
      "3\n"
     ]
    }
   ],
   "source": [
    "for i in range(1,4) :\n",
    "    print(i)"
   ]
  },
  {
   "cell_type": "code",
   "execution_count": 13,
   "id": "64dd7019-6bf5-4177-a411-8448bd39727b",
   "metadata": {
    "tags": []
   },
   "outputs": [
    {
     "name": "stdout",
     "output_type": "stream",
     "text": [
      "0\n",
      "1\n",
      "2\n"
     ]
    }
   ],
   "source": [
    "for i in range(3) :  # list [0, 1, 2]\n",
    "    print(i)"
   ]
  },
  {
   "cell_type": "code",
   "execution_count": 14,
   "id": "ee6a0418-63b3-409c-bcb0-dc4da4cafd7e",
   "metadata": {
    "tags": []
   },
   "outputs": [
    {
     "name": "stdout",
     "output_type": "stream",
     "text": [
      "0\n",
      "1\n",
      "2\n"
     ]
    }
   ],
   "source": [
    "for i in list(range(3)) :  # list [0 1 2]\n",
    "    print(i)"
   ]
  },
  {
   "cell_type": "code",
   "execution_count": 15,
   "id": "847abcd7-dc59-4205-b60f-9f3ff3ae6739",
   "metadata": {
    "tags": []
   },
   "outputs": [
    {
     "name": "stdout",
     "output_type": "stream",
     "text": [
      "0\n",
      "1\n",
      "2\n"
     ]
    }
   ],
   "source": [
    "for i in np.arange(3) : # array [0 1 2]\n",
    "    print(i)"
   ]
  },
  {
   "cell_type": "code",
   "execution_count": 16,
   "id": "38932169-d50a-404a-800b-f453707d62ed",
   "metadata": {
    "tags": []
   },
   "outputs": [
    {
     "name": "stdout",
     "output_type": "stream",
     "text": [
      "1\n",
      "2\n",
      "3\n"
     ]
    }
   ],
   "source": [
    "for i in np.arange(1,4) : # array [1 2 3]\n",
    "    print(i)"
   ]
  },
  {
   "cell_type": "markdown",
   "id": "7578ed31-7684-4b16-9511-608735513fa8",
   "metadata": {},
   "source": [
    "# np.zeros() ones() _like()\n",
    "- 더미 데이터 만들기"
   ]
  },
  {
   "cell_type": "code",
   "execution_count": 17,
   "id": "9c72229e-d16a-43f1-80f8-b5b201f21dc3",
   "metadata": {
    "tags": []
   },
   "outputs": [
    {
     "data": {
      "text/plain": [
       "array([0, 0, 0, 0, 0])"
      ]
     },
     "execution_count": 17,
     "metadata": {},
     "output_type": "execute_result"
    }
   ],
   "source": [
    "np.zeros((5), dtype=int)"
   ]
  },
  {
   "cell_type": "code",
   "execution_count": 18,
   "id": "7e124f6c-cac6-414c-9823-8bcd0677be97",
   "metadata": {
    "tags": []
   },
   "outputs": [
    {
     "data": {
      "text/plain": [
       "array([[0, 0, 0],\n",
       "       [0, 0, 0],\n",
       "       [0, 0, 0],\n",
       "       [0, 0, 0],\n",
       "       [0, 0, 0]])"
      ]
     },
     "execution_count": 18,
     "metadata": {},
     "output_type": "execute_result"
    }
   ],
   "source": [
    "np.zeros((5,3), dtype=int) # 5행 3열"
   ]
  },
  {
   "cell_type": "code",
   "execution_count": 19,
   "id": "32600675-9a72-4f78-bf46-941418d38843",
   "metadata": {
    "tags": []
   },
   "outputs": [
    {
     "data": {
      "text/plain": [
       "array([1, 1, 1, 1, 1])"
      ]
     },
     "execution_count": 19,
     "metadata": {},
     "output_type": "execute_result"
    }
   ],
   "source": [
    "np.ones((5), dtype=int)"
   ]
  },
  {
   "cell_type": "code",
   "execution_count": 20,
   "id": "01c7bf0c-974b-49bd-bc7f-1c4cac0ab8b8",
   "metadata": {
    "tags": []
   },
   "outputs": [
    {
     "name": "stdout",
     "output_type": "stream",
     "text": [
      "(5, 3) \n",
      " [[0 0 0]\n",
      " [0 0 0]\n",
      " [0 0 0]\n",
      " [0 0 0]\n",
      " [0 0 0]]\n",
      "(5, 3) \n",
      " [[1 1 1]\n",
      " [1 1 1]\n",
      " [1 1 1]\n",
      " [1 1 1]\n",
      " [1 1 1]]\n"
     ]
    }
   ],
   "source": [
    "sample  =np.zeros((5,3), dtype=int)\n",
    "print(sample.shape,\"\\n\", sample)\n",
    "\n",
    "temp= np.ones_like(sample) # 1로 채운 sample과 같은 형태로 더미 생성\n",
    "print(temp.shape,\"\\n\", temp)"
   ]
  },
  {
   "cell_type": "markdown",
   "id": "757e1ad7-9e64-459f-9345-bb15899d9673",
   "metadata": {},
   "source": [
    "# 차수(demension)"
   ]
  },
  {
   "cell_type": "markdown",
   "id": "0f316fc2-aed9-42e6-b1c9-956455618226",
   "metadata": {},
   "source": [
    "<img src=\"https://img1.daumcdn.net/thumb/R1280x0/?scode=mtistory2&fname=https%3A%2F%2Fblog.kakaocdn.net%2Fdn%2FcSoMOs%2Fbtqt0a2Dc2y%2FQhkfwhiWqeUKvNfsM2H29K%2Fimg.png\">"
   ]
  },
  {
   "cell_type": "markdown",
   "id": "8f7b7b27-8c4a-4703-becc-1af8ebe61560",
   "metadata": {},
   "source": [
    "## 1D [ ... ]\n",
    "- <font color = 'red'><b> axis = 0 (가로)"
   ]
  },
  {
   "cell_type": "code",
   "execution_count": 21,
   "id": "e7855e12-150c-42fe-95c9-ba673b75b806",
   "metadata": {
    "tags": []
   },
   "outputs": [
    {
     "name": "stdout",
     "output_type": "stream",
     "text": [
      "1\n",
      "1\n",
      "1\n"
     ]
    }
   ],
   "source": [
    "num_list=[1,2,3,4]\n",
    "print(np.ndim(num_list))\n",
    "\n",
    "num_arr=np.array(num_list)\n",
    "print(np.ndim(num_arr))\n",
    "\n",
    "s=pd.Series(num_arr)\n",
    "print(np.ndim(s))  "
   ]
  },
  {
   "cell_type": "markdown",
   "id": "6f4d8b57-ad16-4ca4-8dff-966187828788",
   "metadata": {},
   "source": [
    "## 2D [[ ... ]]\n",
    "- <font color = 'red'><b> axis = 0 (행(세로 ↓))\n",
    "- <font color = 'red'><b> axis = 1 (열(가로 →))"
   ]
  },
  {
   "cell_type": "markdown",
   "id": "8d92f2b4-106e-4673-a817-729711925047",
   "metadata": {},
   "source": [
    "- 가변 행렬일 경우 list[요소]를 하나의 값으로 인식"
   ]
  },
  {
   "cell_type": "code",
   "execution_count": 22,
   "id": "4f55dd39-fc93-4f3c-a5ee-68f3d975b6b0",
   "metadata": {
    "tags": []
   },
   "outputs": [],
   "source": [
    "# num_list=[[1,3],[2],[3],[4]]\n",
    "# # print(np.ndim(num_list))\n",
    "\n",
    "# num_arr=np.array(num_list)\n",
    "# print(num_arr,num_arr.shape)\n",
    "# print(np.ndim(num_arr)) "
   ]
  },
  {
   "cell_type": "markdown",
   "id": "bf2df8d7-726b-4386-bb44-b40a768244c8",
   "metadata": {},
   "source": [
    "- 정방 행열"
   ]
  },
  {
   "cell_type": "code",
   "execution_count": 23,
   "id": "a120e689-2a0b-4f34-bb0d-953fd2a9aa0d",
   "metadata": {
    "tags": []
   },
   "outputs": [
    {
     "name": "stdout",
     "output_type": "stream",
     "text": [
      "2\n"
     ]
    }
   ],
   "source": [
    "num_list=[[1,2,3],[2,2,2],[3,3,2],[4,1,2]]\n",
    "print(np.ndim(num_list))"
   ]
  },
  {
   "cell_type": "markdown",
   "id": "c3bcc296-d954-4bce-8b04-9f8fa7340b4f",
   "metadata": {},
   "source": [
    "## 3D [[[ ... ]]]\n",
    "- (2,3,4) : 3행, 4열, 덩어리\n",
    "* <font color=red><b>axis=0 (세로 ↓)\n",
    "* <font color=red><b>axis=1 (가로 →)\n",
    "* <font color=red><b>axis=2 (폭)"
   ]
  },
  {
   "cell_type": "code",
   "execution_count": 24,
   "id": "68301f7d-a9be-4765-9e5e-809254e5e443",
   "metadata": {
    "tags": []
   },
   "outputs": [
    {
     "name": "stdout",
     "output_type": "stream",
     "text": [
      "(24,) \n",
      " [ 0  1  2  3  4  5  6  7  8  9 10 11 12 13 14 15 16 17 18 19 20 21 22 23]\n",
      "\n",
      "(6, 4) \n",
      " [[ 0  1  2  3]\n",
      " [ 4  5  6  7]\n",
      " [ 8  9 10 11]\n",
      " [12 13 14 15]\n",
      " [16 17 18 19]\n",
      " [20 21 22 23]]\n",
      "\n",
      "(2, 3, 4) \n",
      " [[[ 0  1  2  3]\n",
      "  [ 4  5  6  7]\n",
      "  [ 8  9 10 11]]\n",
      "\n",
      " [[12 13 14 15]\n",
      "  [16 17 18 19]\n",
      "  [20 21 22 23]]]\n",
      "\n"
     ]
    }
   ],
   "source": [
    "num_arr=np.arange(0,24)\n",
    "print(num_arr.shape,\"\\n\",num_arr)\n",
    "print() \n",
    "\n",
    "re_arr=num_arr.reshape(6,4) # 6행 4열\n",
    "print(re_arr.shape,\"\\n\",re_arr)\n",
    "print() \n",
    "\n",
    "re_arr=num_arr.reshape(2,3,4) # 폭 2, 3행 4열, \n",
    "print(re_arr.shape,\"\\n\",re_arr)\n",
    "print()"
   ]
  },
  {
   "cell_type": "markdown",
   "id": "60965a01-a66d-46b3-91f2-f18f48d840ba",
   "metadata": {},
   "source": [
    "# 축(axis)"
   ]
  },
  {
   "attachments": {
    "d3bf2b7f-4e3a-4916-b2c5-e327b941995d.png": {
     "image/png": "[encoded data removed]"
    }
   },
   "cell_type": "markdown",
   "id": "2cf760cc-f835-4956-918b-d57df16ae0b0",
   "metadata": {},
   "source": [
    "![image.png](attachment:d3bf2b7f-4e3a-4916-b2c5-e327b941995d.png)"
   ]
  },
  {
   "cell_type": "markdown",
   "id": "6b289c78-2f4c-43d8-a6ac-f1a91b14be99",
   "metadata": {},
   "source": [
    "## axis= None \n",
    "- axis= None : sum all of the elements  --> 모든 요소 합침"
   ]
  },
  {
   "cell_type": "code",
   "execution_count": 25,
   "id": "d61b064d-0f21-43cf-81e2-46c2a36d57b2",
   "metadata": {
    "tags": []
   },
   "outputs": [
    {
     "name": "stdout",
     "output_type": "stream",
     "text": [
      "[ 0  1  2  3  4  5  6  7  8  9 10 11 12 13 14 15 16 17 18 19 20 21 22 23]\n"
     ]
    },
    {
     "data": {
      "text/plain": [
       "276"
      ]
     },
     "execution_count": 25,
     "metadata": {},
     "output_type": "execute_result"
    }
   ],
   "source": [
    "num_arr=np.arange(0,24)\n",
    "print(num_arr)\n",
    "np.sum(num_arr)"
   ]
  },
  {
   "cell_type": "code",
   "execution_count": 26,
   "id": "5886e6b2-19b6-4daf-8481-ff60c5b1bdf7",
   "metadata": {
    "tags": []
   },
   "outputs": [
    {
     "name": "stdout",
     "output_type": "stream",
     "text": [
      "[[ 0  1  2  3]\n",
      " [ 4  5  6  7]\n",
      " [ 8  9 10 11]\n",
      " [12 13 14 15]\n",
      " [16 17 18 19]\n",
      " [20 21 22 23]]\n"
     ]
    },
    {
     "data": {
      "text/plain": [
       "276"
      ]
     },
     "execution_count": 26,
     "metadata": {},
     "output_type": "execute_result"
    }
   ],
   "source": [
    "num_arr=np.arange(0,24)\n",
    "num_arr=num_arr.reshape(6,4) # 6행 4열\n",
    "print(num_arr)\n",
    "np.sum(num_arr)"
   ]
  },
  {
   "cell_type": "markdown",
   "id": "67cbfe3a-57f7-490c-8f85-187fd8159f32",
   "metadata": {},
   "source": [
    "## 2D axis=0\n",
    "* 행 총합\n",
    "* <font color=red><b>axis=0 (행)\n",
    "* <font color=red><b>axis=1 (열)"
   ]
  },
  {
   "cell_type": "code",
   "execution_count": 27,
   "id": "00e5c862-4a4e-48cf-96ff-e885d3bf22bd",
   "metadata": {
    "tags": []
   },
   "outputs": [
    {
     "name": "stdout",
     "output_type": "stream",
     "text": [
      "[[ 0  1  2  3]\n",
      " [ 4  5  6  7]\n",
      " [ 8  9 10 11]\n",
      " [12 13 14 15]\n",
      " [16 17 18 19]\n",
      " [20 21 22 23]]\n"
     ]
    },
    {
     "data": {
      "text/plain": [
       "array([60, 66, 72, 78])"
      ]
     },
     "execution_count": 27,
     "metadata": {},
     "output_type": "execute_result"
    }
   ],
   "source": [
    "num_arr=np.arange(0,24)\n",
    "num_arr=num_arr.reshape(6,4) # 6행 4열\n",
    "print(num_arr)\n",
    "np.sum(num_arr,axis= 0)"
   ]
  },
  {
   "cell_type": "markdown",
   "id": "b2c9613a-a048-4fd8-82f8-12dcbcf01d82",
   "metadata": {},
   "source": [
    "## 2D axis=1\n",
    "* 열 총합\n",
    "* <font color=red><b>axis=0 (행)\n",
    "* <font color=red><b>axis=1 (열)"
   ]
  },
  {
   "cell_type": "code",
   "execution_count": 28,
   "id": "ff23b195-1f7b-4b62-af89-b4dea037bfd8",
   "metadata": {
    "tags": []
   },
   "outputs": [
    {
     "name": "stdout",
     "output_type": "stream",
     "text": [
      "[[ 0  1  2  3]\n",
      " [ 4  5  6  7]\n",
      " [ 8  9 10 11]\n",
      " [12 13 14 15]\n",
      " [16 17 18 19]\n",
      " [20 21 22 23]]\n"
     ]
    },
    {
     "data": {
      "text/plain": [
       "array([ 6, 22, 38, 54, 70, 86])"
      ]
     },
     "execution_count": 28,
     "metadata": {},
     "output_type": "execute_result"
    }
   ],
   "source": [
    "num_arr=np.arange(0,24)\n",
    "num_arr=num_arr.reshape(6,4) # 6행 4열\n",
    "print(num_arr)   \n",
    "np.sum(num_arr,axis= 1)"
   ]
  },
  {
   "cell_type": "markdown",
   "id": "c625ead0-a96d-4693-9a28-5965980554d8",
   "metadata": {},
   "source": [
    "## 3D \n",
    "* (덩어리, 줄, 칸)\n",
    "<pre>\n",
    "<font color=red><b>axis=0 : (_____ 줄,칸)\n",
    "<font color=red><b>axis=1 : (덩어리,__,칸)\n",
    "<font color=red><b>axis=2 : (덩어리,줄,__)"
   ]
  },
  {
   "cell_type": "code",
   "execution_count": 29,
   "id": "007b0786-88b6-4c03-b8d3-87837aad965f",
   "metadata": {
    "tags": []
   },
   "outputs": [
    {
     "name": "stdout",
     "output_type": "stream",
     "text": [
      "[[[ 0  1  2  3]\n",
      "  [ 4  5  6  7]\n",
      "  [ 8  9 10 11]]\n",
      "\n",
      " [[12 13 14 15]\n",
      "  [16 17 18 19]\n",
      "  [20 21 22 23]]]\n"
     ]
    }
   ],
   "source": [
    "num_arr=np.arange(0,24)\n",
    "num_arr=num_arr.reshape(2,3,4) # 3행 4열 2묶음\n",
    "print(num_arr)"
   ]
  },
  {
   "cell_type": "code",
   "execution_count": 30,
   "id": "cafb0b2e-8360-47fe-87f3-7289b6fc3f83",
   "metadata": {
    "tags": []
   },
   "outputs": [
    {
     "data": {
      "text/plain": [
       "(array([[12, 14, 16, 18],\n",
       "        [20, 22, 24, 26],\n",
       "        [28, 30, 32, 34]]),\n",
       " array([[12, 15, 18, 21],\n",
       "        [48, 51, 54, 57]]),\n",
       " array([[ 6, 22, 38],\n",
       "        [54, 70, 86]]))"
      ]
     },
     "execution_count": 30,
     "metadata": {},
     "output_type": "execute_result"
    }
   ],
   "source": [
    "np.sum(num_arr,axis= 0), np.sum(num_arr,axis= 1), np.sum(num_arr,axis= 2)"
   ]
  },
  {
   "cell_type": "markdown",
   "id": "7e306f38-e1ad-4050-95dc-5dfa10324eac",
   "metadata": {},
   "source": [
    "# reshape()\n",
    "* reshape(행,열) : (행, -1) : 알아서 계산\n",
    "* <font color=red><b>reshpae(-1) == ravel() == flatten() : 1차로 만들기"
   ]
  },
  {
   "cell_type": "code",
   "execution_count": null,
   "id": "176d97bb-0f6c-49a7-a179-ad547821ca22",
   "metadata": {
    "tags": []
   },
   "outputs": [
    {
     "name": "stdout",
     "output_type": "stream",
     "text": [
      "[ 0  1  2  3  4  5  6  7  8  9 10 11 12 13 14 15 16 17 18 19 20 21 22 23]\n",
      "[[ 0  1  2  3]\n",
      " [ 4  5  6  7]\n",
      " [ 8  9 10 11]\n",
      " [12 13 14 15]\n",
      " [16 17 18 19]\n",
      " [20 21 22 23]]\n",
      "[ 0  1  2  3  4  5  6  7  8  9 10 11 12 13 14 15 16 17 18 19 20 21 22 23]\n",
      "[ 0  1  2  3  4  5  6  7  8  9 10 11 12 13 14 15 16 17 18 19 20 21 22 23]\n"
     ]
    }
   ],
   "source": [
    "num_arr=np.arange(0,24)\n",
    "print(num_arr)\n",
    "\n",
    "# re_arr=num_arr.reshape(6,4) # 6행 4열\n",
    "re_arr=num_arr.reshape(6,-1)  # 6행, 칸은 알아서 계산\n",
    "print(re_arr)\n",
    "\n",
    "aa= re_arr.reshape(-1) # 1차로 만들기\n",
    "print(aa)\n",
    "\n",
    "bb=re_arr.ravel()  # 1차로 만들기\n",
    "print(bb)"
   ]
  },
  {
   "cell_type": "markdown",
   "id": "aa8854e9-3229-4e7a-8a35-d7c580fbad9a",
   "metadata": {},
   "source": [
    "## reshape() vs. resize()\n",
    "- reshape() : 원본은 두고 복제한 행열을 반환\n",
    "- resize()  : 원본을 변환, 리턴 없음"
   ]
  },
  {
   "cell_type": "code",
   "execution_count": 47,
   "id": "fb3b2d54-1e30-4076-a758-4c4d16792ee9",
   "metadata": {
    "tags": []
   },
   "outputs": [
    {
     "name": "stdout",
     "output_type": "stream",
     "text": [
      "[ 0  1  2  3  4  5  6  7  8  9 10 11 12 13 14 15 16 17 18 19 20 21 22 23]\n",
      "[[ 0  1  2  3]\n",
      " [ 4  5  6  7]\n",
      " [ 8  9 10 11]\n",
      " [12 13 14 15]\n",
      " [16 17 18 19]\n",
      " [20 21 22 23]]\n"
     ]
    }
   ],
   "source": [
    "num_arr=np.arange(0,24)\n",
    "print(num_arr)\n",
    "\n",
    "re_arr=num_arr.reshape(6,4)   # 원본을 복제하여 새롭게 배열을 만듬\n",
    "print(re_arr) "
   ]
  },
  {
   "cell_type": "code",
   "execution_count": 48,
   "id": "c6a6517d-75d6-4a2a-b8f8-524b7cfe58d7",
   "metadata": {
    "tags": []
   },
   "outputs": [
    {
     "name": "stdout",
     "output_type": "stream",
     "text": [
      "[ 0  1  2  3  4  5  6  7  8  9 10 11 12 13 14 15 16 17 18 19 20 21 22 23]\n",
      "[[ 0  1  2  3]\n",
      " [ 4  5  6  7]\n",
      " [ 8  9 10 11]\n",
      " [12 13 14 15]\n",
      " [16 17 18 19]\n",
      " [20 21 22 23]]\n"
     ]
    }
   ],
   "source": [
    "num_arr=np.arange(0,24)\n",
    "print(num_arr)\n",
    "\n",
    "num_arr.resize(6,4)  # 원본 채로 바꿈\n",
    "print(num_arr) "
   ]
  },
  {
   "cell_type": "markdown",
   "id": "147ecb06-d779-4c4a-9a56-c6f7c1feab25",
   "metadata": {},
   "source": [
    "## 차원확대\n",
    "* reshape(1, -1, ...)\n",
    "* <font color=red><b>슬라이싱 [: , np.newaxis or None] \n",
    "    * 확장하고 싶은 축에 np.newaxis or None 입력\n",
    "* <font color=red><b> np.expand_dims(a, axis)"
   ]
  },
  {
   "cell_type": "markdown",
   "id": "594f0438-84e6-450c-aedd-c1d9a830afb4",
   "metadata": {},
   "source": [
    "### reshape()"
   ]
  },
  {
   "cell_type": "code",
   "execution_count": 60,
   "id": "c80185dc-9915-4849-a092-445aff260a2f",
   "metadata": {
    "tags": []
   },
   "outputs": [
    {
     "name": "stdout",
     "output_type": "stream",
     "text": [
      "1 \n",
      " [ 0  1  2  3  4  5  6  7  8  9 10 11 12 13 14 15 16 17 18 19 20 21 22 23]\n",
      "2 (1, 24) \n",
      " [[ 0  1  2  3  4  5  6  7  8  9 10 11 12 13 14 15 16 17 18 19 20 21 22 23]]\n",
      "2 (24, 1) \n",
      " [[ 0]\n",
      " [ 1]\n",
      " [ 2]\n",
      " [ 3]\n",
      " [ 4]\n",
      " [ 5]\n",
      " [ 6]\n",
      " [ 7]\n",
      " [ 8]\n",
      " [ 9]\n",
      " [10]\n",
      " [11]\n",
      " [12]\n",
      " [13]\n",
      " [14]\n",
      " [15]\n",
      " [16]\n",
      " [17]\n",
      " [18]\n",
      " [19]\n",
      " [20]\n",
      " [21]\n",
      " [22]\n",
      " [23]]\n",
      "2 (24, 1) \n",
      " [[ 0]\n",
      " [ 1]\n",
      " [ 2]\n",
      " [ 3]\n",
      " [ 4]\n",
      " [ 5]\n",
      " [ 6]\n",
      " [ 7]\n",
      " [ 8]\n",
      " [ 9]\n",
      " [10]\n",
      " [11]\n",
      " [12]\n",
      " [13]\n",
      " [14]\n",
      " [15]\n",
      " [16]\n",
      " [17]\n",
      " [18]\n",
      " [19]\n",
      " [20]\n",
      " [21]\n",
      " [22]\n",
      " [23]]\n"
     ]
    }
   ],
   "source": [
    "num_arr=np.arange(0,24)\n",
    "print(num_arr.ndim,\"\\n\",num_arr) # 가로줄 []\n",
    "\n",
    "# res=num_arr.reshape(1,-1) \n",
    "res=num_arr.reshape(1,24)  # 가로줄 [ [0,1..23] ]\n",
    "print(res.ndim,res.shape,\"\\n\",res)\n",
    "\n",
    "res=num_arr.reshape(24,1) # 세로줄 [ [0],[1]..[23] ]\n",
    "print(res.ndim,res.shape,\"\\n\",res)\n",
    "\n",
    "res=num_arr.reshape(-1,1) # 세로줄 [ [0],[1]..[23] ]\n",
    "print(res.ndim,res.shape,\"\\n\",res)"
   ]
  },
  {
   "cell_type": "markdown",
   "id": "8dff79e9-a80c-4cf2-a607-e3cf2841f421",
   "metadata": {},
   "source": [
    "### 슬라이싱/ np.newaxis"
   ]
  },
  {
   "cell_type": "code",
   "execution_count": 66,
   "id": "d0d79107-8691-47bf-a9e1-77a6b207c073",
   "metadata": {
    "tags": []
   },
   "outputs": [
    {
     "name": "stdout",
     "output_type": "stream",
     "text": [
      "1 (24,) \n",
      " [ 0  1  2  3  4  5  6  7  8  9 10 11 12 13 14 15 16 17 18 19 20 21 22 23]\n",
      "2 (1, 24) \n",
      " [[ 0  1  2  3  4  5  6  7  8  9 10 11 12 13 14 15 16 17 18 19 20 21 22 23]]\n",
      "2 (1, 24) \n",
      " [[ 0  1  2  3  4  5  6  7  8  9 10 11 12 13 14 15 16 17 18 19 20 21 22 23]]\n",
      "2 (24, 1) \n",
      " [[ 0]\n",
      " [ 1]\n",
      " [ 2]\n",
      " [ 3]\n",
      " [ 4]\n",
      " [ 5]\n",
      " [ 6]\n",
      " [ 7]\n",
      " [ 8]\n",
      " [ 9]\n",
      " [10]\n",
      " [11]\n",
      " [12]\n",
      " [13]\n",
      " [14]\n",
      " [15]\n",
      " [16]\n",
      " [17]\n",
      " [18]\n",
      " [19]\n",
      " [20]\n",
      " [21]\n",
      " [22]\n",
      " [23]]\n",
      "2 (24, 1) \n",
      " [[ 0]\n",
      " [ 1]\n",
      " [ 2]\n",
      " [ 3]\n",
      " [ 4]\n",
      " [ 5]\n",
      " [ 6]\n",
      " [ 7]\n",
      " [ 8]\n",
      " [ 9]\n",
      " [10]\n",
      " [11]\n",
      " [12]\n",
      " [13]\n",
      " [14]\n",
      " [15]\n",
      " [16]\n",
      " [17]\n",
      " [18]\n",
      " [19]\n",
      " [20]\n",
      " [21]\n",
      " [22]\n",
      " [23]]\n"
     ]
    }
   ],
   "source": [
    "num_arr=np.arange(0,24)\n",
    "print(num_arr.ndim,num_arr.shape,\"\\n\",num_arr)\n",
    "\n",
    "res=num_arr[np.newaxis, :]   # 가로줄 [[]]\n",
    "print(res.ndim,res.shape,\"\\n\",res)\n",
    "\n",
    "res=num_arr[None, :]          # 가로줄 [[]]\n",
    "print(res.ndim,res.shape,\"\\n\",res)\n",
    "\n",
    "res=num_arr[:,np.newaxis]     # 세로줄 [[]] \n",
    "print(res.ndim,res.shape,\"\\n\",res)\n",
    "\n",
    "res=num_arr[:,None]           # 세로줄 [[]] \n",
    "print(res.ndim,res.shape,\"\\n\",res)"
   ]
  },
  {
   "cell_type": "markdown",
   "id": "1eca9340-3869-4860-9065-cabb3d038a5c",
   "metadata": {},
   "source": [
    "### np.expand_dims()"
   ]
  },
  {
   "cell_type": "code",
   "execution_count": 72,
   "id": "2e0ee6e9-d62d-42c5-8408-5ac35a857a17",
   "metadata": {
    "tags": []
   },
   "outputs": [
    {
     "name": "stdout",
     "output_type": "stream",
     "text": [
      "1 (24,) \n",
      " [ 0  1  2  3  4  5  6  7  8  9 10 11 12 13 14 15 16 17 18 19 20 21 22 23]\n",
      "2 (1, 24) \n",
      " [[ 0  1  2  3  4  5  6  7  8  9 10 11 12 13 14 15 16 17 18 19 20 21 22 23]]\n",
      "2 (24, 1) \n",
      " [[ 0]\n",
      " [ 1]\n",
      " [ 2]\n",
      " [ 3]\n",
      " [ 4]\n",
      " [ 5]\n",
      " [ 6]\n",
      " [ 7]\n",
      " [ 8]\n",
      " [ 9]\n",
      " [10]\n",
      " [11]\n",
      " [12]\n",
      " [13]\n",
      " [14]\n",
      " [15]\n",
      " [16]\n",
      " [17]\n",
      " [18]\n",
      " [19]\n",
      " [20]\n",
      " [21]\n",
      " [22]\n",
      " [23]]\n",
      "3 (1, 1, 24) \n",
      " [[[ 0  1  2  3  4  5  6  7  8  9 10 11 12 13 14 15 16 17 18 19 20 21 22\n",
      "   23]]]\n",
      "3 (1, 24, 1) \n",
      " [[[ 0]\n",
      "  [ 1]\n",
      "  [ 2]\n",
      "  [ 3]\n",
      "  [ 4]\n",
      "  [ 5]\n",
      "  [ 6]\n",
      "  [ 7]\n",
      "  [ 8]\n",
      "  [ 9]\n",
      "  [10]\n",
      "  [11]\n",
      "  [12]\n",
      "  [13]\n",
      "  [14]\n",
      "  [15]\n",
      "  [16]\n",
      "  [17]\n",
      "  [18]\n",
      "  [19]\n",
      "  [20]\n",
      "  [21]\n",
      "  [22]\n",
      "  [23]]]\n"
     ]
    }
   ],
   "source": [
    "num_arr=np.arange(0,24)\n",
    "print(num_arr.ndim,num_arr.shape,\"\\n\",num_arr)\n",
    "\n",
    "res=np.expand_dims(num_arr,axis=0) # 행 하나 늘리기 ( 가로줄 [[]] )\n",
    "print(res.ndim,res.shape,\"\\n\",res)\n",
    "\n",
    "res=np.expand_dims(num_arr,axis=1) # 열 하나 늘리기 ( 세로줄 [[]] )\n",
    "print(res.ndim,res.shape,\"\\n\",res)\n",
    "\n",
    "res=np.expand_dims(num_arr,axis=(0,1)) # 덩어리와 행 추가, 열 그대로\n",
    "print(res.ndim,res.shape,\"\\n\",res)\n",
    "\n",
    "res=np.expand_dims(num_arr,axis=(0,2)) # 덩어리와 열 추가, 행 그대로\n",
    "print(res.ndim,res.shape,\"\\n\",res)"
   ]
  },
  {
   "cell_type": "markdown",
   "id": "893a56c3-073b-42df-a4e6-1c0dd58c5d13",
   "metadata": {},
   "source": [
    "## 차원축소\n",
    "* 1차원  <font color=red><b>reshpae(-1) == ravel() == flatten()     \n",
    "* <font color=red><b>res = re_arr[1, ...]    \n",
    "* 슬라이싱   :  ...    \n",
    "* np.squeeze(a, axis=None) : 차수1은 모두 지운다"
   ]
  },
  {
   "cell_type": "markdown",
   "id": "58b9d5c0-8557-41ba-aa7b-e623d11eef29",
   "metadata": {},
   "source": [
    "### reshape(-1,), ravel() , flatten()"
   ]
  },
  {
   "cell_type": "code",
   "execution_count": 32,
   "id": "4efd8339-01d3-4c6a-a203-bfaed26976f7",
   "metadata": {
    "tags": []
   },
   "outputs": [
    {
     "name": "stdout",
     "output_type": "stream",
     "text": [
      "[ 0  1  2  3  4  5  6  7  8  9 10 11 12 13 14 15 16 17 18 19 20 21 22 23]\n",
      "[[[ 0  1  2  3]\n",
      "  [ 4  5  6  7]\n",
      "  [ 8  9 10 11]]\n",
      "\n",
      " [[12 13 14 15]\n",
      "  [16 17 18 19]\n",
      "  [20 21 22 23]]]\n",
      "[ 0  1  2  3  4  5  6  7  8  9 10 11 12 13 14 15 16 17 18 19 20 21 22 23]\n",
      "[ 0  1  2  3  4  5  6  7  8  9 10 11 12 13 14 15 16 17 18 19 20 21 22 23]\n",
      "[ 0  1  2  3  4  5  6  7  8  9 10 11 12 13 14 15 16 17 18 19 20 21 22 23]\n"
     ]
    }
   ],
   "source": [
    "num_arr=np.arange(0,24)\n",
    "print(num_arr)\n",
    "\n",
    "re_arr=num_arr.reshape(2,3,-1)  \n",
    "print(re_arr)\n",
    "\n",
    "aa= re_arr.reshape(-1) # 1차로 만들기(3D -> 1D)\n",
    "print(aa)\n",
    "\n",
    "bb=re_arr.ravel()  # 1차로 만들기(3D -> 1D)\n",
    "print(bb)\n",
    "\n",
    "cc= re_arr.flatten() # 1차로 만들기(3D -> 1D)\n",
    "print(cc)"
   ]
  },
  {
   "cell_type": "markdown",
   "id": "ba53b3cc-75b8-4258-8bbe-39c339198d5c",
   "metadata": {},
   "source": [
    "### 슬라이싱 : ..."
   ]
  },
  {
   "cell_type": "code",
   "execution_count": 75,
   "id": "4068433f-6af7-45d0-98b0-195d013cb032",
   "metadata": {
    "tags": []
   },
   "outputs": [
    {
     "name": "stdout",
     "output_type": "stream",
     "text": [
      "1 (24,) \n",
      " [ 0  1  2  3  4  5  6  7  8  9 10 11 12 13 14 15 16 17 18 19 20 21 22 23]\n",
      "2 (6, 4) \n",
      " [[ 0  1  2  3]\n",
      " [ 4  5  6  7]\n",
      " [ 8  9 10 11]\n",
      " [12 13 14 15]\n",
      " [16 17 18 19]\n",
      " [20 21 22 23]]\n",
      "1 (4,) \n",
      " [4 5 6 7]\n",
      "1 (6,) \n",
      " [ 2  6 10 14 18 22]\n",
      "1 (6,) \n",
      " [ 3  7 11 15 19 23]\n"
     ]
    }
   ],
   "source": [
    "num_arr=np.arange(0,24)\n",
    "print(num_arr.ndim,num_arr.shape,\"\\n\",num_arr)\n",
    "\n",
    "re_arr=num_arr.reshape(6,4)  \n",
    "print(re_arr.ndim,re_arr.shape,\"\\n\",re_arr)\n",
    "\n",
    "res=re_arr[1, : ] # 1번째행의 데이터 전부 가져오기\n",
    "print(res.ndim,res.shape,\"\\n\",res)\n",
    "\n",
    "res=re_arr[:, 2 ] # 2번째 열의 데이터 전부 가져오기\n",
    "print(res.ndim,res.shape,\"\\n\",res)\n",
    "\n",
    "res=re_arr[:, -1 ] # 마지막 열의 데이터 전부 가져오기\n",
    "print(res.ndim,res.shape,\"\\n\",res)"
   ]
  },
  {
   "cell_type": "code",
   "execution_count": 90,
   "id": "3f0a4c63-9fe2-410b-8505-8720c37c6608",
   "metadata": {
    "tags": []
   },
   "outputs": [
    {
     "name": "stdout",
     "output_type": "stream",
     "text": [
      "1 (24,) \n",
      " [ 0  1  2  3  4  5  6  7  8  9 10 11 12 13 14 15 16 17 18 19 20 21 22 23]\n",
      "3 (2, 3, 4) \n",
      " [[[ 0  1  2  3]\n",
      "  [ 4  5  6  7]\n",
      "  [ 8  9 10 11]]\n",
      "\n",
      " [[12 13 14 15]\n",
      "  [16 17 18 19]\n",
      "  [20 21 22 23]]]\n",
      "2 (3, 4) \n",
      " [[12 13 14 15]\n",
      " [16 17 18 19]\n",
      " [20 21 22 23]]\n",
      "2 (3, 4) \n",
      " [[12 13 14 15]\n",
      " [16 17 18 19]\n",
      " [20 21 22 23]]\n"
     ]
    }
   ],
   "source": [
    "num_arr=np.arange(0,24)\n",
    "print(num_arr.ndim,num_arr.shape,\"\\n\",num_arr)\n",
    "\n",
    "re_arr=num_arr.reshape(2,3,4)  \n",
    "print(re_arr.ndim,re_arr.shape,\"\\n\",re_arr)\n",
    "\n",
    "res=re_arr[1, : ] # 1번째덩어리 데이터 전부 가져오기\n",
    "print(res.ndim,res.shape,\"\\n\",res)\n",
    "\n",
    "res=re_arr[1,... ] # 1차수 줄이고 나머지 다 가져오기\n",
    "print(res.ndim,res.shape,\"\\n\",res)"
   ]
  },
  {
   "cell_type": "markdown",
   "id": "b2eea97e-9499-4176-9062-ea6c9ad56edd",
   "metadata": {},
   "source": [
    "### np.squeeze()"
   ]
  },
  {
   "cell_type": "code",
   "execution_count": 91,
   "id": "930c57a9-7742-4de0-aa85-a5a4a74480a5",
   "metadata": {
    "tags": []
   },
   "outputs": [
    {
     "name": "stdout",
     "output_type": "stream",
     "text": [
      "1 (24,) \n",
      " [ 0  1  2  3  4  5  6  7  8  9 10 11 12 13 14 15 16 17 18 19 20 21 22 23]\n",
      "3 (1, 24, 1) \n",
      " [[[ 0]\n",
      "  [ 1]\n",
      "  [ 2]\n",
      "  [ 3]\n",
      "  [ 4]\n",
      "  [ 5]\n",
      "  [ 6]\n",
      "  [ 7]\n",
      "  [ 8]\n",
      "  [ 9]\n",
      "  [10]\n",
      "  [11]\n",
      "  [12]\n",
      "  [13]\n",
      "  [14]\n",
      "  [15]\n",
      "  [16]\n",
      "  [17]\n",
      "  [18]\n",
      "  [19]\n",
      "  [20]\n",
      "  [21]\n",
      "  [22]\n",
      "  [23]]]\n",
      "1 (24,) \n",
      " [ 0  1  2  3  4  5  6  7  8  9 10 11 12 13 14 15 16 17 18 19 20 21 22 23]\n"
     ]
    }
   ],
   "source": [
    "num_arr=np.arange(0,24)\n",
    "print(num_arr.ndim,num_arr.shape,\"\\n\",num_arr)\n",
    "\n",
    "re_arr=num_arr.reshape(1,24,1)  \n",
    "print(re_arr.ndim,re_arr.shape,\"\\n\",re_arr)\n",
    "\n",
    "res=np.squeeze(re_arr,axis=None)  # (1,24,1) : 1은 다 없앰, 남은 차수만 남김\n",
    "print(res.ndim,res.shape,\"\\n\",res)"
   ]
  },
  {
   "cell_type": "code",
   "execution_count": 92,
   "id": "e5137601-09b7-4fec-baa1-20c17a3a8b69",
   "metadata": {
    "tags": []
   },
   "outputs": [
    {
     "name": "stdout",
     "output_type": "stream",
     "text": [
      "1 (24,) \n",
      " [ 0  1  2  3  4  5  6  7  8  9 10 11 12 13 14 15 16 17 18 19 20 21 22 23]\n",
      "5 (1, 6, 1, 4, 1) \n",
      " [[[[[ 0]\n",
      "    [ 1]\n",
      "    [ 2]\n",
      "    [ 3]]]\n",
      "\n",
      "\n",
      "  [[[ 4]\n",
      "    [ 5]\n",
      "    [ 6]\n",
      "    [ 7]]]\n",
      "\n",
      "\n",
      "  [[[ 8]\n",
      "    [ 9]\n",
      "    [10]\n",
      "    [11]]]\n",
      "\n",
      "\n",
      "  [[[12]\n",
      "    [13]\n",
      "    [14]\n",
      "    [15]]]\n",
      "\n",
      "\n",
      "  [[[16]\n",
      "    [17]\n",
      "    [18]\n",
      "    [19]]]\n",
      "\n",
      "\n",
      "  [[[20]\n",
      "    [21]\n",
      "    [22]\n",
      "    [23]]]]]\n",
      "2 (6, 4) \n",
      " [[ 0  1  2  3]\n",
      " [ 4  5  6  7]\n",
      " [ 8  9 10 11]\n",
      " [12 13 14 15]\n",
      " [16 17 18 19]\n",
      " [20 21 22 23]]\n"
     ]
    }
   ],
   "source": [
    "num_arr=np.arange(0,24)\n",
    "print(num_arr.ndim,num_arr.shape,\"\\n\",num_arr)\n",
    "\n",
    "re_arr=num_arr.reshape(1,6,1,4,1)  \n",
    "print(re_arr.ndim,re_arr.shape,\"\\n\",re_arr)\n",
    "\n",
    "res=np.squeeze(re_arr,axis=None)  # (1,6,1,4,1) : 1은 다 없앰, 남은 차수만 남김\n",
    "print(res.ndim,res.shape,\"\\n\",res)"
   ]
  },
  {
   "cell_type": "markdown",
   "id": "96b9eca9-3c20-480c-a291-76e3bffba7d4",
   "metadata": {},
   "source": [
    "# Stack\n",
    "- 연산이 아닌 단순히 합쳐라(==concatenate)\n",
    "- hstack()\n",
    "- vstack()\n",
    "- column_stack()"
   ]
  },
  {
   "cell_type": "markdown",
   "id": "e71c44e1-fe04-490c-9e18-662fb69db11a",
   "metadata": {},
   "source": [
    "<img src=\"https://img1.daumcdn.net/thumb/R1280x0/?scode=mtistory2&fname=https%3A%2F%2Ft1.daumcdn.net%2Fcfile%2Ftistory%2F9909EF345D53F4D916\">\n",
    "- ref : https://rfriend.tistory.com/352"
   ]
  },
  {
   "cell_type": "markdown",
   "id": "e1e4bb57-5882-4ddf-a043-0cca6a2045e8",
   "metadata": {},
   "source": [
    "## hstack()"
   ]
  },
  {
   "cell_type": "code",
   "execution_count": 33,
   "id": "908e1bd8-3c06-4d0a-bf6d-f1f81ac34346",
   "metadata": {
    "tags": []
   },
   "outputs": [
    {
     "name": "stdout",
     "output_type": "stream",
     "text": [
      "[ 1  2  3 10 20 30]\n",
      "[ 1  2  3 10 20 30]\n"
     ]
    }
   ],
   "source": [
    "a= np.array([1,2,3])\n",
    "b= np.array([10,20,30])\n",
    "\n",
    "print(np.hstack([a,b]))  #----------------------추천\n",
    "print(np.concatenate([a,b], axis=0) )"
   ]
  },
  {
   "cell_type": "markdown",
   "id": "1cfcd686-fcc2-4128-90bd-5e1c2195887e",
   "metadata": {},
   "source": [
    "## vstack()"
   ]
  },
  {
   "cell_type": "code",
   "execution_count": 34,
   "id": "b3d09926-fb57-4584-9c8f-c50f113a123a",
   "metadata": {
    "tags": []
   },
   "outputs": [
    {
     "name": "stdout",
     "output_type": "stream",
     "text": [
      "[[ 1  2  3]\n",
      " [10 20 30]]\n",
      "[[ 1  2  3]\n",
      " [10 20 30]]\n"
     ]
    }
   ],
   "source": [
    "a= np.array([1,2,3])\n",
    "b= np.array([10,20,30])\n",
    "\n",
    "print(np.vstack([a,b]))  #----------------------추천\n",
    "print(np.concatenate( [[a,b]], axis=1) )"
   ]
  },
  {
   "cell_type": "markdown",
   "id": "67e16759-bfa6-4ab9-ae82-9d3ccb5f6b76",
   "metadata": {},
   "source": [
    "## column_stack()"
   ]
  },
  {
   "cell_type": "code",
   "execution_count": 35,
   "id": "75f2fbeb-cd72-489f-b36d-580553187815",
   "metadata": {
    "tags": []
   },
   "outputs": [
    {
     "name": "stdout",
     "output_type": "stream",
     "text": [
      "[[ 1 10]\n",
      " [ 2 20]\n",
      " [ 3 30]]\n"
     ]
    }
   ],
   "source": [
    "a= np.array([1,2,3])\n",
    "b= np.array([10,20,30])\n",
    "\n",
    "print(np.column_stack([a,b]))  #----------------------추천"
   ]
  },
  {
   "cell_type": "markdown",
   "id": "a2b7376a-714b-4a63-bb8c-6f2ad3f70b1d",
   "metadata": {},
   "source": [
    "## stack()\n",
    "* axis=0  : 가로합치기\n",
    "    * pd.concat([df1, df2], axis=0)\n",
    "* axis=1  : 세로합치기 (s + s)\n",
    "    * pd.concat([df1, df2], axis=1)"
   ]
  },
  {
   "cell_type": "code",
   "execution_count": 36,
   "id": "ea78299b-1fb5-4f6d-a17b-45252a2dcd78",
   "metadata": {
    "tags": []
   },
   "outputs": [
    {
     "name": "stdout",
     "output_type": "stream",
     "text": [
      "[[ 1  2  3]\n",
      " [10 20 30]]\n",
      "[[ 1 10]\n",
      " [ 2 20]\n",
      " [ 3 30]]\n"
     ]
    }
   ],
   "source": [
    "print(np.stack([a,b], axis=0)) # pd.concat([df1,df2],axis=0)\n",
    "print(np.stack([a,b], axis=1)) # pd.concat([df1,df2],axis=1)"
   ]
  },
  {
   "cell_type": "markdown",
   "id": "089754a9-c774-4ac7-8c67-0c991196e95c",
   "metadata": {},
   "source": [
    "# Broadcasting\n",
    "- ref : https://jakevdp.github.io/PythonDataScienceHandbook/02.05-computation-on-arrays-broadcasting.html"
   ]
  },
  {
   "cell_type": "markdown",
   "id": "693aa10a-fc79-49e0-bf90-0c9ca13e40c5",
   "metadata": {},
   "source": [
    "<img src=\"https://jakevdp.github.io/PythonDataScienceHandbook/figures/02.05-broadcasting.png\">"
   ]
  },
  {
   "cell_type": "markdown",
   "id": "4df40fd0-1da1-4894-8152-1c343eafc4df",
   "metadata": {},
   "source": [
    "## list\n",
    "- 곱하기 : 확장 extend()\n",
    "- 더하기 : 에러"
   ]
  },
  {
   "cell_type": "code",
   "execution_count": 38,
   "id": "d266fa8b-df00-406c-beb3-c5ad530c9a05",
   "metadata": {
    "tags": []
   },
   "outputs": [
    {
     "name": "stdout",
     "output_type": "stream",
     "text": [
      "[1, 2, 3, 1, 2, 3, 1, 2, 3]\n"
     ]
    }
   ],
   "source": [
    "num_list=[1,2,3]\n",
    "# num_list=num_list+3  # 리스트에는 가감산 불가능\n",
    "num_list=num_list * 3  # 곱셈, 나눗셈은 가능 ( 리스트 3번 반복 )\n",
    "print(num_list)"
   ]
  },
  {
   "cell_type": "code",
   "execution_count": 43,
   "id": "f084e719-9221-4f27-9482-76c2bfc2b2ec",
   "metadata": {
    "tags": []
   },
   "outputs": [
    {
     "name": "stdout",
     "output_type": "stream",
     "text": [
      "[1, 2, 3, [1, 2, 3]]\n"
     ]
    }
   ],
   "source": [
    "num_list=[1,2,3]\n",
    "arr=[1,2,3]\n",
    "num_list.append(arr)\n",
    "print(num_list) # arr 이 요소 값으로 들어감"
   ]
  },
  {
   "cell_type": "code",
   "execution_count": 44,
   "id": "4f4fd373-df6a-496a-8552-5873516401ef",
   "metadata": {
    "tags": []
   },
   "outputs": [
    {
     "name": "stdout",
     "output_type": "stream",
     "text": [
      "[1, 2, 3, 1, 2, 3]\n"
     ]
    }
   ],
   "source": [
    "num_list=[1,2,3]\n",
    "arr=[1,2,3]\n",
    "num_list.extend(arr)  \n",
    "print(num_list) # 옆으로 확장"
   ]
  },
  {
   "cell_type": "markdown",
   "id": "4c057de3-6998-4bb0-86ae-922111a3b4b5",
   "metadata": {},
   "source": [
    "## array\n",
    "- 곱하기 , 더하기 : 연산"
   ]
  },
  {
   "cell_type": "code",
   "execution_count": 45,
   "id": "e1a7494f-a118-4ac3-840b-9bf5c7fa6b42",
   "metadata": {
    "tags": []
   },
   "outputs": [
    {
     "data": {
      "text/plain": [
       "array([3, 6, 9])"
      ]
     },
     "execution_count": 45,
     "metadata": {},
     "output_type": "execute_result"
    }
   ],
   "source": [
    "num_arr=np.array([1,2,3])\n",
    "num_arr= num_arr*3  # 리스트 : 확장,  arr : 연산(곱하기)\n",
    "print ( num_arr ) "
   ]
  },
  {
   "cell_type": "code",
   "execution_count": 46,
   "id": "e8a93cc6-c1a9-4542-ac93-34a44f67a7d2",
   "metadata": {
    "tags": []
   },
   "outputs": [
    {
     "name": "stdout",
     "output_type": "stream",
     "text": [
      "[4 5 6]\n"
     ]
    }
   ],
   "source": [
    "num_arr=np.array([1,2,3])\n",
    "num_arr= num_arr+ 3  # 리스트 : 에러,  arr : 연산(덧셈)\n",
    "print ( num_arr ) "
   ]
  }
 ],
 "metadata": {
  "kernelspec": {
   "display_name": "Python 3 (ipykernel)",
   "language": "python",
   "name": "python3"
  },
  "language_info": {
   "codemirror_mode": {
    "name": "ipython",
    "version": 3
   },
   "file_extension": ".py",
   "mimetype": "text/x-python",
   "name": "python",
   "nbconvert_exporter": "python",
   "pygments_lexer": "ipython3",
   "version": "3.8.8"
  },
  "toc-showmarkdowntxt": false
 },
 "nbformat": 4,
 "nbformat_minor": 5
}
